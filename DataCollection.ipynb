{
 "cells": [
  {
   "cell_type": "code",
   "execution_count": 1,
   "id": "781de0c0",
   "metadata": {},
   "outputs": [],
   "source": [
    "import pandas as pd\n",
    "import os\n",
    "from tqdm import tqdm\n",
    "\n",
    "#directory=r\"C:\\Users\\MaximilianSchneider\\Novogenia GmbH\\LABORATORY - General\\Projects\\Project - Fluidigm Automatisation\"\n",
    "\n",
    "#df=None\n",
    "#for index,file in tqdm(enumerate(os.listdir(directory))):\n",
    "#    if index==0:\n",
    "#        df=pd.read_csv(os.path.join(directory,file),sep=\";\",skiprows=15)\n",
    "#        df[\"Plate\"]=[file for i in range(len(df))]\n",
    "#    else:\n",
    "#        try:\n",
    "#            new_df=pd.read_csv(os.path.join(directory,file),sep=\";\",skiprows=15)\n",
    "#            new_df[\"Plate\"]=[file for i in range(len(new_df))]\n",
    "#            df=pd.concat([df,new_df])\n",
    "#        except Exception as e:\n",
    "#            print(e)\n",
    "#            \n",
    "#\n",
    "#df.to_csv(\"FluidigmDataset.csv\",index=False)"
   ]
  },
  {
   "cell_type": "code",
   "execution_count": null,
   "id": "1965b552",
   "metadata": {},
   "outputs": [],
   "source": [
    " "
   ]
  },
  {
   "cell_type": "code",
   "execution_count": null,
   "id": "e1bf1693",
   "metadata": {},
   "outputs": [],
   "source": []
  },
  {
   "cell_type": "code",
   "execution_count": 10,
   "id": "517895a0",
   "metadata": {},
   "outputs": [
    {
     "name": "stderr",
     "output_type": "stream",
     "text": [
      "C:\\Users\\AlexandruDaia\\AppData\\Local\\Temp\\ipykernel_1840\\3863437682.py:4: DtypeWarning: Columns (15) have mixed types. Specify dtype option on import or set low_memory=False.\n",
      "  df=pd.read_csv(\"FluidigmDataset.csv\")\n"
     ]
    }
   ],
   "source": [
    "import pandas as pd\n",
    "import os\n",
    "from tqdm import tqdm\n",
    "df=pd.read_csv(\"FluidigmDataset.csv\")"
   ]
  },
  {
   "cell_type": "code",
   "execution_count": 11,
   "id": "7a2fbb58",
   "metadata": {},
   "outputs": [
    {
     "data": {
      "text/html": [
       "<div>\n",
       "<style scoped>\n",
       "    .dataframe tbody tr th:only-of-type {\n",
       "        vertical-align: middle;\n",
       "    }\n",
       "\n",
       "    .dataframe tbody tr th {\n",
       "        vertical-align: top;\n",
       "    }\n",
       "\n",
       "    .dataframe thead th {\n",
       "        text-align: right;\n",
       "    }\n",
       "</style>\n",
       "<table border=\"1\" class=\"dataframe\">\n",
       "  <thead>\n",
       "    <tr style=\"text-align: right;\">\n",
       "      <th></th>\n",
       "      <th>ID</th>\n",
       "      <th>Assay</th>\n",
       "      <th>Allele X</th>\n",
       "      <th>Allele Y</th>\n",
       "      <th>Name</th>\n",
       "      <th>Type</th>\n",
       "      <th>Auto</th>\n",
       "      <th>Confidence</th>\n",
       "      <th>Final</th>\n",
       "      <th>Converted</th>\n",
       "      <th>Allele X.1</th>\n",
       "      <th>Allele Y.1</th>\n",
       "      <th>Plate</th>\n",
       "      <th>Unnamed: 12</th>\n",
       "      <th>Unnamed: 13</th>\n",
       "      <th>ID,Assay,Allele X,Allele Y,Name,Type,Auto,Confidence,Final,Converted,Allele X,Allele Y</th>\n",
       "    </tr>\n",
       "  </thead>\n",
       "  <tbody>\n",
       "    <tr>\n",
       "      <th>0</th>\n",
       "      <td>S96-A01</td>\n",
       "      <td>ENT7</td>\n",
       "      <td>C</td>\n",
       "      <td>T</td>\n",
       "      <td>NTC</td>\n",
       "      <td>NTC</td>\n",
       "      <td>NTC</td>\n",
       "      <td>99,96</td>\n",
       "      <td>NTC</td>\n",
       "      <td>NTC</td>\n",
       "      <td>0,0928742464793676</td>\n",
       "      <td>0,10411004435102</td>\n",
       "      <td>N6L1604 DNC.csv</td>\n",
       "      <td>NaN</td>\n",
       "      <td>NaN</td>\n",
       "      <td>NaN</td>\n",
       "    </tr>\n",
       "    <tr>\n",
       "      <th>1</th>\n",
       "      <td>S96-A02</td>\n",
       "      <td>ART2</td>\n",
       "      <td>A</td>\n",
       "      <td>G</td>\n",
       "      <td>NTC</td>\n",
       "      <td>NTC</td>\n",
       "      <td>NTC</td>\n",
       "      <td>100</td>\n",
       "      <td>NTC</td>\n",
       "      <td>NTC</td>\n",
       "      <td>0,092919650307071</td>\n",
       "      <td>0,104592456846081</td>\n",
       "      <td>N6L1604 DNC.csv</td>\n",
       "      <td>NaN</td>\n",
       "      <td>NaN</td>\n",
       "      <td>NaN</td>\n",
       "    </tr>\n",
       "    <tr>\n",
       "      <th>2</th>\n",
       "      <td>S96-A03</td>\n",
       "      <td>ENT2</td>\n",
       "      <td>C</td>\n",
       "      <td>G</td>\n",
       "      <td>NTC</td>\n",
       "      <td>NTC</td>\n",
       "      <td>NTC</td>\n",
       "      <td>100</td>\n",
       "      <td>NTC</td>\n",
       "      <td>NTC</td>\n",
       "      <td>0,0929254834003384</td>\n",
       "      <td>0,102587146871302</td>\n",
       "      <td>N6L1604 DNC.csv</td>\n",
       "      <td>NaN</td>\n",
       "      <td>NaN</td>\n",
       "      <td>NaN</td>\n",
       "    </tr>\n",
       "    <tr>\n",
       "      <th>3</th>\n",
       "      <td>S96-A04</td>\n",
       "      <td>ERN8</td>\n",
       "      <td>A</td>\n",
       "      <td>G</td>\n",
       "      <td>NTC</td>\n",
       "      <td>NTC</td>\n",
       "      <td>NTC</td>\n",
       "      <td>100</td>\n",
       "      <td>NTC</td>\n",
       "      <td>NTC</td>\n",
       "      <td>0,0931881956505969</td>\n",
       "      <td>0,103136425733057</td>\n",
       "      <td>N6L1604 DNC.csv</td>\n",
       "      <td>NaN</td>\n",
       "      <td>NaN</td>\n",
       "      <td>NaN</td>\n",
       "    </tr>\n",
       "    <tr>\n",
       "      <th>4</th>\n",
       "      <td>S96-A05</td>\n",
       "      <td>GEW7</td>\n",
       "      <td>C</td>\n",
       "      <td>T</td>\n",
       "      <td>NTC</td>\n",
       "      <td>NTC</td>\n",
       "      <td>NTC</td>\n",
       "      <td>99,99</td>\n",
       "      <td>NTC</td>\n",
       "      <td>NTC</td>\n",
       "      <td>0,0923395791918001</td>\n",
       "      <td>0,102496322010266</td>\n",
       "      <td>N6L1604 DNC.csv</td>\n",
       "      <td>NaN</td>\n",
       "      <td>NaN</td>\n",
       "      <td>NaN</td>\n",
       "    </tr>\n",
       "    <tr>\n",
       "      <th>...</th>\n",
       "      <td>...</td>\n",
       "      <td>...</td>\n",
       "      <td>...</td>\n",
       "      <td>...</td>\n",
       "      <td>...</td>\n",
       "      <td>...</td>\n",
       "      <td>...</td>\n",
       "      <td>...</td>\n",
       "      <td>...</td>\n",
       "      <td>...</td>\n",
       "      <td>...</td>\n",
       "      <td>...</td>\n",
       "      <td>...</td>\n",
       "      <td>...</td>\n",
       "      <td>...</td>\n",
       "      <td>...</td>\n",
       "    </tr>\n",
       "    <tr>\n",
       "      <th>2691067</th>\n",
       "      <td>S43-A95</td>\n",
       "      <td>SPO11_RD</td>\n",
       "      <td>C</td>\n",
       "      <td>T</td>\n",
       "      <td>waa6aads</td>\n",
       "      <td>Unknown</td>\n",
       "      <td>XX</td>\n",
       "      <td>99,98</td>\n",
       "      <td>XX</td>\n",
       "      <td>C:C</td>\n",
       "      <td>0,274832089468679</td>\n",
       "      <td>0,201004365550237</td>\n",
       "      <td>N6L1760 DNC.csv</td>\n",
       "      <td>NaN</td>\n",
       "      <td>NaN</td>\n",
       "      <td>NaN</td>\n",
       "    </tr>\n",
       "    <tr>\n",
       "      <th>2691068</th>\n",
       "      <td>S43-A94</td>\n",
       "      <td>MED14/WOR4</td>\n",
       "      <td>A</td>\n",
       "      <td>C</td>\n",
       "      <td>waa6aads</td>\n",
       "      <td>Unknown</td>\n",
       "      <td>XX</td>\n",
       "      <td>99,99</td>\n",
       "      <td>XX</td>\n",
       "      <td>A:A</td>\n",
       "      <td>0,307762178936934</td>\n",
       "      <td>0,14995371313712</td>\n",
       "      <td>N6L1760 DNC.csv</td>\n",
       "      <td>NaN</td>\n",
       "      <td>NaN</td>\n",
       "      <td>NaN</td>\n",
       "    </tr>\n",
       "    <tr>\n",
       "      <th>2691069</th>\n",
       "      <td>S43-A93</td>\n",
       "      <td>WOR9</td>\n",
       "      <td>G</td>\n",
       "      <td>T</td>\n",
       "      <td>waa6aads</td>\n",
       "      <td>Unknown</td>\n",
       "      <td>XX</td>\n",
       "      <td>99,99</td>\n",
       "      <td>XX</td>\n",
       "      <td>G:G</td>\n",
       "      <td>0,307151080185896</td>\n",
       "      <td>0,109815349742564</td>\n",
       "      <td>N6L1760 DNC.csv</td>\n",
       "      <td>NaN</td>\n",
       "      <td>NaN</td>\n",
       "      <td>NaN</td>\n",
       "    </tr>\n",
       "    <tr>\n",
       "      <th>2691070</th>\n",
       "      <td>S43-A92</td>\n",
       "      <td>SPO6</td>\n",
       "      <td>A</td>\n",
       "      <td>G</td>\n",
       "      <td>waa6aads</td>\n",
       "      <td>Unknown</td>\n",
       "      <td>XX</td>\n",
       "      <td>99,96</td>\n",
       "      <td>XX</td>\n",
       "      <td>A:A</td>\n",
       "      <td>0,305887957859723</td>\n",
       "      <td>0,144638057110234</td>\n",
       "      <td>N6L1760 DNC.csv</td>\n",
       "      <td>NaN</td>\n",
       "      <td>NaN</td>\n",
       "      <td>NaN</td>\n",
       "    </tr>\n",
       "    <tr>\n",
       "      <th>2691071</th>\n",
       "      <td>S43-A91</td>\n",
       "      <td>WOR3</td>\n",
       "      <td>C</td>\n",
       "      <td>T</td>\n",
       "      <td>waa6aads</td>\n",
       "      <td>Unknown</td>\n",
       "      <td>XY</td>\n",
       "      <td>99,9</td>\n",
       "      <td>XY</td>\n",
       "      <td>C:T</td>\n",
       "      <td>0,255293471115387</td>\n",
       "      <td>0,282058537775368</td>\n",
       "      <td>N6L1760 DNC.csv</td>\n",
       "      <td>NaN</td>\n",
       "      <td>NaN</td>\n",
       "      <td>NaN</td>\n",
       "    </tr>\n",
       "  </tbody>\n",
       "</table>\n",
       "<p>2691072 rows × 16 columns</p>\n",
       "</div>"
      ],
      "text/plain": [
       "              ID       Assay Allele X Allele Y      Name     Type Auto  \\\n",
       "0        S96-A01        ENT7        C        T       NTC      NTC  NTC   \n",
       "1        S96-A02        ART2        A        G       NTC      NTC  NTC   \n",
       "2        S96-A03        ENT2        C        G       NTC      NTC  NTC   \n",
       "3        S96-A04        ERN8        A        G       NTC      NTC  NTC   \n",
       "4        S96-A05        GEW7        C        T       NTC      NTC  NTC   \n",
       "...          ...         ...      ...      ...       ...      ...  ...   \n",
       "2691067  S43-A95    SPO11_RD        C        T  waa6aads  Unknown   XX   \n",
       "2691068  S43-A94  MED14/WOR4        A        C  waa6aads  Unknown   XX   \n",
       "2691069  S43-A93        WOR9        G        T  waa6aads  Unknown   XX   \n",
       "2691070  S43-A92        SPO6        A        G  waa6aads  Unknown   XX   \n",
       "2691071  S43-A91        WOR3        C        T  waa6aads  Unknown   XY   \n",
       "\n",
       "        Confidence Final Converted          Allele X.1         Allele Y.1  \\\n",
       "0            99,96   NTC       NTC  0,0928742464793676   0,10411004435102   \n",
       "1              100   NTC       NTC   0,092919650307071  0,104592456846081   \n",
       "2              100   NTC       NTC  0,0929254834003384  0,102587146871302   \n",
       "3              100   NTC       NTC  0,0931881956505969  0,103136425733057   \n",
       "4            99,99   NTC       NTC  0,0923395791918001  0,102496322010266   \n",
       "...            ...   ...       ...                 ...                ...   \n",
       "2691067      99,98    XX       C:C   0,274832089468679  0,201004365550237   \n",
       "2691068      99,99    XX       A:A   0,307762178936934   0,14995371313712   \n",
       "2691069      99,99    XX       G:G   0,307151080185896  0,109815349742564   \n",
       "2691070      99,96    XX       A:A   0,305887957859723  0,144638057110234   \n",
       "2691071       99,9    XY       C:T   0,255293471115387  0,282058537775368   \n",
       "\n",
       "                   Plate  Unnamed: 12  Unnamed: 13  \\\n",
       "0        N6L1604 DNC.csv          NaN          NaN   \n",
       "1        N6L1604 DNC.csv          NaN          NaN   \n",
       "2        N6L1604 DNC.csv          NaN          NaN   \n",
       "3        N6L1604 DNC.csv          NaN          NaN   \n",
       "4        N6L1604 DNC.csv          NaN          NaN   \n",
       "...                  ...          ...          ...   \n",
       "2691067  N6L1760 DNC.csv          NaN          NaN   \n",
       "2691068  N6L1760 DNC.csv          NaN          NaN   \n",
       "2691069  N6L1760 DNC.csv          NaN          NaN   \n",
       "2691070  N6L1760 DNC.csv          NaN          NaN   \n",
       "2691071  N6L1760 DNC.csv          NaN          NaN   \n",
       "\n",
       "        ID,Assay,Allele X,Allele Y,Name,Type,Auto,Confidence,Final,Converted,Allele X,Allele Y  \n",
       "0                                                      NaN                                      \n",
       "1                                                      NaN                                      \n",
       "2                                                      NaN                                      \n",
       "3                                                      NaN                                      \n",
       "4                                                      NaN                                      \n",
       "...                                                    ...                                      \n",
       "2691067                                                NaN                                      \n",
       "2691068                                                NaN                                      \n",
       "2691069                                                NaN                                      \n",
       "2691070                                                NaN                                      \n",
       "2691071                                                NaN                                      \n",
       "\n",
       "[2691072 rows x 16 columns]"
      ]
     },
     "execution_count": 11,
     "metadata": {},
     "output_type": "execute_result"
    }
   ],
   "source": [
    "df"
   ]
  },
  {
   "cell_type": "code",
   "execution_count": 12,
   "id": "87903c8b",
   "metadata": {},
   "outputs": [
    {
     "data": {
      "text/plain": [
       "(2691072, 16)"
      ]
     },
     "execution_count": 12,
     "metadata": {},
     "output_type": "execute_result"
    }
   ],
   "source": [
    "df.shape"
   ]
  },
  {
   "cell_type": "code",
   "execution_count": 13,
   "id": "39e03a9e",
   "metadata": {},
   "outputs": [
    {
     "data": {
      "text/plain": [
       "(2681856, 16)"
      ]
     },
     "execution_count": 13,
     "metadata": {},
     "output_type": "execute_result"
    }
   ],
   "source": [
    "df = df[df['Converted'].notna()]\n",
    "df.shape"
   ]
  },
  {
   "cell_type": "code",
   "execution_count": 26,
   "id": "e784a7a6",
   "metadata": {},
   "outputs": [
    {
     "data": {
      "text/plain": [
       "array(['T:T', 'G:G', 'A:A', 'C:C', 'C:G', 'G:A', 'C:T', 'T:C', 'A:G',\n",
       "       'A:C', 'G:T', 'A:T', '-:G',\n",
       "       'GTCAGTATCAATTCTGGAAGAATTTCCAGACA:GTCAGTATCAATTCTGGAAGAATTTCCAGACA',\n",
       "       '-:-', '-:A', '-:GTCAGTATCAATTCTGGAAGAATTTCCAGACA', '-:C', 'T:-',\n",
       "       'DEL:DEL', '-:T', 'A:-', 'T:G'], dtype=object)"
      ]
     },
     "execution_count": 26,
     "metadata": {},
     "output_type": "execute_result"
    }
   ],
   "source": [
    "call_df=df[~df[\"Converted\"].isin([\"NTC\",\"Invalid\",\"No Call\"])]\n",
    "call_df.dropna(subset=[\"Converted\"],inplace=True)\n",
    "call_df[\"Converted\"].unique()"
   ]
  },
  {
   "cell_type": "code",
   "execution_count": 27,
   "id": "a3cad0df",
   "metadata": {},
   "outputs": [
    {
     "data": {
      "text/html": [
       "<div>\n",
       "<style scoped>\n",
       "    .dataframe tbody tr th:only-of-type {\n",
       "        vertical-align: middle;\n",
       "    }\n",
       "\n",
       "    .dataframe tbody tr th {\n",
       "        vertical-align: top;\n",
       "    }\n",
       "\n",
       "    .dataframe thead th {\n",
       "        text-align: right;\n",
       "    }\n",
       "</style>\n",
       "<table border=\"1\" class=\"dataframe\">\n",
       "  <thead>\n",
       "    <tr style=\"text-align: right;\">\n",
       "      <th></th>\n",
       "      <th>ID</th>\n",
       "      <th>Assay</th>\n",
       "      <th>Allele X</th>\n",
       "      <th>Allele Y</th>\n",
       "      <th>Name</th>\n",
       "      <th>Type</th>\n",
       "      <th>Auto</th>\n",
       "      <th>Confidence</th>\n",
       "      <th>Final</th>\n",
       "      <th>Converted</th>\n",
       "      <th>Allele X.1</th>\n",
       "      <th>Allele Y.1</th>\n",
       "      <th>Plate</th>\n",
       "      <th>Unnamed: 12</th>\n",
       "      <th>Unnamed: 13</th>\n",
       "      <th>ID,Assay,Allele X,Allele Y,Name,Type,Auto,Confidence,Final,Converted,Allele X,Allele Y</th>\n",
       "    </tr>\n",
       "  </thead>\n",
       "  <tbody>\n",
       "    <tr>\n",
       "      <th>96</th>\n",
       "      <td>S06-A01</td>\n",
       "      <td>ENT7</td>\n",
       "      <td>C</td>\n",
       "      <td>T</td>\n",
       "      <td>M8J4262</td>\n",
       "      <td>Unknown</td>\n",
       "      <td>YY</td>\n",
       "      <td>83,99</td>\n",
       "      <td>YY</td>\n",
       "      <td>T:T</td>\n",
       "      <td>0,316075040051065</td>\n",
       "      <td>0,366065136675876</td>\n",
       "      <td>N6L1604 DNC.csv</td>\n",
       "      <td>NaN</td>\n",
       "      <td>NaN</td>\n",
       "      <td>NaN</td>\n",
       "    </tr>\n",
       "    <tr>\n",
       "      <th>97</th>\n",
       "      <td>S06-A02</td>\n",
       "      <td>ART2</td>\n",
       "      <td>A</td>\n",
       "      <td>G</td>\n",
       "      <td>M8J4262</td>\n",
       "      <td>Unknown</td>\n",
       "      <td>YY</td>\n",
       "      <td>100</td>\n",
       "      <td>YY</td>\n",
       "      <td>G:G</td>\n",
       "      <td>0,23131174536727</td>\n",
       "      <td>0,386719808922989</td>\n",
       "      <td>N6L1604 DNC.csv</td>\n",
       "      <td>NaN</td>\n",
       "      <td>NaN</td>\n",
       "      <td>NaN</td>\n",
       "    </tr>\n",
       "    <tr>\n",
       "      <th>99</th>\n",
       "      <td>S06-A04</td>\n",
       "      <td>ERN8</td>\n",
       "      <td>A</td>\n",
       "      <td>G</td>\n",
       "      <td>M8J4262</td>\n",
       "      <td>Unknown</td>\n",
       "      <td>YY</td>\n",
       "      <td>99,45</td>\n",
       "      <td>YY</td>\n",
       "      <td>G:G</td>\n",
       "      <td>0,218786210294437</td>\n",
       "      <td>0,383065582171616</td>\n",
       "      <td>N6L1604 DNC.csv</td>\n",
       "      <td>NaN</td>\n",
       "      <td>NaN</td>\n",
       "      <td>NaN</td>\n",
       "    </tr>\n",
       "    <tr>\n",
       "      <th>100</th>\n",
       "      <td>S06-A05</td>\n",
       "      <td>GEW7</td>\n",
       "      <td>C</td>\n",
       "      <td>T</td>\n",
       "      <td>M8J4262</td>\n",
       "      <td>Unknown</td>\n",
       "      <td>YY</td>\n",
       "      <td>99,94</td>\n",
       "      <td>YY</td>\n",
       "      <td>T:T</td>\n",
       "      <td>0,163001133788341</td>\n",
       "      <td>0,368212038048945</td>\n",
       "      <td>N6L1604 DNC.csv</td>\n",
       "      <td>NaN</td>\n",
       "      <td>NaN</td>\n",
       "      <td>NaN</td>\n",
       "    </tr>\n",
       "    <tr>\n",
       "      <th>101</th>\n",
       "      <td>S06-A06</td>\n",
       "      <td>IL10</td>\n",
       "      <td>A</td>\n",
       "      <td>C</td>\n",
       "      <td>M8J4262</td>\n",
       "      <td>Unknown</td>\n",
       "      <td>XX</td>\n",
       "      <td>100</td>\n",
       "      <td>XX</td>\n",
       "      <td>A:A</td>\n",
       "      <td>0,440015903159689</td>\n",
       "      <td>0,125955532872184</td>\n",
       "      <td>N6L1604 DNC.csv</td>\n",
       "      <td>NaN</td>\n",
       "      <td>NaN</td>\n",
       "      <td>NaN</td>\n",
       "    </tr>\n",
       "    <tr>\n",
       "      <th>...</th>\n",
       "      <td>...</td>\n",
       "      <td>...</td>\n",
       "      <td>...</td>\n",
       "      <td>...</td>\n",
       "      <td>...</td>\n",
       "      <td>...</td>\n",
       "      <td>...</td>\n",
       "      <td>...</td>\n",
       "      <td>...</td>\n",
       "      <td>...</td>\n",
       "      <td>...</td>\n",
       "      <td>...</td>\n",
       "      <td>...</td>\n",
       "      <td>...</td>\n",
       "      <td>...</td>\n",
       "      <td>...</td>\n",
       "    </tr>\n",
       "    <tr>\n",
       "      <th>2691067</th>\n",
       "      <td>S43-A95</td>\n",
       "      <td>SPO11_RD</td>\n",
       "      <td>C</td>\n",
       "      <td>T</td>\n",
       "      <td>waa6aads</td>\n",
       "      <td>Unknown</td>\n",
       "      <td>XX</td>\n",
       "      <td>99,98</td>\n",
       "      <td>XX</td>\n",
       "      <td>C:C</td>\n",
       "      <td>0,274832089468679</td>\n",
       "      <td>0,201004365550237</td>\n",
       "      <td>N6L1760 DNC.csv</td>\n",
       "      <td>NaN</td>\n",
       "      <td>NaN</td>\n",
       "      <td>NaN</td>\n",
       "    </tr>\n",
       "    <tr>\n",
       "      <th>2691068</th>\n",
       "      <td>S43-A94</td>\n",
       "      <td>MED14/WOR4</td>\n",
       "      <td>A</td>\n",
       "      <td>C</td>\n",
       "      <td>waa6aads</td>\n",
       "      <td>Unknown</td>\n",
       "      <td>XX</td>\n",
       "      <td>99,99</td>\n",
       "      <td>XX</td>\n",
       "      <td>A:A</td>\n",
       "      <td>0,307762178936934</td>\n",
       "      <td>0,14995371313712</td>\n",
       "      <td>N6L1760 DNC.csv</td>\n",
       "      <td>NaN</td>\n",
       "      <td>NaN</td>\n",
       "      <td>NaN</td>\n",
       "    </tr>\n",
       "    <tr>\n",
       "      <th>2691069</th>\n",
       "      <td>S43-A93</td>\n",
       "      <td>WOR9</td>\n",
       "      <td>G</td>\n",
       "      <td>T</td>\n",
       "      <td>waa6aads</td>\n",
       "      <td>Unknown</td>\n",
       "      <td>XX</td>\n",
       "      <td>99,99</td>\n",
       "      <td>XX</td>\n",
       "      <td>G:G</td>\n",
       "      <td>0,307151080185896</td>\n",
       "      <td>0,109815349742564</td>\n",
       "      <td>N6L1760 DNC.csv</td>\n",
       "      <td>NaN</td>\n",
       "      <td>NaN</td>\n",
       "      <td>NaN</td>\n",
       "    </tr>\n",
       "    <tr>\n",
       "      <th>2691070</th>\n",
       "      <td>S43-A92</td>\n",
       "      <td>SPO6</td>\n",
       "      <td>A</td>\n",
       "      <td>G</td>\n",
       "      <td>waa6aads</td>\n",
       "      <td>Unknown</td>\n",
       "      <td>XX</td>\n",
       "      <td>99,96</td>\n",
       "      <td>XX</td>\n",
       "      <td>A:A</td>\n",
       "      <td>0,305887957859723</td>\n",
       "      <td>0,144638057110234</td>\n",
       "      <td>N6L1760 DNC.csv</td>\n",
       "      <td>NaN</td>\n",
       "      <td>NaN</td>\n",
       "      <td>NaN</td>\n",
       "    </tr>\n",
       "    <tr>\n",
       "      <th>2691071</th>\n",
       "      <td>S43-A91</td>\n",
       "      <td>WOR3</td>\n",
       "      <td>C</td>\n",
       "      <td>T</td>\n",
       "      <td>waa6aads</td>\n",
       "      <td>Unknown</td>\n",
       "      <td>XY</td>\n",
       "      <td>99,9</td>\n",
       "      <td>XY</td>\n",
       "      <td>C:T</td>\n",
       "      <td>0,255293471115387</td>\n",
       "      <td>0,282058537775368</td>\n",
       "      <td>N6L1760 DNC.csv</td>\n",
       "      <td>NaN</td>\n",
       "      <td>NaN</td>\n",
       "      <td>NaN</td>\n",
       "    </tr>\n",
       "  </tbody>\n",
       "</table>\n",
       "<p>1876127 rows × 16 columns</p>\n",
       "</div>"
      ],
      "text/plain": [
       "              ID       Assay Allele X Allele Y      Name     Type Auto  \\\n",
       "96       S06-A01        ENT7        C        T   M8J4262  Unknown   YY   \n",
       "97       S06-A02        ART2        A        G   M8J4262  Unknown   YY   \n",
       "99       S06-A04        ERN8        A        G   M8J4262  Unknown   YY   \n",
       "100      S06-A05        GEW7        C        T   M8J4262  Unknown   YY   \n",
       "101      S06-A06        IL10        A        C   M8J4262  Unknown   XX   \n",
       "...          ...         ...      ...      ...       ...      ...  ...   \n",
       "2691067  S43-A95    SPO11_RD        C        T  waa6aads  Unknown   XX   \n",
       "2691068  S43-A94  MED14/WOR4        A        C  waa6aads  Unknown   XX   \n",
       "2691069  S43-A93        WOR9        G        T  waa6aads  Unknown   XX   \n",
       "2691070  S43-A92        SPO6        A        G  waa6aads  Unknown   XX   \n",
       "2691071  S43-A91        WOR3        C        T  waa6aads  Unknown   XY   \n",
       "\n",
       "        Confidence Final Converted         Allele X.1         Allele Y.1  \\\n",
       "96           83,99    YY       T:T  0,316075040051065  0,366065136675876   \n",
       "97             100    YY       G:G   0,23131174536727  0,386719808922989   \n",
       "99           99,45    YY       G:G  0,218786210294437  0,383065582171616   \n",
       "100          99,94    YY       T:T  0,163001133788341  0,368212038048945   \n",
       "101            100    XX       A:A  0,440015903159689  0,125955532872184   \n",
       "...            ...   ...       ...                ...                ...   \n",
       "2691067      99,98    XX       C:C  0,274832089468679  0,201004365550237   \n",
       "2691068      99,99    XX       A:A  0,307762178936934   0,14995371313712   \n",
       "2691069      99,99    XX       G:G  0,307151080185896  0,109815349742564   \n",
       "2691070      99,96    XX       A:A  0,305887957859723  0,144638057110234   \n",
       "2691071       99,9    XY       C:T  0,255293471115387  0,282058537775368   \n",
       "\n",
       "                   Plate  Unnamed: 12  Unnamed: 13  \\\n",
       "96       N6L1604 DNC.csv          NaN          NaN   \n",
       "97       N6L1604 DNC.csv          NaN          NaN   \n",
       "99       N6L1604 DNC.csv          NaN          NaN   \n",
       "100      N6L1604 DNC.csv          NaN          NaN   \n",
       "101      N6L1604 DNC.csv          NaN          NaN   \n",
       "...                  ...          ...          ...   \n",
       "2691067  N6L1760 DNC.csv          NaN          NaN   \n",
       "2691068  N6L1760 DNC.csv          NaN          NaN   \n",
       "2691069  N6L1760 DNC.csv          NaN          NaN   \n",
       "2691070  N6L1760 DNC.csv          NaN          NaN   \n",
       "2691071  N6L1760 DNC.csv          NaN          NaN   \n",
       "\n",
       "        ID,Assay,Allele X,Allele Y,Name,Type,Auto,Confidence,Final,Converted,Allele X,Allele Y  \n",
       "96                                                     NaN                                      \n",
       "97                                                     NaN                                      \n",
       "99                                                     NaN                                      \n",
       "100                                                    NaN                                      \n",
       "101                                                    NaN                                      \n",
       "...                                                    ...                                      \n",
       "2691067                                                NaN                                      \n",
       "2691068                                                NaN                                      \n",
       "2691069                                                NaN                                      \n",
       "2691070                                                NaN                                      \n",
       "2691071                                                NaN                                      \n",
       "\n",
       "[1876127 rows x 16 columns]"
      ]
     },
     "execution_count": 27,
     "metadata": {},
     "output_type": "execute_result"
    }
   ],
   "source": [
    "call_df"
   ]
  },
  {
   "cell_type": "code",
   "execution_count": 28,
   "id": "7cbd919e",
   "metadata": {},
   "outputs": [
    {
     "data": {
      "text/plain": [
       "(array(['ADHS1', 'ADHS4', 'ADHS5', 'ALZ1', 'ALZ1_TQ', 'ALZ2', 'ALZ2_TQ',\n",
       "        'ART2', 'ART3', 'ART4', 'ART5_TQ', 'BEAU10', 'BEAU11', 'BEAU14',\n",
       "        'BEAU15_RD', 'BEAU17', 'BEAU18', 'BEAU19', 'BEAU20', 'BEAU21',\n",
       "        'BEAU2_RD', 'BEAU4(2)', 'BEAU5', 'BEAU6', 'BEAU7', 'BEAU8', 'BLU1',\n",
       "        'BLU2/WOR11', 'BRU1', 'BRU10', 'BRU11', 'BRU2', 'BRU3', 'BRU4',\n",
       "        'BRU5', 'BRU6', 'BRU7', 'BRU9', 'DAR1', 'DAR10', 'DAR11', 'DAR12',\n",
       "        'DAR13', 'DAR14', 'DAR15', 'DAR16', 'DAR2', 'DAR3', 'DAR4', 'DAR5',\n",
       "        'DAR6', 'DAR7', 'DAR8', 'DAR9', 'EIS1', 'EIS2', 'EIS3', 'ENT1',\n",
       "        'ENT10', 'ENT13', 'ENT14', 'ENT15', 'ENT2', 'ENT5', 'ENT6', 'ENT7',\n",
       "        'ENT8', 'ERN10', 'ERN11', 'ERN12', 'ERN13', 'ERN14', 'ERN15',\n",
       "        'ERN2', 'ERN5', 'ERN6', 'ERN6_TQ', 'ERN7', 'ERN8', 'ERN9', 'GEL1',\n",
       "        'GEW1', 'GEW2', 'GEW20', 'GEW3', 'GEW4', 'GEW6', 'GEW7', 'GEW8',\n",
       "        'GLU1', 'GLU2', 'GNB3', 'GRU4', 'GRU5', 'HAU1', 'HAU10', 'HAU1_RD',\n",
       "        'HAU2', 'HAU3', 'HAU4', 'HAU5', 'HAU6', 'HAU7', 'HAU8', 'HAU9',\n",
       "        'HEZ1', 'HEZ2', 'HEZ3', 'HNMT4', 'HNMT8', 'IL10', 'KNO1',\n",
       "        'KNO1_TQ', 'KNO2/ERN1', 'LAK1', 'LAK2', 'MAK2', 'MAK3', 'MAK5',\n",
       "        'MED1', 'MED10', 'MED10_RD', 'MED11', 'MED12', 'MED13',\n",
       "        'MED14/WOR4', 'MED15', 'MED16', 'MED17', 'MED18', 'MED19', 'MED2',\n",
       "        'MED20', 'MED21', 'MED24', 'MED25', 'MED26', 'MED27', 'MED2_TQ',\n",
       "        'MED3', 'MED30_RD', 'MED31', 'MED32', 'MED33', 'MED34', 'MED35',\n",
       "        'MED36', 'MED37', 'MED38', 'MED39_RD', 'MED4', 'MED40', 'MED41',\n",
       "        'MED42', 'MED43', 'MED44', 'MED45', 'MED46', 'MED47', 'MED48',\n",
       "        'MED5', 'MED50', 'MED51', 'MED52', 'MED53', 'MED54', 'MED55_TQ',\n",
       "        'MED56', 'MED57', 'MED58', 'MED58_TQ', 'MED59', 'MED60', 'MED61',\n",
       "        'MED62', 'MED63_TQ', 'MED64', 'MED65', 'MED65_RD', 'MED66',\n",
       "        'MED67', 'MED68', 'MED69', 'MED6_RD', 'MED7', 'MED70', 'MED71',\n",
       "        'MED72', 'MED75_TQ', 'MED76', 'MED77', 'MED78', 'MED79', 'MED81',\n",
       "        'MED81_TQ', 'MED82', 'MED82_TQ', 'MED83', 'MED83_TQ', 'MED84',\n",
       "        'MED84_TQ', 'MED85', 'MED85_TQ', 'MED86', 'MED86_TQ', 'MED87',\n",
       "        'MED88', 'MED88_TQ', 'MED89', 'METH17', 'METH25', 'METH5', 'METH6',\n",
       "        'METH7', 'OLIGO POS Control', 'PAR1', 'PAR2', 'PAR3/IL6', 'PRO1',\n",
       "        'PRO10', 'PRO2', 'PRO3', 'PRO4', 'PRO5', 'PRO6', 'PRO7', 'PRO8',\n",
       "        'PRO9', 'SOD2/ERN3', 'SPO1', 'SPO10', 'SPO11_RD', 'SPO11_TQ',\n",
       "        'SPO12', 'SPO13', 'SPO14', 'SPO6', 'SPO9', 'STR1', 'STR11', 'STR2',\n",
       "        'STR3', 'STR4', 'STR5', 'STR6', 'STR7', 'STR8', 'STR9', 'TRO1',\n",
       "        'TRO2', 'TRO3_RD', 'WOR10', 'WOR12', 'WOR14', 'WOR19', 'WOR2',\n",
       "        'WOR22', 'WOR25', 'WOR26', 'WOR3', 'WOR5', 'WOR6', 'WOR7', 'WOR8',\n",
       "        'WOR9', 'ZUK1', 'ZUK2', 'ZUK4', 'ZUK5/WOR13', 'ZUK6'], dtype=object),\n",
       " array([ 5569,  5458,  5442,  9811,  9755, 10128, 10120, 10136,  9431,\n",
       "         9434,  9368,  9426,  9366,  9240,  5605,  9386,  9388,  5547,\n",
       "         5586,  5493,  9444,  9164,  9671,  9614,  5614,  9425,  9238,\n",
       "         9373,  5423,  5443,  5463,  5595,  5458,  5468,  5442,  5614,\n",
       "         5468,  5452,  6038,  5543,  5541,  5453,  5464,  5439,  5431,\n",
       "         5439,  6154,  6155,  6123,  5433,  5913,  5943,  5943,  5903,\n",
       "        10219,  9497, 10227,  9408,  4541,  7673,  7677,  7641,  9326,\n",
       "         9412,  9289,  8894,  9369,  5432,  9400,  9359,  9432,  5615,\n",
       "         9329,  9428,  9419,  9889,   492,  9443,  9381,  9444,  9409,\n",
       "        13349, 13378, 13403, 13355, 13404, 13176, 13342, 13411,  9683,\n",
       "         9427,  9441,  5915,  5933,  5141,  5444,  5420,  5434,  5475,\n",
       "         5583,  5423,  5590,  5414,  5454,  5425,  9440,  9437,  9404,\n",
       "         5459,  5415,  9452,  8676,  9239,  9422,  9430,  5587,  9395,\n",
       "         9394,  9428,  5607,  5609,  5469,  5614,  5476,  5616,  9418,\n",
       "         5609,  5953,  5446,  5460,  5432,  3704,  5850,  5599,  5403,\n",
       "         5384,  5403,  5424,  5363,  5609,  5210,  5582,  5501,  5411,\n",
       "         5325,  5589,  5573,  5597,  5590,  5410,  5607,  5323,  5598,\n",
       "         5436,  5598,  5593,  5582,  5584,  5594,  5589,  5597,  5509,\n",
       "         5484,  5587,  5578,  5590,  5419,  5587,  5589,  5425,  5168,\n",
       "         5507,  5580,  5590,  5422,  5156,  5595,  5320,  5255,  5422,\n",
       "         5586,  5588,  5569,  5573,  5473,  5562,  5448,  5486,  5367,\n",
       "         5430,  5583,  5437,  5589,  5590,  5382,  5568,  5431,  5589,\n",
       "         5012,  5595,  5432,  5596,  5428,  5592,  5448,  5542,  5200,\n",
       "         4807,  5593,  5455,  5464,  9890,  6141,  5924,   124,  9346,\n",
       "         9426,  9345,  5954,  5934,  5943,  5616,  5456,  5457,  5931,\n",
       "         5593,  5449,  5454,  9410,  9410,  9423,  9050,  9026,  9434,\n",
       "         9435,  9344,  9668,  9411,  5475,  5364,  5464,  5391,  5443,\n",
       "         5381,  5467,  5448,  5451,  5445,  6150,  6149,  6120,  5468,\n",
       "         9403,  9438,  5409,  9420,  9019,  9395,  9327,  6564,  9281,\n",
       "         5396,  5600,  9387,  9411,  9376,  9399,  9425,  8511,  9205],\n",
       "       dtype=int64))"
      ]
     },
     "execution_count": 28,
     "metadata": {},
     "output_type": "execute_result"
    }
   ],
   "source": [
    "import numpy as np\n",
    "np.unique(call_df['Assay'],return_counts=True)"
   ]
  },
  {
   "cell_type": "code",
   "execution_count": null,
   "id": "411eeb9f",
   "metadata": {},
   "outputs": [],
   "source": [
    " "
   ]
  },
  {
   "cell_type": "code",
   "execution_count": 23,
   "id": "e6071d1c",
   "metadata": {
    "scrolled": true
   },
   "outputs": [
    {
     "name": "stdout",
     "output_type": "stream",
     "text": [
      " balanced accuracy score : 0.9996546961325967\n",
      " f1 score : 0.9996593989246406\n",
      " balanced accuracy score : 0.9997949979499795\n",
      " f1 score : 0.999408499710844\n",
      " balanced accuracy score : 1.0\n",
      " f1 score : 1.0\n",
      " balanced accuracy score : 1.0\n",
      " f1 score : 1.0\n",
      " balanced accuracy score : 1.0\n",
      " f1 score : 1.0\n",
      " balanced accuracy score : 0.9993620414673047\n",
      " f1 score : 0.9993600264048841\n",
      " balanced accuracy score : 1.0\n",
      " f1 score : 1.0\n",
      " balanced accuracy score : 0.9995050730017322\n",
      " f1 score : 0.9993560782613039\n",
      " balanced accuracy score : 0.9974138674078424\n",
      " f1 score : 0.9976534347879932\n",
      " balanced accuracy score : 0.9996840442338072\n",
      " f1 score : 0.9996758185317133\n",
      " balanced accuracy score : 0.9822732519288014\n",
      " f1 score : 0.995830537006145\n",
      " balanced accuracy score : 0.999665327978581\n",
      " f1 score : 0.9996765811787158\n",
      " balanced accuracy score : 0.9697936964221533\n",
      " f1 score : 0.9921660485872964\n",
      " balanced accuracy score : 0.9194701308018499\n",
      " f1 score : 0.9885625755410732\n",
      " balanced accuracy score : 1.0\n",
      " f1 score : 1.0\n",
      " balanced accuracy score : 0.6666666666666666\n",
      " f1 score : 0.9885723639400891\n",
      " balanced accuracy score : 0.9965972009979174\n",
      " f1 score : 0.9967177673158505\n",
      " balanced accuracy score : 1.0\n",
      " f1 score : 1.0\n",
      " balanced accuracy score : 1.0\n",
      " f1 score : 1.0\n",
      " balanced accuracy score : 0.999360547014538\n",
      " f1 score : 0.9993388429752066\n",
      " balanced accuracy score : 1.0\n",
      " f1 score : 1.0\n",
      " balanced accuracy score : 0.9933356871944096\n",
      " f1 score : 0.9944060045911378\n",
      " balanced accuracy score : 0.9838572704244347\n",
      " f1 score : 0.995846498505627\n",
      " balanced accuracy score : 1.0\n",
      " f1 score : 1.0\n",
      " balanced accuracy score : 1.0\n",
      " f1 score : 1.0\n",
      " balanced accuracy score : 1.0\n",
      " f1 score : 1.0\n",
      " balanced accuracy score : 0.9984615384615384\n",
      " f1 score : 0.9990698193678954\n",
      " balanced accuracy score : 0.9997385620915032\n",
      " f1 score : 0.9996784530422084\n",
      " balanced accuracy score : 1.0\n",
      " f1 score : 1.0\n",
      " balanced accuracy score : 1.0\n",
      " f1 score : 1.0\n",
      " balanced accuracy score : 0.9780597240821026\n",
      " f1 score : 0.9971542900617324\n",
      " balanced accuracy score : 0.9926205248894594\n",
      " f1 score : 0.9960991098964584\n",
      " balanced accuracy score : 0.9908474328921639\n",
      " f1 score : 0.9939885261590811\n",
      " balanced accuracy score : 1.0\n",
      " f1 score : 1.0\n",
      " balanced accuracy score : 0.9968688378422391\n",
      " f1 score : 0.9970632718166074\n",
      " balanced accuracy score : 0.9982312111933834\n",
      " f1 score : 0.9988671452217898\n",
      " balanced accuracy score : 0.9266787658802178\n",
      " f1 score : 0.9955220430958265\n",
      " balanced accuracy score : 1.0\n",
      " f1 score : 1.0\n",
      " balanced accuracy score : 1.0\n",
      " f1 score : 1.0\n",
      " balanced accuracy score : 0.9952330770781147\n",
      " f1 score : 0.997100565596359\n",
      " balanced accuracy score : 0.9907332293291731\n",
      " f1 score : 0.9977595860222959\n",
      " balanced accuracy score : 0.6666666666666666\n",
      " f1 score : 0.9919120798863983\n",
      " balanced accuracy score : 1.0\n",
      " f1 score : 1.0\n",
      " balanced accuracy score : 0.9976057462090981\n",
      " f1 score : 0.9971120955676361\n",
      " balanced accuracy score : 0.995139974587337\n",
      " f1 score : 0.9968223926828851\n",
      " balanced accuracy score : 1.0\n",
      " f1 score : 1.0\n",
      " balanced accuracy score : 0.9378648703817106\n",
      " f1 score : 0.9933328433651065\n",
      " balanced accuracy score : 0.9727817137942978\n",
      " f1 score : 0.992336268919698\n",
      " balanced accuracy score : 1.0\n",
      " f1 score : 1.0\n",
      " balanced accuracy score : 0.9993152668058088\n",
      " f1 score : 0.999028877996578\n",
      " balanced accuracy score : 0.9161568135333195\n",
      " f1 score : 0.9794004773233347\n",
      " balanced accuracy score : 1.0\n",
      " f1 score : 1.0\n",
      " balanced accuracy score : 1.0\n",
      " f1 score : 1.0\n",
      " balanced accuracy score : 0.9404110307224492\n",
      " f1 score : 0.9878450532167787\n",
      " balanced accuracy score : 1.0\n",
      " f1 score : 1.0\n",
      " balanced accuracy score : 0.9993055555555556\n",
      " f1 score : 0.9990337241947248\n",
      " balanced accuracy score : 0.996664793245097\n",
      " f1 score : 0.9958533496442156\n",
      " balanced accuracy score : 1.0\n",
      " f1 score : 1.0\n",
      " balanced accuracy score : 1.0\n",
      " f1 score : 1.0\n",
      " balanced accuracy score : 0.9931506849315069\n",
      " f1 score : 0.9982725774046941\n",
      " balanced accuracy score : 1.0\n",
      " f1 score : 1.0\n",
      " balanced accuracy score : 1.0\n",
      " f1 score : 1.0\n",
      " balanced accuracy score : 0.9983323094947422\n",
      " f1 score : 0.9980511496570079\n",
      " balanced accuracy score : 1.0\n",
      " f1 score : 1.0\n",
      " balanced accuracy score : 1.0\n",
      " f1 score : 1.0\n",
      " balanced accuracy score : 1.0\n",
      " f1 score : 1.0\n",
      " balanced accuracy score : 0.9931128704285159\n",
      " f1 score : 0.9964859528868785\n",
      " balanced accuracy score : 0.6666666666666666\n",
      " f1 score : 0.996638348405956\n",
      " balanced accuracy score : 1.0\n",
      " f1 score : 1.0\n",
      " balanced accuracy score : 0.9995721009841677\n",
      " f1 score : 0.999387890664996\n",
      " balanced accuracy score : 0.946335631611876\n",
      " f1 score : 0.9864596505406205\n",
      " balanced accuracy score : 0.8276764812636649\n",
      " f1 score : 0.9816509563887067\n",
      " balanced accuracy score : 0.9700885650668253\n",
      " f1 score : 0.9670555353286888\n",
      " balanced accuracy score : 0.9762551951590933\n",
      " f1 score : 0.995272984071794\n",
      " balanced accuracy score : 1.0\n",
      " f1 score : 1.0\n",
      " balanced accuracy score : 1.0\n",
      " f1 score : 1.0\n",
      " balanced accuracy score : 0.5\n",
      " f1 score : 0.9947044737898829\n",
      " balanced accuracy score : 0.8661245599277191\n",
      " f1 score : 0.988749091995778\n",
      " balanced accuracy score : 0.9953703703703703\n",
      " f1 score : 0.9996880312669786\n",
      " balanced accuracy score : 1.0\n",
      " f1 score : 1.0\n",
      " balanced accuracy score : 1.0\n",
      " f1 score : 1.0\n",
      " balanced accuracy score : 0.941491009980903\n",
      " f1 score : 0.9939300398420302\n",
      " balanced accuracy score : 0.9954954954954954\n",
      " f1 score : 0.9994126185252783\n",
      " balanced accuracy score : 0.99800796812749\n",
      " f1 score : 0.9991089496802928\n",
      "The number of classes has to be greater than one; got 1 class\n",
      " balanced accuracy score : 0.9960778875905371\n",
      " f1 score : 0.9956489117103298\n",
      " balanced accuracy score : 0.9989451476793249\n",
      " f1 score : 0.9996780578881457\n",
      " balanced accuracy score : 1.0\n",
      " f1 score : 1.0\n",
      " balanced accuracy score : 0.991869918699187\n",
      " f1 score : 0.9987672258642696\n",
      " balanced accuracy score : 0.9984405458089669\n",
      " f1 score : 0.9981534175900949\n",
      " balanced accuracy score : 1.0\n",
      " f1 score : 1.0\n",
      " balanced accuracy score : 0.9888607305936074\n",
      " f1 score : 0.9854070486412931\n",
      "The number of classes has to be greater than one; got 1 class\n",
      "The number of classes has to be greater than one; got 1 class\n",
      "The number of classes has to be greater than one; got 1 class\n",
      "The number of classes has to be greater than one; got 1 class\n",
      " balanced accuracy score : 0.9957264957264957\n",
      " f1 score : 0.998997302199791\n",
      " balanced accuracy score : 1.0\n",
      " f1 score : 1.0\n",
      " balanced accuracy score : 1.0\n",
      " f1 score : 1.0\n",
      " balanced accuracy score : 1.0\n",
      " f1 score : 1.0\n",
      " balanced accuracy score : 1.0\n",
      " f1 score : 1.0\n",
      " balanced accuracy score : 0.9982260795460917\n",
      " f1 score : 0.9976942376511744\n",
      " balanced accuracy score : 0.9860732924892218\n",
      " f1 score : 0.9963854135137057\n",
      " balanced accuracy score : 0.9979035639412999\n",
      " f1 score : 0.9994646200405222\n",
      " balanced accuracy score : 0.9931170108161259\n",
      " f1 score : 0.9963805849383033\n",
      " balanced accuracy score : 1.0\n",
      " f1 score : 1.0\n",
      " balanced accuracy score : 0.9986789960369881\n",
      " f1 score : 0.9983387139113326\n",
      " balanced accuracy score : 1.0\n",
      " f1 score : 1.0\n",
      " balanced accuracy score : 0.9645114942528735\n",
      " f1 score : 0.9960380836868533\n",
      " balanced accuracy score : 1.0\n",
      " f1 score : 1.0\n",
      " balanced accuracy score : 0.9817349236044063\n",
      " f1 score : 0.9900624780252085\n",
      " balanced accuracy score : 1.0\n",
      " f1 score : 1.0\n",
      " balanced accuracy score : 1.0\n",
      " f1 score : 1.0\n",
      " balanced accuracy score : 0.9956140350877193\n",
      " f1 score : 0.9994628739334482\n",
      " balanced accuracy score : 0.9259803921568627\n",
      " f1 score : 0.9939699746813115\n",
      " balanced accuracy score : 0.9440549039605642\n",
      " f1 score : 0.9908562695903026\n",
      " balanced accuracy score : 0.6666666666666666\n",
      " f1 score : 0.9900565876832885\n",
      " balanced accuracy score : 0.9690113807760867\n",
      " f1 score : 0.9940737044760243\n",
      " balanced accuracy score : 0.9958288363096718\n",
      " f1 score : 0.9960668663436069\n",
      " balanced accuracy score : 0.9990483372836314\n",
      " f1 score : 0.9988745075970737\n",
      " balanced accuracy score : 0.9973544973544973\n",
      " f1 score : 0.9994631470522083\n",
      " balanced accuracy score : 1.0\n",
      " f1 score : 1.0\n",
      " balanced accuracy score : 0.9359582383133875\n",
      " f1 score : 0.9844184752365053\n",
      " balanced accuracy score : 1.0\n",
      " f1 score : 1.0\n",
      " balanced accuracy score : 1.0\n",
      " f1 score : 1.0\n",
      " balanced accuracy score : 0.9964234620886981\n",
      " f1 score : 0.9972061139281269\n",
      " balanced accuracy score : 0.999630450849963\n",
      " f1 score : 0.9989408132732738\n"
     ]
    },
    {
     "name": "stdout",
     "output_type": "stream",
     "text": [
      " balanced accuracy score : 1.0\n",
      " f1 score : 1.0\n",
      " balanced accuracy score : 0.9662786858180618\n",
      " f1 score : 0.9889857085407436\n",
      " balanced accuracy score : 1.0\n",
      " f1 score : 1.0\n",
      " balanced accuracy score : 1.0\n",
      " f1 score : 1.0\n",
      " balanced accuracy score : 1.0\n",
      " f1 score : 1.0\n",
      " balanced accuracy score : 1.0\n",
      " f1 score : 1.0\n",
      " balanced accuracy score : 1.0\n",
      " f1 score : 1.0\n",
      " balanced accuracy score : 1.0\n",
      " f1 score : 1.0\n",
      " balanced accuracy score : 0.999298245614035\n",
      " f1 score : 0.9994865189659473\n",
      " balanced accuracy score : 0.9862542955326461\n",
      " f1 score : 0.99591844476055\n",
      " balanced accuracy score : 0.9906103286384976\n",
      " f1 score : 0.9989325639244603\n",
      " balanced accuracy score : 1.0\n",
      " f1 score : 1.0\n",
      " balanced accuracy score : 1.0\n",
      " f1 score : 1.0\n",
      " balanced accuracy score : 0.999644254713625\n",
      " f1 score : 0.9994897571775687\n",
      " balanced accuracy score : 0.9815718166074197\n",
      " f1 score : 0.9944386918804728\n",
      " balanced accuracy score : 1.0\n",
      " f1 score : 1.0\n",
      " balanced accuracy score : 0.9983122362869198\n",
      " f1 score : 0.9989214853668551\n",
      " balanced accuracy score : 0.9994438264738599\n",
      " f1 score : 0.9984262468173024\n",
      " balanced accuracy score : 0.9979489655585096\n",
      " f1 score : 0.997217694656875\n",
      " balanced accuracy score : 1.0\n",
      " f1 score : 1.0\n",
      " balanced accuracy score : 0.9452111347015806\n",
      " f1 score : 0.9929323741007194\n",
      " balanced accuracy score : 1.0\n",
      " f1 score : 1.0\n",
      " balanced accuracy score : 1.0\n",
      " f1 score : 1.0\n",
      " balanced accuracy score : 0.9938271604938271\n",
      " f1 score : 0.9994609356836639\n",
      " balanced accuracy score : 0.974385009461393\n",
      " f1 score : 0.995009964546285\n",
      " balanced accuracy score : 1.0\n",
      " f1 score : 1.0\n",
      " balanced accuracy score : 0.990990990990991\n",
      " f1 score : 0.9980757708674572\n",
      " balanced accuracy score : 0.9841269841269842\n",
      " f1 score : 0.9989212513484358\n",
      " balanced accuracy score : 0.9992596705533963\n",
      " f1 score : 0.9979284034556287\n",
      " balanced accuracy score : 1.0\n",
      " f1 score : 1.0\n",
      " balanced accuracy score : 1.0\n",
      " f1 score : 1.0\n",
      " balanced accuracy score : 1.0\n",
      " f1 score : 1.0\n",
      " balanced accuracy score : 0.9994734070563455\n",
      " f1 score : 0.999443149380998\n",
      " balanced accuracy score : 0.9965095986038395\n",
      " f1 score : 0.9989378164485387\n",
      " balanced accuracy score : 0.9985754985754985\n",
      " f1 score : 0.9994505680260551\n",
      " balanced accuracy score : 1.0\n",
      " f1 score : 1.0\n",
      " balanced accuracy score : 0.9903914189414099\n",
      " f1 score : 0.9945512917999257\n",
      " balanced accuracy score : 0.9882352941176471\n",
      " f1 score : 0.9985440800313518\n",
      " balanced accuracy score : 1.0\n",
      " f1 score : 1.0\n",
      " balanced accuracy score : 1.0\n",
      " f1 score : 1.0\n",
      " balanced accuracy score : 0.6666666666666666\n",
      " f1 score : 0.9933974898003676\n",
      " balanced accuracy score : 1.0\n",
      " f1 score : 1.0\n",
      " balanced accuracy score : 1.0\n",
      " f1 score : 1.0\n",
      " balanced accuracy score : 1.0\n",
      " f1 score : 1.0\n",
      " balanced accuracy score : 0.9852354956199881\n",
      " f1 score : 0.9943746333994075\n",
      " balanced accuracy score : 0.9932659932659932\n",
      " f1 score : 0.9989396926410264\n",
      " balanced accuracy score : 1.0\n",
      " f1 score : 1.0\n",
      " balanced accuracy score : 0.9523927392739274\n",
      " f1 score : 0.9917021475784837\n",
      " balanced accuracy score : 1.0\n",
      " f1 score : 1.0\n",
      " balanced accuracy score : 0.6666666666666666\n",
      " f1 score : 0.9925589999386524\n",
      " balanced accuracy score : 0.6666666666666666\n",
      " f1 score : 0.9917136143876708\n",
      " balanced accuracy score : 1.0\n",
      " f1 score : 1.0\n",
      " balanced accuracy score : 0.9294481358434846\n",
      " f1 score : 0.9941170836165159\n",
      " balanced accuracy score : 0.9930555555555555\n",
      " f1 score : 0.9985629700822671\n",
      " balanced accuracy score : 0.9944685597154398\n",
      " f1 score : 0.9983417484222433\n",
      " balanced accuracy score : 1.0\n",
      " f1 score : 1.0\n",
      " balanced accuracy score : 1.0\n",
      " f1 score : 1.0\n",
      " balanced accuracy score : 0.9305112341256919\n",
      " f1 score : 0.9917263889874405\n",
      " balanced accuracy score : 0.9896161107614851\n",
      " f1 score : 0.9955425453941034\n",
      " balanced accuracy score : 0.9690915231340763\n",
      " f1 score : 0.995494750253207\n",
      " balanced accuracy score : 0.974386887109676\n",
      " f1 score : 0.9792013738408596\n",
      " balanced accuracy score : 1.0\n",
      " f1 score : 1.0\n",
      " balanced accuracy score : 0.9996494917630564\n",
      " f1 score : 0.9994893007424576\n",
      " balanced accuracy score : 1.0\n",
      " f1 score : 1.0\n",
      " balanced accuracy score : 1.0\n",
      " f1 score : 1.0\n",
      " balanced accuracy score : 0.9740477113043718\n",
      " f1 score : 0.9691355573815781\n",
      " balanced accuracy score : 0.9994456762749445\n",
      " f1 score : 0.9984258012662524\n",
      " balanced accuracy score : 0.9857219303366413\n",
      " f1 score : 0.9983097178649366\n",
      " balanced accuracy score : 0.9655610834715311\n",
      " f1 score : 0.9958586499383131\n",
      " balanced accuracy score : 1.0\n",
      " f1 score : 1.0\n",
      " balanced accuracy score : 0.9456803856136449\n",
      " f1 score : 0.9955905044057174\n",
      " balanced accuracy score : 0.75\n",
      " f1 score : 0.9973927203707749\n",
      " balanced accuracy score : 0.9488894018672412\n",
      " f1 score : 0.9978287910663372\n",
      "The number of classes has to be greater than one; got 1 class\n",
      " balanced accuracy score : 0.9231200897867565\n",
      " f1 score : 0.9892398759213411\n",
      " balanced accuracy score : 1.0\n",
      " f1 score : 1.0\n",
      " balanced accuracy score : 0.9840383505703759\n",
      " f1 score : 0.9966960352422908\n",
      " balanced accuracy score : 0.9691426459719142\n",
      " f1 score : 0.9973240597720776\n",
      " balanced accuracy score : 0.7853391215799771\n",
      " f1 score : 0.9868308282007595\n",
      " balanced accuracy score : 0.932578758724769\n",
      " f1 score : 0.9944061684605034\n",
      " balanced accuracy score : 0.9929577464788734\n",
      " f1 score : 0.9984220254351844\n",
      " balanced accuracy score : 0.9983193277310924\n",
      " f1 score : 0.998339771958961\n",
      " balanced accuracy score : 0.9373158379373848\n",
      " f1 score : 0.9977627347205724\n",
      " balanced accuracy score : 0.9956667125137356\n",
      " f1 score : 0.9949583106873179\n",
      " balanced accuracy score : 0.9958847736625515\n",
      " f1 score : 0.999438883112228\n",
      " balanced accuracy score : 0.9977777777777778\n",
      " f1 score : 0.9989285007851145\n",
      " balanced accuracy score : 0.9989615784008308\n",
      " f1 score : 0.9988798513977979\n",
      " balanced accuracy score : 0.8963145187007425\n",
      " f1 score : 0.9930679799576121\n",
      " balanced accuracy score : 0.989675911054003\n",
      " f1 score : 0.9914320562464362\n",
      " balanced accuracy score : 0.9866666666666667\n",
      " f1 score : 0.9994589084863631\n",
      " balanced accuracy score : 1.0\n",
      " f1 score : 1.0\n",
      " balanced accuracy score : 0.904022806461831\n",
      " f1 score : 0.9944399186560512\n",
      "The number of classes has to be greater than one; got 1 class\n",
      " balanced accuracy score : 1.0\n",
      " f1 score : 1.0\n",
      " balanced accuracy score : 0.9572158365261814\n",
      " f1 score : 0.9927125121378122\n",
      " balanced accuracy score : 0.9994428969359331\n",
      " f1 score : 0.9984236908895397\n",
      " balanced accuracy score : 0.9990771502399408\n",
      " f1 score : 0.9974308524745265\n",
      " balanced accuracy score : 0.9255565815122603\n",
      " f1 score : 0.9966532198056005\n",
      " balanced accuracy score : 0.9909265282295054\n",
      " f1 score : 0.9915056170612877\n",
      " balanced accuracy score : 0.9392038975847413\n",
      " f1 score : 0.9971137656346967\n",
      "The number of classes has to be greater than one; got 1 class\n",
      " balanced accuracy score : 0.9987051424343322\n",
      " f1 score : 0.9964867092980296\n",
      " balanced accuracy score : 0.973316323160259\n",
      " f1 score : 0.9895646445342742\n",
      " balanced accuracy score : 0.9994658119658121\n",
      " f1 score : 0.9994422662853962\n",
      " balanced accuracy score : 0.9835521885521885\n",
      " f1 score : 0.9958138632285024\n",
      " balanced accuracy score : 0.9906103286384976\n",
      " f1 score : 0.9979118860319105\n",
      " balanced accuracy score : 0.9747056951956728\n",
      " f1 score : 0.9948376721411818\n",
      " balanced accuracy score : 0.9856425702811245\n",
      " f1 score : 0.9963031582471498\n",
      "The number of classes has to be greater than one; got 1 class\n",
      " balanced accuracy score : 0.9827737362432382\n",
      " f1 score : 0.9978644714458226\n",
      " balanced accuracy score : 0.9375\n",
      " f1 score : 0.9994237627905569\n",
      " balanced accuracy score : 0.9575970918461255\n",
      " f1 score : 0.9968427171434534\n",
      " balanced accuracy score : 0.9583333333333333\n",
      " f1 score : 0.9994358916604336\n",
      " balanced accuracy score : 0.9994472084024323\n",
      " f1 score : 0.998444681437625\n",
      " balanced accuracy score : 0.909084208586696\n",
      " f1 score : 0.9926311002764389\n",
      " balanced accuracy score : 0.9802631578947368\n",
      " f1 score : 0.9989148128052089\n",
      " balanced accuracy score : 0.955780998389694\n",
      " f1 score : 0.996235595430841\n",
      " balanced accuracy score : 0.9987373737373737\n",
      " f1 score : 0.9994400452327474\n",
      " balanced accuracy score : 0.9986197377501725\n",
      " f1 score : 0.9988705331563913\n",
      " balanced accuracy score : 1.0\n",
      " f1 score : 1.0\n",
      "The number of classes has to be greater than one; got 1 class\n",
      " balanced accuracy score : 0.8888888888888888\n",
      " f1 score : 0.9964497724737178\n",
      " balanced accuracy score : 1.0\n",
      " f1 score : 1.0\n"
     ]
    },
    {
     "name": "stdout",
     "output_type": "stream",
     "text": [
      " balanced accuracy score : 0.9970501282552933\n",
      " f1 score : 0.9977256128761602\n",
      " balanced accuracy score : 0.9811129537497697\n",
      " f1 score : 0.9983948621649776\n",
      " balanced accuracy score : 0.9988907376594565\n",
      " f1 score : 0.9969295463082766\n",
      " balanced accuracy score : 0.9869281045751634\n",
      " f1 score : 0.9989285714285714\n",
      " balanced accuracy score : 0.9973333333333333\n",
      " f1 score : 0.9988921582921345\n",
      " balanced accuracy score : 0.9607968968369414\n",
      " f1 score : 0.9962432633593933\n",
      "The number of classes has to be greater than one; got 1 class\n",
      " balanced accuracy score : 0.9083497565987839\n",
      " f1 score : 0.994389442437095\n",
      "The number of classes has to be greater than one; got 1 class\n",
      " balanced accuracy score : 1.0\n",
      " f1 score : 1.0\n",
      " balanced accuracy score : 0.9994462901439646\n",
      " f1 score : 0.9984127139289104\n",
      " balanced accuracy score : 0.9814876338132152\n",
      " f1 score : 0.9945839012075938\n",
      " balanced accuracy score : 0.9699046148401936\n",
      " f1 score : 0.9958413727155316\n",
      " balanced accuracy score : 1.0\n",
      " f1 score : 1.0\n",
      " balanced accuracy score : 0.963806086011489\n",
      " f1 score : 0.9958657932223991\n",
      "The number of classes has to be greater than one; got 1 class\n",
      " balanced accuracy score : 0.9814814814814815\n",
      " f1 score : 0.9994503266115451\n",
      "The number of classes has to be greater than one; got 1 class\n",
      " balanced accuracy score : 1.0\n",
      " f1 score : 1.0\n",
      " balanced accuracy score : 1.0\n",
      " f1 score : 1.0\n"
     ]
    }
   ],
   "source": [
    "from sklearn.preprocessing import OrdinalEncoder\n",
    "from sklearn.model_selection import train_test_split\n",
    "from sklearn.svm import SVC\n",
    "from numba import jit\n",
    "import warnings\n",
    "from sklearn.preprocessing import MinMaxScaler\n",
    "\n",
    "warnings.filterwarnings(\"ignore\")\n",
    "\n",
    "\n",
    "data=[]\n",
    "\n",
    "@jit\n",
    "def normalise(df):\n",
    "    norm_df = pd.DataFrame()\n",
    "    # Get the unique IDs from the dataframe\n",
    "    ids = df['Plate'].unique()\n",
    "    df[\"Allele X.1\"]=df[\"Allele X.1\"].str.replace(\",\",\".\")\n",
    "    df[\"Allele Y.1\"]=df[\"Allele Y.1\"].str.replace(\",\",\".\")\n",
    "    \n",
    "    # Loop through each ID\n",
    "    for ident in ids:\n",
    "        # Filter the dataframe based on the current ID\n",
    "        temp_df = df[df['Plate'] == ident]\n",
    "    \n",
    "        # Initialize the MinMaxScaler\n",
    "        scaler = MinMaxScaler()\n",
    "    \n",
    "        # Fit and transform the columns\n",
    "        temp_df[[\"Allele X.1\", \"Allele Y.1\"]] = scaler.fit_transform(temp_df[[\"Allele X.1\", \"Allele Y.1\"]])\n",
    "    \n",
    "        # Concatenate the current dataframe to the final dataframe\n",
    "        norm_df = pd.concat([norm_df, temp_df], axis=0)\n",
    "    \n",
    "    norm_df = norm_df.reset_index(drop=True)\n",
    "    return norm_df\n",
    "    \n",
    "    \n",
    "@jit\n",
    "def get_model_performance(df,assay):\n",
    "    ord_enc = OrdinalEncoder()\n",
    "    df_custom=df[df[\"Assay\"]==assay]\n",
    "    df_custom[\"Encoded_Target\"]=ord_enc.fit_transform(df_custom[[\"Converted\"]])    \n",
    "    df_custom[\"Allele X.1\"]=df_custom[\"Allele X.1\"].str.replace(\",\",\".\")\n",
    "    df_custom[\"Allele Y.1\"]=df_custom[\"Allele Y.1\"].str.replace(\",\",\".\")\n",
    "    df_custom=normalise(df_custom)\n",
    "    \n",
    "    X=df_custom[[\"Allele X.1\",\"Allele Y.1\"]].astype(float)    \n",
    "    y=df_custom[\"Encoded_Target\"].astype(int)\n",
    "    X_train, X_test, y_train, y_test = train_test_split(X, y, test_size=0.33, random_state=42)\n",
    "    clf=SVC()\n",
    "    clf.fit(X_train,y_train)\n",
    "    print(clf.score(X_train,y_train))\n",
    "    print(clf.score(X_test,y_test))\n",
    "    return [assay,clf.score(X_train,y_train),\n",
    "           clf.score(X_test,y_test)]\n",
    "\n",
    "for assay in call_df[\"Assay\"].unique():\n",
    "    try:\n",
    "        data.append(get_model_performance(call_df,assay))\n",
    "    except Exception as e:\n",
    "        print(e)\n",
    "\n",
    "pd.DataFrame(data,columns=[\"Assay\",\"Train_Score\",\"Test_Score\"]).to_csv(\"BaselineResults_normalised.csv\",index=False)"
   ]
  },
  {
   "cell_type": "code",
   "execution_count": 24,
   "id": "b1365058",
   "metadata": {
    "scrolled": true
   },
   "outputs": [
    {
     "name": "stdout",
     "output_type": "stream",
     "text": [
      " balanced accuracy score : 0.9996546961325967\n",
      " f1 score : 0.9996593989246406\n",
      " balanced accuracy score : 1.0\n",
      " f1 score : 1.0\n",
      " balanced accuracy score : 1.0\n",
      " f1 score : 1.0\n",
      " balanced accuracy score : 1.0\n",
      " f1 score : 1.0\n",
      " balanced accuracy score : 1.0\n",
      " f1 score : 1.0\n",
      " balanced accuracy score : 1.0\n",
      " f1 score : 1.0\n",
      " balanced accuracy score : 1.0\n",
      " f1 score : 1.0\n",
      " balanced accuracy score : 1.0\n",
      " f1 score : 1.0\n",
      " balanced accuracy score : 1.0\n",
      " f1 score : 1.0\n",
      " balanced accuracy score : 0.9977731921358761\n",
      " f1 score : 0.9990284825655475\n",
      " balanced accuracy score : 0.996039122775044\n",
      " f1 score : 0.9993523336120821\n",
      " balanced accuracy score : 0.9993524368646887\n",
      " f1 score : 0.999353169469599\n",
      " balanced accuracy score : 0.9918705610717514\n",
      " f1 score : 0.9990337542456186\n",
      " balanced accuracy score : 0.9378739468166426\n",
      " f1 score : 0.9915068627028667\n",
      " balanced accuracy score : 1.0\n",
      " f1 score : 1.0\n",
      " balanced accuracy score : 0.9798939007591079\n",
      " f1 score : 0.9993173818751204\n",
      " balanced accuracy score : 0.9812885272734021\n",
      " f1 score : 0.9944098096325442\n",
      " balanced accuracy score : 1.0\n",
      " f1 score : 1.0\n",
      " balanced accuracy score : 0.9990462565569862\n",
      " f1 score : 0.9993552167504126\n",
      " balanced accuracy score : 0.9993274554700896\n",
      " f1 score : 0.999338834633532\n",
      " balanced accuracy score : 1.0\n",
      " f1 score : 1.0\n",
      " balanced accuracy score : 0.9682836896981438\n",
      " f1 score : 0.9895115419620231\n",
      " balanced accuracy score : 0.9988518943742823\n",
      " f1 score : 0.9990376175166191\n",
      " balanced accuracy score : 1.0\n",
      " f1 score : 1.0\n",
      " balanced accuracy score : 0.9997582789460963\n",
      " f1 score : 0.9996782170741967\n",
      " balanced accuracy score : 0.9968059071729959\n",
      " f1 score : 0.9987117552334943\n",
      " balanced accuracy score : 0.998974358974359\n",
      " f1 score : 0.9993780218392014\n",
      " balanced accuracy score : 0.9989832970225128\n",
      " f1 score : 0.9987138027225059\n",
      " balanced accuracy score : 0.9992609016999262\n",
      " f1 score : 0.999676357307701\n",
      " balanced accuracy score : 1.0\n",
      " f1 score : 1.0\n",
      " balanced accuracy score : 0.9772194462320763\n",
      " f1 score : 0.9971504872092827\n",
      " balanced accuracy score : 0.9857580944230495\n",
      " f1 score : 0.9947772865417409\n",
      " balanced accuracy score : 0.9972677595628415\n",
      " f1 score : 0.999676747282617\n",
      " balanced accuracy score : 0.9984261381012794\n",
      " f1 score : 0.9986880662330319\n",
      " balanced accuracy score : 0.9978929417714553\n",
      " f1 score : 0.9977172317019714\n",
      " balanced accuracy score : 0.997857122526237\n",
      " f1 score : 0.9993187150207697\n",
      " balanced accuracy score : 0.9993950393224441\n",
      " f1 score : 0.9996823339727884\n",
      " balanced accuracy score : 1.0\n",
      " f1 score : 1.0\n",
      " balanced accuracy score : 1.0\n",
      " f1 score : 1.0\n",
      " balanced accuracy score : 0.998531571218796\n",
      " f1 score : 0.9996766049269171\n",
      " balanced accuracy score : 0.999479979199168\n",
      " f1 score : 0.999678614248672\n",
      " balanced accuracy score : 1.0\n",
      " f1 score : 1.0\n",
      " balanced accuracy score : 0.9997705895847672\n",
      " f1 score : 0.9996938206039151\n",
      " balanced accuracy score : 0.9974376472311862\n",
      " f1 score : 0.9977492529513201\n",
      " balanced accuracy score : 1.0\n",
      " f1 score : 1.0\n",
      " balanced accuracy score : 0.9988814317673378\n",
      " f1 score : 0.9996788626942289\n",
      " balanced accuracy score : 1.0\n",
      " f1 score : 1.0\n",
      " balanced accuracy score : 0.9996673320026613\n",
      " f1 score : 0.9996791847794392\n",
      " balanced accuracy score : 1.0\n",
      " f1 score : 1.0\n",
      " balanced accuracy score : 0.998159865303787\n",
      " f1 score : 0.9977339446420825\n",
      " balanced accuracy score : 0.9915497595995522\n",
      " f1 score : 0.9972357799115709\n",
      " balanced accuracy score : 1.0\n",
      " f1 score : 1.0\n",
      " balanced accuracy score : 1.0\n",
      " f1 score : 1.0\n",
      " balanced accuracy score : 0.9090000349515921\n",
      " f1 score : 0.98545518116696\n",
      " balanced accuracy score : 1.0\n",
      " f1 score : 1.0\n",
      " balanced accuracy score : 0.9997685185185184\n",
      " f1 score : 0.9996776520690979\n",
      " balanced accuracy score : 0.9991755976916735\n",
      " f1 score : 0.99904021471479\n",
      " balanced accuracy score : 0.9992848598522905\n",
      " f1 score : 0.9995462794918331\n",
      " balanced accuracy score : 0.9997713763145862\n",
      " f1 score : 0.9996784139477904\n",
      " balanced accuracy score : 0.9825982848869584\n",
      " f1 score : 0.9991058540124654\n",
      " balanced accuracy score : 1.0\n",
      " f1 score : 1.0\n",
      " balanced accuracy score : 1.0\n",
      " f1 score : 1.0\n",
      " balanced accuracy score : 0.9995510662177329\n",
      " f1 score : 0.9993503832190026\n",
      " balanced accuracy score : 1.0\n",
      " f1 score : 1.0\n",
      " balanced accuracy score : 0.9987029831387808\n",
      " f1 score : 0.9993567063236208\n",
      " balanced accuracy score : 1.0\n",
      " f1 score : 1.0\n",
      " balanced accuracy score : 0.999706572769953\n",
      " f1 score : 0.999677964248391\n",
      " balanced accuracy score : 0.9516003122560499\n",
      " f1 score : 0.9993579454253612\n",
      " balanced accuracy score : 1.0\n",
      " f1 score : 1.0\n",
      " balanced accuracy score : 0.9927863454742392\n",
      " f1 score : 0.9966246073338468\n",
      " balanced accuracy score : 0.9910673332668304\n",
      " f1 score : 0.996492420876541\n",
      " balanced accuracy score : 0.9713835654552317\n",
      " f1 score : 0.9944700740985789\n",
      " balanced accuracy score : 0.9714284828408742\n",
      " f1 score : 0.9678009382078794\n",
      " balanced accuracy score : 0.9061420809844734\n",
      " f1 score : 0.9881349725829213\n",
      " balanced accuracy score : 1.0\n",
      " f1 score : 1.0\n",
      " balanced accuracy score : 0.9997677119628339\n",
      " f1 score : 0.9996772321825663\n",
      " balanced accuracy score : 0.9543843201593765\n",
      " f1 score : 0.9993577392421323\n",
      " balanced accuracy score : 0.9743589743589745\n",
      " f1 score : 0.9986892404261334\n",
      " balanced accuracy score : 0.9952624256380732\n",
      " f1 score : 0.9993758180877295\n",
      " balanced accuracy score : 1.0\n",
      " f1 score : 1.0\n",
      " balanced accuracy score : 1.0\n",
      " f1 score : 1.0\n",
      " balanced accuracy score : 0.9992072929052714\n",
      " f1 score : 0.99936370441664\n",
      " balanced accuracy score : 0.9974339730379893\n",
      " f1 score : 0.9988204116541513\n",
      " balanced accuracy score : 0.9892290431122904\n",
      " f1 score : 0.9973192172386304\n",
      " balanced accuracy score : 1.0\n",
      " f1 score : 1.0\n",
      " balanced accuracy score : 0.9913464322588953\n",
      " f1 score : 0.9909662027295825\n",
      " balanced accuracy score : 0.9976284467071702\n",
      " f1 score : 0.999034173664437\n",
      " balanced accuracy score : 1.0\n",
      " f1 score : 1.0\n",
      " balanced accuracy score : 0.9758033294618661\n",
      " f1 score : 0.9972572933265536\n",
      " balanced accuracy score : 1.0\n",
      " f1 score : 1.0\n",
      " balanced accuracy score : 1.0\n",
      " f1 score : 1.0\n",
      " balanced accuracy score : 0.9950164348526784\n",
      " f1 score : 0.9943049373576905\n",
      " balanced accuracy score : 1.0\n",
      " f1 score : 1.0\n",
      " balanced accuracy score : 1.0\n",
      " f1 score : 1.0\n",
      " balanced accuracy score : 1.0\n",
      " f1 score : 1.0\n",
      " balanced accuracy score : 1.0\n",
      " f1 score : 1.0\n",
      " balanced accuracy score : 0.9826524854656888\n",
      " f1 score : 0.9974991324328152\n",
      " balanced accuracy score : 1.0\n",
      " f1 score : 1.0\n",
      " balanced accuracy score : 1.0\n",
      " f1 score : 1.0\n",
      " balanced accuracy score : 0.9996128532713898\n",
      " f1 score : 0.9994882858466506\n",
      " balanced accuracy score : 1.0\n",
      " f1 score : 1.0\n",
      " balanced accuracy score : 0.9964808788480114\n",
      " f1 score : 0.9971229992368347\n",
      " balanced accuracy score : 1.0\n",
      " f1 score : 1.0\n",
      " balanced accuracy score : 0.9979035639412999\n",
      " f1 score : 0.9994646200405222\n",
      " balanced accuracy score : 0.9990167158308751\n",
      " f1 score : 0.9994621874081794\n",
      " balanced accuracy score : 1.0\n",
      " f1 score : 1.0\n",
      " balanced accuracy score : 0.9995596653456627\n",
      " f1 score : 0.9994444328410231\n",
      " balanced accuracy score : 1.0\n",
      " f1 score : 1.0\n",
      " balanced accuracy score : 0.9822557471264367\n",
      " f1 score : 0.9980148277770337\n",
      " balanced accuracy score : 1.0\n",
      " f1 score : 1.0\n",
      " balanced accuracy score : 0.9724161253903025\n",
      " f1 score : 0.9876047384825243\n",
      " balanced accuracy score : 1.0\n",
      " f1 score : 1.0\n",
      " balanced accuracy score : 0.9990530303030303\n",
      " f1 score : 0.9994420381001452\n",
      " balanced accuracy score : 1.0\n",
      " f1 score : 1.0\n",
      " balanced accuracy score : 0.9854411764705882\n",
      " f1 score : 0.9988938053097345\n",
      " balanced accuracy score : 0.9988738738738738\n",
      " f1 score : 0.998984029954478\n",
      " balanced accuracy score : 1.0\n",
      " f1 score : 1.0\n",
      " balanced accuracy score : 0.9988116458704694\n",
      " f1 score : 0.998990405661754\n",
      " balanced accuracy score : 0.9958288363096718\n",
      " f1 score : 0.9960622660498488\n",
      " balanced accuracy score : 0.9995929995929996\n",
      " f1 score : 0.9994374879369425\n",
      " balanced accuracy score : 1.0\n",
      " f1 score : 1.0\n",
      " balanced accuracy score : 1.0\n",
      " f1 score : 1.0\n",
      " balanced accuracy score : 0.9914095241939281\n",
      " f1 score : 0.9983261904958456\n",
      " balanced accuracy score : 0.9992424242424242\n",
      " f1 score : 0.9989822778571862\n",
      " balanced accuracy score : 1.0\n",
      " f1 score : 1.0\n",
      " balanced accuracy score : 0.9800115735159377\n",
      " f1 score : 0.9938267792020482\n",
      " balanced accuracy score : 1.0\n",
      " f1 score : 1.0\n"
     ]
    },
    {
     "name": "stdout",
     "output_type": "stream",
     "text": [
      " balanced accuracy score : 1.0\n",
      " f1 score : 1.0\n",
      " balanced accuracy score : 0.9995047052996533\n",
      " f1 score : 0.9994456771813128\n",
      " balanced accuracy score : 0.9990138067061144\n",
      " f1 score : 0.9995096736923176\n",
      " balanced accuracy score : 1.0\n",
      " f1 score : 1.0\n",
      " balanced accuracy score : 1.0\n",
      " f1 score : 1.0\n",
      " balanced accuracy score : 0.9944875386051857\n",
      " f1 score : 0.9989099567253872\n",
      " balanced accuracy score : 1.0\n",
      " f1 score : 1.0\n",
      " balanced accuracy score : 0.9990892531876138\n",
      " f1 score : 0.9988880534886602\n",
      " balanced accuracy score : 0.9992907801418439\n",
      " f1 score : 0.9989738377195122\n",
      " balanced accuracy score : 1.0\n",
      " f1 score : 1.0\n",
      " balanced accuracy score : 1.0\n",
      " f1 score : 1.0\n",
      " balanced accuracy score : 0.9996246246246246\n",
      " f1 score : 0.999491095616204\n",
      " balanced accuracy score : 1.0\n",
      " f1 score : 1.0\n",
      " balanced accuracy score : 0.9977715955375951\n",
      " f1 score : 0.9984679378740983\n",
      " balanced accuracy score : 0.9941116397775954\n",
      " f1 score : 0.9979533963387687\n",
      " balanced accuracy score : 0.9954234834030231\n",
      " f1 score : 0.9983294253918799\n",
      " balanced accuracy score : 1.0\n",
      " f1 score : 1.0\n",
      " balanced accuracy score : 1.0\n",
      " f1 score : 1.0\n",
      " balanced accuracy score : 0.999611046285492\n",
      " f1 score : 0.999443538931375\n",
      " balanced accuracy score : 1.0\n",
      " f1 score : 1.0\n",
      " balanced accuracy score : 0.9864944562396792\n",
      " f1 score : 0.9972816823464306\n",
      " balanced accuracy score : 1.0\n",
      " f1 score : 1.0\n",
      " balanced accuracy score : 1.0\n",
      " f1 score : 1.0\n",
      " balanced accuracy score : 1.0\n",
      " f1 score : 1.0\n",
      " balanced accuracy score : 0.9907386040214766\n",
      " f1 score : 0.9977830101283832\n",
      " balanced accuracy score : 1.0\n",
      " f1 score : 1.0\n",
      " balanced accuracy score : 0.9951353298192843\n",
      " f1 score : 0.9980446844627879\n",
      " balanced accuracy score : 1.0\n",
      " f1 score : 1.0\n",
      " balanced accuracy score : 1.0\n",
      " f1 score : 1.0\n",
      " balanced accuracy score : 1.0\n",
      " f1 score : 1.0\n",
      " balanced accuracy score : 1.0\n",
      " f1 score : 1.0\n",
      " balanced accuracy score : 0.992483660130719\n",
      " f1 score : 0.9983751019364889\n",
      " balanced accuracy score : 0.9986954996273294\n",
      " f1 score : 0.9983307274027454\n",
      " balanced accuracy score : 1.0\n",
      " f1 score : 1.0\n",
      " balanced accuracy score : 0.9933333333333333\n",
      " f1 score : 0.9994462303326147\n",
      " balanced accuracy score : 0.9958847736625515\n",
      " f1 score : 0.9988843736422038\n",
      " balanced accuracy score : 0.9893467377510676\n",
      " f1 score : 0.9961277474117516\n",
      " balanced accuracy score : 0.996078431372549\n",
      " f1 score : 0.9995099695277979\n",
      " balanced accuracy score : 1.0\n",
      " f1 score : 1.0\n",
      " balanced accuracy score : 1.0\n",
      " f1 score : 1.0\n",
      " balanced accuracy score : 0.8731074830084481\n",
      " f1 score : 0.996535611538689\n",
      " balanced accuracy score : 1.0\n",
      " f1 score : 1.0\n",
      " balanced accuracy score : 1.0\n",
      " f1 score : 1.0\n",
      " balanced accuracy score : 1.0\n",
      " f1 score : 1.0\n",
      " balanced accuracy score : 1.0\n",
      " f1 score : 1.0\n",
      " balanced accuracy score : 1.0\n",
      " f1 score : 1.0\n",
      " balanced accuracy score : 0.9995147986414361\n",
      " f1 score : 0.9994427443687771\n",
      " balanced accuracy score : 0.976526402640264\n",
      " f1 score : 0.9960923240007041\n",
      " balanced accuracy score : 1.0\n",
      " f1 score : 1.0\n",
      " balanced accuracy score : 1.0\n",
      " f1 score : 1.0\n",
      " balanced accuracy score : 0.9969040247678018\n",
      " f1 score : 0.9984390081783026\n",
      " balanced accuracy score : 0.9972845040493578\n",
      " f1 score : 0.998327279436576\n",
      " balanced accuracy score : 0.9722222222222222\n",
      " f1 score : 0.9989023706295285\n",
      " balanced accuracy score : 1.0\n",
      " f1 score : 1.0\n",
      " balanced accuracy score : 0.9988545246277205\n",
      " f1 score : 0.9988923308527772\n",
      " balanced accuracy score : 0.9987946333194325\n",
      " f1 score : 0.9988845510317903\n",
      " balanced accuracy score : 0.9995311767463666\n",
      " f1 score : 0.9994459389067272\n",
      " balanced accuracy score : 0.9975903614457832\n",
      " f1 score : 0.9983645950078518\n",
      " balanced accuracy score : 0.9841269841269842\n",
      " f1 score : 0.9966126255802289\n",
      " balanced accuracy score : 0.9626342451874367\n",
      " f1 score : 0.9954863955536304\n",
      " balanced accuracy score : 0.9924710548199321\n",
      " f1 score : 0.9955023493360571\n",
      " balanced accuracy score : 0.9985475671750182\n",
      " f1 score : 0.998876491668004\n",
      " balanced accuracy score : 0.9995812395309883\n",
      " f1 score : 0.9994892484551998\n",
      " balanced accuracy score : 1.0\n",
      " f1 score : 1.0\n",
      " balanced accuracy score : 1.0\n",
      " f1 score : 1.0\n",
      " balanced accuracy score : 0.9957318444468305\n",
      " f1 score : 0.9941860465116279\n",
      " balanced accuracy score : 1.0\n",
      " f1 score : 1.0\n",
      " balanced accuracy score : 0.9861111111111112\n",
      " f1 score : 0.9994248762676904\n",
      " balanced accuracy score : 0.9998157361341441\n",
      " f1 score : 0.9994645294774223\n",
      " balanced accuracy score : 1.0\n",
      " f1 score : 1.0\n",
      " balanced accuracy score : 0.8896057347670251\n",
      " f1 score : 0.9966808374651379\n",
      " balanced accuracy score : 0.6875\n",
      " f1 score : 0.9965719064891136\n",
      " balanced accuracy score : 0.9166666666666666\n",
      " f1 score : 0.9967514889009204\n",
      " balanced accuracy score : 1.0\n",
      " f1 score : 1.0\n",
      " balanced accuracy score : 0.9990530303030303\n",
      " f1 score : 0.9994497112494659\n",
      " balanced accuracy score : 0.9905618137599088\n",
      " f1 score : 0.9971959896503648\n",
      " balanced accuracy score : 0.9946794501901254\n",
      " f1 score : 0.998898678414097\n",
      " balanced accuracy score : 0.9696969696969697\n",
      " f1 score : 0.9988922808273818\n",
      " balanced accuracy score : 0.8236130779743611\n",
      " f1 score : 0.9934353908363809\n",
      " balanced accuracy score : 0.9063492063492063\n",
      " f1 score : 0.9953521888795676\n",
      " balanced accuracy score : 0.9976525821596244\n",
      " f1 score : 0.9994636467953923\n",
      " balanced accuracy score : 1.0\n",
      " f1 score : 1.0\n",
      " balanced accuracy score : 0.9998158379373848\n",
      " f1 score : 0.9994667099921164\n",
      " balanced accuracy score : 0.9955528343101717\n",
      " f1 score : 0.9955870287938271\n",
      " balanced accuracy score : 0.9984399375975039\n",
      " f1 score : 0.9983214813638707\n",
      " balanced accuracy score : 1.0\n",
      " f1 score : 1.0\n",
      " balanced accuracy score : 0.9994807892004154\n",
      " f1 score : 0.9994410427427748\n",
      " balanced accuracy score : 0.9876543209876543\n",
      " f1 score : 0.9994378410524242\n",
      " balanced accuracy score : 0.9886363636363636\n",
      " f1 score : 0.9983341332057776\n",
      " balanced accuracy score : 0.8911111111111111\n",
      " f1 score : 0.9961610805407444\n",
      " balanced accuracy score : 1.0\n",
      " f1 score : 1.0\n",
      " balanced accuracy score : 0.9259259259259259\n",
      " f1 score : 0.9977883413149637\n",
      " balanced accuracy score : 1.0\n",
      " f1 score : 1.0\n",
      " balanced accuracy score : 0.998272884283247\n",
      " f1 score : 0.9988818526162841\n",
      " balanced accuracy score : 0.9911558109833972\n",
      " f1 score : 0.9983019712135985\n",
      " balanced accuracy score : 1.0\n",
      " f1 score : 1.0\n",
      " balanced accuracy score : 1.0\n",
      " f1 score : 1.0\n",
      " balanced accuracy score : 0.9814814814814815\n",
      " f1 score : 0.9994503266945871\n",
      " balanced accuracy score : 0.9629629629629629\n",
      " f1 score : 0.9988837747455623\n",
      " balanced accuracy score : 0.9521531100478469\n",
      " f1 score : 0.9983306840209087\n",
      " balanced accuracy score : 1.0\n",
      " f1 score : 1.0\n",
      " balanced accuracy score : 1.0\n",
      " f1 score : 1.0\n",
      " balanced accuracy score : 0.979662934337429\n",
      " f1 score : 0.9983286715839294\n",
      " balanced accuracy score : 0.9939561700925337\n",
      " f1 score : 0.9983212161421109\n",
      " balanced accuracy score : 0.9848484848484849\n",
      " f1 score : 0.9994505762864435\n",
      " balanced accuracy score : 1.0\n",
      " f1 score : 1.0\n",
      " balanced accuracy score : 1.0\n",
      " f1 score : 1.0\n",
      " balanced accuracy score : 1.0\n",
      " f1 score : 1.0\n",
      " balanced accuracy score : 1.0\n",
      " f1 score : 1.0\n",
      " balanced accuracy score : 0.9833333333333334\n",
      " f1 score : 0.9994463200368068\n",
      " balanced accuracy score : 0.9375\n",
      " f1 score : 0.9994237627905569\n",
      " balanced accuracy score : 1.0\n",
      " f1 score : 1.0\n",
      " balanced accuracy score : 0.999722067815453\n",
      " f1 score : 0.9994587857511175\n",
      " balanced accuracy score : 1.0\n",
      " f1 score : 1.0\n",
      " balanced accuracy score : 0.9682539682539683\n",
      " f1 score : 0.9989227642276423\n",
      " balanced accuracy score : 1.0\n",
      " f1 score : 1.0\n",
      " balanced accuracy score : 0.9710144927536232\n",
      " f1 score : 0.9988886416856687\n",
      " balanced accuracy score : 0.9983243212797116\n",
      " f1 score : 0.9988808058198098\n",
      " balanced accuracy score : 0.9941598581149774\n",
      " f1 score : 0.9949177670444548\n",
      " balanced accuracy score : 0.9995659722222222\n",
      " f1 score : 0.9994173026114682\n",
      " balanced accuracy score : 0.5\n",
      " f1 score : 0.9990931990292842\n",
      " balanced accuracy score : 0.8979636803377811\n",
      " f1 score : 0.9962565623554521\n",
      " balanced accuracy score : 0.9991329884404081\n",
      " f1 score : 0.9988717507716423\n",
      " balanced accuracy score : 0.992585104995435\n",
      " f1 score : 0.994886542592602\n",
      " balanced accuracy score : 1.0\n",
      " f1 score : 1.0\n",
      " balanced accuracy score : 1.0\n",
      " f1 score : 1.0\n",
      " balanced accuracy score : 1.0\n",
      " f1 score : 1.0\n",
      " balanced accuracy score : 0.9946666666666667\n",
      " f1 score : 0.9977906036966758\n"
     ]
    },
    {
     "name": "stdout",
     "output_type": "stream",
     "text": [
      " balanced accuracy score : 0.9565056745256967\n",
      " f1 score : 0.9973392889179682\n",
      " balanced accuracy score : 1.0\n",
      " f1 score : 1.0\n",
      " balanced accuracy score : 0.9846631967254535\n",
      " f1 score : 0.9989195575133621\n",
      " balanced accuracy score : 1.0\n",
      " f1 score : 1.0\n",
      " balanced accuracy score : 1.0\n",
      " f1 score : 1.0\n",
      " balanced accuracy score : 1.0\n",
      " f1 score : 1.0\n",
      " balanced accuracy score : 1.0\n",
      " f1 score : 1.0\n",
      " balanced accuracy score : 0.9855072463768115\n",
      " f1 score : 0.9994585821196965\n",
      " balanced accuracy score : 1.0\n",
      " f1 score : 1.0\n",
      " balanced accuracy score : 0.9607843137254902\n",
      " f1 score : 0.998908622559653\n",
      " balanced accuracy score : 1.0\n",
      " f1 score : 1.0\n",
      " balanced accuracy score : 0.8444444444444444\n",
      " f1 score : 0.9949657292361814\n",
      " balanced accuracy score : 1.0\n",
      " f1 score : 1.0\n",
      " balanced accuracy score : 1.0\n",
      " f1 score : 1.0\n",
      " balanced accuracy score : 1.0\n",
      " f1 score : 1.0\n"
     ]
    }
   ],
   "source": [
    "from sklearn.preprocessing import OrdinalEncoder\n",
    "from sklearn.model_selection import train_test_split\n",
    "from sklearn.ensemble import RandomForestClassifier\n",
    "#from numba import jit\n",
    "import warnings\n",
    "from sklearn.preprocessing import MinMaxScaler\n",
    "from sklearn.preprocessing import StandardScaler\n",
    "\n",
    "warnings.filterwarnings(\"ignore\")\n",
    "\n",
    "\n",
    "data=[]\n",
    "\n",
    "#@jit\n",
    "def normalise(df):\n",
    "    norm_df = pd.DataFrame()\n",
    "    # Get the unique IDs from the dataframe\n",
    "    ids = df['Plate'].unique()\n",
    "    df[\"Allele X.1\"]=df[\"Allele X.1\"].str.replace(\",\",\".\")\n",
    "    df[\"Allele Y.1\"]=df[\"Allele Y.1\"].str.replace(\",\",\".\")\n",
    "    \n",
    "    # Loop through each ID\n",
    "    for ident in ids:\n",
    "        # Filter the dataframe based on the current ID\n",
    "        temp_df = df[df['Plate'] == ident]\n",
    "    \n",
    "        # Initialize the Scaler\n",
    "        scaler = StandardScaler()\n",
    "    \n",
    "        # Fit and transform the columns\n",
    "        temp_df[[\"Allele X.1\", \"Allele Y.1\"]] = scaler.fit_transform(temp_df[[\"Allele X.1\", \"Allele Y.1\"]])\n",
    "    \n",
    "        # Concatenate the current dataframe to the final dataframe\n",
    "        norm_df = pd.concat([norm_df, temp_df], axis=0)\n",
    "    \n",
    "    norm_df = norm_df.reset_index(drop=True)\n",
    "    return norm_df\n",
    "    \n",
    "    \n",
    "#@jit\n",
    "def get_model_performance(df,assay):\n",
    "    ord_enc = OrdinalEncoder()\n",
    "    df_custom=df[df[\"Assay\"]==assay]\n",
    "    df_custom[\"Encoded_Target\"]=ord_enc.fit_transform(df_custom[[\"Converted\"]])    \n",
    "    df_custom[\"Allele X.1\"]=df_custom[\"Allele X.1\"].str.replace(\",\",\".\")\n",
    "    df_custom[\"Allele Y.1\"]=df_custom[\"Allele Y.1\"].str.replace(\",\",\".\")\n",
    "    df_custom=normalise(df_custom)\n",
    "    \n",
    "    X=df_custom[[\"Allele X.1\",\"Allele Y.1\"]].astype(float)    \n",
    "    y=df_custom[\"Encoded_Target\"].astype(int)\n",
    "    X_train, X_test, y_train, y_test = train_test_split(X, y, test_size=0.33, random_state=42)\n",
    "    clf=RandomForestClassifier()\n",
    "    clf.fit(X_train,y_train)\n",
    "    #print(clf.score(X_train,y_train))\n",
    "    #print(clf.score(X_test,y_test))\n",
    "    from sklearn.metrics import f1_score , balanced_accuracy_score\n",
    "    pred=clf.predict(X_test)\n",
    "    print(\" balanced accuracy score :\", balanced_accuracy_score(y_test,pred))\n",
    "    print(\" f1 score :\", f1_score(y_test,pred,average='weighted'))\n",
    "    return [assay,clf.score(X_train,y_train),\n",
    "           clf.score(X_test,y_test)]\n",
    "\n",
    "for assay in call_df[\"Assay\"].unique():\n",
    "    try:\n",
    "        data.append(get_model_performance(call_df,assay))\n",
    "    except Exception as e:\n",
    "        print(e)\n",
    "\n",
    "pd.DataFrame(data,columns=[\"Assay\",\"Train_Score\",\"Test_Score\"]).to_csv(\"BaselineResults_standardised_RF.csv\",index=False)"
   ]
  },
  {
   "cell_type": "code",
   "execution_count": 31,
   "id": "3234500d",
   "metadata": {
    "scrolled": true
   },
   "outputs": [
    {
     "name": "stderr",
     "output_type": "stream",
     "text": [
      "  0%|▎                                                                                 | 1/270 [00:01<07:14,  1.61s/it]"
     ]
    },
    {
     "name": "stdout",
     "output_type": "stream",
     "text": [
      " balanced accuracy score : 0.9996546961325967\n",
      " f1 score : 0.9996593989246406\n"
     ]
    },
    {
     "name": "stderr",
     "output_type": "stream",
     "text": [
      "\r",
      "  1%|▌                                                                                 | 2/270 [00:03<07:44,  1.73s/it]"
     ]
    },
    {
     "name": "stdout",
     "output_type": "stream",
     "text": [
      " balanced accuracy score : 1.0\n",
      " f1 score : 1.0\n"
     ]
    },
    {
     "name": "stderr",
     "output_type": "stream",
     "text": [
      "\r",
      "  1%|▉                                                                                 | 3/270 [00:05<07:56,  1.79s/it]"
     ]
    },
    {
     "name": "stdout",
     "output_type": "stream",
     "text": [
      " balanced accuracy score : 1.0\n",
      " f1 score : 1.0\n"
     ]
    },
    {
     "name": "stderr",
     "output_type": "stream",
     "text": [
      "\r",
      "  1%|█▏                                                                                | 4/270 [00:08<09:43,  2.19s/it]"
     ]
    },
    {
     "name": "stdout",
     "output_type": "stream",
     "text": [
      " balanced accuracy score : 1.0\n",
      " f1 score : 1.0\n"
     ]
    },
    {
     "name": "stderr",
     "output_type": "stream",
     "text": [
      "\r",
      "  2%|█▌                                                                                | 5/270 [00:10<09:16,  2.10s/it]"
     ]
    },
    {
     "name": "stdout",
     "output_type": "stream",
     "text": [
      " balanced accuracy score : 1.0\n",
      " f1 score : 1.0\n"
     ]
    },
    {
     "name": "stderr",
     "output_type": "stream",
     "text": [
      "\r",
      "  2%|█▊                                                                                | 6/270 [00:11<08:47,  2.00s/it]"
     ]
    },
    {
     "name": "stdout",
     "output_type": "stream",
     "text": [
      " balanced accuracy score : 1.0\n",
      " f1 score : 1.0\n"
     ]
    },
    {
     "name": "stderr",
     "output_type": "stream",
     "text": [
      "\r",
      "  3%|██▏                                                                               | 7/270 [00:13<08:38,  1.97s/it]"
     ]
    },
    {
     "name": "stdout",
     "output_type": "stream",
     "text": [
      " balanced accuracy score : 1.0\n",
      " f1 score : 1.0\n"
     ]
    },
    {
     "name": "stderr",
     "output_type": "stream",
     "text": [
      "\r",
      "  3%|██▍                                                                               | 8/270 [00:15<08:30,  1.95s/it]"
     ]
    },
    {
     "name": "stdout",
     "output_type": "stream",
     "text": [
      " balanced accuracy score : 1.0\n",
      " f1 score : 1.0\n"
     ]
    },
    {
     "name": "stderr",
     "output_type": "stream",
     "text": [
      "\r",
      "  3%|██▋                                                                               | 9/270 [00:17<08:28,  1.95s/it]"
     ]
    },
    {
     "name": "stdout",
     "output_type": "stream",
     "text": [
      " balanced accuracy score : 1.0\n",
      " f1 score : 1.0\n"
     ]
    },
    {
     "name": "stderr",
     "output_type": "stream",
     "text": [
      "\r",
      "  4%|███                                                                              | 10/270 [00:19<08:25,  1.95s/it]"
     ]
    },
    {
     "name": "stdout",
     "output_type": "stream",
     "text": [
      " balanced accuracy score : 0.9977731921358761\n",
      " f1 score : 0.9990284825655475\n"
     ]
    },
    {
     "name": "stderr",
     "output_type": "stream",
     "text": [
      "\r",
      "  4%|███▎                                                                             | 11/270 [00:21<08:47,  2.04s/it]"
     ]
    },
    {
     "name": "stdout",
     "output_type": "stream",
     "text": [
      " balanced accuracy score : 0.996039122775044\n",
      " f1 score : 0.9993523336120821\n"
     ]
    },
    {
     "name": "stderr",
     "output_type": "stream",
     "text": [
      "\r",
      "  4%|███▌                                                                             | 12/270 [00:23<08:44,  2.03s/it]"
     ]
    },
    {
     "name": "stdout",
     "output_type": "stream",
     "text": [
      " balanced accuracy score : 0.9993524368646887\n",
      " f1 score : 0.999353169469599\n"
     ]
    },
    {
     "name": "stderr",
     "output_type": "stream",
     "text": [
      "\r",
      "  5%|███▉                                                                             | 13/270 [00:26<08:55,  2.08s/it]"
     ]
    },
    {
     "name": "stdout",
     "output_type": "stream",
     "text": [
      " balanced accuracy score : 0.9914930601279991\n",
      " f1 score : 0.9987150658528751\n"
     ]
    },
    {
     "name": "stderr",
     "output_type": "stream",
     "text": [
      "\r",
      "  5%|████▏                                                                            | 14/270 [00:28<08:55,  2.09s/it]"
     ]
    },
    {
     "name": "stdout",
     "output_type": "stream",
     "text": [
      " balanced accuracy score : 0.9321488997356632\n",
      " f1 score : 0.9914673240090031\n"
     ]
    },
    {
     "name": "stderr",
     "output_type": "stream",
     "text": [
      "\r",
      "  6%|████▌                                                                            | 15/270 [00:30<08:40,  2.04s/it]"
     ]
    },
    {
     "name": "stdout",
     "output_type": "stream",
     "text": [
      " balanced accuracy score : 1.0\n",
      " f1 score : 1.0\n"
     ]
    },
    {
     "name": "stderr",
     "output_type": "stream",
     "text": [
      "\r",
      "  6%|████▊                                                                            | 16/270 [00:32<09:25,  2.23s/it]"
     ]
    },
    {
     "name": "stdout",
     "output_type": "stream",
     "text": [
      " balanced accuracy score : 0.9798939007591079\n",
      " f1 score : 0.9993173818751204\n"
     ]
    },
    {
     "name": "stderr",
     "output_type": "stream",
     "text": [
      "\r",
      "  6%|█████                                                                            | 17/270 [00:35<09:53,  2.35s/it]"
     ]
    },
    {
     "name": "stdout",
     "output_type": "stream",
     "text": [
      " balanced accuracy score : 0.9836566212256544\n",
      " f1 score : 0.9944164505004123\n"
     ]
    },
    {
     "name": "stderr",
     "output_type": "stream",
     "text": [
      "\r",
      "  7%|█████▍                                                                           | 18/270 [00:37<09:29,  2.26s/it]"
     ]
    },
    {
     "name": "stdout",
     "output_type": "stream",
     "text": [
      " balanced accuracy score : 1.0\n",
      " f1 score : 1.0\n"
     ]
    },
    {
     "name": "stderr",
     "output_type": "stream",
     "text": [
      "\r",
      "  7%|█████▋                                                                           | 19/270 [00:39<09:09,  2.19s/it]"
     ]
    },
    {
     "name": "stdout",
     "output_type": "stream",
     "text": [
      " balanced accuracy score : 0.9990462565569862\n",
      " f1 score : 0.9993552167504126\n"
     ]
    },
    {
     "name": "stderr",
     "output_type": "stream",
     "text": [
      "\r",
      "  7%|██████                                                                           | 20/270 [00:41<08:49,  2.12s/it]"
     ]
    },
    {
     "name": "stdout",
     "output_type": "stream",
     "text": [
      " balanced accuracy score : 0.9993274554700896\n",
      " f1 score : 0.999338834633532\n"
     ]
    },
    {
     "name": "stderr",
     "output_type": "stream",
     "text": [
      "\r",
      "  8%|██████▎                                                                          | 21/270 [00:43<08:37,  2.08s/it]"
     ]
    },
    {
     "name": "stdout",
     "output_type": "stream",
     "text": [
      " balanced accuracy score : 1.0\n",
      " f1 score : 1.0\n"
     ]
    },
    {
     "name": "stderr",
     "output_type": "stream",
     "text": [
      "\r",
      "  8%|██████▌                                                                          | 22/270 [00:45<09:01,  2.18s/it]"
     ]
    },
    {
     "name": "stdout",
     "output_type": "stream",
     "text": [
      " balanced accuracy score : 0.9714907946691564\n",
      " f1 score : 0.9902128332494535\n"
     ]
    },
    {
     "name": "stderr",
     "output_type": "stream",
     "text": [
      "\r",
      "  9%|██████▉                                                                          | 23/270 [00:47<08:41,  2.11s/it]"
     ]
    },
    {
     "name": "stdout",
     "output_type": "stream",
     "text": [
      " balanced accuracy score : 0.9988518943742823\n",
      " f1 score : 0.9990376175166191\n"
     ]
    },
    {
     "name": "stderr",
     "output_type": "stream",
     "text": [
      "\r",
      "  9%|███████▏                                                                         | 24/270 [00:49<08:38,  2.11s/it]"
     ]
    },
    {
     "name": "stdout",
     "output_type": "stream",
     "text": [
      " balanced accuracy score : 1.0\n",
      " f1 score : 1.0\n"
     ]
    },
    {
     "name": "stderr",
     "output_type": "stream",
     "text": [
      "\r",
      "  9%|███████▌                                                                         | 25/270 [00:51<08:21,  2.05s/it]"
     ]
    },
    {
     "name": "stdout",
     "output_type": "stream",
     "text": [
      " balanced accuracy score : 0.9997582789460963\n",
      " f1 score : 0.9996782170741967\n"
     ]
    },
    {
     "name": "stderr",
     "output_type": "stream",
     "text": [
      "\r",
      " 10%|███████▊                                                                         | 26/270 [00:53<08:25,  2.07s/it]"
     ]
    },
    {
     "name": "stdout",
     "output_type": "stream",
     "text": [
      " balanced accuracy score : 0.9954725738396624\n",
      " f1 score : 0.9983883988769653\n"
     ]
    },
    {
     "name": "stderr",
     "output_type": "stream",
     "text": [
      "\r",
      " 10%|████████                                                                         | 27/270 [00:55<08:07,  2.01s/it]"
     ]
    },
    {
     "name": "stdout",
     "output_type": "stream",
     "text": [
      " balanced accuracy score : 0.998974358974359\n",
      " f1 score : 0.9993780218392014\n"
     ]
    },
    {
     "name": "stderr",
     "output_type": "stream",
     "text": [
      "\r",
      " 10%|████████▍                                                                        | 28/270 [00:57<08:14,  2.04s/it]"
     ]
    },
    {
     "name": "stdout",
     "output_type": "stream",
     "text": [
      " balanced accuracy score : 0.9989832970225128\n",
      " f1 score : 0.9987138027225059\n"
     ]
    },
    {
     "name": "stderr",
     "output_type": "stream",
     "text": [
      "\r",
      " 11%|████████▋                                                                        | 29/270 [00:59<08:04,  2.01s/it]"
     ]
    },
    {
     "name": "stdout",
     "output_type": "stream",
     "text": [
      " balanced accuracy score : 0.9992609016999262\n",
      " f1 score : 0.999676357307701\n"
     ]
    },
    {
     "name": "stderr",
     "output_type": "stream",
     "text": [
      "\r",
      " 11%|█████████                                                                        | 30/270 [01:01<07:58,  1.99s/it]"
     ]
    },
    {
     "name": "stdout",
     "output_type": "stream",
     "text": [
      " balanced accuracy score : 1.0\n",
      " f1 score : 1.0\n"
     ]
    },
    {
     "name": "stderr",
     "output_type": "stream",
     "text": [
      "\r",
      " 11%|█████████▎                                                                       | 31/270 [01:03<08:12,  2.06s/it]"
     ]
    },
    {
     "name": "stdout",
     "output_type": "stream",
     "text": [
      " balanced accuracy score : 0.9762588314386086\n",
      " f1 score : 0.9968330759529622\n"
     ]
    },
    {
     "name": "stderr",
     "output_type": "stream",
     "text": [
      "\r",
      " 12%|█████████▌                                                                       | 32/270 [01:06<08:25,  2.12s/it]"
     ]
    },
    {
     "name": "stdout",
     "output_type": "stream",
     "text": [
      " balanced accuracy score : 0.9868545856511196\n",
      " f1 score : 0.9951068290024901\n"
     ]
    },
    {
     "name": "stderr",
     "output_type": "stream",
     "text": [
      "\r",
      " 12%|█████████▉                                                                       | 33/270 [01:08<08:06,  2.05s/it]"
     ]
    },
    {
     "name": "stdout",
     "output_type": "stream",
     "text": [
      " balanced accuracy score : 0.9972677595628415\n",
      " f1 score : 0.999676747282617\n"
     ]
    },
    {
     "name": "stderr",
     "output_type": "stream",
     "text": [
      "\r",
      " 13%|██████████▏                                                                      | 34/270 [01:10<07:58,  2.03s/it]"
     ]
    },
    {
     "name": "stdout",
     "output_type": "stream",
     "text": [
      " balanced accuracy score : 0.9984261381012794\n",
      " f1 score : 0.9986880662330319\n"
     ]
    },
    {
     "name": "stderr",
     "output_type": "stream",
     "text": [
      "\r",
      " 13%|██████████▌                                                                      | 35/270 [01:12<08:04,  2.06s/it]"
     ]
    },
    {
     "name": "stdout",
     "output_type": "stream",
     "text": [
      " balanced accuracy score : 0.9978929417714553\n",
      " f1 score : 0.9977172317019714\n"
     ]
    },
    {
     "name": "stderr",
     "output_type": "stream",
     "text": [
      "\r",
      " 13%|██████████▊                                                                      | 36/270 [01:15<08:55,  2.29s/it]"
     ]
    },
    {
     "name": "stdout",
     "output_type": "stream",
     "text": [
      " balanced accuracy score : 0.997857122526237\n",
      " f1 score : 0.9993187150207697\n"
     ]
    },
    {
     "name": "stderr",
     "output_type": "stream",
     "text": [
      "\r",
      " 14%|███████████                                                                      | 37/270 [01:16<08:18,  2.14s/it]"
     ]
    },
    {
     "name": "stdout",
     "output_type": "stream",
     "text": [
      " balanced accuracy score : 0.9993950393224441\n",
      " f1 score : 0.9996823339727884\n"
     ]
    },
    {
     "name": "stderr",
     "output_type": "stream",
     "text": [
      "\r",
      " 14%|███████████▍                                                                     | 38/270 [01:18<07:59,  2.07s/it]"
     ]
    },
    {
     "name": "stdout",
     "output_type": "stream",
     "text": [
      " balanced accuracy score : 1.0\n",
      " f1 score : 1.0\n"
     ]
    },
    {
     "name": "stderr",
     "output_type": "stream",
     "text": [
      "\r",
      " 14%|███████████▋                                                                     | 39/270 [01:20<07:50,  2.03s/it]"
     ]
    },
    {
     "name": "stdout",
     "output_type": "stream",
     "text": [
      " balanced accuracy score : 1.0\n",
      " f1 score : 1.0\n"
     ]
    },
    {
     "name": "stderr",
     "output_type": "stream",
     "text": [
      "\r",
      " 15%|████████████                                                                     | 40/270 [01:22<07:45,  2.02s/it]"
     ]
    },
    {
     "name": "stdout",
     "output_type": "stream",
     "text": [
      " balanced accuracy score : 1.0\n",
      " f1 score : 1.0\n"
     ]
    },
    {
     "name": "stderr",
     "output_type": "stream",
     "text": [
      "\r",
      " 15%|████████████▎                                                                    | 41/270 [01:24<07:32,  1.98s/it]"
     ]
    },
    {
     "name": "stdout",
     "output_type": "stream",
     "text": [
      " balanced accuracy score : 0.9961466458658347\n",
      " f1 score : 0.9993558776167472\n"
     ]
    },
    {
     "name": "stderr",
     "output_type": "stream",
     "text": [
      "\r",
      " 16%|████████████▌                                                                    | 42/270 [01:27<08:19,  2.19s/it]"
     ]
    },
    {
     "name": "stdout",
     "output_type": "stream",
     "text": [
      " balanced accuracy score : 1.0\n",
      " f1 score : 1.0\n"
     ]
    },
    {
     "name": "stderr",
     "output_type": "stream",
     "text": [
      "\r",
      " 16%|████████████▉                                                                    | 43/270 [01:29<08:02,  2.13s/it]"
     ]
    },
    {
     "name": "stdout",
     "output_type": "stream",
     "text": [
      " balanced accuracy score : 0.9997705895847672\n",
      " f1 score : 0.9996938206039151\n"
     ]
    },
    {
     "name": "stderr",
     "output_type": "stream",
     "text": [
      "\r",
      " 16%|█████████████▏                                                                   | 44/270 [01:31<07:53,  2.09s/it]"
     ]
    },
    {
     "name": "stdout",
     "output_type": "stream",
     "text": [
      " balanced accuracy score : 0.9981378026070763\n",
      " f1 score : 0.9977515624513396\n"
     ]
    },
    {
     "name": "stderr",
     "output_type": "stream",
     "text": [
      "\r",
      " 17%|█████████████▌                                                                   | 45/270 [01:33<07:39,  2.04s/it]"
     ]
    },
    {
     "name": "stdout",
     "output_type": "stream",
     "text": [
      " balanced accuracy score : 1.0\n",
      " f1 score : 1.0\n"
     ]
    },
    {
     "name": "stderr",
     "output_type": "stream",
     "text": [
      "\r",
      " 17%|█████████████▊                                                                   | 46/270 [01:35<07:34,  2.03s/it]"
     ]
    },
    {
     "name": "stdout",
     "output_type": "stream",
     "text": [
      " balanced accuracy score : 0.9988814317673378\n",
      " f1 score : 0.9996788626942289\n"
     ]
    },
    {
     "name": "stderr",
     "output_type": "stream",
     "text": [
      "\r",
      " 17%|██████████████                                                                   | 47/270 [01:37<08:13,  2.21s/it]"
     ]
    },
    {
     "name": "stdout",
     "output_type": "stream",
     "text": [
      " balanced accuracy score : 1.0\n",
      " f1 score : 1.0\n"
     ]
    },
    {
     "name": "stderr",
     "output_type": "stream",
     "text": [
      "\r",
      " 18%|██████████████▍                                                                  | 48/270 [01:39<08:02,  2.17s/it]"
     ]
    },
    {
     "name": "stdout",
     "output_type": "stream",
     "text": [
      " balanced accuracy score : 0.9996673320026613\n",
      " f1 score : 0.9996791847794392\n"
     ]
    },
    {
     "name": "stderr",
     "output_type": "stream",
     "text": [
      "\r",
      " 18%|██████████████▋                                                                  | 49/270 [01:41<07:34,  2.06s/it]"
     ]
    },
    {
     "name": "stdout",
     "output_type": "stream",
     "text": [
      " balanced accuracy score : 1.0\n",
      " f1 score : 1.0\n"
     ]
    },
    {
     "name": "stderr",
     "output_type": "stream",
     "text": [
      "\r",
      " 19%|███████████████                                                                  | 50/270 [01:43<07:33,  2.06s/it]"
     ]
    },
    {
     "name": "stdout",
     "output_type": "stream",
     "text": [
      " balanced accuracy score : 0.998159865303787\n",
      " f1 score : 0.9977339446420825\n"
     ]
    },
    {
     "name": "stderr",
     "output_type": "stream",
     "text": [
      "\r",
      " 19%|███████████████▎                                                                 | 51/270 [01:46<08:03,  2.21s/it]"
     ]
    },
    {
     "name": "stdout",
     "output_type": "stream",
     "text": [
      " balanced accuracy score : 0.9915497595995522\n",
      " f1 score : 0.9972357799115709\n"
     ]
    },
    {
     "name": "stderr",
     "output_type": "stream",
     "text": [
      "\r",
      " 19%|███████████████▌                                                                 | 52/270 [01:48<07:43,  2.13s/it]"
     ]
    },
    {
     "name": "stdout",
     "output_type": "stream",
     "text": [
      " balanced accuracy score : 1.0\n",
      " f1 score : 1.0\n"
     ]
    },
    {
     "name": "stderr",
     "output_type": "stream",
     "text": [
      "\r",
      " 20%|███████████████▉                                                                 | 53/270 [01:50<07:38,  2.11s/it]"
     ]
    },
    {
     "name": "stdout",
     "output_type": "stream",
     "text": [
      " balanced accuracy score : 1.0\n",
      " f1 score : 1.0\n"
     ]
    },
    {
     "name": "stderr",
     "output_type": "stream",
     "text": [
      "\r",
      " 20%|████████████████▏                                                                | 54/270 [01:52<07:28,  2.08s/it]"
     ]
    },
    {
     "name": "stdout",
     "output_type": "stream",
     "text": [
      " balanced accuracy score : 0.914676173499703\n",
      " f1 score : 0.985878128265364\n"
     ]
    },
    {
     "name": "stderr",
     "output_type": "stream",
     "text": [
      "\r",
      " 20%|████████████████▌                                                                | 55/270 [01:54<07:14,  2.02s/it]"
     ]
    },
    {
     "name": "stdout",
     "output_type": "stream",
     "text": [
      " balanced accuracy score : 1.0\n",
      " f1 score : 1.0\n"
     ]
    },
    {
     "name": "stderr",
     "output_type": "stream",
     "text": [
      "\r",
      " 21%|████████████████▊                                                                | 56/270 [01:56<07:13,  2.02s/it]"
     ]
    },
    {
     "name": "stdout",
     "output_type": "stream",
     "text": [
      " balanced accuracy score : 0.9997685185185184\n",
      " f1 score : 0.9996776520690979\n"
     ]
    },
    {
     "name": "stderr",
     "output_type": "stream",
     "text": [
      "\r",
      " 21%|█████████████████                                                                | 57/270 [01:58<07:18,  2.06s/it]"
     ]
    },
    {
     "name": "stdout",
     "output_type": "stream",
     "text": [
      " balanced accuracy score : 1.0\n",
      " f1 score : 1.0\n"
     ]
    },
    {
     "name": "stderr",
     "output_type": "stream",
     "text": [
      "\r",
      " 21%|█████████████████▍                                                               | 58/270 [02:01<08:23,  2.37s/it]"
     ]
    },
    {
     "name": "stdout",
     "output_type": "stream",
     "text": [
      " balanced accuracy score : 0.9992848598522905\n",
      " f1 score : 0.9995462794918331\n"
     ]
    },
    {
     "name": "stderr",
     "output_type": "stream",
     "text": [
      "\r",
      " 22%|█████████████████▋                                                               | 59/270 [02:03<07:49,  2.23s/it]"
     ]
    },
    {
     "name": "stdout",
     "output_type": "stream",
     "text": [
      " balanced accuracy score : 0.9997713763145862\n",
      " f1 score : 0.9996784139477904\n"
     ]
    },
    {
     "name": "stderr",
     "output_type": "stream",
     "text": [
      "\r",
      " 22%|██████████████████                                                               | 60/270 [02:05<07:25,  2.12s/it]"
     ]
    },
    {
     "name": "stdout",
     "output_type": "stream",
     "text": [
      " balanced accuracy score : 0.9907283661877715\n",
      " f1 score : 0.9994070560332049\n"
     ]
    },
    {
     "name": "stderr",
     "output_type": "stream",
     "text": [
      "\r",
      " 23%|██████████████████▎                                                              | 61/270 [02:07<07:09,  2.06s/it]"
     ]
    },
    {
     "name": "stdout",
     "output_type": "stream",
     "text": [
      " balanced accuracy score : 1.0\n",
      " f1 score : 1.0\n"
     ]
    },
    {
     "name": "stderr",
     "output_type": "stream",
     "text": [
      "\r",
      " 23%|██████████████████▌                                                              | 62/270 [02:09<07:05,  2.04s/it]"
     ]
    },
    {
     "name": "stdout",
     "output_type": "stream",
     "text": [
      " balanced accuracy score : 1.0\n",
      " f1 score : 1.0\n"
     ]
    },
    {
     "name": "stderr",
     "output_type": "stream",
     "text": [
      "\r",
      " 23%|██████████████████▉                                                              | 63/270 [02:11<07:07,  2.06s/it]"
     ]
    },
    {
     "name": "stdout",
     "output_type": "stream",
     "text": [
      " balanced accuracy score : 0.9991661547473711\n",
      " f1 score : 0.9990254581970286\n"
     ]
    },
    {
     "name": "stderr",
     "output_type": "stream",
     "text": [
      "\r",
      " 24%|███████████████████▏                                                             | 64/270 [02:13<06:53,  2.00s/it]"
     ]
    },
    {
     "name": "stdout",
     "output_type": "stream",
     "text": [
      " balanced accuracy score : 1.0\n",
      " f1 score : 1.0\n"
     ]
    },
    {
     "name": "stderr",
     "output_type": "stream",
     "text": [
      "\r",
      " 24%|███████████████████▌                                                             | 65/270 [02:15<07:03,  2.07s/it]"
     ]
    },
    {
     "name": "stdout",
     "output_type": "stream",
     "text": [
      " balanced accuracy score : 0.9987029831387808\n",
      " f1 score : 0.9993567063236208\n"
     ]
    },
    {
     "name": "stderr",
     "output_type": "stream",
     "text": [
      "\r",
      " 24%|███████████████████▊                                                             | 66/270 [02:17<06:54,  2.03s/it]"
     ]
    },
    {
     "name": "stdout",
     "output_type": "stream",
     "text": [
      " balanced accuracy score : 1.0\n",
      " f1 score : 1.0\n"
     ]
    },
    {
     "name": "stderr",
     "output_type": "stream",
     "text": [
      "\r",
      " 25%|████████████████████                                                             | 67/270 [02:19<06:38,  1.96s/it]"
     ]
    },
    {
     "name": "stdout",
     "output_type": "stream",
     "text": [
      " balanced accuracy score : 0.999706572769953\n",
      " f1 score : 0.999677964248391\n"
     ]
    },
    {
     "name": "stderr",
     "output_type": "stream",
     "text": [
      "\r",
      " 25%|████████████████████▍                                                            | 68/270 [02:20<06:28,  1.92s/it]"
     ]
    },
    {
     "name": "stdout",
     "output_type": "stream",
     "text": [
      " balanced accuracy score : 0.9516003122560499\n",
      " f1 score : 0.9993579454253612\n"
     ]
    },
    {
     "name": "stderr",
     "output_type": "stream",
     "text": [
      "\r",
      " 26%|████████████████████▋                                                            | 69/270 [02:23<07:18,  2.18s/it]"
     ]
    },
    {
     "name": "stdout",
     "output_type": "stream",
     "text": [
      " balanced accuracy score : 1.0\n",
      " f1 score : 1.0\n"
     ]
    },
    {
     "name": "stderr",
     "output_type": "stream",
     "text": [
      "\r",
      " 26%|█████████████████████                                                            | 70/270 [02:25<07:15,  2.18s/it]"
     ]
    },
    {
     "name": "stdout",
     "output_type": "stream",
     "text": [
      " balanced accuracy score : 0.9932142444900715\n",
      " f1 score : 0.9972353998254536\n"
     ]
    },
    {
     "name": "stderr",
     "output_type": "stream",
     "text": [
      "\r",
      " 26%|█████████████████████▎                                                           | 71/270 [02:27<07:04,  2.13s/it]"
     ]
    },
    {
     "name": "stdout",
     "output_type": "stream",
     "text": [
      " balanced accuracy score : 0.9906475179855542\n",
      " f1 score : 0.996172313385245\n"
     ]
    },
    {
     "name": "stderr",
     "output_type": "stream",
     "text": [
      "\r",
      " 27%|█████████████████████▌                                                           | 72/270 [02:30<07:03,  2.14s/it]"
     ]
    },
    {
     "name": "stdout",
     "output_type": "stream",
     "text": [
      " balanced accuracy score : 0.9669530222119032\n",
      " f1 score : 0.9944589016058571\n"
     ]
    },
    {
     "name": "stderr",
     "output_type": "stream",
     "text": [
      "\r",
      " 27%|█████████████████████▉                                                           | 73/270 [02:32<07:35,  2.31s/it]"
     ]
    },
    {
     "name": "stdout",
     "output_type": "stream",
     "text": [
      " balanced accuracy score : 0.970655688268867\n",
      " f1 score : 0.9671362341728484\n"
     ]
    },
    {
     "name": "stderr",
     "output_type": "stream",
     "text": [
      "\r",
      " 27%|██████████████████████▏                                                          | 74/270 [02:35<07:33,  2.31s/it]"
     ]
    },
    {
     "name": "stdout",
     "output_type": "stream",
     "text": [
      " balanced accuracy score : 0.9083159940279515\n",
      " f1 score : 0.9889767120512358\n"
     ]
    },
    {
     "name": "stderr",
     "output_type": "stream",
     "text": [
      "\r",
      " 28%|██████████████████████▌                                                          | 75/270 [02:36<07:07,  2.19s/it]"
     ]
    },
    {
     "name": "stdout",
     "output_type": "stream",
     "text": [
      " balanced accuracy score : 1.0\n",
      " f1 score : 1.0\n"
     ]
    },
    {
     "name": "stderr",
     "output_type": "stream",
     "text": [
      "\r",
      " 28%|██████████████████████▊                                                          | 76/270 [02:38<06:53,  2.13s/it]"
     ]
    },
    {
     "name": "stdout",
     "output_type": "stream",
     "text": [
      " balanced accuracy score : 0.9997677119628339\n",
      " f1 score : 0.9996772321825663\n"
     ]
    },
    {
     "name": "stderr",
     "output_type": "stream",
     "text": [
      "\r",
      " 29%|███████████████████████                                                          | 77/270 [02:40<06:43,  2.09s/it]"
     ]
    },
    {
     "name": "stdout",
     "output_type": "stream",
     "text": [
      " balanced accuracy score : 0.9543843201593765\n",
      " f1 score : 0.9993577392421323\n"
     ]
    },
    {
     "name": "stderr",
     "output_type": "stream",
     "text": [
      "\r",
      " 29%|███████████████████████▍                                                         | 78/270 [02:42<06:28,  2.02s/it]"
     ]
    },
    {
     "name": "stdout",
     "output_type": "stream",
     "text": [
      " balanced accuracy score : 0.9743589743589745\n",
      " f1 score : 0.9986892404261334\n"
     ]
    },
    {
     "name": "stderr",
     "output_type": "stream",
     "text": [
      "\r",
      " 29%|███████████████████████▋                                                         | 79/270 [02:45<06:43,  2.11s/it]"
     ]
    },
    {
     "name": "stdout",
     "output_type": "stream",
     "text": [
      " balanced accuracy score : 0.999892055267703\n",
      " f1 score : 0.9996877717118428\n"
     ]
    },
    {
     "name": "stderr",
     "output_type": "stream",
     "text": [
      "\r",
      " 30%|████████████████████████                                                         | 80/270 [02:47<06:42,  2.12s/it]"
     ]
    },
    {
     "name": "stdout",
     "output_type": "stream",
     "text": [
      " balanced accuracy score : 1.0\n",
      " f1 score : 1.0\n"
     ]
    },
    {
     "name": "stderr",
     "output_type": "stream",
     "text": [
      "\r",
      " 30%|████████████████████████▎                                                        | 81/270 [02:50<07:25,  2.36s/it]"
     ]
    },
    {
     "name": "stdout",
     "output_type": "stream",
     "text": [
      " balanced accuracy score : 1.0\n",
      " f1 score : 1.0\n"
     ]
    },
    {
     "name": "stderr",
     "output_type": "stream",
     "text": [
      "\r",
      " 30%|████████████████████████▌                                                        | 82/270 [02:52<06:56,  2.21s/it]"
     ]
    },
    {
     "name": "stdout",
     "output_type": "stream",
     "text": [
      " balanced accuracy score : 0.9992072929052714\n",
      " f1 score : 0.99936370441664\n"
     ]
    },
    {
     "name": "stderr",
     "output_type": "stream",
     "text": [
      "\r",
      " 31%|████████████████████████▉                                                        | 83/270 [02:53<06:30,  2.09s/it]"
     ]
    },
    {
     "name": "stdout",
     "output_type": "stream",
     "text": [
      " balanced accuracy score : 0.9974339730379893\n",
      " f1 score : 0.9988204116541513\n"
     ]
    },
    {
     "name": "stderr",
     "output_type": "stream",
     "text": [
      "\r",
      " 31%|█████████████████████████▏                                                       | 84/270 [02:55<06:28,  2.09s/it]"
     ]
    },
    {
     "name": "stdout",
     "output_type": "stream",
     "text": [
      " balanced accuracy score : 0.9891080509767791\n",
      " f1 score : 0.99702152861384\n"
     ]
    },
    {
     "name": "stderr",
     "output_type": "stream",
     "text": [
      "\r",
      " 31%|█████████████████████████▌                                                       | 85/270 [02:57<05:42,  1.85s/it]"
     ]
    },
    {
     "name": "stdout",
     "output_type": "stream",
     "text": [
      " balanced accuracy score : 1.0\n",
      " f1 score : 1.0\n"
     ]
    },
    {
     "name": "stderr",
     "output_type": "stream",
     "text": [
      "\r",
      " 32%|█████████████████████████▊                                                       | 86/270 [02:59<06:11,  2.02s/it]"
     ]
    },
    {
     "name": "stdout",
     "output_type": "stream",
     "text": [
      " balanced accuracy score : 0.9921718419311351\n",
      " f1 score : 0.9919693854178435\n"
     ]
    },
    {
     "name": "stderr",
     "output_type": "stream",
     "text": [
      "\r",
      " 32%|██████████████████████████                                                       | 87/270 [03:01<06:12,  2.03s/it]"
     ]
    },
    {
     "name": "stdout",
     "output_type": "stream",
     "text": [
      " balanced accuracy score : 0.9976284467071702\n",
      " f1 score : 0.999034173664437\n"
     ]
    },
    {
     "name": "stderr",
     "output_type": "stream",
     "text": [
      "\r",
      " 33%|██████████████████████████▍                                                      | 88/270 [03:03<06:08,  2.03s/it]"
     ]
    },
    {
     "name": "stdout",
     "output_type": "stream",
     "text": [
      " balanced accuracy score : 1.0\n",
      " f1 score : 1.0\n"
     ]
    },
    {
     "name": "stderr",
     "output_type": "stream",
     "text": [
      "\r",
      " 33%|██████████████████████████▋                                                      | 89/270 [03:05<05:48,  1.93s/it]"
     ]
    },
    {
     "name": "stdout",
     "output_type": "stream",
     "text": [
      " balanced accuracy score : 0.9758033294618661\n",
      " f1 score : 0.9972572933265536\n"
     ]
    },
    {
     "name": "stderr",
     "output_type": "stream",
     "text": [
      "\r",
      " 33%|███████████████████████████                                                      | 90/270 [03:06<05:23,  1.80s/it]"
     ]
    },
    {
     "name": "stdout",
     "output_type": "stream",
     "text": [
      " balanced accuracy score : 1.0\n",
      " f1 score : 1.0\n"
     ]
    },
    {
     "name": "stderr",
     "output_type": "stream",
     "text": [
      "\r",
      " 34%|███████████████████████████▎                                                     | 91/270 [03:08<05:25,  1.82s/it]"
     ]
    },
    {
     "name": "stdout",
     "output_type": "stream",
     "text": [
      " balanced accuracy score : 1.0\n",
      " f1 score : 1.0\n"
     ]
    },
    {
     "name": "stderr",
     "output_type": "stream",
     "text": [
      "\r",
      " 34%|███████████████████████████▌                                                     | 92/270 [03:10<05:39,  1.91s/it]"
     ]
    },
    {
     "name": "stdout",
     "output_type": "stream",
     "text": [
      " balanced accuracy score : 0.9950164348526784\n",
      " f1 score : 0.9943049373576905\n"
     ]
    },
    {
     "name": "stderr",
     "output_type": "stream",
     "text": [
      "\r",
      " 34%|███████████████████████████▉                                                     | 93/270 [03:12<04:59,  1.69s/it]"
     ]
    },
    {
     "name": "stdout",
     "output_type": "stream",
     "text": [
      " balanced accuracy score : 1.0\n",
      " f1 score : 1.0\n"
     ]
    },
    {
     "name": "stderr",
     "output_type": "stream",
     "text": [
      "\r",
      " 35%|████████████████████████████▏                                                    | 94/270 [03:13<04:33,  1.55s/it]"
     ]
    },
    {
     "name": "stdout",
     "output_type": "stream",
     "text": [
      " balanced accuracy score : 1.0\n",
      " f1 score : 1.0\n"
     ]
    },
    {
     "name": "stderr",
     "output_type": "stream",
     "text": [
      "\r",
      " 35%|████████████████████████████▌                                                    | 95/270 [03:14<04:12,  1.44s/it]"
     ]
    },
    {
     "name": "stdout",
     "output_type": "stream",
     "text": [
      " balanced accuracy score : 1.0\n",
      " f1 score : 1.0\n"
     ]
    },
    {
     "name": "stderr",
     "output_type": "stream",
     "text": [
      "\r",
      " 36%|████████████████████████████▊                                                    | 96/270 [03:15<03:47,  1.31s/it]"
     ]
    },
    {
     "name": "stdout",
     "output_type": "stream",
     "text": [
      " balanced accuracy score : 1.0\n",
      " f1 score : 1.0\n"
     ]
    },
    {
     "name": "stderr",
     "output_type": "stream",
     "text": [
      "\r",
      " 36%|█████████████████████████████                                                    | 97/270 [03:16<03:42,  1.29s/it]"
     ]
    },
    {
     "name": "stdout",
     "output_type": "stream",
     "text": [
      " balanced accuracy score : 0.9826524854656888\n",
      " f1 score : 0.9974991324328152\n"
     ]
    },
    {
     "name": "stderr",
     "output_type": "stream",
     "text": [
      "\r",
      " 36%|█████████████████████████████▍                                                   | 98/270 [03:17<03:35,  1.25s/it]"
     ]
    },
    {
     "name": "stdout",
     "output_type": "stream",
     "text": [
      " balanced accuracy score : 1.0\n",
      " f1 score : 1.0\n"
     ]
    },
    {
     "name": "stderr",
     "output_type": "stream",
     "text": [
      "\r",
      " 37%|█████████████████████████████▋                                                   | 99/270 [03:19<03:29,  1.23s/it]"
     ]
    },
    {
     "name": "stdout",
     "output_type": "stream",
     "text": [
      " balanced accuracy score : 1.0\n",
      " f1 score : 1.0\n"
     ]
    },
    {
     "name": "stderr",
     "output_type": "stream",
     "text": [
      "\r",
      " 37%|█████████████████████████████▋                                                  | 100/270 [03:20<03:33,  1.26s/it]"
     ]
    },
    {
     "name": "stdout",
     "output_type": "stream",
     "text": [
      " balanced accuracy score : 0.9996128532713898\n",
      " f1 score : 0.9994882858466506\n"
     ]
    },
    {
     "name": "stderr",
     "output_type": "stream",
     "text": [
      "\r",
      " 37%|█████████████████████████████▉                                                  | 101/270 [03:21<03:27,  1.23s/it]"
     ]
    },
    {
     "name": "stdout",
     "output_type": "stream",
     "text": [
      " balanced accuracy score : 1.0\n",
      " f1 score : 1.0\n"
     ]
    },
    {
     "name": "stderr",
     "output_type": "stream",
     "text": [
      "\r",
      " 38%|██████████████████████████████▏                                                 | 102/270 [03:22<03:30,  1.25s/it]"
     ]
    },
    {
     "name": "stdout",
     "output_type": "stream",
     "text": [
      " balanced accuracy score : 0.9969350114547325\n",
      " f1 score : 0.9976966038135294\n"
     ]
    },
    {
     "name": "stderr",
     "output_type": "stream",
     "text": [
      "\r",
      " 38%|██████████████████████████████▌                                                 | 103/270 [03:23<03:18,  1.19s/it]"
     ]
    },
    {
     "name": "stdout",
     "output_type": "stream",
     "text": [
      " balanced accuracy score : 1.0\n",
      " f1 score : 1.0\n"
     ]
    },
    {
     "name": "stderr",
     "output_type": "stream",
     "text": [
      "\r",
      " 39%|██████████████████████████████▊                                                 | 104/270 [03:25<03:12,  1.16s/it]"
     ]
    },
    {
     "name": "stdout",
     "output_type": "stream",
     "text": [
      " balanced accuracy score : 0.9979035639412999\n",
      " f1 score : 0.9994646200405222\n"
     ]
    },
    {
     "name": "stderr",
     "output_type": "stream",
     "text": [
      "\r",
      " 39%|███████████████████████████████                                                 | 105/270 [03:26<03:09,  1.15s/it]"
     ]
    },
    {
     "name": "stdout",
     "output_type": "stream",
     "text": [
      " balanced accuracy score : 0.9990167158308751\n",
      " f1 score : 0.9994621874081794\n"
     ]
    },
    {
     "name": "stderr",
     "output_type": "stream",
     "text": [
      "\r",
      " 39%|███████████████████████████████▍                                                | 106/270 [03:27<03:04,  1.13s/it]"
     ]
    },
    {
     "name": "stdout",
     "output_type": "stream",
     "text": [
      " balanced accuracy score : 1.0\n",
      " f1 score : 1.0\n"
     ]
    },
    {
     "name": "stderr",
     "output_type": "stream",
     "text": [
      "\r",
      " 40%|███████████████████████████████▋                                                | 107/270 [03:28<03:05,  1.14s/it]"
     ]
    },
    {
     "name": "stdout",
     "output_type": "stream",
     "text": [
      " balanced accuracy score : 0.9995596653456627\n",
      " f1 score : 0.9994444328410231\n"
     ]
    },
    {
     "name": "stderr",
     "output_type": "stream",
     "text": [
      "\r",
      " 40%|████████████████████████████████                                                | 108/270 [03:29<03:04,  1.14s/it]"
     ]
    },
    {
     "name": "stdout",
     "output_type": "stream",
     "text": [
      " balanced accuracy score : 1.0\n",
      " f1 score : 1.0\n"
     ]
    },
    {
     "name": "stderr",
     "output_type": "stream",
     "text": [
      "\r",
      " 40%|████████████████████████████████▎                                               | 109/270 [03:30<03:04,  1.15s/it]"
     ]
    },
    {
     "name": "stdout",
     "output_type": "stream",
     "text": [
      " balanced accuracy score : 0.9822557471264367\n",
      " f1 score : 0.9980148277770337\n"
     ]
    },
    {
     "name": "stderr",
     "output_type": "stream",
     "text": [
      "\r",
      " 41%|████████████████████████████████▌                                               | 110/270 [03:31<03:06,  1.16s/it]"
     ]
    },
    {
     "name": "stdout",
     "output_type": "stream",
     "text": [
      " balanced accuracy score : 1.0\n",
      " f1 score : 1.0\n"
     ]
    },
    {
     "name": "stderr",
     "output_type": "stream",
     "text": [
      "\r",
      " 41%|████████████████████████████████▉                                               | 111/270 [03:33<03:14,  1.22s/it]"
     ]
    },
    {
     "name": "stdout",
     "output_type": "stream",
     "text": [
      " balanced accuracy score : 0.9724161253903025\n",
      " f1 score : 0.9876204585922368\n"
     ]
    },
    {
     "name": "stderr",
     "output_type": "stream",
     "text": [
      "\r",
      " 41%|█████████████████████████████████▏                                              | 112/270 [03:34<03:14,  1.23s/it]"
     ]
    },
    {
     "name": "stdout",
     "output_type": "stream",
     "text": [
      " balanced accuracy score : 1.0\n",
      " f1 score : 1.0\n"
     ]
    },
    {
     "name": "stderr",
     "output_type": "stream",
     "text": [
      "\r",
      " 42%|█████████████████████████████████▍                                              | 113/270 [03:35<03:09,  1.21s/it]"
     ]
    },
    {
     "name": "stdout",
     "output_type": "stream",
     "text": [
      " balanced accuracy score : 0.9990530303030303\n",
      " f1 score : 0.9994420381001452\n"
     ]
    },
    {
     "name": "stderr",
     "output_type": "stream",
     "text": [
      "\r",
      " 42%|█████████████████████████████████▊                                              | 114/270 [03:36<03:03,  1.18s/it]"
     ]
    },
    {
     "name": "stdout",
     "output_type": "stream",
     "text": [
      " balanced accuracy score : 1.0\n",
      " f1 score : 1.0\n"
     ]
    },
    {
     "name": "stderr",
     "output_type": "stream",
     "text": [
      "\r",
      " 43%|██████████████████████████████████                                              | 115/270 [03:37<03:01,  1.17s/it]"
     ]
    },
    {
     "name": "stdout",
     "output_type": "stream",
     "text": [
      " balanced accuracy score : 0.9854411764705882\n",
      " f1 score : 0.9988938053097345\n"
     ]
    },
    {
     "name": "stderr",
     "output_type": "stream",
     "text": [
      "\r",
      " 43%|██████████████████████████████████▎                                             | 116/270 [03:39<03:01,  1.18s/it]"
     ]
    },
    {
     "name": "stdout",
     "output_type": "stream",
     "text": [
      " balanced accuracy score : 0.9988738738738738\n",
      " f1 score : 0.998984029954478\n"
     ]
    },
    {
     "name": "stderr",
     "output_type": "stream",
     "text": [
      "\r",
      " 43%|██████████████████████████████████▋                                             | 117/270 [03:40<02:51,  1.12s/it]"
     ]
    },
    {
     "name": "stdout",
     "output_type": "stream",
     "text": [
      " balanced accuracy score : 1.0\n",
      " f1 score : 1.0\n"
     ]
    },
    {
     "name": "stderr",
     "output_type": "stream",
     "text": [
      "\r",
      " 44%|██████████████████████████████████▉                                             | 118/270 [03:41<02:52,  1.14s/it]"
     ]
    },
    {
     "name": "stdout",
     "output_type": "stream",
     "text": [
      " balanced accuracy score : 0.9988116458704694\n",
      " f1 score : 0.998990405661754\n"
     ]
    },
    {
     "name": "stderr",
     "output_type": "stream",
     "text": [
      "\r",
      " 44%|███████████████████████████████████▎                                            | 119/270 [03:42<03:07,  1.24s/it]"
     ]
    },
    {
     "name": "stdout",
     "output_type": "stream",
     "text": [
      " balanced accuracy score : 0.9966846343413364\n",
      " f1 score : 0.9971876908651042\n"
     ]
    },
    {
     "name": "stderr",
     "output_type": "stream",
     "text": [
      "\r",
      " 44%|███████████████████████████████████▌                                            | 120/270 [03:43<03:04,  1.23s/it]"
     ]
    },
    {
     "name": "stdout",
     "output_type": "stream",
     "text": [
      " balanced accuracy score : 0.9995929995929996\n",
      " f1 score : 0.9994374879369425\n"
     ]
    },
    {
     "name": "stderr",
     "output_type": "stream",
     "text": [
      "\r",
      " 45%|███████████████████████████████████▊                                            | 121/270 [03:45<03:01,  1.22s/it]"
     ]
    },
    {
     "name": "stdout",
     "output_type": "stream",
     "text": [
      " balanced accuracy score : 1.0\n",
      " f1 score : 1.0\n"
     ]
    },
    {
     "name": "stderr",
     "output_type": "stream",
     "text": [
      "\r",
      " 45%|████████████████████████████████████▏                                           | 122/270 [03:46<02:55,  1.19s/it]"
     ]
    },
    {
     "name": "stdout",
     "output_type": "stream",
     "text": [
      " balanced accuracy score : 1.0\n",
      " f1 score : 1.0\n"
     ]
    },
    {
     "name": "stderr",
     "output_type": "stream",
     "text": [
      "\r",
      " 46%|████████████████████████████████████▍                                           | 123/270 [03:47<02:52,  1.17s/it]"
     ]
    },
    {
     "name": "stdout",
     "output_type": "stream",
     "text": [
      " balanced accuracy score : 0.9914095241939281\n",
      " f1 score : 0.9983261904958456\n"
     ]
    },
    {
     "name": "stderr",
     "output_type": "stream",
     "text": [
      "\r",
      " 46%|████████████████████████████████████▋                                           | 124/270 [03:48<02:53,  1.19s/it]"
     ]
    },
    {
     "name": "stdout",
     "output_type": "stream",
     "text": [
      " balanced accuracy score : 0.9992424242424242\n",
      " f1 score : 0.9989822778571862\n"
     ]
    },
    {
     "name": "stderr",
     "output_type": "stream",
     "text": [
      "\r",
      " 46%|█████████████████████████████████████                                           | 125/270 [03:49<02:50,  1.18s/it]"
     ]
    },
    {
     "name": "stdout",
     "output_type": "stream",
     "text": [
      " balanced accuracy score : 1.0\n",
      " f1 score : 1.0\n"
     ]
    },
    {
     "name": "stderr",
     "output_type": "stream",
     "text": [
      "\r",
      " 47%|█████████████████████████████████████▎                                          | 126/270 [03:50<02:50,  1.19s/it]"
     ]
    },
    {
     "name": "stdout",
     "output_type": "stream",
     "text": [
      " balanced accuracy score : 0.9718056292295575\n",
      " f1 score : 0.9921258327764615\n"
     ]
    },
    {
     "name": "stderr",
     "output_type": "stream",
     "text": [
      "\r",
      " 47%|█████████████████████████████████████▋                                          | 127/270 [03:52<02:44,  1.15s/it]"
     ]
    },
    {
     "name": "stdout",
     "output_type": "stream",
     "text": [
      " balanced accuracy score : 1.0\n",
      " f1 score : 1.0\n"
     ]
    },
    {
     "name": "stderr",
     "output_type": "stream",
     "text": [
      "\r",
      " 47%|█████████████████████████████████████▉                                          | 128/270 [03:53<02:48,  1.19s/it]"
     ]
    },
    {
     "name": "stdout",
     "output_type": "stream",
     "text": [
      " balanced accuracy score : 1.0\n",
      " f1 score : 1.0\n"
     ]
    },
    {
     "name": "stderr",
     "output_type": "stream",
     "text": [
      "\r",
      " 48%|██████████████████████████████████████▏                                         | 129/270 [03:54<02:48,  1.19s/it]"
     ]
    },
    {
     "name": "stdout",
     "output_type": "stream",
     "text": [
      " balanced accuracy score : 0.9995047052996533\n",
      " f1 score : 0.9994456771813128\n"
     ]
    },
    {
     "name": "stderr",
     "output_type": "stream",
     "text": [
      "\r",
      " 48%|██████████████████████████████████████▌                                         | 130/270 [03:55<02:44,  1.17s/it]"
     ]
    },
    {
     "name": "stdout",
     "output_type": "stream",
     "text": [
      " balanced accuracy score : 0.9990138067061144\n",
      " f1 score : 0.9995096736923176\n"
     ]
    },
    {
     "name": "stderr",
     "output_type": "stream",
     "text": [
      "\r",
      " 49%|██████████████████████████████████████▊                                         | 131/270 [03:56<02:43,  1.17s/it]"
     ]
    },
    {
     "name": "stdout",
     "output_type": "stream",
     "text": [
      " balanced accuracy score : 1.0\n",
      " f1 score : 1.0\n"
     ]
    },
    {
     "name": "stderr",
     "output_type": "stream",
     "text": [
      "\r",
      " 49%|███████████████████████████████████████                                         | 132/270 [03:58<02:42,  1.18s/it]"
     ]
    },
    {
     "name": "stdout",
     "output_type": "stream",
     "text": [
      " balanced accuracy score : 1.0\n",
      " f1 score : 1.0\n"
     ]
    },
    {
     "name": "stderr",
     "output_type": "stream",
     "text": [
      "\r",
      " 49%|███████████████████████████████████████▍                                        | 133/270 [03:59<02:41,  1.18s/it]"
     ]
    },
    {
     "name": "stdout",
     "output_type": "stream",
     "text": [
      " balanced accuracy score : 0.9993894993894994\n",
      " f1 score : 0.9994557920945718\n"
     ]
    },
    {
     "name": "stderr",
     "output_type": "stream",
     "text": [
      "\r",
      " 50%|███████████████████████████████████████▋                                        | 134/270 [04:00<02:40,  1.18s/it]"
     ]
    },
    {
     "name": "stdout",
     "output_type": "stream",
     "text": [
      " balanced accuracy score : 1.0\n",
      " f1 score : 1.0\n"
     ]
    },
    {
     "name": "stderr",
     "output_type": "stream",
     "text": [
      "\r",
      " 50%|████████████████████████████████████████                                        | 135/270 [04:01<02:39,  1.18s/it]"
     ]
    },
    {
     "name": "stdout",
     "output_type": "stream",
     "text": [
      " balanced accuracy score : 0.9990892531876138\n",
      " f1 score : 0.9988880534886602\n"
     ]
    },
    {
     "name": "stderr",
     "output_type": "stream",
     "text": [
      "\r",
      " 50%|████████████████████████████████████████▎                                       | 136/270 [04:02<02:40,  1.20s/it]"
     ]
    },
    {
     "name": "stdout",
     "output_type": "stream",
     "text": [
      " balanced accuracy score : 0.9992907801418439\n",
      " f1 score : 0.9989738377195122\n"
     ]
    },
    {
     "name": "stderr",
     "output_type": "stream",
     "text": [
      "\r",
      " 51%|████████████████████████████████████████▌                                       | 137/270 [04:03<02:35,  1.17s/it]"
     ]
    },
    {
     "name": "stdout",
     "output_type": "stream",
     "text": [
      " balanced accuracy score : 1.0\n",
      " f1 score : 1.0\n"
     ]
    },
    {
     "name": "stderr",
     "output_type": "stream",
     "text": [
      "\r",
      " 51%|████████████████████████████████████████▉                                       | 138/270 [04:04<02:30,  1.14s/it]"
     ]
    },
    {
     "name": "stdout",
     "output_type": "stream",
     "text": [
      " balanced accuracy score : 1.0\n",
      " f1 score : 1.0\n"
     ]
    },
    {
     "name": "stderr",
     "output_type": "stream",
     "text": [
      "\r",
      " 51%|█████████████████████████████████████████▏                                      | 139/270 [04:06<02:34,  1.18s/it]"
     ]
    },
    {
     "name": "stdout",
     "output_type": "stream",
     "text": [
      " balanced accuracy score : 0.9996246246246246\n",
      " f1 score : 0.999491095616204\n"
     ]
    },
    {
     "name": "stderr",
     "output_type": "stream",
     "text": [
      "\r",
      " 52%|█████████████████████████████████████████▍                                      | 140/270 [04:07<02:35,  1.20s/it]"
     ]
    },
    {
     "name": "stdout",
     "output_type": "stream",
     "text": [
      " balanced accuracy score : 1.0\n",
      " f1 score : 1.0\n"
     ]
    },
    {
     "name": "stderr",
     "output_type": "stream",
     "text": [
      "\r",
      " 52%|█████████████████████████████████████████▊                                      | 141/270 [04:08<02:37,  1.22s/it]"
     ]
    },
    {
     "name": "stdout",
     "output_type": "stream",
     "text": [
      " balanced accuracy score : 0.9977715955375951\n",
      " f1 score : 0.9984679378740983\n"
     ]
    },
    {
     "name": "stderr",
     "output_type": "stream",
     "text": [
      "\r",
      " 53%|██████████████████████████████████████████                                      | 142/270 [04:10<02:43,  1.28s/it]"
     ]
    },
    {
     "name": "stdout",
     "output_type": "stream",
     "text": [
      " balanced accuracy score : 0.9941116397775954\n",
      " f1 score : 0.9979533963387687\n"
     ]
    },
    {
     "name": "stderr",
     "output_type": "stream",
     "text": [
      "\r",
      " 53%|██████████████████████████████████████████▎                                     | 143/270 [04:11<02:39,  1.26s/it]"
     ]
    },
    {
     "name": "stdout",
     "output_type": "stream",
     "text": [
      " balanced accuracy score : 0.9954234834030231\n",
      " f1 score : 0.9983294253918799\n"
     ]
    },
    {
     "name": "stderr",
     "output_type": "stream",
     "text": [
      "\r",
      " 53%|██████████████████████████████████████████▋                                     | 144/270 [04:12<02:33,  1.22s/it]"
     ]
    },
    {
     "name": "stdout",
     "output_type": "stream",
     "text": [
      " balanced accuracy score : 1.0\n",
      " f1 score : 1.0\n"
     ]
    },
    {
     "name": "stderr",
     "output_type": "stream",
     "text": [
      "\r",
      " 54%|██████████████████████████████████████████▉                                     | 145/270 [04:13<02:25,  1.17s/it]"
     ]
    },
    {
     "name": "stdout",
     "output_type": "stream",
     "text": [
      " balanced accuracy score : 1.0\n",
      " f1 score : 1.0\n"
     ]
    },
    {
     "name": "stderr",
     "output_type": "stream",
     "text": [
      "\r",
      " 54%|███████████████████████████████████████████▎                                    | 146/270 [04:14<02:31,  1.22s/it]"
     ]
    },
    {
     "name": "stdout",
     "output_type": "stream",
     "text": [
      " balanced accuracy score : 0.999611046285492\n",
      " f1 score : 0.999443538931375\n"
     ]
    },
    {
     "name": "stderr",
     "output_type": "stream",
     "text": [
      "\r",
      " 54%|███████████████████████████████████████████▌                                    | 147/270 [04:16<02:28,  1.21s/it]"
     ]
    },
    {
     "name": "stdout",
     "output_type": "stream",
     "text": [
      " balanced accuracy score : 1.0\n",
      " f1 score : 1.0\n"
     ]
    },
    {
     "name": "stderr",
     "output_type": "stream",
     "text": [
      "\r",
      " 55%|███████████████████████████████████████████▊                                    | 148/270 [04:17<02:23,  1.18s/it]"
     ]
    },
    {
     "name": "stdout",
     "output_type": "stream",
     "text": [
      " balanced accuracy score : 0.9864944562396792\n",
      " f1 score : 0.9972816823464306\n"
     ]
    },
    {
     "name": "stderr",
     "output_type": "stream",
     "text": [
      "\r",
      " 55%|████████████████████████████████████████████▏                                   | 149/270 [04:18<02:22,  1.18s/it]"
     ]
    },
    {
     "name": "stdout",
     "output_type": "stream",
     "text": [
      " balanced accuracy score : 1.0\n",
      " f1 score : 1.0\n"
     ]
    },
    {
     "name": "stderr",
     "output_type": "stream",
     "text": [
      "\r",
      " 56%|████████████████████████████████████████████▍                                   | 150/270 [04:19<02:24,  1.21s/it]"
     ]
    },
    {
     "name": "stdout",
     "output_type": "stream",
     "text": [
      " balanced accuracy score : 1.0\n",
      " f1 score : 1.0\n"
     ]
    },
    {
     "name": "stderr",
     "output_type": "stream",
     "text": [
      "\r",
      " 56%|████████████████████████████████████████████▋                                   | 151/270 [04:20<02:19,  1.17s/it]"
     ]
    },
    {
     "name": "stdout",
     "output_type": "stream",
     "text": [
      " balanced accuracy score : 1.0\n",
      " f1 score : 1.0\n"
     ]
    },
    {
     "name": "stderr",
     "output_type": "stream",
     "text": [
      "\r",
      " 56%|█████████████████████████████████████████████                                   | 152/270 [04:21<02:21,  1.20s/it]"
     ]
    },
    {
     "name": "stdout",
     "output_type": "stream",
     "text": [
      " balanced accuracy score : 0.9914616698204642\n",
      " f1 score : 0.9983316091766921\n"
     ]
    },
    {
     "name": "stderr",
     "output_type": "stream",
     "text": [
      "\r",
      " 57%|█████████████████████████████████████████████▎                                  | 153/270 [04:23<02:18,  1.18s/it]"
     ]
    },
    {
     "name": "stdout",
     "output_type": "stream",
     "text": [
      " balanced accuracy score : 1.0\n",
      " f1 score : 1.0\n"
     ]
    },
    {
     "name": "stderr",
     "output_type": "stream",
     "text": [
      "\r",
      " 57%|█████████████████████████████████████████████▋                                  | 154/270 [04:24<02:18,  1.20s/it]"
     ]
    },
    {
     "name": "stdout",
     "output_type": "stream",
     "text": [
      " balanced accuracy score : 0.9954954954954954\n",
      " f1 score : 0.9990268213196609\n"
     ]
    },
    {
     "name": "stderr",
     "output_type": "stream",
     "text": [
      "\r",
      " 57%|█████████████████████████████████████████████▉                                  | 155/270 [04:25<02:12,  1.15s/it]"
     ]
    },
    {
     "name": "stdout",
     "output_type": "stream",
     "text": [
      " balanced accuracy score : 1.0\n",
      " f1 score : 1.0\n"
     ]
    },
    {
     "name": "stderr",
     "output_type": "stream",
     "text": [
      "\r",
      " 58%|██████████████████████████████████████████████▏                                 | 156/270 [04:26<02:08,  1.13s/it]"
     ]
    },
    {
     "name": "stdout",
     "output_type": "stream",
     "text": [
      " balanced accuracy score : 0.9871794871794872\n",
      " f1 score : 0.9994598614639655\n"
     ]
    },
    {
     "name": "stderr",
     "output_type": "stream",
     "text": [
      "\r",
      " 58%|██████████████████████████████████████████████▌                                 | 157/270 [04:27<02:06,  1.12s/it]"
     ]
    },
    {
     "name": "stdout",
     "output_type": "stream",
     "text": [
      " balanced accuracy score : 1.0\n",
      " f1 score : 1.0\n"
     ]
    },
    {
     "name": "stderr",
     "output_type": "stream",
     "text": [
      "\r",
      " 59%|██████████████████████████████████████████████▊                                 | 158/270 [04:28<02:06,  1.13s/it]"
     ]
    },
    {
     "name": "stdout",
     "output_type": "stream",
     "text": [
      " balanced accuracy score : 1.0\n",
      " f1 score : 1.0\n"
     ]
    },
    {
     "name": "stderr",
     "output_type": "stream",
     "text": [
      "\r",
      " 59%|███████████████████████████████████████████████                                 | 159/270 [04:29<02:07,  1.15s/it]"
     ]
    },
    {
     "name": "stdout",
     "output_type": "stream",
     "text": [
      " balanced accuracy score : 0.992483660130719\n",
      " f1 score : 0.9983751019364889\n"
     ]
    },
    {
     "name": "stderr",
     "output_type": "stream",
     "text": [
      "\r",
      " 59%|███████████████████████████████████████████████▍                                | 160/270 [04:31<02:11,  1.20s/it]"
     ]
    },
    {
     "name": "stdout",
     "output_type": "stream",
     "text": [
      " balanced accuracy score : 0.9983065459128215\n",
      " f1 score : 0.9977733412474344\n"
     ]
    },
    {
     "name": "stderr",
     "output_type": "stream",
     "text": [
      "\r",
      " 60%|███████████████████████████████████████████████▋                                | 161/270 [04:32<02:06,  1.16s/it]"
     ]
    },
    {
     "name": "stdout",
     "output_type": "stream",
     "text": [
      " balanced accuracy score : 1.0\n",
      " f1 score : 1.0\n"
     ]
    },
    {
     "name": "stderr",
     "output_type": "stream",
     "text": [
      "\r",
      " 60%|████████████████████████████████████████████████                                | 162/270 [04:33<02:04,  1.15s/it]"
     ]
    },
    {
     "name": "stdout",
     "output_type": "stream",
     "text": [
      " balanced accuracy score : 0.9933333333333333\n",
      " f1 score : 0.9994462303326147\n"
     ]
    },
    {
     "name": "stderr",
     "output_type": "stream",
     "text": [
      "\r",
      " 60%|████████████████████████████████████████████████▎                               | 163/270 [04:34<02:04,  1.16s/it]"
     ]
    },
    {
     "name": "stdout",
     "output_type": "stream",
     "text": [
      " balanced accuracy score : 0.9938271604938271\n",
      " f1 score : 0.9983245397282611\n"
     ]
    },
    {
     "name": "stderr",
     "output_type": "stream",
     "text": [
      "\r",
      " 61%|████████████████████████████████████████████████▌                               | 164/270 [04:35<02:05,  1.18s/it]"
     ]
    },
    {
     "name": "stdout",
     "output_type": "stream",
     "text": [
      " balanced accuracy score : 0.9943439881113704\n",
      " f1 score : 0.9977913036739344\n"
     ]
    },
    {
     "name": "stderr",
     "output_type": "stream",
     "text": [
      "\r",
      " 61%|████████████████████████████████████████████████▉                               | 165/270 [04:37<02:04,  1.18s/it]"
     ]
    },
    {
     "name": "stdout",
     "output_type": "stream",
     "text": [
      " balanced accuracy score : 0.996078431372549\n",
      " f1 score : 0.9995099695277979\n"
     ]
    },
    {
     "name": "stderr",
     "output_type": "stream",
     "text": [
      "\r",
      " 61%|█████████████████████████████████████████████████▏                              | 166/270 [04:38<02:02,  1.18s/it]"
     ]
    },
    {
     "name": "stdout",
     "output_type": "stream",
     "text": [
      " balanced accuracy score : 1.0\n",
      " f1 score : 1.0\n"
     ]
    },
    {
     "name": "stderr",
     "output_type": "stream",
     "text": [
      "\r",
      " 62%|█████████████████████████████████████████████████▍                              | 167/270 [04:39<02:03,  1.20s/it]"
     ]
    },
    {
     "name": "stdout",
     "output_type": "stream",
     "text": [
      " balanced accuracy score : 1.0\n",
      " f1 score : 1.0\n"
     ]
    },
    {
     "name": "stderr",
     "output_type": "stream",
     "text": [
      "\r",
      " 62%|█████████████████████████████████████████████████▊                              | 168/270 [04:40<01:59,  1.17s/it]"
     ]
    },
    {
     "name": "stdout",
     "output_type": "stream",
     "text": [
      " balanced accuracy score : 0.8731074830084481\n",
      " f1 score : 0.996535611538689\n"
     ]
    },
    {
     "name": "stderr",
     "output_type": "stream",
     "text": [
      "\r",
      " 63%|██████████████████████████████████████████████████                              | 169/270 [04:41<01:56,  1.16s/it]"
     ]
    },
    {
     "name": "stdout",
     "output_type": "stream",
     "text": [
      " balanced accuracy score : 1.0\n",
      " f1 score : 1.0\n"
     ]
    },
    {
     "name": "stderr",
     "output_type": "stream",
     "text": [
      "\r",
      " 63%|██████████████████████████████████████████████████▎                             | 170/270 [04:42<01:55,  1.16s/it]"
     ]
    },
    {
     "name": "stdout",
     "output_type": "stream",
     "text": [
      " balanced accuracy score : 1.0\n",
      " f1 score : 1.0\n"
     ]
    },
    {
     "name": "stderr",
     "output_type": "stream",
     "text": [
      "\r",
      " 63%|██████████████████████████████████████████████████▋                             | 171/270 [04:43<01:53,  1.15s/it]"
     ]
    },
    {
     "name": "stdout",
     "output_type": "stream",
     "text": [
      " balanced accuracy score : 1.0\n",
      " f1 score : 1.0\n"
     ]
    },
    {
     "name": "stderr",
     "output_type": "stream",
     "text": [
      "\r",
      " 64%|██████████████████████████████████████████████████▉                             | 172/270 [04:45<01:53,  1.16s/it]"
     ]
    },
    {
     "name": "stdout",
     "output_type": "stream",
     "text": [
      " balanced accuracy score : 1.0\n",
      " f1 score : 1.0\n"
     ]
    },
    {
     "name": "stderr",
     "output_type": "stream",
     "text": [
      "\r",
      " 64%|███████████████████████████████████████████████████▎                            | 173/270 [04:46<01:51,  1.15s/it]"
     ]
    },
    {
     "name": "stdout",
     "output_type": "stream",
     "text": [
      " balanced accuracy score : 1.0\n",
      " f1 score : 1.0\n"
     ]
    },
    {
     "name": "stderr",
     "output_type": "stream",
     "text": [
      "\r",
      " 64%|███████████████████████████████████████████████████▌                            | 174/270 [04:47<01:50,  1.15s/it]"
     ]
    },
    {
     "name": "stdout",
     "output_type": "stream",
     "text": [
      " balanced accuracy score : 0.9995147986414361\n",
      " f1 score : 0.9994427443687771\n"
     ]
    },
    {
     "name": "stderr",
     "output_type": "stream",
     "text": [
      "\r",
      " 65%|███████████████████████████████████████████████████▊                            | 175/270 [04:48<01:48,  1.14s/it]"
     ]
    },
    {
     "name": "stdout",
     "output_type": "stream",
     "text": [
      " balanced accuracy score : 0.9771864686468646\n",
      " f1 score : 0.9966348850252383\n"
     ]
    },
    {
     "name": "stderr",
     "output_type": "stream",
     "text": [
      "\r",
      " 65%|████████████████████████████████████████████████████▏                           | 176/270 [04:49<01:48,  1.15s/it]"
     ]
    },
    {
     "name": "stdout",
     "output_type": "stream",
     "text": [
      " balanced accuracy score : 1.0\n",
      " f1 score : 1.0\n"
     ]
    },
    {
     "name": "stderr",
     "output_type": "stream",
     "text": [
      "\r",
      " 66%|████████████████████████████████████████████████████▍                           | 177/270 [04:50<01:45,  1.14s/it]"
     ]
    },
    {
     "name": "stdout",
     "output_type": "stream",
     "text": [
      " balanced accuracy score : 1.0\n",
      " f1 score : 1.0\n"
     ]
    },
    {
     "name": "stderr",
     "output_type": "stream",
     "text": [
      "\r",
      " 66%|████████████████████████████████████████████████████▋                           | 178/270 [04:51<01:44,  1.14s/it]"
     ]
    },
    {
     "name": "stdout",
     "output_type": "stream",
     "text": [
      " balanced accuracy score : 0.9969040247678018\n",
      " f1 score : 0.9984390081783026\n"
     ]
    },
    {
     "name": "stderr",
     "output_type": "stream",
     "text": [
      "\r",
      " 66%|█████████████████████████████████████████████████████                           | 179/270 [04:53<01:48,  1.19s/it]"
     ]
    },
    {
     "name": "stdout",
     "output_type": "stream",
     "text": [
      " balanced accuracy score : 0.9972845040493578\n",
      " f1 score : 0.998327279436576\n"
     ]
    },
    {
     "name": "stderr",
     "output_type": "stream",
     "text": [
      "\r",
      " 67%|█████████████████████████████████████████████████████▎                          | 180/270 [04:54<01:47,  1.20s/it]"
     ]
    },
    {
     "name": "stdout",
     "output_type": "stream",
     "text": [
      " balanced accuracy score : 0.9861111111111112\n",
      " f1 score : 0.9994540789255958\n"
     ]
    },
    {
     "name": "stderr",
     "output_type": "stream",
     "text": [
      "\r",
      " 67%|█████████████████████████████████████████████████████▋                          | 181/270 [04:55<01:44,  1.18s/it]"
     ]
    },
    {
     "name": "stdout",
     "output_type": "stream",
     "text": [
      " balanced accuracy score : 1.0\n",
      " f1 score : 1.0\n"
     ]
    },
    {
     "name": "stderr",
     "output_type": "stream",
     "text": [
      "\r",
      " 67%|█████████████████████████████████████████████████████▉                          | 182/270 [04:56<01:43,  1.18s/it]"
     ]
    },
    {
     "name": "stdout",
     "output_type": "stream",
     "text": [
      " balanced accuracy score : 0.9988545246277205\n",
      " f1 score : 0.9988923308527772\n"
     ]
    },
    {
     "name": "stderr",
     "output_type": "stream",
     "text": [
      "\r",
      " 68%|██████████████████████████████████████████████████████▏                         | 183/270 [04:58<01:44,  1.20s/it]"
     ]
    },
    {
     "name": "stdout",
     "output_type": "stream",
     "text": [
      " balanced accuracy score : 0.9987946333194325\n",
      " f1 score : 0.9988845510317903\n"
     ]
    },
    {
     "name": "stderr",
     "output_type": "stream",
     "text": [
      "\r",
      " 68%|██████████████████████████████████████████████████████▌                         | 184/270 [04:59<01:43,  1.21s/it]"
     ]
    },
    {
     "name": "stdout",
     "output_type": "stream",
     "text": [
      " balanced accuracy score : 0.9990623534927332\n",
      " f1 score : 0.9988917879920364\n"
     ]
    },
    {
     "name": "stderr",
     "output_type": "stream",
     "text": [
      "\r",
      " 69%|██████████████████████████████████████████████████████▊                         | 185/270 [05:00<01:42,  1.21s/it]"
     ]
    },
    {
     "name": "stdout",
     "output_type": "stream",
     "text": [
      " balanced accuracy score : 0.9975903614457832\n",
      " f1 score : 0.9983645950078518\n"
     ]
    },
    {
     "name": "stderr",
     "output_type": "stream",
     "text": [
      "\r",
      " 69%|███████████████████████████████████████████████████████                         | 186/270 [05:01<01:40,  1.20s/it]"
     ]
    },
    {
     "name": "stdout",
     "output_type": "stream",
     "text": [
      " balanced accuracy score : 0.9836375078665828\n",
      " f1 score : 0.996054752125903\n"
     ]
    },
    {
     "name": "stderr",
     "output_type": "stream",
     "text": [
      "\r",
      " 69%|███████████████████████████████████████████████████████▍                        | 187/270 [05:02<01:39,  1.20s/it]"
     ]
    },
    {
     "name": "stdout",
     "output_type": "stream",
     "text": [
      " balanced accuracy score : 0.9607294832826748\n",
      " f1 score : 0.9938042711776844\n"
     ]
    },
    {
     "name": "stderr",
     "output_type": "stream",
     "text": [
      "\r",
      " 70%|███████████████████████████████████████████████████████▋                        | 188/270 [05:04<01:45,  1.28s/it]"
     ]
    },
    {
     "name": "stdout",
     "output_type": "stream",
     "text": [
      " balanced accuracy score : 0.9933346126783086\n",
      " f1 score : 0.996627670288863\n"
     ]
    },
    {
     "name": "stderr",
     "output_type": "stream",
     "text": [
      "\r",
      " 70%|████████████████████████████████████████████████████████                        | 189/270 [05:05<01:42,  1.26s/it]"
     ]
    },
    {
     "name": "stdout",
     "output_type": "stream",
     "text": [
      " balanced accuracy score : 0.9985475671750182\n",
      " f1 score : 0.998876491668004\n"
     ]
    },
    {
     "name": "stderr",
     "output_type": "stream",
     "text": [
      "\r",
      " 70%|████████████████████████████████████████████████████████▎                       | 190/270 [05:06<01:44,  1.31s/it]"
     ]
    },
    {
     "name": "stdout",
     "output_type": "stream",
     "text": [
      " balanced accuracy score : 0.9995812395309883\n",
      " f1 score : 0.9994892484551998\n"
     ]
    },
    {
     "name": "stderr",
     "output_type": "stream",
     "text": [
      "\r",
      " 71%|████████████████████████████████████████████████████████▌                       | 191/270 [05:08<01:41,  1.29s/it]"
     ]
    },
    {
     "name": "stdout",
     "output_type": "stream",
     "text": [
      " balanced accuracy score : 1.0\n",
      " f1 score : 1.0\n"
     ]
    },
    {
     "name": "stderr",
     "output_type": "stream",
     "text": [
      "\r",
      " 71%|████████████████████████████████████████████████████████▉                       | 192/270 [05:09<01:38,  1.26s/it]"
     ]
    },
    {
     "name": "stdout",
     "output_type": "stream",
     "text": [
      " balanced accuracy score : 1.0\n",
      " f1 score : 1.0\n"
     ]
    },
    {
     "name": "stderr",
     "output_type": "stream",
     "text": [
      "\r",
      " 71%|█████████████████████████████████████████████████████████▏                      | 193/270 [05:10<01:42,  1.33s/it]"
     ]
    },
    {
     "name": "stdout",
     "output_type": "stream",
     "text": [
      " balanced accuracy score : 0.9952409264301393\n",
      " f1 score : 0.993604033545133\n"
     ]
    },
    {
     "name": "stderr",
     "output_type": "stream",
     "text": [
      "\r",
      " 72%|█████████████████████████████████████████████████████████▍                      | 194/270 [05:11<01:34,  1.25s/it]"
     ]
    },
    {
     "name": "stdout",
     "output_type": "stream",
     "text": [
      " balanced accuracy score : 1.0\n",
      " f1 score : 1.0\n"
     ]
    },
    {
     "name": "stderr",
     "output_type": "stream",
     "text": [
      "\r",
      " 72%|█████████████████████████████████████████████████████████▊                      | 195/270 [05:13<01:29,  1.19s/it]"
     ]
    },
    {
     "name": "stdout",
     "output_type": "stream",
     "text": [
      " balanced accuracy score : 0.9861111111111112\n",
      " f1 score : 0.9994248762676904\n"
     ]
    },
    {
     "name": "stderr",
     "output_type": "stream",
     "text": [
      "\r",
      " 73%|██████████████████████████████████████████████████████████                      | 196/270 [05:14<01:24,  1.14s/it]"
     ]
    },
    {
     "name": "stdout",
     "output_type": "stream",
     "text": [
      " balanced accuracy score : 0.9998157361341441\n",
      " f1 score : 0.9994645294774223\n"
     ]
    },
    {
     "name": "stderr",
     "output_type": "stream",
     "text": [
      "\r",
      " 73%|██████████████████████████████████████████████████████████▎                     | 197/270 [05:15<01:18,  1.08s/it]"
     ]
    },
    {
     "name": "stdout",
     "output_type": "stream",
     "text": [
      " balanced accuracy score : 1.0\n",
      " f1 score : 1.0\n"
     ]
    },
    {
     "name": "stderr",
     "output_type": "stream",
     "text": [
      "\r",
      " 73%|██████████████████████████████████████████████████████████▋                     | 198/270 [05:16<01:19,  1.10s/it]"
     ]
    },
    {
     "name": "stdout",
     "output_type": "stream",
     "text": [
      " balanced accuracy score : 0.8896057347670251\n",
      " f1 score : 0.9966808374651379\n"
     ]
    },
    {
     "name": "stderr",
     "output_type": "stream",
     "text": [
      "\r",
      " 74%|██████████████████████████████████████████████████████████▉                     | 199/270 [05:17<01:16,  1.08s/it]"
     ]
    },
    {
     "name": "stdout",
     "output_type": "stream",
     "text": [
      " balanced accuracy score : 0.5625\n",
      " f1 score : 0.994569392088179\n"
     ]
    },
    {
     "name": "stderr",
     "output_type": "stream",
     "text": [
      "\r",
      " 74%|███████████████████████████████████████████████████████████▎                    | 200/270 [05:18<01:16,  1.10s/it]"
     ]
    },
    {
     "name": "stdout",
     "output_type": "stream",
     "text": [
      " balanced accuracy score : 0.9166666666666666\n",
      " f1 score : 0.9967514889009204\n"
     ]
    },
    {
     "name": "stderr",
     "output_type": "stream",
     "text": [
      "\r",
      " 74%|███████████████████████████████████████████████████████████▌                    | 201/270 [05:19<01:10,  1.02s/it]"
     ]
    },
    {
     "name": "stdout",
     "output_type": "stream",
     "text": [
      " balanced accuracy score : 1.0\n",
      " f1 score : 1.0\n"
     ]
    },
    {
     "name": "stderr",
     "output_type": "stream",
     "text": [
      "\r",
      " 75%|███████████████████████████████████████████████████████████▊                    | 202/270 [05:20<01:10,  1.03s/it]"
     ]
    },
    {
     "name": "stdout",
     "output_type": "stream",
     "text": [
      " balanced accuracy score : 0.9971590909090908\n",
      " f1 score : 0.998337055358172\n"
     ]
    },
    {
     "name": "stderr",
     "output_type": "stream",
     "text": [
      "\r",
      " 75%|████████████████████████████████████████████████████████████▏                   | 203/270 [05:21<01:12,  1.08s/it]"
     ]
    },
    {
     "name": "stdout",
     "output_type": "stream",
     "text": [
      " balanced accuracy score : 0.9905618137599088\n",
      " f1 score : 0.9971959896503648\n"
     ]
    },
    {
     "name": "stderr",
     "output_type": "stream",
     "text": [
      "\r",
      " 76%|████████████████████████████████████████████████████████████▍                   | 204/270 [05:22<01:13,  1.12s/it]"
     ]
    },
    {
     "name": "stdout",
     "output_type": "stream",
     "text": [
      " balanced accuracy score : 0.9946794501901254\n",
      " f1 score : 0.998898678414097\n"
     ]
    },
    {
     "name": "stderr",
     "output_type": "stream",
     "text": [
      "\r",
      " 76%|████████████████████████████████████████████████████████████▋                   | 205/270 [05:23<01:11,  1.10s/it]"
     ]
    },
    {
     "name": "stdout",
     "output_type": "stream",
     "text": [
      " balanced accuracy score : 0.9696969696969697\n",
      " f1 score : 0.9988922808273818\n"
     ]
    },
    {
     "name": "stderr",
     "output_type": "stream",
     "text": [
      "\r",
      " 76%|█████████████████████████████████████████████████████████████                   | 206/270 [05:24<01:12,  1.13s/it]"
     ]
    },
    {
     "name": "stdout",
     "output_type": "stream",
     "text": [
      " balanced accuracy score : 0.8236130779743611\n",
      " f1 score : 0.9934353908363809\n"
     ]
    },
    {
     "name": "stderr",
     "output_type": "stream",
     "text": [
      "\r",
      " 77%|█████████████████████████████████████████████████████████████▎                  | 207/270 [05:26<01:14,  1.18s/it]"
     ]
    },
    {
     "name": "stdout",
     "output_type": "stream",
     "text": [
      " balanced accuracy score : 0.8952380952380952\n",
      " f1 score : 0.9947263912688713\n"
     ]
    },
    {
     "name": "stderr",
     "output_type": "stream",
     "text": [
      "\r",
      " 77%|█████████████████████████████████████████████████████████████▋                  | 208/270 [05:27<01:11,  1.15s/it]"
     ]
    },
    {
     "name": "stdout",
     "output_type": "stream",
     "text": [
      " balanced accuracy score : 0.9976525821596244\n",
      " f1 score : 0.9994636467953923\n"
     ]
    },
    {
     "name": "stderr",
     "output_type": "stream",
     "text": [
      "\r",
      " 77%|█████████████████████████████████████████████████████████████▉                  | 209/270 [05:28<01:09,  1.14s/it]"
     ]
    },
    {
     "name": "stdout",
     "output_type": "stream",
     "text": [
      " balanced accuracy score : 1.0\n",
      " f1 score : 1.0\n"
     ]
    },
    {
     "name": "stderr",
     "output_type": "stream",
     "text": [
      "\r",
      " 78%|██████████████████████████████████████████████████████████████▏                 | 210/270 [05:29<01:07,  1.12s/it]"
     ]
    },
    {
     "name": "stdout",
     "output_type": "stream",
     "text": [
      " balanced accuracy score : 0.9998158379373848\n",
      " f1 score : 0.9994667099921164\n"
     ]
    },
    {
     "name": "stderr",
     "output_type": "stream",
     "text": [
      "\r",
      " 78%|██████████████████████████████████████████████████████████████▌                 | 211/270 [05:30<01:11,  1.21s/it]"
     ]
    },
    {
     "name": "stdout",
     "output_type": "stream",
     "text": [
      " balanced accuracy score : 0.9955528343101717\n",
      " f1 score : 0.9955870287938271\n"
     ]
    },
    {
     "name": "stderr",
     "output_type": "stream",
     "text": [
      "\r",
      " 79%|██████████████████████████████████████████████████████████████▊                 | 212/270 [05:32<01:10,  1.21s/it]"
     ]
    },
    {
     "name": "stdout",
     "output_type": "stream",
     "text": [
      " balanced accuracy score : 0.9984399375975039\n",
      " f1 score : 0.9983214813638707\n"
     ]
    },
    {
     "name": "stderr",
     "output_type": "stream",
     "text": [
      "\r",
      " 79%|███████████████████████████████████████████████████████████████                 | 213/270 [05:33<01:07,  1.19s/it]"
     ]
    },
    {
     "name": "stdout",
     "output_type": "stream",
     "text": [
      " balanced accuracy score : 1.0\n",
      " f1 score : 1.0\n"
     ]
    },
    {
     "name": "stderr",
     "output_type": "stream",
     "text": [
      "\r",
      " 79%|███████████████████████████████████████████████████████████████▍                | 214/270 [05:34<01:07,  1.20s/it]"
     ]
    },
    {
     "name": "stdout",
     "output_type": "stream",
     "text": [
      " balanced accuracy score : 1.0\n",
      " f1 score : 1.0\n"
     ]
    },
    {
     "name": "stderr",
     "output_type": "stream",
     "text": [
      "\r",
      " 80%|███████████████████████████████████████████████████████████████▋                | 215/270 [05:35<01:08,  1.25s/it]"
     ]
    },
    {
     "name": "stdout",
     "output_type": "stream",
     "text": [
      " balanced accuracy score : 0.9876543209876543\n",
      " f1 score : 0.9994378410524242\n"
     ]
    },
    {
     "name": "stderr",
     "output_type": "stream",
     "text": [
      "\r",
      " 80%|████████████████████████████████████████████████████████████████                | 216/270 [05:37<01:07,  1.24s/it]"
     ]
    },
    {
     "name": "stdout",
     "output_type": "stream",
     "text": [
      " balanced accuracy score : 0.9886363636363636\n",
      " f1 score : 0.9983341332057776\n"
     ]
    },
    {
     "name": "stderr",
     "output_type": "stream",
     "text": [
      "\r",
      " 80%|████████████████████████████████████████████████████████████████▎               | 217/270 [05:38<01:04,  1.22s/it]"
     ]
    },
    {
     "name": "stdout",
     "output_type": "stream",
     "text": [
      " balanced accuracy score : 0.9096296296296296\n",
      " f1 score : 0.9967115670439997\n"
     ]
    },
    {
     "name": "stderr",
     "output_type": "stream",
     "text": [
      "\r",
      " 81%|████████████████████████████████████████████████████████████████▌               | 218/270 [05:39<01:02,  1.21s/it]"
     ]
    },
    {
     "name": "stdout",
     "output_type": "stream",
     "text": [
      " balanced accuracy score : 1.0\n",
      " f1 score : 1.0\n"
     ]
    },
    {
     "name": "stderr",
     "output_type": "stream",
     "text": [
      "\r",
      " 81%|████████████████████████████████████████████████████████████████▉               | 219/270 [05:40<00:59,  1.18s/it]"
     ]
    },
    {
     "name": "stdout",
     "output_type": "stream",
     "text": [
      " balanced accuracy score : 0.9444444444444445\n",
      " f1 score : 0.9983524885315445\n"
     ]
    },
    {
     "name": "stderr",
     "output_type": "stream",
     "text": [
      "\r",
      " 81%|█████████████████████████████████████████████████████████████████▏              | 220/270 [05:41<00:53,  1.06s/it]"
     ]
    },
    {
     "name": "stdout",
     "output_type": "stream",
     "text": [
      " balanced accuracy score : 1.0\n",
      " f1 score : 1.0\n"
     ]
    },
    {
     "name": "stderr",
     "output_type": "stream",
     "text": [
      "\r",
      " 82%|█████████████████████████████████████████████████████████████████▍              | 221/270 [05:42<00:54,  1.11s/it]"
     ]
    },
    {
     "name": "stdout",
     "output_type": "stream",
     "text": [
      " balanced accuracy score : 0.9991364421416234\n",
      " f1 score : 0.9994411341022913\n"
     ]
    },
    {
     "name": "stderr",
     "output_type": "stream",
     "text": [
      "\r",
      " 82%|█████████████████████████████████████████████████████████████████▊              | 222/270 [05:43<00:53,  1.10s/it]"
     ]
    },
    {
     "name": "stdout",
     "output_type": "stream",
     "text": [
      " balanced accuracy score : 0.9911558109833972\n",
      " f1 score : 0.9983019712135985\n"
     ]
    },
    {
     "name": "stderr",
     "output_type": "stream",
     "text": [
      "\r",
      " 83%|██████████████████████████████████████████████████████████████████              | 223/270 [05:44<00:52,  1.11s/it]"
     ]
    },
    {
     "name": "stdout",
     "output_type": "stream",
     "text": [
      " balanced accuracy score : 1.0\n",
      " f1 score : 1.0\n"
     ]
    },
    {
     "name": "stderr",
     "output_type": "stream",
     "text": [
      "\r",
      " 83%|██████████████████████████████████████████████████████████████████▎             | 224/270 [05:45<00:51,  1.12s/it]"
     ]
    },
    {
     "name": "stdout",
     "output_type": "stream",
     "text": [
      " balanced accuracy score : 1.0\n",
      " f1 score : 1.0\n"
     ]
    },
    {
     "name": "stderr",
     "output_type": "stream",
     "text": [
      "\r",
      " 83%|██████████████████████████████████████████████████████████████████▋             | 225/270 [05:46<00:49,  1.10s/it]"
     ]
    },
    {
     "name": "stdout",
     "output_type": "stream",
     "text": [
      " balanced accuracy score : 0.9814814814814815\n",
      " f1 score : 0.9994503266945871\n"
     ]
    },
    {
     "name": "stderr",
     "output_type": "stream",
     "text": [
      "\r",
      " 84%|██████████████████████████████████████████████████████████████████▉             | 226/270 [05:48<00:50,  1.14s/it]"
     ]
    },
    {
     "name": "stdout",
     "output_type": "stream",
     "text": [
      " balanced accuracy score : 0.9440552636699747\n",
      " f1 score : 0.9972337645895265\n"
     ]
    },
    {
     "name": "stderr",
     "output_type": "stream",
     "text": [
      "\r",
      " 84%|███████████████████████████████████████████████████████████████████▎            | 227/270 [05:49<00:49,  1.16s/it]"
     ]
    },
    {
     "name": "stdout",
     "output_type": "stream",
     "text": [
      " balanced accuracy score : 0.967304625199362\n",
      " f1 score : 0.9988857938718663\n"
     ]
    },
    {
     "name": "stderr",
     "output_type": "stream",
     "text": [
      "\r",
      " 84%|███████████████████████████████████████████████████████████████████▌            | 228/270 [05:50<00:45,  1.07s/it]"
     ]
    },
    {
     "name": "stdout",
     "output_type": "stream",
     "text": [
      " balanced accuracy score : 1.0\n",
      " f1 score : 1.0\n"
     ]
    },
    {
     "name": "stderr",
     "output_type": "stream",
     "text": [
      "\r",
      " 85%|███████████████████████████████████████████████████████████████████▊            | 229/270 [05:51<00:45,  1.10s/it]"
     ]
    },
    {
     "name": "stdout",
     "output_type": "stream",
     "text": [
      " balanced accuracy score : 1.0\n",
      " f1 score : 1.0\n"
     ]
    },
    {
     "name": "stderr",
     "output_type": "stream",
     "text": [
      "\r",
      " 85%|████████████████████████████████████████████████████████████████████▏           | 230/270 [05:52<00:47,  1.20s/it]"
     ]
    },
    {
     "name": "stdout",
     "output_type": "stream",
     "text": [
      " balanced accuracy score : 0.979662934337429\n",
      " f1 score : 0.9983286715839294\n"
     ]
    },
    {
     "name": "stderr",
     "output_type": "stream",
     "text": [
      "\r",
      " 86%|████████████████████████████████████████████████████████████████████▍           | 231/270 [05:54<00:46,  1.20s/it]"
     ]
    },
    {
     "name": "stdout",
     "output_type": "stream",
     "text": [
      " balanced accuracy score : 0.9939561700925337\n",
      " f1 score : 0.9983212161421109\n"
     ]
    },
    {
     "name": "stderr",
     "output_type": "stream",
     "text": [
      "\r",
      " 86%|████████████████████████████████████████████████████████████████████▋           | 232/270 [05:55<00:44,  1.17s/it]"
     ]
    },
    {
     "name": "stdout",
     "output_type": "stream",
     "text": [
      " balanced accuracy score : 0.9848484848484849\n",
      " f1 score : 0.9994505762864435\n"
     ]
    },
    {
     "name": "stderr",
     "output_type": "stream",
     "text": [
      "\r",
      " 86%|█████████████████████████████████████████████████████████████████████           | 233/270 [05:56<00:42,  1.14s/it]"
     ]
    },
    {
     "name": "stdout",
     "output_type": "stream",
     "text": [
      " balanced accuracy score : 1.0\n",
      " f1 score : 1.0\n"
     ]
    },
    {
     "name": "stderr",
     "output_type": "stream",
     "text": [
      "\r",
      " 87%|█████████████████████████████████████████████████████████████████████▎          | 234/270 [05:57<00:40,  1.13s/it]"
     ]
    },
    {
     "name": "stdout",
     "output_type": "stream",
     "text": [
      " balanced accuracy score : 1.0\n",
      " f1 score : 1.0\n"
     ]
    },
    {
     "name": "stderr",
     "output_type": "stream",
     "text": [
      "\r",
      " 87%|█████████████████████████████████████████████████████████████████████▋          | 235/270 [05:58<00:39,  1.12s/it]"
     ]
    },
    {
     "name": "stdout",
     "output_type": "stream",
     "text": [
      " balanced accuracy score : 1.0\n",
      " f1 score : 1.0\n"
     ]
    },
    {
     "name": "stderr",
     "output_type": "stream",
     "text": [
      "\r",
      " 87%|█████████████████████████████████████████████████████████████████████▉          | 236/270 [05:59<00:35,  1.03s/it]"
     ]
    },
    {
     "name": "stdout",
     "output_type": "stream",
     "text": [
      " balanced accuracy score : 1.0\n",
      " f1 score : 1.0\n"
     ]
    },
    {
     "name": "stderr",
     "output_type": "stream",
     "text": [
      "\r",
      " 88%|██████████████████████████████████████████████████████████████████████▏         | 237/270 [06:00<00:35,  1.06s/it]"
     ]
    },
    {
     "name": "stdout",
     "output_type": "stream",
     "text": [
      " balanced accuracy score : 0.9833333333333334\n",
      " f1 score : 0.9994463200368068\n"
     ]
    },
    {
     "name": "stderr",
     "output_type": "stream",
     "text": [
      "\r",
      " 88%|██████████████████████████████████████████████████████████████████████▌         | 238/270 [06:01<00:34,  1.07s/it]"
     ]
    },
    {
     "name": "stdout",
     "output_type": "stream",
     "text": [
      " balanced accuracy score : 0.9375\n",
      " f1 score : 0.9994237627905569\n"
     ]
    },
    {
     "name": "stderr",
     "output_type": "stream",
     "text": [
      "\r",
      " 89%|██████████████████████████████████████████████████████████████████████▊         | 239/270 [06:02<00:33,  1.08s/it]"
     ]
    },
    {
     "name": "stdout",
     "output_type": "stream",
     "text": [
      " balanced accuracy score : 1.0\n",
      " f1 score : 1.0\n"
     ]
    },
    {
     "name": "stderr",
     "output_type": "stream",
     "text": [
      "\r",
      " 89%|███████████████████████████████████████████████████████████████████████         | 240/270 [06:03<00:32,  1.10s/it]"
     ]
    },
    {
     "name": "stdout",
     "output_type": "stream",
     "text": [
      " balanced accuracy score : 0.9580554011487863\n",
      " f1 score : 0.9991716515711064\n"
     ]
    },
    {
     "name": "stderr",
     "output_type": "stream",
     "text": [
      "\r",
      " 89%|███████████████████████████████████████████████████████████████████████▍        | 241/270 [06:04<00:31,  1.07s/it]"
     ]
    },
    {
     "name": "stdout",
     "output_type": "stream",
     "text": [
      " balanced accuracy score : 1.0\n",
      " f1 score : 1.0\n"
     ]
    },
    {
     "name": "stderr",
     "output_type": "stream",
     "text": [
      "\r",
      " 90%|███████████████████████████████████████████████████████████████████████▋        | 242/270 [06:05<00:30,  1.09s/it]"
     ]
    },
    {
     "name": "stdout",
     "output_type": "stream",
     "text": [
      " balanced accuracy score : 0.9682539682539683\n",
      " f1 score : 0.9989227642276423\n"
     ]
    },
    {
     "name": "stderr",
     "output_type": "stream",
     "text": [
      "\r",
      " 90%|████████████████████████████████████████████████████████████████████████        | 243/270 [06:06<00:29,  1.09s/it]"
     ]
    },
    {
     "name": "stdout",
     "output_type": "stream",
     "text": [
      " balanced accuracy score : 1.0\n",
      " f1 score : 1.0\n"
     ]
    },
    {
     "name": "stderr",
     "output_type": "stream",
     "text": [
      "\r",
      " 90%|████████████████████████████████████████████████████████████████████████▎       | 244/270 [06:07<00:28,  1.09s/it]"
     ]
    },
    {
     "name": "stdout",
     "output_type": "stream",
     "text": [
      " balanced accuracy score : 0.9710144927536232\n",
      " f1 score : 0.9988886416856687\n"
     ]
    },
    {
     "name": "stderr",
     "output_type": "stream",
     "text": [
      "\r",
      " 91%|████████████████████████████████████████████████████████████████████████▌       | 245/270 [06:09<00:28,  1.13s/it]"
     ]
    },
    {
     "name": "stdout",
     "output_type": "stream",
     "text": [
      " balanced accuracy score : 0.9983243212797116\n",
      " f1 score : 0.9988808058198098\n"
     ]
    },
    {
     "name": "stderr",
     "output_type": "stream",
     "text": [
      "\r",
      " 91%|████████████████████████████████████████████████████████████████████████▉       | 246/270 [06:10<00:28,  1.19s/it]"
     ]
    },
    {
     "name": "stdout",
     "output_type": "stream",
     "text": [
      " balanced accuracy score : 0.9947572296800908\n",
      " f1 score : 0.9954821326255651\n"
     ]
    },
    {
     "name": "stderr",
     "output_type": "stream",
     "text": [
      "\r",
      " 91%|█████████████████████████████████████████████████████████████████████████▏      | 247/270 [06:11<00:27,  1.19s/it]"
     ]
    },
    {
     "name": "stdout",
     "output_type": "stream",
     "text": [
      " balanced accuracy score : 1.0\n",
      " f1 score : 1.0\n"
     ]
    },
    {
     "name": "stderr",
     "output_type": "stream",
     "text": [
      "\r",
      " 92%|█████████████████████████████████████████████████████████████████████████▍      | 248/270 [06:12<00:23,  1.08s/it]"
     ]
    },
    {
     "name": "stdout",
     "output_type": "stream",
     "text": [
      " balanced accuracy score : 0.5\n",
      " f1 score : 0.9990931990292842\n"
     ]
    },
    {
     "name": "stderr",
     "output_type": "stream",
     "text": [
      "\r",
      " 92%|█████████████████████████████████████████████████████████████████████████▊      | 249/270 [06:13<00:22,  1.08s/it]"
     ]
    },
    {
     "name": "stdout",
     "output_type": "stream",
     "text": [
      " balanced accuracy score : 0.8979636803377811\n",
      " f1 score : 0.9962565623554521\n"
     ]
    },
    {
     "name": "stderr",
     "output_type": "stream",
     "text": [
      "\r",
      " 93%|██████████████████████████████████████████████████████████████████████████      | 250/270 [06:14<00:23,  1.15s/it]"
     ]
    },
    {
     "name": "stdout",
     "output_type": "stream",
     "text": [
      " balanced accuracy score : 0.9991329884404081\n",
      " f1 score : 0.9988717507716423\n"
     ]
    },
    {
     "name": "stderr",
     "output_type": "stream",
     "text": [
      "\r",
      " 93%|██████████████████████████████████████████████████████████████████████████▎     | 251/270 [06:16<00:23,  1.22s/it]"
     ]
    },
    {
     "name": "stdout",
     "output_type": "stream",
     "text": [
      " balanced accuracy score : 0.994578496587105\n",
      " f1 score : 0.9960228664609126\n"
     ]
    },
    {
     "name": "stderr",
     "output_type": "stream",
     "text": [
      "\r",
      " 93%|██████████████████████████████████████████████████████████████████████████▋     | 252/270 [06:17<00:21,  1.17s/it]"
     ]
    },
    {
     "name": "stdout",
     "output_type": "stream",
     "text": [
      " balanced accuracy score : 1.0\n",
      " f1 score : 1.0\n"
     ]
    },
    {
     "name": "stderr",
     "output_type": "stream",
     "text": [
      "\r",
      " 94%|██████████████████████████████████████████████████████████████████████████▉     | 253/270 [06:18<00:19,  1.12s/it]"
     ]
    },
    {
     "name": "stdout",
     "output_type": "stream",
     "text": [
      " balanced accuracy score : 1.0\n",
      " f1 score : 1.0\n"
     ]
    },
    {
     "name": "stderr",
     "output_type": "stream",
     "text": [
      "\r",
      " 94%|███████████████████████████████████████████████████████████████████████████▎    | 254/270 [06:19<00:17,  1.10s/it]"
     ]
    },
    {
     "name": "stdout",
     "output_type": "stream",
     "text": [
      " balanced accuracy score : 1.0\n",
      " f1 score : 1.0\n"
     ]
    },
    {
     "name": "stderr",
     "output_type": "stream",
     "text": [
      "\r",
      " 94%|███████████████████████████████████████████████████████████████████████████▌    | 255/270 [06:20<00:16,  1.12s/it]"
     ]
    },
    {
     "name": "stdout",
     "output_type": "stream",
     "text": [
      " balanced accuracy score : 0.9946666666666667\n",
      " f1 score : 0.9977906036966758\n"
     ]
    },
    {
     "name": "stderr",
     "output_type": "stream",
     "text": [
      "\r",
      " 95%|███████████████████████████████████████████████████████████████████████████▊    | 256/270 [06:21<00:15,  1.09s/it]"
     ]
    },
    {
     "name": "stdout",
     "output_type": "stream",
     "text": [
      " balanced accuracy score : 0.9289044289044289\n",
      " f1 score : 0.9972654770968629\n"
     ]
    },
    {
     "name": "stderr",
     "output_type": "stream",
     "text": [
      "\r",
      " 95%|████████████████████████████████████████████████████████████████████████████▏   | 257/270 [06:22<00:13,  1.00s/it]"
     ]
    },
    {
     "name": "stdout",
     "output_type": "stream",
     "text": [
      " balanced accuracy score : 1.0\n",
      " f1 score : 1.0\n"
     ]
    },
    {
     "name": "stderr",
     "output_type": "stream",
     "text": [
      "\r",
      " 96%|████████████████████████████████████████████████████████████████████████████▍   | 258/270 [06:23<00:12,  1.06s/it]"
     ]
    },
    {
     "name": "stdout",
     "output_type": "stream",
     "text": [
      " balanced accuracy score : 0.9846631967254535\n",
      " f1 score : 0.998911860718172\n"
     ]
    },
    {
     "name": "stderr",
     "output_type": "stream",
     "text": [
      "\r",
      " 96%|████████████████████████████████████████████████████████████████████████████▋   | 259/270 [06:24<00:10,  1.01it/s]"
     ]
    },
    {
     "name": "stdout",
     "output_type": "stream",
     "text": [
      " balanced accuracy score : 1.0\n",
      " f1 score : 1.0\n"
     ]
    },
    {
     "name": "stderr",
     "output_type": "stream",
     "text": [
      "\r",
      " 96%|█████████████████████████████████████████████████████████████████████████████   | 260/270 [06:25<00:10,  1.06s/it]"
     ]
    },
    {
     "name": "stdout",
     "output_type": "stream",
     "text": [
      " balanced accuracy score : 1.0\n",
      " f1 score : 1.0\n"
     ]
    },
    {
     "name": "stderr",
     "output_type": "stream",
     "text": [
      "\r",
      " 97%|█████████████████████████████████████████████████████████████████████████████▎  | 261/270 [06:26<00:09,  1.11s/it]"
     ]
    },
    {
     "name": "stdout",
     "output_type": "stream",
     "text": [
      " balanced accuracy score : 1.0\n",
      " f1 score : 1.0\n"
     ]
    },
    {
     "name": "stderr",
     "output_type": "stream",
     "text": [
      "\r",
      " 97%|█████████████████████████████████████████████████████████████████████████████▋  | 262/270 [06:28<00:08,  1.11s/it]"
     ]
    },
    {
     "name": "stdout",
     "output_type": "stream",
     "text": [
      " balanced accuracy score : 1.0\n",
      " f1 score : 1.0\n"
     ]
    },
    {
     "name": "stderr",
     "output_type": "stream",
     "text": [
      "\r",
      " 97%|█████████████████████████████████████████████████████████████████████████████▉  | 263/270 [06:29<00:07,  1.09s/it]"
     ]
    },
    {
     "name": "stdout",
     "output_type": "stream",
     "text": [
      " balanced accuracy score : 0.9855072463768115\n",
      " f1 score : 0.9994585821196965\n"
     ]
    },
    {
     "name": "stderr",
     "output_type": "stream",
     "text": [
      "\r",
      " 98%|██████████████████████████████████████████████████████████████████████████████▏ | 264/270 [06:30<00:06,  1.13s/it]"
     ]
    },
    {
     "name": "stdout",
     "output_type": "stream",
     "text": [
      " balanced accuracy score : 1.0\n",
      " f1 score : 1.0\n"
     ]
    },
    {
     "name": "stderr",
     "output_type": "stream",
     "text": [
      "\r",
      " 98%|██████████████████████████████████████████████████████████████████████████████▌ | 265/270 [06:31<00:05,  1.11s/it]"
     ]
    },
    {
     "name": "stdout",
     "output_type": "stream",
     "text": [
      " balanced accuracy score : 0.9607843137254902\n",
      " f1 score : 0.998908622559653\n"
     ]
    },
    {
     "name": "stderr",
     "output_type": "stream",
     "text": [
      "\r",
      " 99%|██████████████████████████████████████████████████████████████████████████████▊ | 266/270 [06:32<00:04,  1.02s/it]"
     ]
    },
    {
     "name": "stdout",
     "output_type": "stream",
     "text": [
      " balanced accuracy score : 1.0\n",
      " f1 score : 1.0\n"
     ]
    },
    {
     "name": "stderr",
     "output_type": "stream",
     "text": [
      "\r",
      " 99%|███████████████████████████████████████████████████████████████████████████████ | 267/270 [06:33<00:03,  1.07s/it]"
     ]
    },
    {
     "name": "stdout",
     "output_type": "stream",
     "text": [
      " balanced accuracy score : 0.8629629629629628\n",
      " f1 score : 0.9955236114522982\n"
     ]
    },
    {
     "name": "stderr",
     "output_type": "stream",
     "text": [
      "\r",
      " 99%|███████████████████████████████████████████████████████████████████████████████▍| 268/270 [06:34<00:01,  1.02it/s]"
     ]
    },
    {
     "name": "stdout",
     "output_type": "stream",
     "text": [
      " balanced accuracy score : 1.0\n",
      " f1 score : 1.0\n"
     ]
    },
    {
     "name": "stderr",
     "output_type": "stream",
     "text": [
      "\r",
      "100%|███████████████████████████████████████████████████████████████████████████████▋| 269/270 [06:34<00:00,  1.17it/s]"
     ]
    },
    {
     "name": "stdout",
     "output_type": "stream",
     "text": [
      " balanced accuracy score : 1.0\n",
      " f1 score : 1.0\n"
     ]
    },
    {
     "name": "stderr",
     "output_type": "stream",
     "text": [
      "100%|████████████████████████████████████████████████████████████████████████████████| 270/270 [06:35<00:00,  1.46s/it]"
     ]
    },
    {
     "name": "stdout",
     "output_type": "stream",
     "text": [
      " balanced accuracy score : 1.0\n",
      " f1 score : 1.0\n"
     ]
    },
    {
     "name": "stderr",
     "output_type": "stream",
     "text": [
      "\n"
     ]
    }
   ],
   "source": [
    "from sklearn.preprocessing import OrdinalEncoder\n",
    "from sklearn.model_selection import train_test_split\n",
    "from sklearn.ensemble import RandomForestClassifier\n",
    "#from numba import jit\n",
    "import warnings\n",
    "from sklearn.preprocessing import MinMaxScaler\n",
    "from sklearn.preprocessing import StandardScaler\n",
    "from sklearn.model_selection import cross_val_score\n",
    "import numpy as np\n",
    "from tqdm import tqdm\n",
    "\n",
    "warnings.filterwarnings(\"ignore\")\n",
    "\n",
    "\n",
    "data=[]\n",
    "\n",
    "#@jit\n",
    "def normalise(df):\n",
    "    norm_df = pd.DataFrame()\n",
    "    # Get the unique IDs from the dataframe\n",
    "    ids = df['Plate'].unique()\n",
    "    df[\"Allele X.1\"]=df[\"Allele X.1\"].str.replace(\",\",\".\")\n",
    "    df[\"Allele Y.1\"]=df[\"Allele Y.1\"].str.replace(\",\",\".\")\n",
    "    \n",
    "    # Loop through each ID\n",
    "    for ident in ids:\n",
    "        # Filter the dataframe based on the current ID\n",
    "        temp_df = df[df['Plate'] == ident]\n",
    "    \n",
    "        # Initialize the Scaler\n",
    "        scaler = StandardScaler()\n",
    "    \n",
    "        # Fit and transform the columns\n",
    "        temp_df[[\"Allele X.1\", \"Allele Y.1\"]] = scaler.fit_transform(temp_df[[\"Allele X.1\", \"Allele Y.1\"]])\n",
    "    \n",
    "        # Concatenate the current dataframe to the final dataframe\n",
    "        norm_df = pd.concat([norm_df, temp_df], axis=0)\n",
    "    \n",
    "    norm_df = norm_df.reset_index(drop=True)\n",
    "    return norm_df\n",
    "    \n",
    "    \n",
    "#@jit\n",
    "def get_model_performance(df,assay):\n",
    "    ord_enc = OrdinalEncoder()\n",
    "    df_custom=df[df[\"Assay\"]==assay]\n",
    "    df_custom[\"Encoded_Target\"]=ord_enc.fit_transform(df_custom[[\"Converted\"]])    \n",
    "    df_custom[\"Allele X.1\"]=df_custom[\"Allele X.1\"].str.replace(\",\",\".\")\n",
    "    df_custom[\"Allele Y.1\"]=df_custom[\"Allele Y.1\"].str.replace(\",\",\".\")\n",
    "    df_custom=normalise(df_custom)\n",
    "    \n",
    "    X=df_custom[[\"Allele X.1\",\"Allele Y.1\"]].astype(float)    \n",
    "    y=df_custom[\"Encoded_Target\"].astype(int)\n",
    "    X_train, X_test, y_train, y_test = train_test_split(X, y, test_size=0.33, random_state=42)\n",
    "    clf=RandomForestClassifier()\n",
    "    clf.fit(X_train,y_train)\n",
    "    val_score=np.mean(cross_val_score(clf, X, y, cv=3, scoring='accuracy'))\n",
    "    # print(val_score)\n",
    "    #print(clf.score(X_train,y_train))\n",
    "    #print(clf.score(X_test,y_test))\n",
    "    from sklearn.metrics import f1_score , balanced_accuracy_score\n",
    "    pred=clf.predict(X_test)\n",
    "    print(\" balanced accuracy score :\", balanced_accuracy_score(y_test,pred))\n",
    "    print(\" f1 score :\", f1_score(y_test,pred,average='weighted'))\n",
    "    return [assay,val_score]\n",
    "\n",
    "for assay in tqdm(call_df[\"Assay\"].unique()):\n",
    "    try:\n",
    "        data.append(get_model_performance(call_df,assay))\n",
    "    except Exception as e:\n",
    "        print(e)\n",
    "\n",
    "pd.DataFrame(data,columns=[\"Assay\",\"Cross-Val-Score\"]).to_csv(\"BaselineResults_standardised_RF.csv\",index=False)"
   ]
  },
  {
   "cell_type": "code",
   "execution_count": null,
   "id": "196b0c77",
   "metadata": {},
   "outputs": [],
   "source": [
    "import matplotlib.pyplot as plt\n",
    "%matplotlib inline\n",
    "\n",
    "ord_enc = OrdinalEncoder()\n",
    "df_custom=call_df[(call_df[\"Assay\"]==\"SPO11_TQ\")]\n",
    "df_custom=df_custom[df_custom[\"Plate\"]==df_custom[\"Plate\"].unique()[3]]\n",
    "df_custom[\"Encoded_Target\"]=ord_enc.fit_transform(df_custom[[\"Converted\"]])    \n",
    "df_custom[\"Allele X.1\"]=df_custom[\"Allele X.1\"].str.replace(\",\",\".\")\n",
    "df_custom[\"Allele Y.1\"]=df_custom[\"Allele Y.1\"].str.replace(\",\",\".\")\n",
    "    \n",
    "    \n",
    "X=df_custom[[\"Allele X.1\",\"Allele Y.1\"]].astype(float)    \n",
    "y=df_custom[\"Encoded_Target\"].astype(int)\n",
    "\n",
    "plt.scatter(X[\"Allele X.1\"],X[\"Allele Y.1\"],c=y)"
   ]
  },
  {
   "cell_type": "code",
   "execution_count": 24,
   "id": "ad3c13a7",
   "metadata": {},
   "outputs": [
    {
     "data": {
      "text/plain": [
       "array(['NTC', 'A:A', 'Invalid', 'A:G'], dtype=object)"
      ]
     },
     "execution_count": 24,
     "metadata": {},
     "output_type": "execute_result"
    },
    {
     "data": {
      "text/plain": [
       "array(['NTC', 'A:A', 'Invalid', 'A:G'], dtype=object)"
      ]
     },
     "execution_count": 24,
     "metadata": {},
     "output_type": "execute_result"
    },
    {
     "data": {
      "text/plain": [
       "array(['NTC', 'A:A', 'Invalid', 'A:G'], dtype=object)"
      ]
     },
     "execution_count": 24,
     "metadata": {},
     "output_type": "execute_result"
    },
    {
     "data": {
      "text/plain": [
       "array(['NTC', 'A:A', 'Invalid', 'A:G'], dtype=object)"
      ]
     },
     "execution_count": 24,
     "metadata": {},
     "output_type": "execute_result"
    }
   ],
   "source": [
    "df[df[\"Assay\"]==\"ENT8\"][\"Converted\"].unique()"
   ]
  },
  {
   "cell_type": "code",
   "execution_count": 42,
   "id": "0ee14ea0",
   "metadata": {},
   "outputs": [
    {
     "data": {
      "text/html": [
       "<div>\n",
       "<style scoped>\n",
       "    .dataframe tbody tr th:only-of-type {\n",
       "        vertical-align: middle;\n",
       "    }\n",
       "\n",
       "    .dataframe tbody tr th {\n",
       "        vertical-align: top;\n",
       "    }\n",
       "\n",
       "    .dataframe thead th {\n",
       "        text-align: right;\n",
       "    }\n",
       "</style>\n",
       "<table border=\"1\" class=\"dataframe\">\n",
       "  <thead>\n",
       "    <tr style=\"text-align: right;\">\n",
       "      <th></th>\n",
       "      <th>ID</th>\n",
       "      <th>Assay</th>\n",
       "      <th>Allele X</th>\n",
       "      <th>Allele Y</th>\n",
       "      <th>Name</th>\n",
       "      <th>Type</th>\n",
       "      <th>Auto</th>\n",
       "      <th>Confidence</th>\n",
       "      <th>Final</th>\n",
       "      <th>Converted</th>\n",
       "      <th>Allele X.1</th>\n",
       "      <th>Allele Y.1</th>\n",
       "      <th>Plate</th>\n",
       "      <th>Unnamed: 12</th>\n",
       "      <th>Unnamed: 13</th>\n",
       "      <th>ID,Assay,Allele X,Allele Y,Name,Type,Auto,Confidence,Final,Converted,Allele X,Allele Y</th>\n",
       "    </tr>\n",
       "  </thead>\n",
       "  <tbody>\n",
       "    <tr>\n",
       "      <th>174</th>\n",
       "      <td>S06-A84</td>\n",
       "      <td>SPO11_TQ</td>\n",
       "      <td>T</td>\n",
       "      <td>C</td>\n",
       "      <td>M8J4262</td>\n",
       "      <td>Unknown</td>\n",
       "      <td>YY</td>\n",
       "      <td>94,41</td>\n",
       "      <td>YY</td>\n",
       "      <td>C:C</td>\n",
       "      <td>0,971690164276072</td>\n",
       "      <td>1,83605035747971</td>\n",
       "      <td>N6L1604 DNC.csv</td>\n",
       "      <td>NaN</td>\n",
       "      <td>NaN</td>\n",
       "      <td>NaN</td>\n",
       "    </tr>\n",
       "    <tr>\n",
       "      <th>270</th>\n",
       "      <td>S95-A84</td>\n",
       "      <td>SPO11_TQ</td>\n",
       "      <td>T</td>\n",
       "      <td>C</td>\n",
       "      <td>XA25F1G24510W1</td>\n",
       "      <td>Unknown</td>\n",
       "      <td>XX</td>\n",
       "      <td>68,92</td>\n",
       "      <td>XY</td>\n",
       "      <td>T:C</td>\n",
       "      <td>1,51796966263052</td>\n",
       "      <td>0,806353032006396</td>\n",
       "      <td>N6L1604 DNC.csv</td>\n",
       "      <td>NaN</td>\n",
       "      <td>NaN</td>\n",
       "      <td>NaN</td>\n",
       "    </tr>\n",
       "    <tr>\n",
       "      <th>462</th>\n",
       "      <td>S94-A84</td>\n",
       "      <td>SPO11_TQ</td>\n",
       "      <td>T</td>\n",
       "      <td>C</td>\n",
       "      <td>XK24J1Z61V9</td>\n",
       "      <td>Control</td>\n",
       "      <td>YY</td>\n",
       "      <td>95,5</td>\n",
       "      <td>YY</td>\n",
       "      <td>C:C</td>\n",
       "      <td>0,749739107130308</td>\n",
       "      <td>1,13501836312469</td>\n",
       "      <td>N6L1604 DNC.csv</td>\n",
       "      <td>NaN</td>\n",
       "      <td>NaN</td>\n",
       "      <td>NaN</td>\n",
       "    </tr>\n",
       "    <tr>\n",
       "      <th>558</th>\n",
       "      <td>S04-A84</td>\n",
       "      <td>SPO11_TQ</td>\n",
       "      <td>T</td>\n",
       "      <td>C</td>\n",
       "      <td>XA25F1G21804K5</td>\n",
       "      <td>Unknown</td>\n",
       "      <td>XY</td>\n",
       "      <td>93,66</td>\n",
       "      <td>XY</td>\n",
       "      <td>T:C</td>\n",
       "      <td>1,75297058147463</td>\n",
       "      <td>1,02700276755875</td>\n",
       "      <td>N6L1604 DNC.csv</td>\n",
       "      <td>NaN</td>\n",
       "      <td>NaN</td>\n",
       "      <td>NaN</td>\n",
       "    </tr>\n",
       "    <tr>\n",
       "      <th>654</th>\n",
       "      <td>S93-A84</td>\n",
       "      <td>SPO11_TQ</td>\n",
       "      <td>T</td>\n",
       "      <td>C</td>\n",
       "      <td>XA25F1K24534C5</td>\n",
       "      <td>Unknown</td>\n",
       "      <td>XX</td>\n",
       "      <td>96,65</td>\n",
       "      <td>XX</td>\n",
       "      <td>T:T</td>\n",
       "      <td>1,5337097848515</td>\n",
       "      <td>0,611373202929894</td>\n",
       "      <td>N6L1604 DNC.csv</td>\n",
       "      <td>NaN</td>\n",
       "      <td>NaN</td>\n",
       "      <td>NaN</td>\n",
       "    </tr>\n",
       "    <tr>\n",
       "      <th>...</th>\n",
       "      <td>...</td>\n",
       "      <td>...</td>\n",
       "      <td>...</td>\n",
       "      <td>...</td>\n",
       "      <td>...</td>\n",
       "      <td>...</td>\n",
       "      <td>...</td>\n",
       "      <td>...</td>\n",
       "      <td>...</td>\n",
       "      <td>...</td>\n",
       "      <td>...</td>\n",
       "      <td>...</td>\n",
       "      <td>...</td>\n",
       "      <td>...</td>\n",
       "      <td>...</td>\n",
       "      <td>...</td>\n",
       "    </tr>\n",
       "    <tr>\n",
       "      <th>8526</th>\n",
       "      <td>S52-A84</td>\n",
       "      <td>SPO11_TQ</td>\n",
       "      <td>T</td>\n",
       "      <td>C</td>\n",
       "      <td>XN28F1C14523Z9</td>\n",
       "      <td>Unknown</td>\n",
       "      <td>XY</td>\n",
       "      <td>99,81</td>\n",
       "      <td>XY</td>\n",
       "      <td>T:C</td>\n",
       "      <td>1,53175377886933</td>\n",
       "      <td>1,07773615893314</td>\n",
       "      <td>N6L1760 DNC.csv</td>\n",
       "      <td>NaN</td>\n",
       "      <td>NaN</td>\n",
       "      <td>NaN</td>\n",
       "    </tr>\n",
       "    <tr>\n",
       "      <th>8622</th>\n",
       "      <td>S46-A84</td>\n",
       "      <td>SPO11_TQ</td>\n",
       "      <td>T</td>\n",
       "      <td>C</td>\n",
       "      <td>N8G8913</td>\n",
       "      <td>Control</td>\n",
       "      <td>XY</td>\n",
       "      <td>97,77</td>\n",
       "      <td>XY</td>\n",
       "      <td>T:C</td>\n",
       "      <td>1,51870906475987</td>\n",
       "      <td>1,0289833074832</td>\n",
       "      <td>N6L1760 DNC.csv</td>\n",
       "      <td>NaN</td>\n",
       "      <td>NaN</td>\n",
       "      <td>NaN</td>\n",
       "    </tr>\n",
       "    <tr>\n",
       "      <th>8814</th>\n",
       "      <td>S45-A84</td>\n",
       "      <td>SPO11_TQ</td>\n",
       "      <td>T</td>\n",
       "      <td>C</td>\n",
       "      <td>5bb8be4w</td>\n",
       "      <td>Unknown</td>\n",
       "      <td>XY</td>\n",
       "      <td>65,66</td>\n",
       "      <td>XY</td>\n",
       "      <td>T:C</td>\n",
       "      <td>1,31127899923129</td>\n",
       "      <td>1,38568275780658</td>\n",
       "      <td>N6L1760 DNC.csv</td>\n",
       "      <td>NaN</td>\n",
       "      <td>NaN</td>\n",
       "      <td>NaN</td>\n",
       "    </tr>\n",
       "    <tr>\n",
       "      <th>9006</th>\n",
       "      <td>S44-A84</td>\n",
       "      <td>SPO11_TQ</td>\n",
       "      <td>T</td>\n",
       "      <td>C</td>\n",
       "      <td>a9959cr2</td>\n",
       "      <td>Unknown</td>\n",
       "      <td>YY</td>\n",
       "      <td>99,95</td>\n",
       "      <td>YY</td>\n",
       "      <td>C:C</td>\n",
       "      <td>0,942177247910592</td>\n",
       "      <td>1,85601452532531</td>\n",
       "      <td>N6L1760 DNC.csv</td>\n",
       "      <td>NaN</td>\n",
       "      <td>NaN</td>\n",
       "      <td>NaN</td>\n",
       "    </tr>\n",
       "    <tr>\n",
       "      <th>9198</th>\n",
       "      <td>S43-A84</td>\n",
       "      <td>SPO11_TQ</td>\n",
       "      <td>T</td>\n",
       "      <td>C</td>\n",
       "      <td>waa6aads</td>\n",
       "      <td>Unknown</td>\n",
       "      <td>YY</td>\n",
       "      <td>99,85</td>\n",
       "      <td>YY</td>\n",
       "      <td>C:C</td>\n",
       "      <td>0,881292896629595</td>\n",
       "      <td>1,68574869354588</td>\n",
       "      <td>N6L1760 DNC.csv</td>\n",
       "      <td>NaN</td>\n",
       "      <td>NaN</td>\n",
       "      <td>NaN</td>\n",
       "    </tr>\n",
       "  </tbody>\n",
       "</table>\n",
       "<p>9026 rows × 16 columns</p>\n",
       "</div>"
      ],
      "text/plain": [
       "           ID     Assay Allele X Allele Y            Name     Type Auto  \\\n",
       "174   S06-A84  SPO11_TQ        T        C         M8J4262  Unknown   YY   \n",
       "270   S95-A84  SPO11_TQ        T        C  XA25F1G24510W1  Unknown   XX   \n",
       "462   S94-A84  SPO11_TQ        T        C     XK24J1Z61V9  Control   YY   \n",
       "558   S04-A84  SPO11_TQ        T        C  XA25F1G21804K5  Unknown   XY   \n",
       "654   S93-A84  SPO11_TQ        T        C  XA25F1K24534C5  Unknown   XX   \n",
       "...       ...       ...      ...      ...             ...      ...  ...   \n",
       "8526  S52-A84  SPO11_TQ        T        C  XN28F1C14523Z9  Unknown   XY   \n",
       "8622  S46-A84  SPO11_TQ        T        C         N8G8913  Control   XY   \n",
       "8814  S45-A84  SPO11_TQ        T        C        5bb8be4w  Unknown   XY   \n",
       "9006  S44-A84  SPO11_TQ        T        C        a9959cr2  Unknown   YY   \n",
       "9198  S43-A84  SPO11_TQ        T        C        waa6aads  Unknown   YY   \n",
       "\n",
       "     Confidence Final Converted         Allele X.1         Allele Y.1  \\\n",
       "174       94,41    YY       C:C  0,971690164276072   1,83605035747971   \n",
       "270       68,92    XY       T:C   1,51796966263052  0,806353032006396   \n",
       "462        95,5    YY       C:C  0,749739107130308   1,13501836312469   \n",
       "558       93,66    XY       T:C   1,75297058147463   1,02700276755875   \n",
       "654       96,65    XX       T:T    1,5337097848515  0,611373202929894   \n",
       "...         ...   ...       ...                ...                ...   \n",
       "8526      99,81    XY       T:C   1,53175377886933   1,07773615893314   \n",
       "8622      97,77    XY       T:C   1,51870906475987    1,0289833074832   \n",
       "8814      65,66    XY       T:C   1,31127899923129   1,38568275780658   \n",
       "9006      99,95    YY       C:C  0,942177247910592   1,85601452532531   \n",
       "9198      99,85    YY       C:C  0,881292896629595   1,68574869354588   \n",
       "\n",
       "                Plate  Unnamed: 12  Unnamed: 13  \\\n",
       "174   N6L1604 DNC.csv          NaN          NaN   \n",
       "270   N6L1604 DNC.csv          NaN          NaN   \n",
       "462   N6L1604 DNC.csv          NaN          NaN   \n",
       "558   N6L1604 DNC.csv          NaN          NaN   \n",
       "654   N6L1604 DNC.csv          NaN          NaN   \n",
       "...               ...          ...          ...   \n",
       "8526  N6L1760 DNC.csv          NaN          NaN   \n",
       "8622  N6L1760 DNC.csv          NaN          NaN   \n",
       "8814  N6L1760 DNC.csv          NaN          NaN   \n",
       "9006  N6L1760 DNC.csv          NaN          NaN   \n",
       "9198  N6L1760 DNC.csv          NaN          NaN   \n",
       "\n",
       "     ID,Assay,Allele X,Allele Y,Name,Type,Auto,Confidence,Final,Converted,Allele X,Allele Y  \n",
       "174                                                 NaN                                      \n",
       "270                                                 NaN                                      \n",
       "462                                                 NaN                                      \n",
       "558                                                 NaN                                      \n",
       "654                                                 NaN                                      \n",
       "...                                                 ...                                      \n",
       "8526                                                NaN                                      \n",
       "8622                                                NaN                                      \n",
       "8814                                                NaN                                      \n",
       "9006                                                NaN                                      \n",
       "9198                                                NaN                                      \n",
       "\n",
       "[9026 rows x 16 columns]"
      ]
     },
     "execution_count": 42,
     "metadata": {},
     "output_type": "execute_result"
    },
    {
     "data": {
      "text/html": [
       "<div>\n",
       "<style scoped>\n",
       "    .dataframe tbody tr th:only-of-type {\n",
       "        vertical-align: middle;\n",
       "    }\n",
       "\n",
       "    .dataframe tbody tr th {\n",
       "        vertical-align: top;\n",
       "    }\n",
       "\n",
       "    .dataframe thead th {\n",
       "        text-align: right;\n",
       "    }\n",
       "</style>\n",
       "<table border=\"1\" class=\"dataframe\">\n",
       "  <thead>\n",
       "    <tr style=\"text-align: right;\">\n",
       "      <th></th>\n",
       "      <th>ID</th>\n",
       "      <th>Assay</th>\n",
       "      <th>Allele X</th>\n",
       "      <th>Allele Y</th>\n",
       "      <th>Name</th>\n",
       "      <th>Type</th>\n",
       "      <th>Auto</th>\n",
       "      <th>Confidence</th>\n",
       "      <th>Final</th>\n",
       "      <th>Converted</th>\n",
       "      <th>Allele X.1</th>\n",
       "      <th>Allele Y.1</th>\n",
       "      <th>Plate</th>\n",
       "      <th>Unnamed: 12</th>\n",
       "      <th>Unnamed: 13</th>\n",
       "      <th>ID,Assay,Allele X,Allele Y,Name,Type,Auto,Confidence,Final,Converted,Allele X,Allele Y</th>\n",
       "    </tr>\n",
       "  </thead>\n",
       "  <tbody>\n",
       "    <tr>\n",
       "      <th>174</th>\n",
       "      <td>S06-A84</td>\n",
       "      <td>SPO11_TQ</td>\n",
       "      <td>T</td>\n",
       "      <td>C</td>\n",
       "      <td>M8J4262</td>\n",
       "      <td>Unknown</td>\n",
       "      <td>YY</td>\n",
       "      <td>94,41</td>\n",
       "      <td>YY</td>\n",
       "      <td>C:C</td>\n",
       "      <td>0,971690164276072</td>\n",
       "      <td>1,83605035747971</td>\n",
       "      <td>N6L1604 DNC.csv</td>\n",
       "      <td>NaN</td>\n",
       "      <td>NaN</td>\n",
       "      <td>NaN</td>\n",
       "    </tr>\n",
       "    <tr>\n",
       "      <th>270</th>\n",
       "      <td>S95-A84</td>\n",
       "      <td>SPO11_TQ</td>\n",
       "      <td>T</td>\n",
       "      <td>C</td>\n",
       "      <td>XA25F1G24510W1</td>\n",
       "      <td>Unknown</td>\n",
       "      <td>XX</td>\n",
       "      <td>68,92</td>\n",
       "      <td>XY</td>\n",
       "      <td>T:C</td>\n",
       "      <td>1,51796966263052</td>\n",
       "      <td>0,806353032006396</td>\n",
       "      <td>N6L1604 DNC.csv</td>\n",
       "      <td>NaN</td>\n",
       "      <td>NaN</td>\n",
       "      <td>NaN</td>\n",
       "    </tr>\n",
       "    <tr>\n",
       "      <th>462</th>\n",
       "      <td>S94-A84</td>\n",
       "      <td>SPO11_TQ</td>\n",
       "      <td>T</td>\n",
       "      <td>C</td>\n",
       "      <td>XK24J1Z61V9</td>\n",
       "      <td>Control</td>\n",
       "      <td>YY</td>\n",
       "      <td>95,5</td>\n",
       "      <td>YY</td>\n",
       "      <td>C:C</td>\n",
       "      <td>0,749739107130308</td>\n",
       "      <td>1,13501836312469</td>\n",
       "      <td>N6L1604 DNC.csv</td>\n",
       "      <td>NaN</td>\n",
       "      <td>NaN</td>\n",
       "      <td>NaN</td>\n",
       "    </tr>\n",
       "    <tr>\n",
       "      <th>558</th>\n",
       "      <td>S04-A84</td>\n",
       "      <td>SPO11_TQ</td>\n",
       "      <td>T</td>\n",
       "      <td>C</td>\n",
       "      <td>XA25F1G21804K5</td>\n",
       "      <td>Unknown</td>\n",
       "      <td>XY</td>\n",
       "      <td>93,66</td>\n",
       "      <td>XY</td>\n",
       "      <td>T:C</td>\n",
       "      <td>1,75297058147463</td>\n",
       "      <td>1,02700276755875</td>\n",
       "      <td>N6L1604 DNC.csv</td>\n",
       "      <td>NaN</td>\n",
       "      <td>NaN</td>\n",
       "      <td>NaN</td>\n",
       "    </tr>\n",
       "    <tr>\n",
       "      <th>654</th>\n",
       "      <td>S93-A84</td>\n",
       "      <td>SPO11_TQ</td>\n",
       "      <td>T</td>\n",
       "      <td>C</td>\n",
       "      <td>XA25F1K24534C5</td>\n",
       "      <td>Unknown</td>\n",
       "      <td>XX</td>\n",
       "      <td>96,65</td>\n",
       "      <td>XX</td>\n",
       "      <td>T:T</td>\n",
       "      <td>1,5337097848515</td>\n",
       "      <td>0,611373202929894</td>\n",
       "      <td>N6L1604 DNC.csv</td>\n",
       "      <td>NaN</td>\n",
       "      <td>NaN</td>\n",
       "      <td>NaN</td>\n",
       "    </tr>\n",
       "    <tr>\n",
       "      <th>...</th>\n",
       "      <td>...</td>\n",
       "      <td>...</td>\n",
       "      <td>...</td>\n",
       "      <td>...</td>\n",
       "      <td>...</td>\n",
       "      <td>...</td>\n",
       "      <td>...</td>\n",
       "      <td>...</td>\n",
       "      <td>...</td>\n",
       "      <td>...</td>\n",
       "      <td>...</td>\n",
       "      <td>...</td>\n",
       "      <td>...</td>\n",
       "      <td>...</td>\n",
       "      <td>...</td>\n",
       "      <td>...</td>\n",
       "    </tr>\n",
       "    <tr>\n",
       "      <th>8526</th>\n",
       "      <td>S52-A84</td>\n",
       "      <td>SPO11_TQ</td>\n",
       "      <td>T</td>\n",
       "      <td>C</td>\n",
       "      <td>XN28F1C14523Z9</td>\n",
       "      <td>Unknown</td>\n",
       "      <td>XY</td>\n",
       "      <td>99,81</td>\n",
       "      <td>XY</td>\n",
       "      <td>T:C</td>\n",
       "      <td>1,53175377886933</td>\n",
       "      <td>1,07773615893314</td>\n",
       "      <td>N6L1760 DNC.csv</td>\n",
       "      <td>NaN</td>\n",
       "      <td>NaN</td>\n",
       "      <td>NaN</td>\n",
       "    </tr>\n",
       "    <tr>\n",
       "      <th>8622</th>\n",
       "      <td>S46-A84</td>\n",
       "      <td>SPO11_TQ</td>\n",
       "      <td>T</td>\n",
       "      <td>C</td>\n",
       "      <td>N8G8913</td>\n",
       "      <td>Control</td>\n",
       "      <td>XY</td>\n",
       "      <td>97,77</td>\n",
       "      <td>XY</td>\n",
       "      <td>T:C</td>\n",
       "      <td>1,51870906475987</td>\n",
       "      <td>1,0289833074832</td>\n",
       "      <td>N6L1760 DNC.csv</td>\n",
       "      <td>NaN</td>\n",
       "      <td>NaN</td>\n",
       "      <td>NaN</td>\n",
       "    </tr>\n",
       "    <tr>\n",
       "      <th>8814</th>\n",
       "      <td>S45-A84</td>\n",
       "      <td>SPO11_TQ</td>\n",
       "      <td>T</td>\n",
       "      <td>C</td>\n",
       "      <td>5bb8be4w</td>\n",
       "      <td>Unknown</td>\n",
       "      <td>XY</td>\n",
       "      <td>65,66</td>\n",
       "      <td>XY</td>\n",
       "      <td>T:C</td>\n",
       "      <td>1,31127899923129</td>\n",
       "      <td>1,38568275780658</td>\n",
       "      <td>N6L1760 DNC.csv</td>\n",
       "      <td>NaN</td>\n",
       "      <td>NaN</td>\n",
       "      <td>NaN</td>\n",
       "    </tr>\n",
       "    <tr>\n",
       "      <th>9006</th>\n",
       "      <td>S44-A84</td>\n",
       "      <td>SPO11_TQ</td>\n",
       "      <td>T</td>\n",
       "      <td>C</td>\n",
       "      <td>a9959cr2</td>\n",
       "      <td>Unknown</td>\n",
       "      <td>YY</td>\n",
       "      <td>99,95</td>\n",
       "      <td>YY</td>\n",
       "      <td>C:C</td>\n",
       "      <td>0,942177247910592</td>\n",
       "      <td>1,85601452532531</td>\n",
       "      <td>N6L1760 DNC.csv</td>\n",
       "      <td>NaN</td>\n",
       "      <td>NaN</td>\n",
       "      <td>NaN</td>\n",
       "    </tr>\n",
       "    <tr>\n",
       "      <th>9198</th>\n",
       "      <td>S43-A84</td>\n",
       "      <td>SPO11_TQ</td>\n",
       "      <td>T</td>\n",
       "      <td>C</td>\n",
       "      <td>waa6aads</td>\n",
       "      <td>Unknown</td>\n",
       "      <td>YY</td>\n",
       "      <td>99,85</td>\n",
       "      <td>YY</td>\n",
       "      <td>C:C</td>\n",
       "      <td>0,881292896629595</td>\n",
       "      <td>1,68574869354588</td>\n",
       "      <td>N6L1760 DNC.csv</td>\n",
       "      <td>NaN</td>\n",
       "      <td>NaN</td>\n",
       "      <td>NaN</td>\n",
       "    </tr>\n",
       "  </tbody>\n",
       "</table>\n",
       "<p>9026 rows × 16 columns</p>\n",
       "</div>"
      ],
      "text/plain": [
       "           ID     Assay Allele X Allele Y            Name     Type Auto  \\\n",
       "174   S06-A84  SPO11_TQ        T        C         M8J4262  Unknown   YY   \n",
       "270   S95-A84  SPO11_TQ        T        C  XA25F1G24510W1  Unknown   XX   \n",
       "462   S94-A84  SPO11_TQ        T        C     XK24J1Z61V9  Control   YY   \n",
       "558   S04-A84  SPO11_TQ        T        C  XA25F1G21804K5  Unknown   XY   \n",
       "654   S93-A84  SPO11_TQ        T        C  XA25F1K24534C5  Unknown   XX   \n",
       "...       ...       ...      ...      ...             ...      ...  ...   \n",
       "8526  S52-A84  SPO11_TQ        T        C  XN28F1C14523Z9  Unknown   XY   \n",
       "8622  S46-A84  SPO11_TQ        T        C         N8G8913  Control   XY   \n",
       "8814  S45-A84  SPO11_TQ        T        C        5bb8be4w  Unknown   XY   \n",
       "9006  S44-A84  SPO11_TQ        T        C        a9959cr2  Unknown   YY   \n",
       "9198  S43-A84  SPO11_TQ        T        C        waa6aads  Unknown   YY   \n",
       "\n",
       "     Confidence Final Converted         Allele X.1         Allele Y.1  \\\n",
       "174       94,41    YY       C:C  0,971690164276072   1,83605035747971   \n",
       "270       68,92    XY       T:C   1,51796966263052  0,806353032006396   \n",
       "462        95,5    YY       C:C  0,749739107130308   1,13501836312469   \n",
       "558       93,66    XY       T:C   1,75297058147463   1,02700276755875   \n",
       "654       96,65    XX       T:T    1,5337097848515  0,611373202929894   \n",
       "...         ...   ...       ...                ...                ...   \n",
       "8526      99,81    XY       T:C   1,53175377886933   1,07773615893314   \n",
       "8622      97,77    XY       T:C   1,51870906475987    1,0289833074832   \n",
       "8814      65,66    XY       T:C   1,31127899923129   1,38568275780658   \n",
       "9006      99,95    YY       C:C  0,942177247910592   1,85601452532531   \n",
       "9198      99,85    YY       C:C  0,881292896629595   1,68574869354588   \n",
       "\n",
       "                Plate  Unnamed: 12  Unnamed: 13  \\\n",
       "174   N6L1604 DNC.csv          NaN          NaN   \n",
       "270   N6L1604 DNC.csv          NaN          NaN   \n",
       "462   N6L1604 DNC.csv          NaN          NaN   \n",
       "558   N6L1604 DNC.csv          NaN          NaN   \n",
       "654   N6L1604 DNC.csv          NaN          NaN   \n",
       "...               ...          ...          ...   \n",
       "8526  N6L1760 DNC.csv          NaN          NaN   \n",
       "8622  N6L1760 DNC.csv          NaN          NaN   \n",
       "8814  N6L1760 DNC.csv          NaN          NaN   \n",
       "9006  N6L1760 DNC.csv          NaN          NaN   \n",
       "9198  N6L1760 DNC.csv          NaN          NaN   \n",
       "\n",
       "     ID,Assay,Allele X,Allele Y,Name,Type,Auto,Confidence,Final,Converted,Allele X,Allele Y  \n",
       "174                                                 NaN                                      \n",
       "270                                                 NaN                                      \n",
       "462                                                 NaN                                      \n",
       "558                                                 NaN                                      \n",
       "654                                                 NaN                                      \n",
       "...                                                 ...                                      \n",
       "8526                                                NaN                                      \n",
       "8622                                                NaN                                      \n",
       "8814                                                NaN                                      \n",
       "9006                                                NaN                                      \n",
       "9198                                                NaN                                      \n",
       "\n",
       "[9026 rows x 16 columns]"
      ]
     },
     "execution_count": 42,
     "metadata": {},
     "output_type": "execute_result"
    },
    {
     "data": {
      "text/html": [
       "<div>\n",
       "<style scoped>\n",
       "    .dataframe tbody tr th:only-of-type {\n",
       "        vertical-align: middle;\n",
       "    }\n",
       "\n",
       "    .dataframe tbody tr th {\n",
       "        vertical-align: top;\n",
       "    }\n",
       "\n",
       "    .dataframe thead th {\n",
       "        text-align: right;\n",
       "    }\n",
       "</style>\n",
       "<table border=\"1\" class=\"dataframe\">\n",
       "  <thead>\n",
       "    <tr style=\"text-align: right;\">\n",
       "      <th></th>\n",
       "      <th>ID</th>\n",
       "      <th>Assay</th>\n",
       "      <th>Allele X</th>\n",
       "      <th>Allele Y</th>\n",
       "      <th>Name</th>\n",
       "      <th>Type</th>\n",
       "      <th>Auto</th>\n",
       "      <th>Confidence</th>\n",
       "      <th>Final</th>\n",
       "      <th>Converted</th>\n",
       "      <th>Allele X.1</th>\n",
       "      <th>Allele Y.1</th>\n",
       "      <th>Plate</th>\n",
       "      <th>Unnamed: 12</th>\n",
       "      <th>Unnamed: 13</th>\n",
       "      <th>ID,Assay,Allele X,Allele Y,Name,Type,Auto,Confidence,Final,Converted,Allele X,Allele Y</th>\n",
       "    </tr>\n",
       "  </thead>\n",
       "  <tbody>\n",
       "    <tr>\n",
       "      <th>174</th>\n",
       "      <td>S06-A84</td>\n",
       "      <td>SPO11_TQ</td>\n",
       "      <td>T</td>\n",
       "      <td>C</td>\n",
       "      <td>M8J4262</td>\n",
       "      <td>Unknown</td>\n",
       "      <td>YY</td>\n",
       "      <td>94,41</td>\n",
       "      <td>YY</td>\n",
       "      <td>C:C</td>\n",
       "      <td>0,971690164276072</td>\n",
       "      <td>1,83605035747971</td>\n",
       "      <td>N6L1604 DNC.csv</td>\n",
       "      <td>NaN</td>\n",
       "      <td>NaN</td>\n",
       "      <td>NaN</td>\n",
       "    </tr>\n",
       "    <tr>\n",
       "      <th>270</th>\n",
       "      <td>S95-A84</td>\n",
       "      <td>SPO11_TQ</td>\n",
       "      <td>T</td>\n",
       "      <td>C</td>\n",
       "      <td>XA25F1G24510W1</td>\n",
       "      <td>Unknown</td>\n",
       "      <td>XX</td>\n",
       "      <td>68,92</td>\n",
       "      <td>XY</td>\n",
       "      <td>T:C</td>\n",
       "      <td>1,51796966263052</td>\n",
       "      <td>0,806353032006396</td>\n",
       "      <td>N6L1604 DNC.csv</td>\n",
       "      <td>NaN</td>\n",
       "      <td>NaN</td>\n",
       "      <td>NaN</td>\n",
       "    </tr>\n",
       "    <tr>\n",
       "      <th>462</th>\n",
       "      <td>S94-A84</td>\n",
       "      <td>SPO11_TQ</td>\n",
       "      <td>T</td>\n",
       "      <td>C</td>\n",
       "      <td>XK24J1Z61V9</td>\n",
       "      <td>Control</td>\n",
       "      <td>YY</td>\n",
       "      <td>95,5</td>\n",
       "      <td>YY</td>\n",
       "      <td>C:C</td>\n",
       "      <td>0,749739107130308</td>\n",
       "      <td>1,13501836312469</td>\n",
       "      <td>N6L1604 DNC.csv</td>\n",
       "      <td>NaN</td>\n",
       "      <td>NaN</td>\n",
       "      <td>NaN</td>\n",
       "    </tr>\n",
       "    <tr>\n",
       "      <th>558</th>\n",
       "      <td>S04-A84</td>\n",
       "      <td>SPO11_TQ</td>\n",
       "      <td>T</td>\n",
       "      <td>C</td>\n",
       "      <td>XA25F1G21804K5</td>\n",
       "      <td>Unknown</td>\n",
       "      <td>XY</td>\n",
       "      <td>93,66</td>\n",
       "      <td>XY</td>\n",
       "      <td>T:C</td>\n",
       "      <td>1,75297058147463</td>\n",
       "      <td>1,02700276755875</td>\n",
       "      <td>N6L1604 DNC.csv</td>\n",
       "      <td>NaN</td>\n",
       "      <td>NaN</td>\n",
       "      <td>NaN</td>\n",
       "    </tr>\n",
       "    <tr>\n",
       "      <th>654</th>\n",
       "      <td>S93-A84</td>\n",
       "      <td>SPO11_TQ</td>\n",
       "      <td>T</td>\n",
       "      <td>C</td>\n",
       "      <td>XA25F1K24534C5</td>\n",
       "      <td>Unknown</td>\n",
       "      <td>XX</td>\n",
       "      <td>96,65</td>\n",
       "      <td>XX</td>\n",
       "      <td>T:T</td>\n",
       "      <td>1,5337097848515</td>\n",
       "      <td>0,611373202929894</td>\n",
       "      <td>N6L1604 DNC.csv</td>\n",
       "      <td>NaN</td>\n",
       "      <td>NaN</td>\n",
       "      <td>NaN</td>\n",
       "    </tr>\n",
       "    <tr>\n",
       "      <th>...</th>\n",
       "      <td>...</td>\n",
       "      <td>...</td>\n",
       "      <td>...</td>\n",
       "      <td>...</td>\n",
       "      <td>...</td>\n",
       "      <td>...</td>\n",
       "      <td>...</td>\n",
       "      <td>...</td>\n",
       "      <td>...</td>\n",
       "      <td>...</td>\n",
       "      <td>...</td>\n",
       "      <td>...</td>\n",
       "      <td>...</td>\n",
       "      <td>...</td>\n",
       "      <td>...</td>\n",
       "      <td>...</td>\n",
       "    </tr>\n",
       "    <tr>\n",
       "      <th>8526</th>\n",
       "      <td>S52-A84</td>\n",
       "      <td>SPO11_TQ</td>\n",
       "      <td>T</td>\n",
       "      <td>C</td>\n",
       "      <td>XN28F1C14523Z9</td>\n",
       "      <td>Unknown</td>\n",
       "      <td>XY</td>\n",
       "      <td>99,81</td>\n",
       "      <td>XY</td>\n",
       "      <td>T:C</td>\n",
       "      <td>1,53175377886933</td>\n",
       "      <td>1,07773615893314</td>\n",
       "      <td>N6L1760 DNC.csv</td>\n",
       "      <td>NaN</td>\n",
       "      <td>NaN</td>\n",
       "      <td>NaN</td>\n",
       "    </tr>\n",
       "    <tr>\n",
       "      <th>8622</th>\n",
       "      <td>S46-A84</td>\n",
       "      <td>SPO11_TQ</td>\n",
       "      <td>T</td>\n",
       "      <td>C</td>\n",
       "      <td>N8G8913</td>\n",
       "      <td>Control</td>\n",
       "      <td>XY</td>\n",
       "      <td>97,77</td>\n",
       "      <td>XY</td>\n",
       "      <td>T:C</td>\n",
       "      <td>1,51870906475987</td>\n",
       "      <td>1,0289833074832</td>\n",
       "      <td>N6L1760 DNC.csv</td>\n",
       "      <td>NaN</td>\n",
       "      <td>NaN</td>\n",
       "      <td>NaN</td>\n",
       "    </tr>\n",
       "    <tr>\n",
       "      <th>8814</th>\n",
       "      <td>S45-A84</td>\n",
       "      <td>SPO11_TQ</td>\n",
       "      <td>T</td>\n",
       "      <td>C</td>\n",
       "      <td>5bb8be4w</td>\n",
       "      <td>Unknown</td>\n",
       "      <td>XY</td>\n",
       "      <td>65,66</td>\n",
       "      <td>XY</td>\n",
       "      <td>T:C</td>\n",
       "      <td>1,31127899923129</td>\n",
       "      <td>1,38568275780658</td>\n",
       "      <td>N6L1760 DNC.csv</td>\n",
       "      <td>NaN</td>\n",
       "      <td>NaN</td>\n",
       "      <td>NaN</td>\n",
       "    </tr>\n",
       "    <tr>\n",
       "      <th>9006</th>\n",
       "      <td>S44-A84</td>\n",
       "      <td>SPO11_TQ</td>\n",
       "      <td>T</td>\n",
       "      <td>C</td>\n",
       "      <td>a9959cr2</td>\n",
       "      <td>Unknown</td>\n",
       "      <td>YY</td>\n",
       "      <td>99,95</td>\n",
       "      <td>YY</td>\n",
       "      <td>C:C</td>\n",
       "      <td>0,942177247910592</td>\n",
       "      <td>1,85601452532531</td>\n",
       "      <td>N6L1760 DNC.csv</td>\n",
       "      <td>NaN</td>\n",
       "      <td>NaN</td>\n",
       "      <td>NaN</td>\n",
       "    </tr>\n",
       "    <tr>\n",
       "      <th>9198</th>\n",
       "      <td>S43-A84</td>\n",
       "      <td>SPO11_TQ</td>\n",
       "      <td>T</td>\n",
       "      <td>C</td>\n",
       "      <td>waa6aads</td>\n",
       "      <td>Unknown</td>\n",
       "      <td>YY</td>\n",
       "      <td>99,85</td>\n",
       "      <td>YY</td>\n",
       "      <td>C:C</td>\n",
       "      <td>0,881292896629595</td>\n",
       "      <td>1,68574869354588</td>\n",
       "      <td>N6L1760 DNC.csv</td>\n",
       "      <td>NaN</td>\n",
       "      <td>NaN</td>\n",
       "      <td>NaN</td>\n",
       "    </tr>\n",
       "  </tbody>\n",
       "</table>\n",
       "<p>9026 rows × 16 columns</p>\n",
       "</div>"
      ],
      "text/plain": [
       "           ID     Assay Allele X Allele Y            Name     Type Auto  \\\n",
       "174   S06-A84  SPO11_TQ        T        C         M8J4262  Unknown   YY   \n",
       "270   S95-A84  SPO11_TQ        T        C  XA25F1G24510W1  Unknown   XX   \n",
       "462   S94-A84  SPO11_TQ        T        C     XK24J1Z61V9  Control   YY   \n",
       "558   S04-A84  SPO11_TQ        T        C  XA25F1G21804K5  Unknown   XY   \n",
       "654   S93-A84  SPO11_TQ        T        C  XA25F1K24534C5  Unknown   XX   \n",
       "...       ...       ...      ...      ...             ...      ...  ...   \n",
       "8526  S52-A84  SPO11_TQ        T        C  XN28F1C14523Z9  Unknown   XY   \n",
       "8622  S46-A84  SPO11_TQ        T        C         N8G8913  Control   XY   \n",
       "8814  S45-A84  SPO11_TQ        T        C        5bb8be4w  Unknown   XY   \n",
       "9006  S44-A84  SPO11_TQ        T        C        a9959cr2  Unknown   YY   \n",
       "9198  S43-A84  SPO11_TQ        T        C        waa6aads  Unknown   YY   \n",
       "\n",
       "     Confidence Final Converted         Allele X.1         Allele Y.1  \\\n",
       "174       94,41    YY       C:C  0,971690164276072   1,83605035747971   \n",
       "270       68,92    XY       T:C   1,51796966263052  0,806353032006396   \n",
       "462        95,5    YY       C:C  0,749739107130308   1,13501836312469   \n",
       "558       93,66    XY       T:C   1,75297058147463   1,02700276755875   \n",
       "654       96,65    XX       T:T    1,5337097848515  0,611373202929894   \n",
       "...         ...   ...       ...                ...                ...   \n",
       "8526      99,81    XY       T:C   1,53175377886933   1,07773615893314   \n",
       "8622      97,77    XY       T:C   1,51870906475987    1,0289833074832   \n",
       "8814      65,66    XY       T:C   1,31127899923129   1,38568275780658   \n",
       "9006      99,95    YY       C:C  0,942177247910592   1,85601452532531   \n",
       "9198      99,85    YY       C:C  0,881292896629595   1,68574869354588   \n",
       "\n",
       "                Plate  Unnamed: 12  Unnamed: 13  \\\n",
       "174   N6L1604 DNC.csv          NaN          NaN   \n",
       "270   N6L1604 DNC.csv          NaN          NaN   \n",
       "462   N6L1604 DNC.csv          NaN          NaN   \n",
       "558   N6L1604 DNC.csv          NaN          NaN   \n",
       "654   N6L1604 DNC.csv          NaN          NaN   \n",
       "...               ...          ...          ...   \n",
       "8526  N6L1760 DNC.csv          NaN          NaN   \n",
       "8622  N6L1760 DNC.csv          NaN          NaN   \n",
       "8814  N6L1760 DNC.csv          NaN          NaN   \n",
       "9006  N6L1760 DNC.csv          NaN          NaN   \n",
       "9198  N6L1760 DNC.csv          NaN          NaN   \n",
       "\n",
       "     ID,Assay,Allele X,Allele Y,Name,Type,Auto,Confidence,Final,Converted,Allele X,Allele Y  \n",
       "174                                                 NaN                                      \n",
       "270                                                 NaN                                      \n",
       "462                                                 NaN                                      \n",
       "558                                                 NaN                                      \n",
       "654                                                 NaN                                      \n",
       "...                                                 ...                                      \n",
       "8526                                                NaN                                      \n",
       "8622                                                NaN                                      \n",
       "8814                                                NaN                                      \n",
       "9006                                                NaN                                      \n",
       "9198                                                NaN                                      \n",
       "\n",
       "[9026 rows x 16 columns]"
      ]
     },
     "execution_count": 42,
     "metadata": {},
     "output_type": "execute_result"
    },
    {
     "data": {
      "text/html": [
       "<div>\n",
       "<style scoped>\n",
       "    .dataframe tbody tr th:only-of-type {\n",
       "        vertical-align: middle;\n",
       "    }\n",
       "\n",
       "    .dataframe tbody tr th {\n",
       "        vertical-align: top;\n",
       "    }\n",
       "\n",
       "    .dataframe thead th {\n",
       "        text-align: right;\n",
       "    }\n",
       "</style>\n",
       "<table border=\"1\" class=\"dataframe\">\n",
       "  <thead>\n",
       "    <tr style=\"text-align: right;\">\n",
       "      <th></th>\n",
       "      <th>ID</th>\n",
       "      <th>Assay</th>\n",
       "      <th>Allele X</th>\n",
       "      <th>Allele Y</th>\n",
       "      <th>Name</th>\n",
       "      <th>Type</th>\n",
       "      <th>Auto</th>\n",
       "      <th>Confidence</th>\n",
       "      <th>Final</th>\n",
       "      <th>Converted</th>\n",
       "      <th>Allele X.1</th>\n",
       "      <th>Allele Y.1</th>\n",
       "      <th>Plate</th>\n",
       "      <th>Unnamed: 12</th>\n",
       "      <th>Unnamed: 13</th>\n",
       "      <th>ID,Assay,Allele X,Allele Y,Name,Type,Auto,Confidence,Final,Converted,Allele X,Allele Y</th>\n",
       "    </tr>\n",
       "  </thead>\n",
       "  <tbody>\n",
       "    <tr>\n",
       "      <th>174</th>\n",
       "      <td>S06-A84</td>\n",
       "      <td>SPO11_TQ</td>\n",
       "      <td>T</td>\n",
       "      <td>C</td>\n",
       "      <td>M8J4262</td>\n",
       "      <td>Unknown</td>\n",
       "      <td>YY</td>\n",
       "      <td>94,41</td>\n",
       "      <td>YY</td>\n",
       "      <td>C:C</td>\n",
       "      <td>0,971690164276072</td>\n",
       "      <td>1,83605035747971</td>\n",
       "      <td>N6L1604 DNC.csv</td>\n",
       "      <td>NaN</td>\n",
       "      <td>NaN</td>\n",
       "      <td>NaN</td>\n",
       "    </tr>\n",
       "    <tr>\n",
       "      <th>270</th>\n",
       "      <td>S95-A84</td>\n",
       "      <td>SPO11_TQ</td>\n",
       "      <td>T</td>\n",
       "      <td>C</td>\n",
       "      <td>XA25F1G24510W1</td>\n",
       "      <td>Unknown</td>\n",
       "      <td>XX</td>\n",
       "      <td>68,92</td>\n",
       "      <td>XY</td>\n",
       "      <td>T:C</td>\n",
       "      <td>1,51796966263052</td>\n",
       "      <td>0,806353032006396</td>\n",
       "      <td>N6L1604 DNC.csv</td>\n",
       "      <td>NaN</td>\n",
       "      <td>NaN</td>\n",
       "      <td>NaN</td>\n",
       "    </tr>\n",
       "    <tr>\n",
       "      <th>462</th>\n",
       "      <td>S94-A84</td>\n",
       "      <td>SPO11_TQ</td>\n",
       "      <td>T</td>\n",
       "      <td>C</td>\n",
       "      <td>XK24J1Z61V9</td>\n",
       "      <td>Control</td>\n",
       "      <td>YY</td>\n",
       "      <td>95,5</td>\n",
       "      <td>YY</td>\n",
       "      <td>C:C</td>\n",
       "      <td>0,749739107130308</td>\n",
       "      <td>1,13501836312469</td>\n",
       "      <td>N6L1604 DNC.csv</td>\n",
       "      <td>NaN</td>\n",
       "      <td>NaN</td>\n",
       "      <td>NaN</td>\n",
       "    </tr>\n",
       "    <tr>\n",
       "      <th>558</th>\n",
       "      <td>S04-A84</td>\n",
       "      <td>SPO11_TQ</td>\n",
       "      <td>T</td>\n",
       "      <td>C</td>\n",
       "      <td>XA25F1G21804K5</td>\n",
       "      <td>Unknown</td>\n",
       "      <td>XY</td>\n",
       "      <td>93,66</td>\n",
       "      <td>XY</td>\n",
       "      <td>T:C</td>\n",
       "      <td>1,75297058147463</td>\n",
       "      <td>1,02700276755875</td>\n",
       "      <td>N6L1604 DNC.csv</td>\n",
       "      <td>NaN</td>\n",
       "      <td>NaN</td>\n",
       "      <td>NaN</td>\n",
       "    </tr>\n",
       "    <tr>\n",
       "      <th>654</th>\n",
       "      <td>S93-A84</td>\n",
       "      <td>SPO11_TQ</td>\n",
       "      <td>T</td>\n",
       "      <td>C</td>\n",
       "      <td>XA25F1K24534C5</td>\n",
       "      <td>Unknown</td>\n",
       "      <td>XX</td>\n",
       "      <td>96,65</td>\n",
       "      <td>XX</td>\n",
       "      <td>T:T</td>\n",
       "      <td>1,5337097848515</td>\n",
       "      <td>0,611373202929894</td>\n",
       "      <td>N6L1604 DNC.csv</td>\n",
       "      <td>NaN</td>\n",
       "      <td>NaN</td>\n",
       "      <td>NaN</td>\n",
       "    </tr>\n",
       "    <tr>\n",
       "      <th>...</th>\n",
       "      <td>...</td>\n",
       "      <td>...</td>\n",
       "      <td>...</td>\n",
       "      <td>...</td>\n",
       "      <td>...</td>\n",
       "      <td>...</td>\n",
       "      <td>...</td>\n",
       "      <td>...</td>\n",
       "      <td>...</td>\n",
       "      <td>...</td>\n",
       "      <td>...</td>\n",
       "      <td>...</td>\n",
       "      <td>...</td>\n",
       "      <td>...</td>\n",
       "      <td>...</td>\n",
       "      <td>...</td>\n",
       "    </tr>\n",
       "    <tr>\n",
       "      <th>8526</th>\n",
       "      <td>S52-A84</td>\n",
       "      <td>SPO11_TQ</td>\n",
       "      <td>T</td>\n",
       "      <td>C</td>\n",
       "      <td>XN28F1C14523Z9</td>\n",
       "      <td>Unknown</td>\n",
       "      <td>XY</td>\n",
       "      <td>99,81</td>\n",
       "      <td>XY</td>\n",
       "      <td>T:C</td>\n",
       "      <td>1,53175377886933</td>\n",
       "      <td>1,07773615893314</td>\n",
       "      <td>N6L1760 DNC.csv</td>\n",
       "      <td>NaN</td>\n",
       "      <td>NaN</td>\n",
       "      <td>NaN</td>\n",
       "    </tr>\n",
       "    <tr>\n",
       "      <th>8622</th>\n",
       "      <td>S46-A84</td>\n",
       "      <td>SPO11_TQ</td>\n",
       "      <td>T</td>\n",
       "      <td>C</td>\n",
       "      <td>N8G8913</td>\n",
       "      <td>Control</td>\n",
       "      <td>XY</td>\n",
       "      <td>97,77</td>\n",
       "      <td>XY</td>\n",
       "      <td>T:C</td>\n",
       "      <td>1,51870906475987</td>\n",
       "      <td>1,0289833074832</td>\n",
       "      <td>N6L1760 DNC.csv</td>\n",
       "      <td>NaN</td>\n",
       "      <td>NaN</td>\n",
       "      <td>NaN</td>\n",
       "    </tr>\n",
       "    <tr>\n",
       "      <th>8814</th>\n",
       "      <td>S45-A84</td>\n",
       "      <td>SPO11_TQ</td>\n",
       "      <td>T</td>\n",
       "      <td>C</td>\n",
       "      <td>5bb8be4w</td>\n",
       "      <td>Unknown</td>\n",
       "      <td>XY</td>\n",
       "      <td>65,66</td>\n",
       "      <td>XY</td>\n",
       "      <td>T:C</td>\n",
       "      <td>1,31127899923129</td>\n",
       "      <td>1,38568275780658</td>\n",
       "      <td>N6L1760 DNC.csv</td>\n",
       "      <td>NaN</td>\n",
       "      <td>NaN</td>\n",
       "      <td>NaN</td>\n",
       "    </tr>\n",
       "    <tr>\n",
       "      <th>9006</th>\n",
       "      <td>S44-A84</td>\n",
       "      <td>SPO11_TQ</td>\n",
       "      <td>T</td>\n",
       "      <td>C</td>\n",
       "      <td>a9959cr2</td>\n",
       "      <td>Unknown</td>\n",
       "      <td>YY</td>\n",
       "      <td>99,95</td>\n",
       "      <td>YY</td>\n",
       "      <td>C:C</td>\n",
       "      <td>0,942177247910592</td>\n",
       "      <td>1,85601452532531</td>\n",
       "      <td>N6L1760 DNC.csv</td>\n",
       "      <td>NaN</td>\n",
       "      <td>NaN</td>\n",
       "      <td>NaN</td>\n",
       "    </tr>\n",
       "    <tr>\n",
       "      <th>9198</th>\n",
       "      <td>S43-A84</td>\n",
       "      <td>SPO11_TQ</td>\n",
       "      <td>T</td>\n",
       "      <td>C</td>\n",
       "      <td>waa6aads</td>\n",
       "      <td>Unknown</td>\n",
       "      <td>YY</td>\n",
       "      <td>99,85</td>\n",
       "      <td>YY</td>\n",
       "      <td>C:C</td>\n",
       "      <td>0,881292896629595</td>\n",
       "      <td>1,68574869354588</td>\n",
       "      <td>N6L1760 DNC.csv</td>\n",
       "      <td>NaN</td>\n",
       "      <td>NaN</td>\n",
       "      <td>NaN</td>\n",
       "    </tr>\n",
       "  </tbody>\n",
       "</table>\n",
       "<p>9026 rows × 16 columns</p>\n",
       "</div>"
      ],
      "text/plain": [
       "           ID     Assay Allele X Allele Y            Name     Type Auto  \\\n",
       "174   S06-A84  SPO11_TQ        T        C         M8J4262  Unknown   YY   \n",
       "270   S95-A84  SPO11_TQ        T        C  XA25F1G24510W1  Unknown   XX   \n",
       "462   S94-A84  SPO11_TQ        T        C     XK24J1Z61V9  Control   YY   \n",
       "558   S04-A84  SPO11_TQ        T        C  XA25F1G21804K5  Unknown   XY   \n",
       "654   S93-A84  SPO11_TQ        T        C  XA25F1K24534C5  Unknown   XX   \n",
       "...       ...       ...      ...      ...             ...      ...  ...   \n",
       "8526  S52-A84  SPO11_TQ        T        C  XN28F1C14523Z9  Unknown   XY   \n",
       "8622  S46-A84  SPO11_TQ        T        C         N8G8913  Control   XY   \n",
       "8814  S45-A84  SPO11_TQ        T        C        5bb8be4w  Unknown   XY   \n",
       "9006  S44-A84  SPO11_TQ        T        C        a9959cr2  Unknown   YY   \n",
       "9198  S43-A84  SPO11_TQ        T        C        waa6aads  Unknown   YY   \n",
       "\n",
       "     Confidence Final Converted         Allele X.1         Allele Y.1  \\\n",
       "174       94,41    YY       C:C  0,971690164276072   1,83605035747971   \n",
       "270       68,92    XY       T:C   1,51796966263052  0,806353032006396   \n",
       "462        95,5    YY       C:C  0,749739107130308   1,13501836312469   \n",
       "558       93,66    XY       T:C   1,75297058147463   1,02700276755875   \n",
       "654       96,65    XX       T:T    1,5337097848515  0,611373202929894   \n",
       "...         ...   ...       ...                ...                ...   \n",
       "8526      99,81    XY       T:C   1,53175377886933   1,07773615893314   \n",
       "8622      97,77    XY       T:C   1,51870906475987    1,0289833074832   \n",
       "8814      65,66    XY       T:C   1,31127899923129   1,38568275780658   \n",
       "9006      99,95    YY       C:C  0,942177247910592   1,85601452532531   \n",
       "9198      99,85    YY       C:C  0,881292896629595   1,68574869354588   \n",
       "\n",
       "                Plate  Unnamed: 12  Unnamed: 13  \\\n",
       "174   N6L1604 DNC.csv          NaN          NaN   \n",
       "270   N6L1604 DNC.csv          NaN          NaN   \n",
       "462   N6L1604 DNC.csv          NaN          NaN   \n",
       "558   N6L1604 DNC.csv          NaN          NaN   \n",
       "654   N6L1604 DNC.csv          NaN          NaN   \n",
       "...               ...          ...          ...   \n",
       "8526  N6L1760 DNC.csv          NaN          NaN   \n",
       "8622  N6L1760 DNC.csv          NaN          NaN   \n",
       "8814  N6L1760 DNC.csv          NaN          NaN   \n",
       "9006  N6L1760 DNC.csv          NaN          NaN   \n",
       "9198  N6L1760 DNC.csv          NaN          NaN   \n",
       "\n",
       "     ID,Assay,Allele X,Allele Y,Name,Type,Auto,Confidence,Final,Converted,Allele X,Allele Y  \n",
       "174                                                 NaN                                      \n",
       "270                                                 NaN                                      \n",
       "462                                                 NaN                                      \n",
       "558                                                 NaN                                      \n",
       "654                                                 NaN                                      \n",
       "...                                                 ...                                      \n",
       "8526                                                NaN                                      \n",
       "8622                                                NaN                                      \n",
       "8814                                                NaN                                      \n",
       "9006                                                NaN                                      \n",
       "9198                                                NaN                                      \n",
       "\n",
       "[9026 rows x 16 columns]"
      ]
     },
     "execution_count": 42,
     "metadata": {},
     "output_type": "execute_result"
    }
   ],
   "source": [
    "call_df[(call_df[\"Assay\"]==\"SPO11_TQ\")]"
   ]
  },
  {
   "cell_type": "code",
   "execution_count": null,
   "id": "9ab14b88",
   "metadata": {},
   "outputs": [],
   "source": []
  }
 ],
 "metadata": {
  "kernelspec": {
   "display_name": "Python 3 (ipykernel)",
   "language": "python",
   "name": "python3"
  },
  "language_info": {
   "codemirror_mode": {
    "name": "ipython",
    "version": 3
   },
   "file_extension": ".py",
   "mimetype": "text/x-python",
   "name": "python",
   "nbconvert_exporter": "python",
   "pygments_lexer": "ipython3",
   "version": "3.10.9"
  }
 },
 "nbformat": 4,
 "nbformat_minor": 5
}
