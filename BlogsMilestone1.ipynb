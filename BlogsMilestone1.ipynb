{
 "cells": [
  {
   "cell_type": "code",
   "execution_count": 1,
   "metadata": {
    "collapsed": true
   },
   "outputs": [],
   "source": [
    "from bs4 import BeautifulSoup\n",
    "import urllib\n",
    "import urllib.request\n",
    "import warnings\n",
    "warnings.filterwarnings('ignore')"
   ]
  },
  {
   "cell_type": "code",
   "execution_count": 2,
   "metadata": {
    "collapsed": true
   },
   "outputs": [],
   "source": [
    "url='http://tomtunguz.com'\n",
    "html=urllib.request.urlopen(url).read()\n",
    "html=html.decode('utf8')\n",
    "soup=html\n",
    "blog_url=url\n",
    "soup = BeautifulSoup(html, 'html.parser')"
   ]
  },
  {
   "cell_type": "code",
   "execution_count": 3,
   "metadata": {
    "collapsed": true
   },
   "outputs": [],
   "source": [
    "soup = BeautifulSoup(html, 'html.parser')"
   ]
  },
  {
   "cell_type": "code",
   "execution_count": 4,
   "metadata": {
    "collapsed": true
   },
   "outputs": [],
   "source": [
    "scriptTags = soup.findAll('h1', attrs = {'id':True})"
   ]
  },
  {
   "cell_type": "code",
   "execution_count": 5,
   "metadata": {},
   "outputs": [
    {
     "data": {
      "text/plain": [
       "10"
      ]
     },
     "execution_count": 5,
     "metadata": {},
     "output_type": "execute_result"
    }
   ],
   "source": [
    "len(scriptTags)"
   ]
  },
  {
   "cell_type": "code",
   "execution_count": 6,
   "metadata": {
    "collapsed": true
   },
   "outputs": [],
   "source": [
    "blog3=[]\n",
    "for post  in range(len(scriptTags)):\n",
    "    title=scriptTags[post].text\n",
    "    href='http://'+blog_url.split('/')[2]+scriptTags[post].find('a')['href']\n",
    "    url=href\n",
    "    html=urllib.request.urlopen(url).read()\n",
    "    html=html.decode('utf8')\n",
    "    soup=html\n",
    "    soup = BeautifulSoup(html, 'html.parser')\n",
    "    content_corpus=''\n",
    "    content=soup.findAll('p')\n",
    "    author='TOMASZ TUNGUZ'\n",
    "    date=content[len(content)-1].text.split('\\n            ')[1][9:-4]\n",
    "    for  c in range(2,len(content)-1):\n",
    "        content_corpus=content_corpus+content[c].text\n",
    "    blog3.append((blog_url.split('/')[2],date,title,author,content_corpus))"
   ]
  },
  {
   "cell_type": "code",
   "execution_count": 8,
   "metadata": {
    "collapsed": true
   },
   "outputs": [],
   "source": [
    " #blog3"
   ]
  },
  {
   "cell_type": "code",
   "execution_count": 9,
   "metadata": {
    "collapsed": true
   },
   "outputs": [],
   "source": [
    "url='http://tomtunguz.com'\n",
    "html=urllib.request.urlopen(url).read()\n",
    "html=html.decode('utf8')\n",
    "soup=html\n",
    "blog_url=url"
   ]
  },
  {
   "cell_type": "code",
   "execution_count": 10,
   "metadata": {
    "collapsed": true
   },
   "outputs": [],
   "source": [
    "soup = BeautifulSoup(html, 'html.parser')"
   ]
  },
  {
   "cell_type": "code",
   "execution_count": 11,
   "metadata": {
    "collapsed": true
   },
   "outputs": [],
   "source": [
    "max_pages=soup.findAll('a',attrs={'aria-label':'Last'})\n",
    "max_pages=int(max_pages[0]['href'].split('/')[2])"
   ]
  },
  {
   "cell_type": "code",
   "execution_count": 115,
   "metadata": {},
   "outputs": [
    {
     "name": "stdout",
     "output_type": "stream",
     "text": [
      "1\n",
      "2\n",
      "3\n",
      "4\n",
      "5\n",
      "6\n",
      "7\n",
      "8\n",
      "9\n",
      "10\n",
      "11\n",
      "12\n",
      "13\n",
      "14\n",
      "15\n",
      "16\n",
      "17\n",
      "18\n",
      "19\n",
      "20\n",
      "21\n",
      "22\n",
      "23\n",
      "24\n",
      "25\n",
      "26\n",
      "27\n",
      "28\n",
      "29\n",
      "30\n",
      "31\n",
      "32\n",
      "33\n",
      "34\n",
      "35\n",
      "36\n",
      "37\n",
      "38\n",
      "39\n",
      "40\n",
      "41\n",
      "42\n",
      "43\n",
      "44\n",
      "45\n",
      "46\n",
      "47\n",
      "48\n",
      "49\n",
      "50\n",
      "51\n",
      "52\n",
      "53\n",
      "54\n",
      "55\n",
      "56\n",
      "57\n",
      "58\n",
      "59\n",
      "60\n",
      "61\n",
      "62\n",
      "63\n",
      "64\n",
      "65\n",
      "66\n",
      "67\n",
      "68\n",
      "69\n",
      "70\n",
      "71\n",
      "72\n",
      "73\n",
      "74\n",
      "75\n",
      "76\n",
      "77\n",
      "78\n",
      "79\n",
      "80\n",
      "81\n",
      "82\n"
     ]
    }
   ],
   "source": [
    "for page in  range(1,max_pages-1):\n",
    "    print(page)\n",
    "    url='http://tomtunguz.com/'+'page/'+str(page)+\"/\"\n",
    "    html=urllib.request.urlopen(url).read()\n",
    "    html=html.decode('utf8')\n",
    "    soup = BeautifulSoup(html, 'html.parser')\n",
    "    scriptTags = soup.findAll('h1', attrs = {'id':True})\n",
    "    for post  in range(len(scriptTags)):\n",
    "        title=scriptTags[post].text\n",
    "        href='http://'+blog_url.split('/')[2]+scriptTags[post].find('a')['href']\n",
    "        url=href\n",
    "        user_agent = 'Mozilla/5.0 (Windows; U; Windows NT 5.1; en-US; rv:1.9.0.7) Gecko/2009021910 Firefox/3.0.7'\n",
    "        headers={'User-Agent':user_agent,} \n",
    "        request=urllib.request.Request(url,None,headers)\n",
    "        response = urllib.request.urlopen(request)\n",
    "        data = response.read() # The data u need\n",
    "        #html=urllib.request.urlopen(url).read()\n",
    "        html=data.decode('utf8')\n",
    "        soup=html\n",
    "        soup = BeautifulSoup(html, 'html.parser')\n",
    "        content_corpus=''\n",
    "        content=soup.findAll('p')\n",
    "        author='TOMASZ TUNGUZ'\n",
    "        if len(content)!=0:\n",
    "            date=content[len(content)-1].text.split('\\n            ')[1][9:-4]\n",
    "            for  c in range(2,len(content)-1):\n",
    "                content_corpus=content_corpus+content[c].text\n",
    "            blog3.append((blog_url.split('/')[2],date,title,author,content_corpus))"
   ]
  },
  {
   "cell_type": "code",
   "execution_count": 84,
   "metadata": {
    "collapsed": true
   },
   "outputs": [],
   "source": [
    " \n",
    "url='http://firstround.com/review/management/'\n",
    " \n",
    " \n",
    "import requests\n",
    "r = requests.get(url)\n",
    "html=r.text\n",
    "\n",
    "soup = BeautifulSoup(html, 'html.parser')\n",
    "scriptTags = soup.findAll('a', attrs = {'class':'_TitleLink'})\n",
    "len(scriptTags)"
   ]
  },
  {
   "cell_type": "code",
   "execution_count": 86,
   "metadata": {
    "collapsed": true
   },
   "outputs": [],
   "source": [
    "soup = BeautifulSoup(html, 'html.parser')"
   ]
  },
  {
   "cell_type": "code",
   "execution_count": 90,
   "metadata": {
    "collapsed": true
   },
   "outputs": [],
   "source": [
    "scriptTags = soup.findAll('a', attrs = {'class':'_TitleLink'})"
   ]
  },
  {
   "cell_type": "code",
   "execution_count": 91,
   "metadata": {},
   "outputs": [
    {
     "data": {
      "text/plain": [
       "123"
      ]
     },
     "execution_count": 91,
     "metadata": {},
     "output_type": "execute_result"
    }
   ],
   "source": [
    "len(scriptTags)"
   ]
  },
  {
   "cell_type": "code",
   "execution_count": 3,
   "metadata": {
    "collapsed": true
   },
   "outputs": [],
   "source": [
    " \n",
    "url='http://firstround.com/review/'\n",
    " \n",
    " \n",
    "import requests\n",
    "r = requests.get(url)\n",
    "html=r.text\n",
    "\n",
    "soup = BeautifulSoup(html, 'html.parser')\n",
    "categories= soup.findAll('a', attrs = {'class':'EntryEyebrow'})"
   ]
  },
  {
   "cell_type": "code",
   "execution_count": 2,
   "metadata": {
    "collapsed": true
   },
   "outputs": [],
   "source": [
    "file=open('/media/cc/A80C461E0C45E7C0/scrap/luxTest.txt',encoding = \"ISO-8859-1\")\n",
    "data=file.read()"
   ]
  },
  {
   "cell_type": "code",
   "execution_count": 3,
   "metadata": {
    "collapsed": true
   },
   "outputs": [],
   "source": [
    "soup = BeautifulSoup(data, 'html.parser')\n",
    " "
   ]
  },
  {
   "cell_type": "code",
   "execution_count": 13,
   "metadata": {},
   "outputs": [
    {
     "data": {
      "text/plain": [
       "[<h3 class=\"graf graf--h3 graf-after--figure graf--trailing graf--title\" id=\"1578\" name=\"1578\">Zebrafish, Deep Work, and Time Travel: Lux Recommends #79</h3>]"
      ]
     },
     "execution_count": 13,
     "metadata": {},
     "output_type": "execute_result"
    }
   ],
   "source": [
    "scriptTags = soup.findAll('h3',attrs={'name':True,'id':1578})\n",
    "scriptTags"
   ]
  },
  {
   "cell_type": "code",
   "execution_count": 8,
   "metadata": {},
   "outputs": [
    {
     "data": {
      "text/plain": [
       "8"
      ]
     },
     "execution_count": 8,
     "metadata": {},
     "output_type": "execute_result"
    }
   ],
   "source": [
    " \n",
    "url='http://firstround.com/review/fundraising/'\n",
    " \n",
    " \n",
    "import requests\n",
    "r = requests.get(url)\n",
    "html=r.text\n",
    "\n",
    "soup = BeautifulSoup(html, 'html.parser')\n",
    "scriptTags = soup.findAll('h3', attrs = {'class':'_Title'})\n",
    "len(scriptTags)"
   ]
  },
  {
   "cell_type": "code",
   "execution_count": 141,
   "metadata": {},
   "outputs": [
    {
     "data": {
      "text/plain": [
       "[<a class=\"_TitleLink\" href=\"/review/start-up-on-the-right-foot-build-a-customer-advisory-board/\">Start Up on the Right Foot â Build a Customer Advisory Board</a>,\n",
       " <a class=\"_TitleLink\" href=\"/review/how-zapier-pulled-off-its-one-and-done-approach-to-fundraising/\">How Zapier Pulled Off Its One-and-Done Approach to Fundraising</a>,\n",
       " <a class=\"_TitleLink\" href=\"/review/this-sales-plan-moves-the-needle-on-every-success-metric/\">This Sales Plan Moves the Needle on Every Success Metric</a>,\n",
       " <a class=\"_TitleLink\" href=\"/review/from-burning-millions-to-turning-profitable-in-seven-months-how-hoteltonight-did-it/\">From Burning Millions to Turning Profitable in Seven Months â How HotelTonight Did It</a>,\n",
       " <a class=\"_TitleLink\" href=\"/review/how-to-become-insanely-well-connected/\">How to Become Insanely Well-Connected</a>,\n",
       " <a class=\"_TitleLink\" href=\"/review/why-soldiers-and-chefs-make-the-best-product-managers/\">Why Chefs and Soldiers Make the Best Product Managers</a>,\n",
       " <a class=\"_TitleLink\" href=\"/review/pivot-survival-tactics-from-kabams-3-near-death-triumphs/\">Pivot Survival Tactics from Kabam's 3 Near-Death Triumphs</a>,\n",
       " <a class=\"_TitleLink\" href=\"/review/fighting-factions-how-startups-can-scale-without-mutiny/\">Fighting Factions: How Startups Can Scale Without Mutiny</a>]"
      ]
     },
     "execution_count": 141,
     "metadata": {},
     "output_type": "execute_result"
    }
   ],
   "source": [
    "scriptTags"
   ]
  },
  {
   "cell_type": "code",
   "execution_count": 144,
   "metadata": {
    "collapsed": true
   },
   "outputs": [],
   "source": []
  },
  {
   "cell_type": "code",
   "execution_count": 3,
   "metadata": {
    "collapsed": true
   },
   "outputs": [],
   "source": [
    " #########################################4th  blog#######################################################\n",
    "url='https://medium.com/jeevans-thoughts/post-ces-musings-on-drones-c51385b552e5?source=user_profile---------1----------'\n",
    " \n",
    "import requests\n",
    "r = requests.get(url)\n",
    "html=r.text\n",
    "\n",
    "soup = BeautifulSoup(html, 'html.parser')"
   ]
  },
  {
   "cell_type": "code",
   "execution_count": 4,
   "metadata": {},
   "outputs": [
    {
     "data": {
      "text/plain": [
       "16"
      ]
     },
     "execution_count": 4,
     "metadata": {},
     "output_type": "execute_result"
    }
   ],
   "source": [
    "scriptTags = soup.findAll('path')\n",
    "len(scriptTags)"
   ]
  },
  {
   "cell_type": "code",
   "execution_count": 5,
   "metadata": {},
   "outputs": [
    {
     "data": {
      "text/plain": [
       "<!DOCTYPE html>\n",
       "<html xmlns:cc=\"http://creativecommons.org/ns#\"><head prefix=\"og: http://ogp.me/ns# fb: http://ogp.me/ns/fb# medium-com: http://ogp.me/ns/fb/medium-com#\"><meta content=\"text/html; charset=utf-8\" http-equiv=\"Content-Type\"><meta content=\"width=device-width, initial-scale=1\" name=\"viewport\"><title>Post-CES musings on drones – jeevans-thoughts – Medium</title><link href=\"https://medium.com/jeevans-thoughts/post-ces-musings-on-drones-c51385b552e5\" rel=\"canonical\"><meta content=\"Post-CES musings on drones – jeevans-thoughts – Medium\" name=\"title\"><meta content=\"unsafe-url\" name=\"referrer\"><meta content=\"Thanks to Colin Guinn (Hangar), Tian Yu (Yuneec), David Merrill (Lemnos Labs), Lorenz Meier (ETH/PX4) and others for hanging out with me at CES and sparking the thoughts that led to this short post…\" name=\"description\"><meta content=\"#000000\" name=\"theme-color\"><meta content=\"Post-CES musings on drones – jeevans-thoughts – Medium\" property=\"og:title\"><meta content=\"https://medium.com/jeevans-thoughts/post-ces-musings-on-drones-c51385b552e5\" property=\"og:url\"><meta content=\"https://cdn-images-1.medium.com/max/1200/1*zN40wOP2VQI9Br2ZEVBAJQ.png\" property=\"og:image\"><meta content=\"542599432471018\" property=\"fb:app_id\"><meta content=\"Thanks to Colin Guinn (Hangar), Tian Yu (Yuneec), David Merrill (Lemnos Labs), Lorenz Meier (ETH/PX4) and others for hanging out with me at…\" property=\"og:description\"><meta content=\"Thanks to Colin Guinn (Hangar), Tian Yu (Yuneec), David Merrill (Lemnos Labs), Lorenz Meier (ETH/PX4) and others for hanging out with me at…\" name=\"twitter:description\"><meta content=\"https://cdn-images-1.medium.com/max/1200/1*zN40wOP2VQI9Br2ZEVBAJQ.png\" name=\"twitter:image:src\"><link href=\"https://plus.google.com/103654360130207659246\" rel=\"publisher\"><link href=\"https://medium.com/@jeevank\" rel=\"author\"><meta content=\"Jeevan Kalanithi\" property=\"author\"><meta content=\"article\" property=\"og:type\"><meta content=\"summary_large_image\" name=\"twitter:card\"><meta content=\"https://www.facebook.com/medium\" property=\"article:publisher\"><meta content=\"https://medium.com/@jeevank\" property=\"article:author\"><meta content=\"index, follow\" name=\"robots\"><meta content=\"2017-01-10T20:21:04.500Z\" property=\"article:published_time\"><meta content=\"@zoinkit\" name=\"twitter:creator\"><meta content=\"@Medium\" name=\"twitter:site\"><meta content=\"Medium\" property=\"og:site_name\"><meta name=\"twitter:label1\" value=\"Reading time\"><meta name=\"twitter:data1\" value=\"6 min read\"><script type=\"application/ld+json\">{\"@context\":\"http://schema.org\",\"@type\":\"NewsArticle\",\"image\":{\"@type\":\"ImageObject\",\"width\":1024,\"height\":680,\"url\":\"https://cdn-images-1.medium.com/max/1024/1*zN40wOP2VQI9Br2ZEVBAJQ.png\"},\"datePublished\":\"2017-01-10T20:21:04.500Z\",\"dateModified\":\"2017-01-24T20:03:22.941Z\",\"headline\":\"Post-CES musings on drones\",\"name\":\"Post-CES musings on drones\",\"keywords\":[\"Drones\",\"Startup\",\"Ces 2017\",\"CES\"],\"author\":{\"@type\":\"Person\",\"name\":\"Jeevan Kalanithi\",\"url\":\"https://medium.com/@jeevank\"},\"creator\":[\"Jeevan Kalanithi\"],\"publisher\":{\"@type\":\"Organization\",\"name\":\"jeevans-thoughts\",\"url\":\"https://medium.com/jeevans-thoughts\",\"logo\":{\"@type\":\"ImageObject\",\"width\":60,\"height\":60,\"url\":\"https://cdn-images-1.medium.com/max/60/1*uJ1ybIYQOCqfAnmWxsf86Q.png\"}},\"mainEntityOfPage\":\"https://medium.com/jeevans-thoughts/post-ces-musings-on-drones-c51385b552e5\"}</script><meta content=\"Medium\" name=\"twitter:app:name:iphone\"><meta content=\"828256236\" name=\"twitter:app:id:iphone\"><meta content=\"medium://p/c51385b552e5\" name=\"twitter:app:url:iphone\"><meta content=\"Medium\" property=\"al:ios:app_name\"><meta content=\"828256236\" property=\"al:ios:app_store_id\"><meta content=\"com.medium.reader\" property=\"al:android:package\"><meta content=\"Medium\" property=\"al:android:app_name\"><meta content=\"medium://p/c51385b552e5\" property=\"al:ios:url\"><meta content=\"medium://p/c51385b552e5\" property=\"al:android:url\"><meta content=\"https://medium.com/jeevans-thoughts/post-ces-musings-on-drones-c51385b552e5\" property=\"al:web:url\"><link href=\"/osd.xml\" rel=\"search\" title=\"Medium\" type=\"application/opensearchdescription+xml\"/><link href=\"android-app://com.medium.reader/https/medium.com/p/c51385b552e5\" rel=\"alternate\"/><link href=\"https://cdn-static-1.medium.com/_/fp/css/main-base.0CRx-x5NQg3fY9RlgNYAbw.css\" rel=\"stylesheet\"><script>if (window.top !== window.self) window.top.location = window.self.location.href;var OB_startTime = new Date().getTime(); var OB_loadErrors = []; function _onerror(e) { OB_loadErrors.push(e) }; if (document.addEventListener) document.addEventListener(\"error\", _onerror, true); else if (document.attachEvent) document.attachEvent(\"onerror\", _onerror); function _asyncScript(u) {var d = document, f = d.getElementsByTagName(\"script\")[0], s = d.createElement(\"script\"); s.type = \"text/javascript\"; s.async = true; s.src = u; f.parentNode.insertBefore(s, f);}function _asyncStyles(u) {var d = document, f = d.getElementsByTagName(\"script\")[0], s = d.createElement(\"link\"); s.rel = \"stylesheet\"; s.href = u; f.parentNode.insertBefore(s, f); return s}(new Image()).src = \"/_/stat?event=pixel.load&origin=\" + encodeURIComponent(location.origin);</script><script>window.ga=window.ga||function(){(ga.q=ga.q||[]).push(arguments)};ga.l=+new Date; ga(\"create\", \"UA-24232453-2\", \"auto\", {\"allowLinker\": true, \"legacyCookieDomain\": window.location.hostname}); ga(\"send\", \"pageview\");</script><script async=\"\" src=\"https://www.google-analytics.com/analytics.js\"></script><script>(function () {var height = window.innerHeight || document.documentElement.clientHeight || document.body.clientHeight; var width = window.innerWidth || document.documentElement.clientWidth || document.body.clientWidth; document.write(\"<style>section.section-image--fullBleed.is-backgrounded {padding-top: \" + Math.round(1.1 * height) + \"px;}section.section-image--fullScreen.is-backgrounded, section.section-image--coverFade.is-backgrounded {min-height: \" + height + \"px; padding-top: \" + Math.round(0.5 * height) + \"px;}.u-sizeViewHeight100 {height: \" + height + \"px !important;}.u-sizeViewHeight110 {height: \" + Math.round(1.1 * height) + \"px !important;}.u-sizeViewHeightMin100 {min-height: \" + height + \"px !important;}.u-sizeViewHeightMax100 {max-height: \" + height + \"px !important;}section.section-image--coverFade {height: \" + height + \"px;}.section-aspectRatioViewportPlaceholder, .section-aspectRatioViewportCropPlaceholder {max-height: \" + height + \"px;}.section-aspectRatioViewportBottomSpacer, .section-aspectRatioViewportBottomPlaceholder {max-height: \" + Math.round(0.5 * height) + \"px;}.zoomable:before {top: \" + (-1 * height) + \"px; left: \" + (-1 * width) + \"px; padding: \" + height + \"px \" + width + \"px;}</style>\");})()</script><!--[if lt IE 9]><script charset=\"UTF-8\" src=\"https://cdn-static-1.medium.com/_/fp/js/shiv.RI2ePTZ5gFmMgLzG5bEVAA.js\"></script><![endif]--><link class=\"js-favicon\" href=\"https://cdn-static-1.medium.com/_/fp/icons/favicon-medium.TAS6uQ-Y7kcKgi0xjcYHXw.ico\" rel=\"icon\"><link href=\"https://cdn-images-1.medium.com/fit/c/152/152/1*8SsuOi-iyze_TbPx9MxniA.jpeg\" rel=\"apple-touch-icon\" sizes=\"152x152\"><link href=\"https://cdn-images-1.medium.com/fit/c/120/120/1*8SsuOi-iyze_TbPx9MxniA.jpeg\" rel=\"apple-touch-icon\" sizes=\"120x120\"><link href=\"https://cdn-images-1.medium.com/fit/c/76/76/1*8SsuOi-iyze_TbPx9MxniA.jpeg\" rel=\"apple-touch-icon\" sizes=\"76x76\"><link href=\"https://cdn-images-1.medium.com/fit/c/60/60/1*8SsuOi-iyze_TbPx9MxniA.jpeg\" rel=\"apple-touch-icon\" sizes=\"60x60\"><link color=\"#171717\" href=\"https://cdn-static-1.medium.com/_/fp/icons/favicon.KjTfUJo7yJH_fCoUzzH3cg.svg\" rel=\"mask-icon\"/></link></link></link></link></link></link></meta></meta></meta></meta></meta></meta></meta></meta></meta></meta></meta></meta></meta></meta></meta></meta></meta></meta></meta></meta></meta></meta></link></link></meta></meta></meta></meta></meta></meta></meta></meta></meta></meta></meta></link></meta></meta></head><body class=\" postShowScreen is-noJs\" itemscope=\"\"><script>document.body.className = document.body.className.replace(/(^|\\s)is-noJs(\\s|$)/, \"$1is-js$2\")</script><div class=\"site-main\" id=\"container\"><div class=\"butterBar butterBar--error\"></div><div class=\"surface\"><div class=\"screenContent\" id=\"prerendered\"><canvas class=\"canvas-renderer\"></canvas><div class=\"container u-maxWidth740 u-xs-margin0 notesPositionContainer js-notesPositionContainer\"></div><div class=\"metabar u-clearfix js-metabar\"><div class=\"metabar-inner u-marginAuto u-maxWidth1000 u-paddingLeft20 u-paddingRight20 js-metabarMiddle\"><div class=\"metabar-block metabar-block--left u-floatLeft u-height65 u-xs-height56\"><a class=\"siteNav-logo\" data-log-event=\"home\" href=\"https://medium.com/\"><span class=\"svgIcon svgIcon--logoNew svgIcon--45px is-flushLeft\"><svg class=\"svgIcon-use\" data-multipart=\"true\" height=\"45\" viewbox=\"-17 18 45 45\" width=\"45\"><path d=\"M11.525 28.078c-.472-.225-.858.002-.858.506v20.044l8.616 4.113c.948.46 1.717.14 1.717-.7v-19.3a.22.22 0 0 0-.124-.19l-9.35-4.46v-.01z\"></path><path d=\"M.333 43.696l9.83-15.247c.278-.43.89-.6 1.36-.38l9.364 4.47c.06.03.082.1.047.15L10.666 48.63.333 43.698v-.002z\"></path><path d=\"M-8.57 28.35c-.786-.375-1.053-.096-.592.62L.333 43.696l10.333 4.932L.356 32.635a.156.156 0 0 0-.06-.054l-8.866-4.23z\"></path><path d=\"M.333 52.033c0 .84-.643 1.22-1.43.844l-8.045-3.84c-.472-.224-.858-.82-.858-1.325V28.89c0-.672.515-.976 1.145-.675l9.133 4.36a.092.092 0 0 1 .055.084v19.37z\"></path></svg></span><span class=\"u-textScreenReader\">Homepage</span></a><div class=\"u-alignMiddle u-inlineBlock u-verticalAlignTop u-height65 u-xs-height56\"><div class=\"u-alignBlock\"><span class=\"u-inlineBlock u-height28 u-xs-height24 u-verticalAlignTop u-marginRight20 u-borderRightLighter\"></span></div></div><div class=\"u-alignMiddle u-inlineBlock u-verticalAlignTop u-height65 u-xs-height56 u-marginRight18\"><div class=\"u-alignBlock\"><a class=\"js-logCollection\" href=\"https://medium.com/jeevans-thoughts?source=logo-lo_8263925f1a23---55f7b4ba041f\"><img alt=\"jeevans-thoughts\" class=\"u-paddingTop5\" height=\"36\" src=\"https://cdn-images-1.medium.com/letterbox/36/36/50/50/1*uJ1ybIYQOCqfAnmWxsf86Q.png?source=logoAvatar-lo_8263925f1a23---55f7b4ba041f\" width=\"36\"/></a></div></div><div class=\"u-alignMiddle u-inlineBlock u-verticalAlignTop u-height65 u-xs-height56 u-xs-hide\"><div class=\"u-alignBlock\"><div class=\"buttonSet u-lineHeightInherit u-marginLeft0\"><div class=\"buttonSet-inner\"><button class=\"button button--primary u-paddingLeft10 u-paddingRight10 u-height19 u-lineHeight13 u-verticalAlignMiddle u-fontSize12 u-uiTextMedium button--small u-noUserSelect button--withChrome u-accentColor--buttonNormal js-relationshipButton is-smallPill\" data-action=\"sign-in-prompt\" data-collection-id=\"55f7b4ba041f\" data-redirect=\"https://medium.com/_/subscribe/collection/jeevans-thoughts\" data-requires-token=\"true\" data-sign-in-action=\"toggle-follow-collection\"><span class=\"button-label js-buttonLabel\">Follow</span></button></div><a aria-label=\"Visit “jeevans-thoughts” on Twitter\" class=\"button button--chromeless is-touchIconBlackPulse u-baseColor--buttonNormal button--withIcon button--withSvgIcon\" href=\"https://twitter.com/zoinkit\" rel=\"me\" target=\"_blank\" title=\"Visit “jeevans-thoughts” on Twitter\"><span class=\"button-defaultState\"><span class=\"svgIcon svgIcon--twitterFilled svgIcon--25px\"><svg class=\"svgIcon-use\" height=\"25\" viewbox=\"0 0 25 25\" width=\"25\"><path d=\"M21.725 5.338c-.744.47-1.605.804-2.513 1.006a3.978 3.978 0 0 0-2.942-1.293c-2.22 0-4.02 1.81-4.02 4.02 0 .32.034.63.07.94-3.31-.18-6.27-1.78-8.255-4.23a4.544 4.544 0 0 0-.574 2.01c.04 1.43.74 2.66 1.8 3.38-.63-.01-1.25-.19-1.79-.5v.08c0 1.93 1.38 3.56 3.23 3.95-.34.07-.7.12-1.07.14-.25-.02-.5-.04-.72-.07.49 1.58 1.97 2.74 3.74 2.8a8.49 8.49 0 0 1-5.02 1.72c-.3-.03-.62-.04-.93-.07A11.447 11.447 0 0 0 8.88 21c7.386 0 11.43-6.13 11.414-11.414.015-.21.01-.38 0-.578a7.604 7.604 0 0 0 2.01-2.08 7.27 7.27 0 0 1-2.297.645 3.856 3.856 0 0 0 1.72-2.23\"></path></svg></span></span></a></div></div></div></div><div class=\"metabar-block u-floatRight u-xs-absolute u-xs-textAlignRight u-xs-right0 u-xs-marginRight20 u-height65 u-xs-height56\"><div class=\"u-alignMiddle u-inlineBlock u-verticalAlignTop u-height65 u-xs-height56\"><div class=\"u-alignBlock\"><div class=\"buttonSet u-lineHeightInherit\"><a class=\"button button--primary button--chromeless u-accentColor--buttonNormal is-inSiteNavBar u-lineHeight30 u-height32\" data-action=\"sign-in-prompt\" data-action-source=\"nav_signup\" data-redirect=\"https://medium.com/jeevans-thoughts/post-ces-musings-on-drones-c51385b552e5?source=user_profile---------1----------\" href=\"https://medium.com/m/signin?redirect=https%3A%2F%2Fmedium.com%2Fjeevans-thoughts%2Fpost-ces-musings-on-drones-c51385b552e5%3Fsource%3Duser_profile---------1----------\">Sign in / Sign up</a></div></div></div></div></div></div><div class=\"metabar metabar--spacer js-metabarSpacer u-height65 u-xs-height56\"></div><main role=\"main\"><article class=\" u-sizeViewHeightMin100 u-overflowHidden postArticle postArticle--full is-withAccentColors u-marginBottom40\" lang=\"en\"><header class=\"container u-maxWidth740\"><div class=\"postMetaHeader u-paddingBottom10 row\"><div class=\"col u-size12of12 js-postMetaLockup\"><div class=\"postMetaLockup postMetaLockup--authorWithBio u-flex js-postMetaLockup\"><div class=\"u-flex0\"><a class=\"link avatar u-baseColor--link\" data-action=\"show-user-card\" data-action-source=\"post_header_lockup\" data-action-type=\"hover\" data-action-value=\"19ab048a9d61\" data-user-id=\"19ab048a9d61\" dir=\"auto\" href=\"https://medium.com/@jeevank?source=post_header_lockup\"><img alt=\"Go to the profile of Jeevan Kalanithi\" class=\"avatar-image avatar-image--smaller\" src=\"https://cdn-images-1.medium.com/fit/c/40/40/0*sgm0y20DDM306HJ9.\"/></a></div><div class=\"u-flex1 u-paddingLeft15 u-overflowHidden\"><a class=\"link link link--darken link--darker u-baseColor--link\" data-action=\"show-user-card\" data-action-source=\"post_header_lockup\" data-action-type=\"hover\" data-action-value=\"19ab048a9d61\" data-user-id=\"19ab048a9d61\" dir=\"auto\" href=\"https://medium.com/@jeevank?source=post_header_lockup\">Jeevan Kalanithi</a><span class=\"followState js-followState buttonSet-inner\" data-user-id=\"19ab048a9d61\"><button class=\"button u-paddingLeft10 u-paddingRight10 u-height19 u-lineHeight13 u-verticalAlignMiddle u-fontSize12 u-uiTextMedium u-noUserSelect button--withChrome u-baseColor--buttonNormal button--withHover button--unblock js-unblockButton u-marginLeft10 u-marginTopNegative2 u-xs-hide\" data-action=\"sign-in-prompt\" data-action-source=\"post_header_lockup\" data-requires-token=\"true\" data-sign-in-action=\"toggle-block-user\"><span class=\"button-label button-defaultState\">Blocked</span><span class=\"button-label button-hoverState\">Unblock</span></button><button class=\"button button--primary u-paddingLeft10 u-paddingRight10 u-height19 u-lineHeight13 u-verticalAlignMiddle u-fontSize12 u-uiTextMedium u-noUserSelect button--withChrome u-accentColor--buttonNormal button--follow js-followButton u-marginLeft10 u-marginTopNegative2 u-xs-hide\" data-action=\"sign-in-prompt\" data-action-source=\"post_header_lockup_follow\" data-redirect=\"https://medium.com/_/subscribe/user/19ab048a9d61\" data-requires-token=\"true\" data-sign-in-action=\"toggle-subscribe-user\"><span class=\"button-label button-defaultState js-buttonLabel\">Follow</span><span class=\"button-label button-activeState\">Following</span></button></span><div class=\"postMetaInline js-testPostMetaInlineSupplemental\"><time datetime=\"2017-01-10T20:21:04.500Z\">Jan 10</time><span class=\"middotDivider u-fontSize12\"></span><span class=\"readingTime\" title=\"6 min read\"></span></div></div></div></div></div></header><div class=\"postArticle-content js-postField js-notesSource js-trackedPost\" data-collection-id=\"55f7b4ba041f\" data-post-id=\"c51385b552e5\" data-source=\"post_page\" data-tracking-context=\"postPage\"><section class=\"section section--body section--first section--last\" name=\"1736\"><div class=\"section-divider\"><hr class=\"section-divider\"/></div><div class=\"section-content\"><div class=\"section-inner sectionLayout--insetColumn\"><h1 class=\"graf graf--h3 graf--leading graf--title\" id=\"986d\" name=\"986d\">Post-CES musings on drones</h1><p class=\"graf graf--p graf-after--h3\" id=\"15d7\" name=\"15d7\"><em class=\"markup--em markup--p-em\">Thanks to Colin Guinn (Hangar), Tian Yu (Yuneec), David Merrill (Lemnos Labs), Lorenz Meier (ETH/PX4) and others for hanging out with me at CES and sparking the thoughts that led to this short post.</em></p><figure class=\"graf graf--figure graf-after--p\" id=\"55b7\" name=\"55b7\"><div class=\"aspectRatioPlaceholder is-locked\" style=\"max-width: 700px; max-height: 465px;\"><div class=\"aspectRatioPlaceholder-fill\" style=\"padding-bottom: 66.4%;\"></div><img class=\"graf-image\" data-action=\"zoom\" data-action-value=\"1*zN40wOP2VQI9Br2ZEVBAJQ.png\" data-height=\"680\" data-image-id=\"1*zN40wOP2VQI9Br2ZEVBAJQ.png\" data-width=\"1024\" src=\"https://cdn-images-1.medium.com/max/800/1*zN40wOP2VQI9Br2ZEVBAJQ.png\"/></div><figcaption class=\"imageCaption\">DJI Mavic, all folded up!</figcaption></figure><p class=\"graf graf--p graf-after--figure\" id=\"529f\" name=\"529f\">I made my annual pilgrimage to CES last week. And for the first time in a long time, I went as a civilian observer with no ties to any specific company — which proved to be awesome. With no back-to-back-to-back meeting schedule, I was able to take the show in at an appropriate distance.</p><p class=\"graf graf--p graf-after--p\" id=\"445e\" name=\"445e\">Two observations.</p><p class=\"graf graf--p graf-after--p\" id=\"52ca\" name=\"52ca\"><strong class=\"markup--strong markup--p-strong\">I. There are fewer drone companies this year than last — 2016 included a major Extinction Event. </strong>In early 2016, the number of UAV companies at CES, especially from China, was enormous.</p><p class=\"graf graf--p graf-after--p\" id=\"a8bf\" name=\"a8bf\">2015 marked the Drone <a class=\"markup--anchor markup--p-anchor\" data-href=\"https://en.wikipedia.org/wiki/Cambrian_explosion\" href=\"https://en.wikipedia.org/wiki/Cambrian_explosion\" rel=\"nofollow noopener\" target=\"_blank\">Cambrian Explosion</a>, with a vast array of drones from a vast array of companies, each drone with curious though mostly minor variations in features, emerging from the primordial ooze. It was a sight to behold.</p><p class=\"graf graf--p graf-after--p\" id=\"2da8\" name=\"2da8\">But just like that, 2016 included the Drone <a class=\"markup--anchor markup--p-anchor\" data-href=\"https://en.wikipedia.org/wiki/Cambrian%E2%80%93Ordovician_extinction_event\" href=\"https://en.wikipedia.org/wiki/Cambrian%E2%80%93Ordovician_extinction_event\" rel=\"nofollow noopener\" target=\"_blank\">Extinction Event</a>, as many companies seemed to have quit the drone hardware game (or actually folded) as tough, powerful leaders (DJI) crowded out the market with superior products at shockingly low prices.</p><p class=\"graf graf--p graf-after--p\" id=\"69ac\" name=\"69ac\">At this point, Yuneec and DJI seem to be the only credible players left in the high volume drone hardware space. GoPro looks to re-enter this year too, and I hope they understand they must be in it for the long haul, or they should quit now.</p><p class=\"graf graf--p graf-after--p\" id=\"d8dc\" name=\"d8dc\">While there are a number of companies still set to launch a drone, I consider the door shut to all but the best capitalized, most iron-willed firms. All others are racing into a brick wall.</p><p class=\"graf graf--p graf-after--p\" id=\"f97f\" name=\"f97f\">Put another way, making a drone the user will actually buy today is orders of magnitude harder and more expensive than it was just two or so years ago. The bar has been set, and the bar is high.</p><p class=\"graf graf--p graf-after--p\" id=\"ea90\" name=\"ea90\"><strong class=\"markup--strong markup--p-strong\">II. There were no major drone tech/product announcements — the technological rate of change could be slowing. </strong>Interestingly, I didn’t see any major product announcements this year. The 2017 UAVs at CES were mostly minor updates from last year’s.</p><p class=\"graf graf--p graf-after--p\" id=\"83b7\" name=\"83b7\">I believe this is because the must-have features for a UAV are now (mostly) in place. This is a testament to the amazing speed of the market: the sophistication of tech in widely available drones today is jaw-dropping. Today you can purchase a drone with a miles-long HD wireless link, an epically good camera with rock-solid stabilization, and sophisticated sense-and-avoid behavior for about $1000. Crazy.</p><p class=\"graf graf--p graf-after--p\" id=\"6ee3\" name=\"6ee3\">The rate of change is slowing for a few reasons.</p><p class=\"graf graf--p graf-after--p\" id=\"efee\" name=\"efee\">Until recently, drones were obviously missing features that anyone would obviously want. It didn’t take a genius to figure out what the user wanted — but it did take an array of geniuses with a lot of money to actually deliver. These key features were, in order of appearance:</p><ol class=\"postList\"><li class=\"graf graf--li graf-after--p\" id=\"59f5\" name=\"59f5\"><strong class=\"markup--strong markup--li-strong\">Stable video</strong> — shaky video is hard to watch. The three axis gimbal solved this.</li><li class=\"graf graf--li graf-after--li\" id=\"9f9a\" name=\"9f9a\"><strong class=\"markup--strong markup--li-strong\">A good wireless link</strong> — being able to see what the drone is seeing in real-time is a must, and as a user I don’t want to live in fear that I will lose control of the drone if the link flakes out. DJI’s Lightbridge and other standards solved this.</li><li class=\"graf graf--li graf-after--li\" id=\"21a5\" name=\"21a5\"><strong class=\"markup--strong markup--li-strong\">Sense and avoid</strong> — I don’t want to crash my drone. Give me piece of mind. Intel RealSense (Yuneec) and DJI’s Movidius/Intel-based solutions are solving this.</li></ol><p class=\"graf graf--p graf-after--li\" id=\"f5ee\" name=\"f5ee\">Each one of these features took more time and money than the last to bring to market. They are now standard and expected. This means smaller companies won’t be able to enter the game.</p><p class=\"graf graf--p graf-after--p\" id=\"4a25\" name=\"4a25\">It follows that newer features will take longer to develop, so it’s not surprising that there weren’t big new announcements this year. It also follows that the newest features tend to be less desirable than the ones that came before. (I posit that there exists a general law of product maturation that explains this phenomenon: perhaps I’ll cover in a future post.)</p><p class=\"graf graf--p graf-after--p\" id=\"c0ac\" name=\"c0ac\">By way of analogy: smartphones, when they first came out, demonstrated big jumps in features from generation to generation. Each new feature “wowed” the users — first was obviously multi-touch itself; then GPS and reasonable data rates (3G); then voice control (Siri) and so on. Eventually, the pace slowed down such that today, all phones feel pretty much the same and the new features (better camera, water-resistance) seem less amazing. Each new feature is a little less “wow” than the one that came before.</p><p class=\"graf graf--p graf-after--p\" id=\"70e7\" name=\"70e7\">I argue this same pattern is happening to drones. It’s not a bad thing, by the way — it’s just the natural course of tech products.</p><p class=\"graf graf--p graf-after--p\" id=\"5582\" name=\"5582\">That all said, I do believe there are some big new things ahead for drones, despite the trends CES would indicate. We are still early in the drone story.</p><p class=\"graf graf--p graf-after--p\" id=\"20c8\" name=\"20c8\">Two predictions.</p><p class=\"graf graf--p graf-after--p\" id=\"61d4\" name=\"61d4\"><strong class=\"markup--strong markup--p-strong\">I. The stage is set for true autonomy — self-driving drones are coming. </strong>For the commercial user, one big missing feature actually involves getting <em class=\"markup--em markup--p-em\">rid </em>of something found in today’s UAVs — pilots.</p><p class=\"graf graf--p graf-after--p\" id=\"f397\" name=\"f397\">Just as self-driving cars are eliminating drivers, drone companies will begin to eliminate pilots. The economic pressure to remove humans from the equation is too great (in the commercial domain), and the technology is there — coming from both the drone industry itself, and from the self-driving car industry as well.</p><p class=\"graf graf--p graf-after--p\" id=\"42ad\" name=\"42ad\">DJI’s Inspire 2 has just about all you’d need to eliminate the pilot — sense-and-avoid in all directions, extensibility for adding an LTE link, you name it. We’re close.</p><p class=\"graf graf--p graf-after--p\" id=\"e9f5\" name=\"e9f5\">As I see it, the only missing pieces for self-driving drones are:</p><ul class=\"postList\"><li class=\"graf graf--li graf-after--p\" id=\"d621\" name=\"d621\"><strong class=\"markup--strong markup--li-strong\">Regulatory. </strong>BVLOS, or “beyond visual line of sight” operations, requires an FAA waiver. But regulations have a way of playing catch up to the tech and the user’s needs as opposed to blocking innovation completely. Just as Part 107 made commercial drone operations much easier, a new set of rules will allow truly autonomous drones to enter the airspace. It’s just a matter of time.</li><li class=\"graf graf--li graf-after--li\" id=\"4745\" name=\"4745\"><strong class=\"markup--strong markup--li-strong\">Wireless.</strong> Truly pilot-less drones want an LTE link to the cloud so that they can be told what to do from a distance and so that they can return their results to the user. But this isn’t an intrinsically hard technology problem to solve; it will just require cooperation with the carriers.</li><li class=\"graf graf--li graf-after--li\" id=\"9f3d\" name=\"9f3d\"><strong class=\"markup--strong markup--li-strong\">Product/market fit.</strong> The hunt for truly nailing the UX and delivering value with a pilot-less drones is ongoing and should not be underestimated. Getting the details right will take time. But it will happen.</li></ul><figure class=\"graf graf--figure graf-after--li\" id=\"b9b2\" name=\"b9b2\"><div class=\"aspectRatioPlaceholder is-locked\" style=\"max-width: 620px; max-height: 372px;\"><div class=\"aspectRatioPlaceholder-fill\" style=\"padding-bottom: 60%;\"></div><img class=\"graf-image\" data-height=\"372\" data-image-id=\"1*063Pkszc7UN8OpdGPD1GwQ.png\" data-width=\"620\" src=\"https://cdn-images-1.medium.com/max/800/1*063Pkszc7UN8OpdGPD1GwQ.png\"/></div><figcaption class=\"imageCaption\"><em class=\"markup--em markup--figure-em\">Google Wing UAV</em></figcaption></figure><p class=\"graf graf--p graf-after--figure\" id=\"41f3\" name=\"41f3\"><strong class=\"markup--strong markup--p-strong\">II. The VTOLs are coming. </strong>To date, the mass market has been dominated by multi-rotors. Amazon and Google (X, specifically) have shown interesting progress with VTOLs (“vertical take off and landing” drones — think drones that can move around and hold position like a helicopter when they need to, but can fly like planes when they want to: this means a combo of the maneuverability/usability of a multi-rotor drone with the flight times and range of a plane). Parrot has made a fixed-wing plane (The Disco) widely available too.</p><p class=\"graf graf--p graf-after--p\" id=\"76e6\" name=\"76e6\">With advancements in open-source autopilot software that can power VTOLs and the increasing sophistication and ambition from major drone manufacturers, I predict that VTOL’s will begin to hit the shelves of (semi-)mass market outlets soon — they won’t be limited to the likes of the military, Amazon and X. They will not be as high-volume as traditional multi-rotors, but a truly usable VTOL will begin to demand the user’s attention and dollars.</p><p class=\"graf graf--p graf-after--p\" id=\"ebb8\" name=\"ebb8\">There was no explicit evidence for this VTOL trend at CES, but I see it coming nonetheless. Small multi-rotors are not the end-game for UAVs.</p><p class=\"graf graf--p graf-after--p graf--trailing\" id=\"6ac0\" name=\"6ac0\">We’re getting far enough into the drone saga to see patterns — but big developments and opportunities are out there on the horizon.</p></div></div></section></div><footer class=\"u-paddingTop10\"><div class=\"container u-maxWidth740\"><div class=\"row\"><div class=\"col u-size12of12\"></div></div><div class=\"row\"><div class=\"col u-size12of12 js-postTags\"><div class=\"u-paddingBottom10\"><ul class=\"tags tags--postTags tags--borderless\"><li><a class=\"link u-baseColor--link\" data-action-source=\"post\" href=\"https://medium.com/tag/drones?source=post\">Drones</a></li><li><a class=\"link u-baseColor--link\" data-action-source=\"post\" href=\"https://medium.com/tag/startup?source=post\">Startup</a></li><li><a class=\"link u-baseColor--link\" data-action-source=\"post\" href=\"https://medium.com/tag/ces-2017?source=post\">Ces 2017</a></li><li><a class=\"link u-baseColor--link\" data-action-source=\"post\" href=\"https://medium.com/tag/ces?source=post\">CES</a></li></ul></div></div></div><div class=\"row js-postActionsFooter\"><div class=\"postActions col u-size12of12\"><div class=\"u-floatLeft buttonSet buttonSet--withLabels\"><div class=\"buttonSet-inner\"><div class=\"js-actionRecommend\" data-has-recommend-list=\"true\" data-is-icon-29px=\"true\" data-post-id=\"c51385b552e5\" data-source=\"post_actions_footer\"><button aria-label=\"Recommend to share this article with your followers and let the author know you liked it\" class=\"button button--primary button--large button--chromeless is-touchIconFadeInPulse u-accentColor--buttonNormal button--withIcon button--withSvgIcon u-accentColor--iconLight js-actionRecommendButton\" data-action=\"sign-in-prompt\" data-action-source=\"post_actions_footer\" data-redirect=\"https://medium.com/_/vote/p/c51385b552e5\" data-requires-token=\"true\" data-sign-in-action=\"upvote\" title=\"Recommend to share this article with your followers and let the author know you liked it\"><span class=\"button-defaultState\"><span class=\"svgIcon svgIcon--heart svgIcon--29px\"><svg class=\"svgIcon-use\" height=\"29\" viewbox=\"0 0 29 29\" width=\"29\"><path d=\"M16.215 23.716c-.348.288-.984.826-1.376 1.158a.526.526 0 0 1-.68 0c-.36-.307-.92-.78-1.22-1.03C9.22 20.734 3 15.527 3 10.734 3 7.02 5.916 4 9.5 4c1.948 0 3.77.898 5 2.434C15.73 4.898 17.552 4 19.5 4c3.584 0 6.5 3.02 6.5 6.734 0 4.9-6.125 9.96-9.785 12.982zM19.5 5.2c-1.774 0-3.423.923-4.41 2.468a.699.699 0 0 1-.59.323.706.706 0 0 1-.59-.32c-.988-1.54-2.637-2.47-4.41-2.47-2.922 0-5.3 2.49-5.3 5.54 0 4.23 6.19 9.41 9.517 12.19.217.18.566.48.783.66l.952-.79c3.496-2.88 9.348-7.72 9.348-12.05 0-3.05-2.378-5.53-5.3-5.53z\"></path></svg></span></span><span class=\"button-activeState\"><span class=\"svgIcon svgIcon--heartFilled svgIcon--29px\"><svg class=\"svgIcon-use\" height=\"29\" viewbox=\"0 0 29 29\" width=\"29\"><path d=\"M19.5 4c-1.948 0-3.77.898-5 2.434C13.27 4.898 11.448 4 9.5 4 5.916 4 3 7.02 3 10.734c0 4.793 6.227 10 9.95 13.11.296.25.853.723 1.212 1.03.196.166.48.166.677 0 .39-.332 1.02-.87 1.37-1.158 3.66-3.022 9.79-8.08 9.79-12.982C26 7.02 23.08 4 19.5 4z\" fill-rule=\"evenodd\"></path></svg></span></span></button><button class=\"button button--chromeless u-baseColor--buttonNormal\" data-action=\"show-recommends\" data-action-value=\"c51385b552e5\">12</button></div></div><div class=\"buttonSet-inner\"><button class=\"button button--large button--dark button--chromeless is-touchIconBlackPulse u-baseColor--buttonDark button--withIcon button--withSvgIcon\" data-action=\"scroll-to-responses\" data-action-source=\"post_actions_footer\"><span class=\"svgIcon svgIcon--response svgIcon--29px\"><svg class=\"svgIcon-use\" height=\"29\" viewbox=\"0 0 29 29\" width=\"29\"><path d=\"M21.27 20.058c1.89-1.826 2.754-4.17 2.754-6.674C24.024 8.21 19.67 4 14.1 4 8.53 4 4 8.21 4 13.384c0 5.175 4.53 9.385 10.1 9.385 1.007 0 2-.14 2.95-.41.285.25.592.49.918.7 1.306.87 2.716 1.31 4.19 1.31.276-.01.494-.14.6-.36a.625.625 0 0 0-.052-.65c-.61-.84-1.042-1.71-1.282-2.58a5.417 5.417 0 0 1-.154-.75zm-3.85 1.324l-.083-.28-.388.12a9.72 9.72 0 0 1-2.85.424c-4.96 0-8.99-3.706-8.99-8.262 0-4.556 4.03-8.263 8.99-8.263 4.95 0 8.77 3.71 8.77 8.27 0 2.25-.75 4.35-2.5 5.92l-.24.21v.32c0 .07 0 .19.02.37.03.29.1.6.19.92.19.7.49 1.4.89 2.08-.93-.14-1.83-.49-2.67-1.06-.34-.22-.88-.48-1.16-.74z\"></path></svg></span></button><button class=\"button button--chromeless u-baseColor--buttonNormal\" data-action=\"scroll-to-responses\">3</button></div></div><div class=\"u-floatRight buttonSet buttonSet--narrow\"><button aria-label=\"Share on Twitter\" class=\"button button--large button--dark button--chromeless is-touchIconBlackPulse u-baseColor--buttonDark button--withIcon button--withSvgIcon\" data-action=\"share-on-twitter\" data-action-source=\"post_actions_footer\" title=\"Share on Twitter\"><span class=\"svgIcon svgIcon--twitter svgIcon--29px\"><svg class=\"svgIcon-use\" height=\"29\" viewbox=\"0 0 29 29\" width=\"29\"><path d=\"M21.967 11.8c.018 5.93-4.607 11.18-11.177 11.18-2.172 0-4.25-.62-6.047-1.76l-.268.422-.038.5.186.013.168.012c.3.02.44.032.6.046 2.06-.026 3.95-.686 5.49-1.86l1.12-.85-1.4-.048c-1.57-.055-2.92-1.08-3.36-2.51l-.48.146-.05.5c.22.03.48.05.75.08.48-.02.87-.07 1.25-.15l2.33-.49-2.32-.49c-1.68-.35-2.91-1.83-2.91-3.55 0-.05 0-.01-.01.03l-.49-.1-.25.44c.63.36 1.35.57 2.07.58l1.7.04L7.4 13c-.978-.662-1.59-1.79-1.618-3.047a4.08 4.08 0 0 1 .524-1.8l-.825.07a12.188 12.188 0 0 0 8.81 4.515l.59.033-.06-.59v-.02c-.05-.43-.06-.63-.06-.87a3.617 3.617 0 0 1 6.27-2.45l.2.21.28-.06c1.01-.22 1.94-.59 2.73-1.09l-.75-.56c-.1.36-.04.89.12 1.36.23.68.58 1.13 1.17.85l-.21-.45-.42-.27c-.52.8-1.17 1.48-1.92 2L22 11l.016.28c.013.2.014.35 0 .52v.04zm.998.038c.018-.22.017-.417 0-.66l-.498.034.284.41a8.183 8.183 0 0 0 2.2-2.267l.97-1.48-1.6.755c.17-.08.3-.02.34.03a.914.914 0 0 1-.13-.292c-.1-.297-.13-.64-.1-.766l.36-1.254-1.1.695c-.69.438-1.51.764-2.41.963l.48.15a4.574 4.574 0 0 0-3.38-1.484 4.616 4.616 0 0 0-4.61 4.613c0 .29.02.51.08.984l.01.02.5-.06.03-.5c-3.17-.18-6.1-1.7-8.08-4.15l-.48-.56-.36.64c-.39.69-.62 1.48-.65 2.28.04 1.61.81 3.04 2.06 3.88l.3-.92c-.55-.02-1.11-.17-1.6-.45l-.59-.34-.14.67c-.02.08-.02.16 0 .24-.01 2.12 1.55 4.01 3.69 4.46l.1-.49-.1-.49c-.33.07-.67.12-1.03.14-.18-.02-.43-.05-.64-.07l-.76-.09.23.73c.57 1.84 2.29 3.14 4.28 3.21l-.28-.89a8.252 8.252 0 0 1-4.85 1.66c-.12-.01-.26-.02-.56-.05l-.17-.01-.18-.01L2.53 21l1.694 1.07a12.233 12.233 0 0 0 6.58 1.917c7.156 0 12.2-5.73 12.18-12.18l-.002.04z\"></path></svg></span></button><button aria-label=\"Share on Facebook\" class=\"button button--large button--dark button--chromeless is-touchIconBlackPulse u-baseColor--buttonDark button--withIcon button--withSvgIcon\" data-action=\"share-on-facebook\" data-action-source=\"post_actions_footer\" title=\"Share on Facebook\"><span class=\"svgIcon svgIcon--facebook svgIcon--29px\"><svg class=\"svgIcon-use\" height=\"29\" viewbox=\"0 0 29 29\" width=\"29\"><path d=\"M16.39 23.61v-5.808h1.846a.55.55 0 0 0 .546-.48l.36-2.797a.551.551 0 0 0-.547-.62H16.39V12.67c0-.67.12-.813.828-.813h1.474a.55.55 0 0 0 .55-.55V8.803a.55.55 0 0 0-.477-.545c-.436-.06-1.36-.116-2.22-.116-2.5 0-4.13 1.62-4.13 4.248v1.513H10.56a.551.551 0 0 0-.55.55v2.797c0 .304.248.55.55.55h1.855v5.76c-4.172-.96-7.215-4.7-7.215-9.1 0-5.17 4.17-9.36 9.31-9.36 5.14 0 9.31 4.19 9.31 9.36 0 4.48-3.155 8.27-7.43 9.15M14.51 4C8.76 4 4.1 8.684 4.1 14.46c0 5.162 3.75 9.523 8.778 10.32a.55.55 0 0 0 .637-.543v-6.985a.551.551 0 0 0-.55-.55H11.11v-1.697h1.855a.55.55 0 0 0 .55-.55v-2.063c0-2.02 1.136-3.148 3.03-3.148.567 0 1.156.027 1.597.06v1.453h-.924c-1.363 0-1.93.675-1.93 1.912v1.78c0 .3.247.55.55.55h2.132l-.218 1.69H15.84c-.305 0-.55.24-.55.55v7.02c0 .33.293.59.623.54 5.135-.7 9.007-5.11 9.007-10.36C24.92 8.68 20.26 4 14.51 4\"></path></svg></span></button></div></div></div></div><div class=\"js-postPromotionWrapper postPromotionWrapper\" data-location-id=\"footer_above_post_attribution\"></div><div class=\"container u-maxWidth740 js-postAttributionFooterContainer u-paddingTop20 u-paddingBottom20 u-marginTop10 u-borderTopLightest u-xs-paddingTop10 u-xs-paddingBottom10\"><div class=\"row js-postFooterInfo\"><div class=\"col u-size6of12 u-xs-size12of12\"><li class=\"u-block u-paddingBottom18 js-cardUser\"><div class=\"u-marginLeft20 u-floatRight\"><span class=\"followState js-followState buttonSet-inner\" data-user-id=\"19ab048a9d61\"><button class=\"button button--small u-noUserSelect button--withChrome u-baseColor--buttonNormal button--withHover button--unblock js-unblockButton\" data-action=\"sign-in-prompt\" data-action-source=\"footer_card\" data-requires-token=\"true\" data-sign-in-action=\"toggle-block-user\"><span class=\"button-label button-defaultState\">Blocked</span><span class=\"button-label button-hoverState\">Unblock</span></button><button class=\"button button--primary button--small u-noUserSelect button--withChrome u-accentColor--buttonNormal button--follow js-followButton\" data-action=\"sign-in-prompt\" data-action-source=\"footer_card_follow\" data-redirect=\"https://medium.com/_/subscribe/user/19ab048a9d61\" data-requires-token=\"true\" data-sign-in-action=\"toggle-subscribe-user\"><span class=\"button-label button-defaultState js-buttonLabel\">Follow</span><span class=\"button-label button-activeState\">Following</span></button></span></div><div class=\"u-tableCell \"><a aria-label=\"Go to the profile of Jeevan Kalanithi\" class=\"link avatar u-baseColor--link\" data-action-source=\"footer_card\" data-user-id=\"19ab048a9d61\" dir=\"auto\" href=\"https://medium.com/@jeevank?source=footer_card\" title=\"Go to the profile of Jeevan Kalanithi\"><img alt=\"Go to the profile of Jeevan Kalanithi\" class=\"avatar-image avatar-image--small\" src=\"https://cdn-images-1.medium.com/fit/c/60/60/0*sgm0y20DDM306HJ9.\"/></a></div><div class=\"u-tableCell u-verticalAlignMiddle u-breakWord u-paddingLeft15\"><h3 class=\"u-fontSize18 u-lineHeightTighter u-marginBottom4\"><a aria-label=\"Go to the profile of Jeevan Kalanithi\" class=\"link link--primary u-accentColor--hoverTextNormal\" data-user-id=\"19ab048a9d61\" dir=\"auto\" href=\"https://medium.com/@jeevank\" property=\"cc:attributionName\" rel=\"author cc:attributionUrl\" title=\"Go to the profile of Jeevan Kalanithi\">Jeevan Kalanithi</a></h3></div></li></div><div class=\"col u-size6of12 u-xs-size12of12 u-xs-marginTop30\"><li class=\"u-block u-paddingBottom18 js-cardCollection\"><div class=\"u-marginLeft20 u-floatRight\"><button class=\"button button--primary button--small u-noUserSelect button--withChrome u-accentColor--buttonNormal js-relationshipButton\" data-action=\"sign-in-prompt\" data-collection-id=\"55f7b4ba041f\" data-redirect=\"https://medium.com/_/subscribe/collection/jeevans-thoughts\" data-requires-token=\"true\" data-sign-in-action=\"toggle-follow-collection\"><span class=\"button-label js-buttonLabel\">Follow</span></button></div><div class=\"u-tableCell \"><a aria-label=\"Go to jeevans-thoughts\" class=\"link avatar avatar--roundedRectangle u-baseColor--link\" data-action-source=\"footer_card\" href=\"https://medium.com/jeevans-thoughts?source=footer_card\" title=\"Go to jeevans-thoughts\"><img alt=\"jeevans-thoughts\" class=\"avatar-image u-size60x60\" src=\"https://cdn-images-1.medium.com/fit/c/60/60/1*8SsuOi-iyze_TbPx9MxniA.jpeg\"/></a></div><div class=\"u-tableCell u-verticalAlignMiddle u-breakWord u-paddingLeft15\"><h3 class=\"u-fontSize18 u-lineHeightTighter u-marginBottom4\"><a class=\"link link--primary u-accentColor--hoverTextNormal\" data-action-source=\"footer_card\" href=\"https://medium.com/jeevans-thoughts?source=footer_card\" rel=\"collection\">jeevans-thoughts</a></h3><p class=\"u-fontSize14 u-lineHeightBaseSans u-textColorDark u-marginBottom4\">thoughts &amp; musings from a technology person</p><div class=\"buttonSet\"></div></div></li></div></div></div><div class=\"js-postFooterPlacements\"></div><div class=\"u-padding0 u-clearfix u-backgroundGrayLightest u-print-hide supplementalPostContent js-responsesWrapper\"></div><div class=\"supplementalPostContent js-readNext\"></div><div class=\"supplementalPostContent js-heroPromo\"></div></footer></article></main><div class=\"u-marginAuto u-maxWidth1000\"><div class=\"js-postShareWidget u-foreground u-sm-hide u-transition--fadeOut300 u-fixed\"><ul><li class=\"u-uiTextSemibold u-textAlignCenter u-textColorNormal u-fontSize12 u-textUppercase\">Share</li><li class=\"u-textAlignCenter\"><div class=\"js-actionRecommend\" data-has-recommend-list=\"true\" data-is-icon-29px=\"true\" data-is-vertical=\"true\" data-post-id=\"c51385b552e5\" data-source=\"post_share_widget\"><button aria-label=\"Recommend to share this article with your followers and let the author know you liked it\" class=\"button button--primary button--large button--chromeless is-touchIconFadeInPulse u-accentColor--buttonNormal button--withIcon button--withSvgIcon u-accentColor--iconLight js-actionRecommendButton\" data-action=\"sign-in-prompt\" data-action-source=\"post_share_widget\" data-redirect=\"https://medium.com/_/vote/p/c51385b552e5\" data-requires-token=\"true\" data-sign-in-action=\"upvote\" title=\"Recommend to share this article with your followers and let the author know you liked it\"><span class=\"button-defaultState\"><span class=\"svgIcon svgIcon--heart svgIcon--29px\"><svg class=\"svgIcon-use\" height=\"29\" viewbox=\"0 0 29 29\" width=\"29\"><path d=\"M16.215 23.716c-.348.288-.984.826-1.376 1.158a.526.526 0 0 1-.68 0c-.36-.307-.92-.78-1.22-1.03C9.22 20.734 3 15.527 3 10.734 3 7.02 5.916 4 9.5 4c1.948 0 3.77.898 5 2.434C15.73 4.898 17.552 4 19.5 4c3.584 0 6.5 3.02 6.5 6.734 0 4.9-6.125 9.96-9.785 12.982zM19.5 5.2c-1.774 0-3.423.923-4.41 2.468a.699.699 0 0 1-.59.323.706.706 0 0 1-.59-.32c-.988-1.54-2.637-2.47-4.41-2.47-2.922 0-5.3 2.49-5.3 5.54 0 4.23 6.19 9.41 9.517 12.19.217.18.566.48.783.66l.952-.79c3.496-2.88 9.348-7.72 9.348-12.05 0-3.05-2.378-5.53-5.3-5.53z\"></path></svg></span></span><span class=\"button-activeState\"><span class=\"svgIcon svgIcon--heartFilled svgIcon--29px\"><svg class=\"svgIcon-use\" height=\"29\" viewbox=\"0 0 29 29\" width=\"29\"><path d=\"M19.5 4c-1.948 0-3.77.898-5 2.434C13.27 4.898 11.448 4 9.5 4 5.916 4 3 7.02 3 10.734c0 4.793 6.227 10 9.95 13.11.296.25.853.723 1.212 1.03.196.166.48.166.677 0 .39-.332 1.02-.87 1.37-1.158 3.66-3.022 9.79-8.08 9.79-12.982C26 7.02 23.08 4 19.5 4z\" fill-rule=\"evenodd\"></path></svg></span></span></button><button class=\"button button--chromeless u-baseColor--buttonNormal u-block u-marginAuto u-marginTopNegative5\" data-action=\"show-recommends\" data-action-value=\"c51385b552e5\">12</button></div></li><li class=\"u-textAlignCenter\"><button aria-label=\"Share on Twitter\" class=\"button button--large button--dark button--chromeless is-touchIconBlackPulse u-baseColor--buttonDark button--withIcon button--withSvgIcon\" data-action=\"share-on-twitter\" data-action-source=\"post_share_widget\" title=\"Share on Twitter\"><span class=\"svgIcon svgIcon--twitter svgIcon--29px\"><svg class=\"svgIcon-use\" height=\"29\" viewbox=\"0 0 29 29\" width=\"29\"><path d=\"M21.967 11.8c.018 5.93-4.607 11.18-11.177 11.18-2.172 0-4.25-.62-6.047-1.76l-.268.422-.038.5.186.013.168.012c.3.02.44.032.6.046 2.06-.026 3.95-.686 5.49-1.86l1.12-.85-1.4-.048c-1.57-.055-2.92-1.08-3.36-2.51l-.48.146-.05.5c.22.03.48.05.75.08.48-.02.87-.07 1.25-.15l2.33-.49-2.32-.49c-1.68-.35-2.91-1.83-2.91-3.55 0-.05 0-.01-.01.03l-.49-.1-.25.44c.63.36 1.35.57 2.07.58l1.7.04L7.4 13c-.978-.662-1.59-1.79-1.618-3.047a4.08 4.08 0 0 1 .524-1.8l-.825.07a12.188 12.188 0 0 0 8.81 4.515l.59.033-.06-.59v-.02c-.05-.43-.06-.63-.06-.87a3.617 3.617 0 0 1 6.27-2.45l.2.21.28-.06c1.01-.22 1.94-.59 2.73-1.09l-.75-.56c-.1.36-.04.89.12 1.36.23.68.58 1.13 1.17.85l-.21-.45-.42-.27c-.52.8-1.17 1.48-1.92 2L22 11l.016.28c.013.2.014.35 0 .52v.04zm.998.038c.018-.22.017-.417 0-.66l-.498.034.284.41a8.183 8.183 0 0 0 2.2-2.267l.97-1.48-1.6.755c.17-.08.3-.02.34.03a.914.914 0 0 1-.13-.292c-.1-.297-.13-.64-.1-.766l.36-1.254-1.1.695c-.69.438-1.51.764-2.41.963l.48.15a4.574 4.574 0 0 0-3.38-1.484 4.616 4.616 0 0 0-4.61 4.613c0 .29.02.51.08.984l.01.02.5-.06.03-.5c-3.17-.18-6.1-1.7-8.08-4.15l-.48-.56-.36.64c-.39.69-.62 1.48-.65 2.28.04 1.61.81 3.04 2.06 3.88l.3-.92c-.55-.02-1.11-.17-1.6-.45l-.59-.34-.14.67c-.02.08-.02.16 0 .24-.01 2.12 1.55 4.01 3.69 4.46l.1-.49-.1-.49c-.33.07-.67.12-1.03.14-.18-.02-.43-.05-.64-.07l-.76-.09.23.73c.57 1.84 2.29 3.14 4.28 3.21l-.28-.89a8.252 8.252 0 0 1-4.85 1.66c-.12-.01-.26-.02-.56-.05l-.17-.01-.18-.01L2.53 21l1.694 1.07a12.233 12.233 0 0 0 6.58 1.917c7.156 0 12.2-5.73 12.18-12.18l-.002.04z\"></path></svg></span></button></li><li class=\"u-textAlignCenter\"><button aria-label=\"Share on Facebook\" class=\"button button--large button--dark button--chromeless is-touchIconBlackPulse u-baseColor--buttonDark button--withIcon button--withSvgIcon\" data-action=\"share-on-facebook\" data-action-source=\"post_share_widget\" title=\"Share on Facebook\"><span class=\"svgIcon svgIcon--facebook svgIcon--29px\"><svg class=\"svgIcon-use\" height=\"29\" viewbox=\"0 0 29 29\" width=\"29\"><path d=\"M16.39 23.61v-5.808h1.846a.55.55 0 0 0 .546-.48l.36-2.797a.551.551 0 0 0-.547-.62H16.39V12.67c0-.67.12-.813.828-.813h1.474a.55.55 0 0 0 .55-.55V8.803a.55.55 0 0 0-.477-.545c-.436-.06-1.36-.116-2.22-.116-2.5 0-4.13 1.62-4.13 4.248v1.513H10.56a.551.551 0 0 0-.55.55v2.797c0 .304.248.55.55.55h1.855v5.76c-4.172-.96-7.215-4.7-7.215-9.1 0-5.17 4.17-9.36 9.31-9.36 5.14 0 9.31 4.19 9.31 9.36 0 4.48-3.155 8.27-7.43 9.15M14.51 4C8.76 4 4.1 8.684 4.1 14.46c0 5.162 3.75 9.523 8.778 10.32a.55.55 0 0 0 .637-.543v-6.985a.551.551 0 0 0-.55-.55H11.11v-1.697h1.855a.55.55 0 0 0 .55-.55v-2.063c0-2.02 1.136-3.148 3.03-3.148.567 0 1.156.027 1.597.06v1.453h-.924c-1.363 0-1.93.675-1.93 1.912v1.78c0 .3.247.55.55.55h2.132l-.218 1.69H15.84c-.305 0-.55.24-.55.55v7.02c0 .33.293.59.623.54 5.135-.7 9.007-5.11 9.007-10.36C24.92 8.68 20.26 4 14.51 4\"></path></svg></span></button></li><li class=\"u-textAlignCenter\"><button aria-label=\"Bookmark this story to read later\" class=\"button button--large button--dark button--chromeless is-touchIconFadeInPulse u-baseColor--buttonDark button--withIcon button--withSvgIcon button--bookmark js-bookmarkButton\" data-action=\"sign-in-prompt\" data-redirect=\"https://medium.com/_/bookmark/p/c51385b552e5\" data-requires-token=\"true\" data-sign-in-action=\"add-to-bookmarks\" title=\"Bookmark this story to read later\"><span class=\"button-defaultState\"><span class=\"svgIcon svgIcon--bookmark svgIcon--29px\"><svg class=\"svgIcon-use\" height=\"29\" viewbox=\"0 0 29 29\" width=\"29\"><path d=\"M19.385 4h-9.77A2.623 2.623 0 0 0 7 6.615V23.01a1.022 1.022 0 0 0 1.595.847l5.905-4.004 5.905 4.004A1.022 1.022 0 0 0 22 23.011V6.62A2.625 2.625 0 0 0 19.385 4zM21 23l-5.91-3.955-.148-.107a.751.751 0 0 0-.884 0l-.147.107L8 23V6.615C8 5.725 8.725 5 9.615 5h9.77C20.275 5 21 5.725 21 6.615V23z\" fill-rule=\"evenodd\"></path></svg></span></span><span class=\"button-activeState\"><span class=\"svgIcon svgIcon--bookmarkFilled svgIcon--29px\"><svg class=\"svgIcon-use\" height=\"29\" viewbox=\"0 0 29 29\" width=\"29\"><path d=\"M19.385 4h-9.77A2.623 2.623 0 0 0 7 6.615V23.01a1.022 1.022 0 0 0 1.595.847l5.905-4.004 5.905 4.004A1.022 1.022 0 0 0 22 23.011V6.62A2.625 2.625 0 0 0 19.385 4z\" fill-rule=\"evenodd\"></path></svg></span></span></button></li></ul></div></div><div class=\"u-fixed u-bottom0 u-sizeFullWidth u-backgroundWhite u-boxShadowTop u-borderBox u-paddingTop10 u-paddingBottom10 u-zIndexMetabar u-xs-paddingLeft10 u-xs-paddingRight10 js-stickyFooter\"><div class=\"u-maxWidth700 u-marginAuto u-flexCenter\"><div class=\"u-fontSize16 u-flex1 u-flexCenter\"><div class=\"u-flex0 u-inlineBlock u-paddingRight20 u-xs-paddingRight10\"><a aria-label=\"Go to jeevans-thoughts\" class=\"link avatar avatar--roundedRectangle u-baseColor--link\" href=\"https://medium.com/jeevans-thoughts\" title=\"Go to jeevans-thoughts\"><img alt=\"jeevans-thoughts\" class=\"avatar-image avatar-image--smaller\" src=\"https://cdn-images-1.medium.com/fit/c/40/40/1*8SsuOi-iyze_TbPx9MxniA.jpeg\"/></a></div><div class=\"u-flex1 u-inlineBlock\"><div class=\"u-xs-hide\">Never miss a story from<strong> jeevans-thoughts</strong>, when you sign up for Medium. <a class=\"link link--accent u-accentColor--textNormal u-accentColor--textDarken u-baseColor--link\" data-action-source=\"sticky_footer\" href=\"https://medium.com/@Medium/personalize-your-medium-experience-with-users-publications-tags-26a41ab1ee0c#.hx4zuv3mg\">Learn more</a></div><div class=\"u-xs-show\">Never miss a story from<strong> jeevans-thoughts</strong></div></div></div><div class=\"u-marginLeft50 u-xs-marginAuto\"><button class=\"button button--primary button--dark is-active u-noUserSelect button--withChrome u-accentColor--buttonDark u-uiTextSemibold u-textUppercase u-fontSize12 button--followCollection js-followCollectionButton\" data-action=\"sign-in-prompt\" data-action-source=\"sticky_footer_collection_follow\" data-redirect=\"https://medium.com/_/subscribe/collection/jeevans-thoughts\" data-requires-token=\"true\" data-sign-in-action=\"toggle-subscribe-collection\"><span class=\"button-label button-defaultState js-buttonLabel\">Get updates</span><span class=\"button-label button-activeState\">Get updates</span></button></div></div></div><style class=\"js-collectionStyle\">\n",
       ".u-accentColor--borderLight {border-color: #848585 !important;}\n",
       ".u-accentColor--borderNormal {border-color: #848585 !important;}\n",
       ".u-accentColor--borderDark {border-color: #717272 !important;}\n",
       ".u-accentColor--iconLight .svgIcon,.u-accentColor--iconLight.svgIcon {fill: #848585 !important;}\n",
       ".u-accentColor--iconNormal .svgIcon,.u-accentColor--iconNormal.svgIcon {fill: #848585 !important;}\n",
       ".u-accentColor--iconDark .svgIcon,.u-accentColor--iconDark.svgIcon {fill: #717272 !important;}\n",
       ".u-accentColor--textNormal {color: #717272 !important;}\n",
       ".u-accentColor--hoverTextNormal:hover {color: #717272 !important;}\n",
       ".u-accentColor--textNormal.u-accentColor--textDarken:hover {color: #686868 !important;}\n",
       ".u-accentColor--textDark {color: #686868 !important;}\n",
       ".u-accentColor--backgroundLight {background-color: #848585 !important;}\n",
       ".u-accentColor--backgroundNormal {background-color: #848585 !important;}\n",
       ".u-accentColor--backgroundDark {background-color: #717272 !important;}\n",
       ".u-accentColor--buttonDark {border-color: #717272 !important; color: #686868 !important;}\n",
       ".u-accentColor--buttonDark:hover {border-color: #686868 !important;}\n",
       ".u-accentColor--buttonDark .icon:before,.u-accentColor--buttonDark .svgIcon{color: #717272 !important; fill: #717272 !important;}\n",
       ".u-accentColor--buttonNormal {border-color: #848585 !important; color: #717272 !important;}\n",
       ".u-accentColor--buttonNormal:hover {border-color: #717272 !important;}\n",
       ".u-accentColor--buttonNormal .icon:before,.u-accentColor--buttonNormal .svgIcon{color: #848585 !important; fill: #848585 !important;}\n",
       ".u-accentColor--buttonNormal.button--filled .icon:before,.u-accentColor--buttonNormal.button--filled .svgIcon{color: rgba(255, 255, 255, 1) !important; fill: rgba(255, 255, 255, 1) !important;}\n",
       ".u-accentColor--buttonDark.button--filled,.u-accentColor--buttonDark.button--withChrome.is-active,.u-accentColor--fillWhenActive.is-active {background-color: #717272 !important; border-color: #717272 !important; color: rgba(255, 255, 255, 1) !important; fill: rgba(255, 255, 255, 1) !important;}\n",
       ".u-accentColor--buttonNormal.button--filled,.u-accentColor--buttonNormal.button--withChrome.is-active {background-color: #848585 !important; border-color: #848585 !important; color: rgba(255, 255, 255, 1) !important; fill: rgba(255, 255, 255, 1) !important;}\n",
       ".postArticle.is-withAccentColors .markup--user,.postArticle.is-withAccentColors .markup--query {color: #717272 !important;}.u-tintBgColor {background-color: rgba(255, 255, 255, 1) !important;}.u-tintBgColor .u-fadeLeft:before {background-image: linear-gradient(to right, rgba(255, 255, 255, 1) 0%, rgba(255, 255, 255, 0) 100%) !important;}.u-tintBgColor .u-fadeRight:after {background-image: linear-gradient(to right, rgba(255, 255, 255, 0) 0%, rgba(255, 255, 255, 1) 100%) !important;}\n",
       ".u-tintSpectrum .u-baseColor--borderLight {border-color: #A8A8A8 !important;}\n",
       ".u-tintSpectrum .u-baseColor--borderNormal {border-color: #818282 !important;}\n",
       ".u-tintSpectrum .u-baseColor--borderDark {border-color: #575959 !important;}\n",
       ".u-tintSpectrum .u-baseColor--iconLight .svgIcon,.u-tintSpectrum .u-baseColor--iconLight.svgIcon {fill: #A8A8A8 !important;}\n",
       ".u-tintSpectrum .u-baseColor--iconNormal .svgIcon,.u-tintSpectrum .u-baseColor--iconNormal.svgIcon {fill: #818282 !important;}\n",
       ".u-tintSpectrum .u-baseColor--iconDark .svgIcon,.u-tintSpectrum .u-baseColor--iconDark.svgIcon {fill: #575959 !important;}\n",
       ".u-tintSpectrum .u-baseColor--textNormal {color: #818282 !important;}\n",
       ".u-tintSpectrum .u-baseColor--textNormal.u-baseColor--textDarken:hover {color: #404242 !important;}\n",
       ".u-tintSpectrum .u-baseColor--textDark {color: #404242 !important;}\n",
       ".u-tintSpectrum .u-baseColor--backgroundLight {background-color: #A8A8A8 !important;}\n",
       ".u-tintSpectrum .u-baseColor--backgroundNormal {background-color: #818282 !important;}\n",
       ".u-tintSpectrum .u-baseColor--backgroundDark {background-color: #575959 !important;}\n",
       ".u-tintSpectrum .u-baseColor--buttonLight {border-color: #A8A8A8 !important; color: #A8A8A8 !important;}\n",
       ".u-tintSpectrum .u-baseColor--buttonLight:hover {border-color: #A8A8A8 !important;}\n",
       ".u-tintSpectrum .u-baseColor--buttonLight .icon:before,.u-tintSpectrum .u-baseColor--buttonLight .svgIcon {color: #A8A8A8 !important; fill: #A8A8A8 !important;}\n",
       ".u-tintSpectrum .u-baseColor--buttonDark {border-color: #575959 !important; color: #404242 !important;}\n",
       ".u-tintSpectrum .u-baseColor--buttonDark:hover {border-color: #404242 !important;}\n",
       ".u-tintSpectrum .u-baseColor--buttonDark .icon:before,.u-tintSpectrum .u-baseColor--buttonDark .svgIcon {color: #575959 !important; fill: #575959 !important;}\n",
       ".u-tintSpectrum .u-baseColor--buttonNormal {border-color: #818282 !important; color: #818282 !important;}\n",
       ".u-tintSpectrum .u-baseColor--buttonNormal:hover {border-color: #575959 !important;}\n",
       ".u-tintSpectrum .u-baseColor--buttonNormal .icon:before,.u-tintSpectrum .u-baseColor--buttonNormal .svgIcon {color: #818282 !important; fill: #818282 !important;}\n",
       ".u-tintSpectrum .u-baseColor--buttonDark.button--filled,.u-tintSpectrum .u-baseColor--buttonDark.button--withChrome.is-active {background-color: #575959 !important; border-color: #575959 !important; color: rgba(255, 255, 255, 1) !important; fill: rgba(255, 255, 255, 1) !important;}\n",
       ".u-tintSpectrum .u-baseColor--buttonNormal.button--filled,.u-tintSpectrum .u-baseColor--buttonNormal.button--withChrome.is-active {background-color: #818282 !important; border-color: #818282 !important; color: rgba(255, 255, 255, 1) !important; fill: rgba(255, 255, 255, 1) !important;}\n",
       ".u-tintSpectrum .u-baseColor--link {color: #818282 !important;}\n",
       ".u-tintSpectrum .u-baseColor--link.link--darkenOnHover:hover {color: #404242 !important;}\n",
       ".u-tintSpectrum .u-baseColor--link.link--darken:hover,.u-tintSpectrum .u-baseColor--link.link--darken:focus,.u-tintSpectrum .u-baseColor--link.link--darken:active {color: #404242 !important;}\n",
       ".u-tintSpectrum .u-baseColor--link.link--dark {color: #404242 !important;}\n",
       ".u-tintSpectrum .u-baseColor--link.link--dark.link--darken:hover,.u-tintSpectrum .u-baseColor--link.link--dark.link--darken:focus,.u-tintSpectrum .u-baseColor--link.link--dark.link--darken:active {color: #404242 !important;}\n",
       ".u-tintSpectrum .u-baseColor--link.link--darker {color: #404242 !important;}\n",
       ".u-tintSpectrum .u-baseColor--placeholderNormal ::-webkit-input-placeholder {color: #A8A8A8;}\n",
       ".u-tintSpectrum .u-baseColor--placeholderNormal ::-moz-placeholder {color: #A8A8A8;}\n",
       ".u-tintSpectrum .u-baseColor--placeholderNormal :-ms-input-placeholder {color: #A8A8A8;}\n",
       ".u-tintSpectrum .svgIcon--logoNew path:nth-child(1) {stroke: none !important; fill: #DDDDDD !important;}\n",
       ".u-tintSpectrum .svgIcon--logoNew path:nth-child(2) {stroke: none !important; fill: #CCCCCC !important;}\n",
       ".u-tintSpectrum .svgIcon--logoNew path:nth-child(3) {stroke: none !important; fill: #A8A8A8 !important;}\n",
       ".u-tintSpectrum .svgIcon--logoNew path:nth-child(4) {stroke: none !important; fill: #818282 !important;}\n",
       ".u-tintSpectrum .u-accentColor--borderLight {border-color: #A8A8A8 !important;}\n",
       ".u-tintSpectrum .u-accentColor--borderNormal {border-color: #818282 !important;}\n",
       ".u-tintSpectrum .u-accentColor--borderDark {border-color: #575959 !important;}\n",
       ".u-tintSpectrum .u-accentColor--iconLight .svgIcon,.u-tintSpectrum .u-accentColor--iconLight.svgIcon {fill: #A8A8A8 !important;}\n",
       ".u-tintSpectrum .u-accentColor--iconNormal .svgIcon,.u-tintSpectrum .u-accentColor--iconNormal.svgIcon {fill: #818282 !important;}\n",
       ".u-tintSpectrum .u-accentColor--iconDark .svgIcon,.u-tintSpectrum .u-accentColor--iconDark.svgIcon {fill: #575959 !important;}\n",
       ".u-tintSpectrum .u-accentColor--textNormal {color: #818282 !important;}\n",
       ".u-tintSpectrum .u-accentColor--hoverTextNormal:hover {color: #818282 !important;}\n",
       ".u-tintSpectrum .u-accentColor--textNormal.u-accentColor--textDarken:hover {color: #404242 !important;}\n",
       ".u-tintSpectrum .u-accentColor--textDark {color: #404242 !important;}\n",
       ".u-tintSpectrum .u-accentColor--backgroundLight {background-color: #A8A8A8 !important;}\n",
       ".u-tintSpectrum .u-accentColor--backgroundNormal {background-color: #818282 !important;}\n",
       ".u-tintSpectrum .u-accentColor--backgroundDark {background-color: #575959 !important;}\n",
       ".u-tintSpectrum .u-accentColor--buttonDark {border-color: #575959 !important; color: #404242 !important;}\n",
       ".u-tintSpectrum .u-accentColor--buttonDark:hover {border-color: #404242 !important;}\n",
       ".u-tintSpectrum .u-accentColor--buttonDark .icon:before,.u-tintSpectrum .u-accentColor--buttonDark .svgIcon{color: #575959 !important; fill: #575959 !important;}\n",
       ".u-tintSpectrum .u-accentColor--buttonNormal {border-color: #818282 !important; color: #818282 !important;}\n",
       ".u-tintSpectrum .u-accentColor--buttonNormal:hover {border-color: #575959 !important;}\n",
       ".u-tintSpectrum .u-accentColor--buttonNormal .icon:before,.u-tintSpectrum .u-accentColor--buttonNormal .svgIcon{color: #818282 !important; fill: #818282 !important;}\n",
       ".u-tintSpectrum .u-accentColor--buttonNormal.button--filled .icon:before,.u-tintSpectrum .u-accentColor--buttonNormal.button--filled .svgIcon{color: rgba(255, 255, 255, 1) !important; fill: rgba(255, 255, 255, 1) !important;}\n",
       ".u-tintSpectrum .u-accentColor--buttonDark.button--filled,.u-tintSpectrum .u-accentColor--buttonDark.button--withChrome.is-active,.u-tintSpectrum .u-accentColor--fillWhenActive.is-active {background-color: #575959 !important; border-color: #575959 !important; color: rgba(255, 255, 255, 1) !important; fill: rgba(255, 255, 255, 1) !important;}\n",
       ".u-tintSpectrum .u-accentColor--buttonNormal.button--filled,.u-tintSpectrum .u-accentColor--buttonNormal.button--withChrome.is-active {background-color: #818282 !important; border-color: #818282 !important; color: rgba(255, 255, 255, 1) !important; fill: rgba(255, 255, 255, 1) !important;}\n",
       ".u-tintSpectrum .postArticle.is-withAccentColors .markup--user,.u-tintSpectrum .postArticle.is-withAccentColors .markup--query {color: #818282 !important;}\n",
       ".u-accentColor--highlightFaint {background-color: rgba(242, 240, 240, 1) !important;}\n",
       ".u-accentColor--highlightStrong.is-active .svgIcon {fill: rgba(224, 223, 223, 1) !important;}\n",
       ".postArticle.is-withAccentColors .markup--quote.is-other {background-color: rgba(242, 240, 240, 1) !important;}\n",
       "body.is-withMagicUnderlines .postArticle.is-withAccentColors .markup--quote.is-other {background-color: transparent !important; background-image: linear-gradient(to bottom, rgba(242, 240, 240, 1), rgba(242, 240, 240, 1));}\n",
       ".postArticle.is-withAccentColors .markup--quote.is-me {background-color: rgba(232, 231, 231, 1) !important;}\n",
       "body.is-withMagicUnderlines .postArticle.is-withAccentColors .markup--quote.is-me {background-color: transparent !important; background-image: linear-gradient(to bottom, rgba(232, 231, 231, 1), rgba(232, 231, 231, 1));}\n",
       ".postArticle.is-withAccentColors .markup--quote.is-targeted {background-color: rgba(224, 223, 223, 1) !important;}\n",
       "body.is-withMagicUnderlines .postArticle.is-withAccentColors .markup--quote.is-targeted {background-color: transparent !important; background-image: linear-gradient(to bottom, rgba(224, 223, 223, 1), rgba(224, 223, 223, 1));}\n",
       ".postArticle.is-withAccentColors .markup--quote.is-selected {background-color: rgba(224, 223, 223, 1) !important;}\n",
       "body.is-withMagicUnderlines .postArticle.is-withAccentColors .markup--quote.is-selected {background-color: transparent !important; background-image: linear-gradient(to bottom, rgba(224, 223, 223, 1), rgba(224, 223, 223, 1));}\n",
       ".postArticle.is-withAccentColors .markup--highlight {background-color: rgba(224, 223, 223, 1) !important;}\n",
       "body.is-withMagicUnderlines .postArticle.is-withAccentColors .markup--highlight {background-color: transparent !important; background-image: linear-gradient(to bottom, rgba(224, 223, 223, 1), rgba(224, 223, 223, 1));}</style><style class=\"js-collectionStyleConstant\">.u-imageBgColor {background-color: rgba(0, 0, 0, 0.24705882352941178);}\n",
       ".u-imageSpectrum .u-baseColor--borderLight {border-color: rgba(255, 255, 255, 0.6980392156862745) !important;}\n",
       ".u-imageSpectrum .u-baseColor--borderNormal {border-color: rgba(255, 255, 255, 0.8980392156862745) !important;}\n",
       ".u-imageSpectrum .u-baseColor--borderDark {border-color: rgba(255, 255, 255, 0.9490196078431372) !important;}\n",
       ".u-imageSpectrum .u-baseColor--iconLight .svgIcon,.u-imageSpectrum .u-baseColor--iconLight.svgIcon {fill: rgba(255, 255, 255, 0.8) !important;}\n",
       ".u-imageSpectrum .u-baseColor--iconNormal .svgIcon,.u-imageSpectrum .u-baseColor--iconNormal.svgIcon {fill: rgba(255, 255, 255, 0.9490196078431372) !important;}\n",
       ".u-imageSpectrum .u-baseColor--iconDark .svgIcon,.u-imageSpectrum .u-baseColor--iconDark.svgIcon {fill: rgba(255, 255, 255, 1) !important;}\n",
       ".u-imageSpectrum .u-baseColor--textNormal {color: rgba(255, 255, 255, 0.9490196078431372) !important;}\n",
       ".u-imageSpectrum .u-baseColor--textNormal.u-baseColor--textDarken:hover {color: rgba(255, 255, 255, 1) !important;}\n",
       ".u-imageSpectrum .u-baseColor--textDark {color: rgba(255, 255, 255, 1) !important;}\n",
       ".u-imageSpectrum .u-baseColor--backgroundLight {background-color: rgba(255, 255, 255, 0.8980392156862745) !important;}\n",
       ".u-imageSpectrum .u-baseColor--backgroundNormal {background-color: rgba(255, 255, 255, 0.9490196078431372) !important;}\n",
       ".u-imageSpectrum .u-baseColor--backgroundDark {background-color: rgba(255, 255, 255, 1) !important;}\n",
       ".u-imageSpectrum .u-baseColor--buttonLight {border-color: rgba(255, 255, 255, 0.6980392156862745) !important; color: rgba(255, 255, 255, 0.8) !important;}\n",
       ".u-imageSpectrum .u-baseColor--buttonLight:hover {border-color: rgba(255, 255, 255, 0.6980392156862745) !important;}\n",
       ".u-imageSpectrum .u-baseColor--buttonLight .icon:before,.u-imageSpectrum .u-baseColor--buttonLight .svgIcon {color: rgba(255, 255, 255, 0.8) !important; fill: rgba(255, 255, 255, 0.8) !important;}\n",
       ".u-imageSpectrum .u-baseColor--buttonDark {border-color: rgba(255, 255, 255, 0.9490196078431372) !important; color: rgba(255, 255, 255, 1) !important;}\n",
       ".u-imageSpectrum .u-baseColor--buttonDark:hover {border-color: rgba(255, 255, 255, 1) !important;}\n",
       ".u-imageSpectrum .u-baseColor--buttonDark .icon:before,.u-imageSpectrum .u-baseColor--buttonDark .svgIcon {color: rgba(255, 255, 255, 1) !important; fill: rgba(255, 255, 255, 1) !important;}\n",
       ".u-imageSpectrum .u-baseColor--buttonNormal {border-color: rgba(255, 255, 255, 0.8980392156862745) !important; color: rgba(255, 255, 255, 0.9490196078431372) !important;}\n",
       ".u-imageSpectrum .u-baseColor--buttonNormal:hover {border-color: rgba(255, 255, 255, 0.9490196078431372) !important;}\n",
       ".u-imageSpectrum .u-baseColor--buttonNormal .icon:before,.u-imageSpectrum .u-baseColor--buttonNormal .svgIcon {color: rgba(255, 255, 255, 0.9490196078431372) !important; fill: rgba(255, 255, 255, 0.9490196078431372) !important;}\n",
       ".u-imageSpectrum .u-baseColor--buttonDark.button--filled,.u-imageSpectrum .u-baseColor--buttonDark.button--withChrome.is-active {background-color: rgba(255, 255, 255, 1) !important; border-color: rgba(255, 255, 255, 1) !important; color: rgba(0, 0, 0, 0.24705882352941178) !important; fill: rgba(0, 0, 0, 0.24705882352941178) !important;}\n",
       ".u-imageSpectrum .u-baseColor--buttonNormal.button--filled,.u-imageSpectrum .u-baseColor--buttonNormal.button--withChrome.is-active {background-color: rgba(255, 255, 255, 0.9490196078431372) !important; border-color: rgba(255, 255, 255, 0.9490196078431372) !important; color: rgba(0, 0, 0, 0.24705882352941178) !important; fill: rgba(0, 0, 0, 0.24705882352941178) !important;}\n",
       ".u-imageSpectrum .u-baseColor--link {color: rgba(255, 255, 255, 0.9490196078431372) !important;}\n",
       ".u-imageSpectrum .u-baseColor--link.link--darkenOnHover:hover {color: rgba(255, 255, 255, 1) !important;}\n",
       ".u-imageSpectrum .u-baseColor--link.link--darken:hover,.u-imageSpectrum .u-baseColor--link.link--darken:focus,.u-imageSpectrum .u-baseColor--link.link--darken:active {color: rgba(255, 255, 255, 1) !important;}\n",
       ".u-imageSpectrum .u-baseColor--link.link--dark {color: rgba(255, 255, 255, 1) !important;}\n",
       ".u-imageSpectrum .u-baseColor--link.link--dark.link--darken:hover,.u-imageSpectrum .u-baseColor--link.link--dark.link--darken:focus,.u-imageSpectrum .u-baseColor--link.link--dark.link--darken:active {color: rgba(255, 255, 255, 1) !important;}\n",
       ".u-imageSpectrum .u-baseColor--link.link--darker {color: rgba(255, 255, 255, 1) !important;}\n",
       ".u-imageSpectrum .u-baseColor--placeholderNormal ::-webkit-input-placeholder {color: rgba(255, 255, 255, 0.8);}\n",
       ".u-imageSpectrum .u-baseColor--placeholderNormal ::-moz-placeholder {color: rgba(255, 255, 255, 0.8);}\n",
       ".u-imageSpectrum .u-baseColor--placeholderNormal :-ms-input-placeholder {color: rgba(255, 255, 255, 0.8);}\n",
       ".u-imageSpectrum .svgIcon--logoNew path:nth-child(1) {stroke: none !important; fill: rgba(255, 255, 255, 0.4) !important;}\n",
       ".u-imageSpectrum .svgIcon--logoNew path:nth-child(2) {stroke: none !important; fill: rgba(255, 255, 255, 0.4980392156862745) !important;}\n",
       ".u-imageSpectrum .svgIcon--logoNew path:nth-child(3) {stroke: none !important; fill: rgba(255, 255, 255, 0.6980392156862745) !important;}\n",
       ".u-imageSpectrum .svgIcon--logoNew path:nth-child(4) {stroke: none !important; fill: rgba(255, 255, 255, 0.8980392156862745) !important;}\n",
       ".u-imageSpectrum .u-accentColor--borderLight {border-color: rgba(255, 255, 255, 0.6980392156862745) !important;}\n",
       ".u-imageSpectrum .u-accentColor--borderNormal {border-color: rgba(255, 255, 255, 0.8980392156862745) !important;}\n",
       ".u-imageSpectrum .u-accentColor--borderDark {border-color: rgba(255, 255, 255, 0.9490196078431372) !important;}\n",
       ".u-imageSpectrum .u-accentColor--iconLight .svgIcon,.u-imageSpectrum .u-accentColor--iconLight.svgIcon {fill: rgba(255, 255, 255, 0.8) !important;}\n",
       ".u-imageSpectrum .u-accentColor--iconNormal .svgIcon,.u-imageSpectrum .u-accentColor--iconNormal.svgIcon {fill: rgba(255, 255, 255, 0.9490196078431372) !important;}\n",
       ".u-imageSpectrum .u-accentColor--iconDark .svgIcon,.u-imageSpectrum .u-accentColor--iconDark.svgIcon {fill: rgba(255, 255, 255, 1) !important;}\n",
       ".u-imageSpectrum .u-accentColor--textNormal {color: rgba(255, 255, 255, 0.9490196078431372) !important;}\n",
       ".u-imageSpectrum .u-accentColor--hoverTextNormal:hover {color: rgba(255, 255, 255, 0.9490196078431372) !important;}\n",
       ".u-imageSpectrum .u-accentColor--textNormal.u-accentColor--textDarken:hover {color: rgba(255, 255, 255, 1) !important;}\n",
       ".u-imageSpectrum .u-accentColor--textDark {color: rgba(255, 255, 255, 1) !important;}\n",
       ".u-imageSpectrum .u-accentColor--backgroundLight {background-color: rgba(255, 255, 255, 0.8980392156862745) !important;}\n",
       ".u-imageSpectrum .u-accentColor--backgroundNormal {background-color: rgba(255, 255, 255, 0.9490196078431372) !important;}\n",
       ".u-imageSpectrum .u-accentColor--backgroundDark {background-color: rgba(255, 255, 255, 1) !important;}\n",
       ".u-imageSpectrum .u-accentColor--buttonDark {border-color: rgba(255, 255, 255, 0.9490196078431372) !important; color: rgba(255, 255, 255, 1) !important;}\n",
       ".u-imageSpectrum .u-accentColor--buttonDark:hover {border-color: rgba(255, 255, 255, 1) !important;}\n",
       ".u-imageSpectrum .u-accentColor--buttonDark .icon:before,.u-imageSpectrum .u-accentColor--buttonDark .svgIcon{color: rgba(255, 255, 255, 1) !important; fill: rgba(255, 255, 255, 1) !important;}\n",
       ".u-imageSpectrum .u-accentColor--buttonNormal {border-color: rgba(255, 255, 255, 0.8980392156862745) !important; color: rgba(255, 255, 255, 0.9490196078431372) !important;}\n",
       ".u-imageSpectrum .u-accentColor--buttonNormal:hover {border-color: rgba(255, 255, 255, 0.9490196078431372) !important;}\n",
       ".u-imageSpectrum .u-accentColor--buttonNormal .icon:before,.u-imageSpectrum .u-accentColor--buttonNormal .svgIcon{color: rgba(255, 255, 255, 0.9490196078431372) !important; fill: rgba(255, 255, 255, 0.9490196078431372) !important;}\n",
       ".u-imageSpectrum .u-accentColor--buttonNormal.button--filled .icon:before,.u-imageSpectrum .u-accentColor--buttonNormal.button--filled .svgIcon{color: rgba(0, 0, 0, 0.24705882352941178) !important; fill: rgba(0, 0, 0, 0.24705882352941178) !important;}\n",
       ".u-imageSpectrum .u-accentColor--buttonDark.button--filled,.u-imageSpectrum .u-accentColor--buttonDark.button--withChrome.is-active,.u-imageSpectrum .u-accentColor--fillWhenActive.is-active {background-color: rgba(255, 255, 255, 1) !important; border-color: rgba(255, 255, 255, 1) !important; color: rgba(0, 0, 0, 0.24705882352941178) !important; fill: rgba(0, 0, 0, 0.24705882352941178) !important;}\n",
       ".u-imageSpectrum .u-accentColor--buttonNormal.button--filled,.u-imageSpectrum .u-accentColor--buttonNormal.button--withChrome.is-active {background-color: rgba(255, 255, 255, 0.9490196078431372) !important; border-color: rgba(255, 255, 255, 0.9490196078431372) !important; color: rgba(0, 0, 0, 0.24705882352941178) !important; fill: rgba(0, 0, 0, 0.24705882352941178) !important;}\n",
       ".u-imageSpectrum .postArticle.is-withAccentColors .markup--user,.u-imageSpectrum .postArticle.is-withAccentColors .markup--query {color: rgba(255, 255, 255, 0.9490196078431372) !important;}\n",
       ".u-imageSpectrum .u-accentColor--highlightFaint {background-color: rgba(255, 255, 255, 0.2) !important;}\n",
       ".u-imageSpectrum .u-accentColor--highlightStrong.is-active .svgIcon {fill: rgba(255, 255, 255, 0.6) !important;}\n",
       ".postArticle.is-withAccentColors .u-imageSpectrum .markup--quote.is-other {background-color: rgba(255, 255, 255, 0.2) !important;}\n",
       "body.is-withMagicUnderlines .postArticle.is-withAccentColors .u-imageSpectrum .markup--quote.is-other {background-color: transparent !important; background-image: linear-gradient(to bottom, rgba(255, 255, 255, 0.2), rgba(255, 255, 255, 0.2));}\n",
       ".postArticle.is-withAccentColors .u-imageSpectrum .markup--quote.is-me {background-color: rgba(255, 255, 255, 0.4) !important;}\n",
       "body.is-withMagicUnderlines .postArticle.is-withAccentColors .u-imageSpectrum .markup--quote.is-me {background-color: transparent !important; background-image: linear-gradient(to bottom, rgba(255, 255, 255, 0.4), rgba(255, 255, 255, 0.4));}\n",
       ".postArticle.is-withAccentColors .u-imageSpectrum .markup--quote.is-targeted {background-color: rgba(255, 255, 255, 0.6) !important;}\n",
       "body.is-withMagicUnderlines .postArticle.is-withAccentColors .u-imageSpectrum .markup--quote.is-targeted {background-color: transparent !important; background-image: linear-gradient(to bottom, rgba(255, 255, 255, 0.6), rgba(255, 255, 255, 0.6));}\n",
       ".postArticle.is-withAccentColors .u-imageSpectrum .markup--quote.is-selected {background-color: rgba(255, 255, 255, 0.6) !important;}\n",
       "body.is-withMagicUnderlines .postArticle.is-withAccentColors .u-imageSpectrum .markup--quote.is-selected {background-color: transparent !important; background-image: linear-gradient(to bottom, rgba(255, 255, 255, 0.6), rgba(255, 255, 255, 0.6));}\n",
       ".postArticle.is-withAccentColors .u-imageSpectrum .markup--highlight {background-color: rgba(255, 255, 255, 0.6) !important;}\n",
       "body.is-withMagicUnderlines .postArticle.is-withAccentColors .u-imageSpectrum .markup--highlight {background-color: transparent !important; background-image: linear-gradient(to bottom, rgba(255, 255, 255, 0.6), rgba(255, 255, 255, 0.6));}.u-resetSpectrum .u-tintBgColor {background-color: rgba(255, 255, 255, 1) !important;}.u-resetSpectrum .u-tintBgColor .u-fadeLeft:before {background-image: linear-gradient(to right, rgba(255, 255, 255, 1) 0%, rgba(255, 255, 255, 0) 100%) !important;}.u-resetSpectrum .u-tintBgColor .u-fadeRight:after {background-image: linear-gradient(to right, rgba(255, 255, 255, 0) 0%, rgba(255, 255, 255, 1) 100%) !important;}\n",
       ".u-resetSpectrum .u-baseColor--borderLight {border-color: rgba(0, 0, 0, 0.2980392156862745) !important;}\n",
       ".u-resetSpectrum .u-baseColor--borderNormal {border-color: rgba(0, 0, 0, 0.4980392156862745) !important;}\n",
       ".u-resetSpectrum .u-baseColor--borderDark {border-color: rgba(0, 0, 0, 0.6) !important;}\n",
       ".u-resetSpectrum .u-baseColor--iconLight .svgIcon,.u-resetSpectrum .u-baseColor--iconLight.svgIcon {fill: rgba(0, 0, 0, 0.2980392156862745) !important;}\n",
       ".u-resetSpectrum .u-baseColor--iconNormal .svgIcon,.u-resetSpectrum .u-baseColor--iconNormal.svgIcon {fill: rgba(0, 0, 0, 0.4980392156862745) !important;}\n",
       ".u-resetSpectrum .u-baseColor--iconDark .svgIcon,.u-resetSpectrum .u-baseColor--iconDark.svgIcon {fill: rgba(0, 0, 0, 0.6) !important;}\n",
       ".u-resetSpectrum .u-baseColor--textNormal {color: rgba(0, 0, 0, 0.4980392156862745) !important;}\n",
       ".u-resetSpectrum .u-baseColor--textNormal.u-baseColor--textDarken:hover {color: rgba(0, 0, 0, 0.6) !important;}\n",
       ".u-resetSpectrum .u-baseColor--textDark {color: rgba(0, 0, 0, 0.6) !important;}\n",
       ".u-resetSpectrum .u-baseColor--backgroundLight {background-color: rgba(0, 0, 0, 0.09803921568627451) !important;}\n",
       ".u-resetSpectrum .u-baseColor--backgroundNormal {background-color: rgba(0, 0, 0, 0.2) !important;}\n",
       ".u-resetSpectrum .u-baseColor--backgroundDark {background-color: rgba(0, 0, 0, 0.2980392156862745) !important;}\n",
       ".u-resetSpectrum .u-baseColor--buttonLight {border-color: rgba(0, 0, 0, 0.2980392156862745) !important; color: rgba(0, 0, 0, 0.2980392156862745) !important;}\n",
       ".u-resetSpectrum .u-baseColor--buttonLight:hover {border-color: rgba(0, 0, 0, 0.2980392156862745) !important;}\n",
       ".u-resetSpectrum .u-baseColor--buttonLight .icon:before,.u-resetSpectrum .u-baseColor--buttonLight .svgIcon {color: rgba(0, 0, 0, 0.2980392156862745) !important; fill: rgba(0, 0, 0, 0.2980392156862745) !important;}\n",
       ".u-resetSpectrum .u-baseColor--buttonDark {border-color: rgba(0, 0, 0, 0.6) !important; color: rgba(0, 0, 0, 0.6) !important;}\n",
       ".u-resetSpectrum .u-baseColor--buttonDark:hover {border-color: rgba(0, 0, 0, 0.8) !important;}\n",
       ".u-resetSpectrum .u-baseColor--buttonDark .icon:before,.u-resetSpectrum .u-baseColor--buttonDark .svgIcon {color: rgba(0, 0, 0, 0.6) !important; fill: rgba(0, 0, 0, 0.6) !important;}\n",
       ".u-resetSpectrum .u-baseColor--buttonNormal {border-color: rgba(0, 0, 0, 0.4980392156862745) !important; color: rgba(0, 0, 0, 0.4980392156862745) !important;}\n",
       ".u-resetSpectrum .u-baseColor--buttonNormal:hover {border-color: rgba(0, 0, 0, 0.6) !important;}\n",
       ".u-resetSpectrum .u-baseColor--buttonNormal .icon:before,.u-resetSpectrum .u-baseColor--buttonNormal .svgIcon {color: rgba(0, 0, 0, 0.4980392156862745) !important; fill: rgba(0, 0, 0, 0.4980392156862745) !important;}\n",
       ".u-resetSpectrum .u-baseColor--buttonDark.button--filled,.u-resetSpectrum .u-baseColor--buttonDark.button--withChrome.is-active {background-color: rgba(0, 0, 0, 0.2980392156862745) !important; border-color: rgba(0, 0, 0, 0.2980392156862745) !important; color: rgba(255, 255, 255, 1) !important; fill: rgba(255, 255, 255, 1) !important;}\n",
       ".u-resetSpectrum .u-baseColor--buttonNormal.button--filled,.u-resetSpectrum .u-baseColor--buttonNormal.button--withChrome.is-active {background-color: rgba(0, 0, 0, 0.2) !important; border-color: rgba(0, 0, 0, 0.2) !important; color: rgba(255, 255, 255, 1) !important; fill: rgba(255, 255, 255, 1) !important;}\n",
       ".u-resetSpectrum .u-baseColor--link {color: rgba(0, 0, 0, 0.4980392156862745) !important;}\n",
       ".u-resetSpectrum .u-baseColor--link.link--darkenOnHover:hover {color: rgba(0, 0, 0, 0.6) !important;}\n",
       ".u-resetSpectrum .u-baseColor--link.link--darken:hover,.u-resetSpectrum .u-baseColor--link.link--darken:focus,.u-resetSpectrum .u-baseColor--link.link--darken:active {color: rgba(0, 0, 0, 0.6) !important;}\n",
       ".u-resetSpectrum .u-baseColor--link.link--dark {color: rgba(0, 0, 0, 0.6) !important;}\n",
       ".u-resetSpectrum .u-baseColor--link.link--dark.link--darken:hover,.u-resetSpectrum .u-baseColor--link.link--dark.link--darken:focus,.u-resetSpectrum .u-baseColor--link.link--dark.link--darken:active {color: rgba(0, 0, 0, 0.8) !important;}\n",
       ".u-resetSpectrum .u-baseColor--link.link--darker {color: rgba(0, 0, 0, 0.8) !important;}\n",
       ".u-resetSpectrum .u-baseColor--placeholderNormal ::-webkit-input-placeholder {color: rgba(0, 0, 0, 0.2980392156862745);}\n",
       ".u-resetSpectrum .u-baseColor--placeholderNormal ::-moz-placeholder {color: rgba(0, 0, 0, 0.2980392156862745);}\n",
       ".u-resetSpectrum .u-baseColor--placeholderNormal :-ms-input-placeholder {color: rgba(0, 0, 0, 0.2980392156862745);}\n",
       ".u-resetSpectrum .svgIcon--logoNew path:nth-child(1) {stroke: none !important; fill: rgba(0, 0, 0, 0.2) !important;}\n",
       ".u-resetSpectrum .svgIcon--logoNew path:nth-child(2) {stroke: none !important; fill: rgba(0, 0, 0, 0.2980392156862745) !important;}\n",
       ".u-resetSpectrum .svgIcon--logoNew path:nth-child(3) {stroke: none !important; fill: rgba(0, 0, 0, 0.4) !important;}\n",
       ".u-resetSpectrum .svgIcon--logoNew path:nth-child(4) {stroke: none !important; fill: rgba(0, 0, 0, 0.4980392156862745) !important;}\n",
       ".u-resetSpectrum .u-accentColor--borderLight {border-color: rgba(2, 184, 117, 1) !important;}\n",
       ".u-resetSpectrum .u-accentColor--borderNormal {border-color: rgba(2, 184, 117, 1) !important;}\n",
       ".u-resetSpectrum .u-accentColor--borderDark {border-color: rgba(0, 171, 107, 1) !important;}\n",
       ".u-resetSpectrum .u-accentColor--iconLight .svgIcon,.u-resetSpectrum .u-accentColor--iconLight.svgIcon {fill: rgba(2, 184, 117, 1) !important;}\n",
       ".u-resetSpectrum .u-accentColor--iconNormal .svgIcon,.u-resetSpectrum .u-accentColor--iconNormal.svgIcon {fill: rgba(0, 171, 107, 1) !important;}\n",
       ".u-resetSpectrum .u-accentColor--iconDark .svgIcon,.u-resetSpectrum .u-accentColor--iconDark.svgIcon {fill: rgba(28, 153, 99, 1) !important;}\n",
       ".u-resetSpectrum .u-accentColor--textNormal {color: rgba(0, 171, 107, 1) !important;}\n",
       ".u-resetSpectrum .u-accentColor--hoverTextNormal:hover {color: rgba(0, 171, 107, 1) !important;}\n",
       ".u-resetSpectrum .u-accentColor--textNormal.u-accentColor--textDarken:hover {color: rgba(28, 153, 99, 1) !important;}\n",
       ".u-resetSpectrum .u-accentColor--textDark {color: rgba(28, 153, 99, 1) !important;}\n",
       ".u-resetSpectrum .u-accentColor--backgroundLight {background-color: rgba(2, 184, 117, 1) !important;}\n",
       ".u-resetSpectrum .u-accentColor--backgroundNormal {background-color: rgba(0, 171, 107, 1) !important;}\n",
       ".u-resetSpectrum .u-accentColor--backgroundDark {background-color: rgba(28, 153, 99, 1) !important;}\n",
       ".u-resetSpectrum .u-accentColor--buttonDark {border-color: rgba(0, 171, 107, 1) !important; color: rgba(28, 153, 99, 1) !important;}\n",
       ".u-resetSpectrum .u-accentColor--buttonDark:hover {border-color: rgba(28, 153, 99, 1) !important;}\n",
       ".u-resetSpectrum .u-accentColor--buttonDark .icon:before,.u-resetSpectrum .u-accentColor--buttonDark .svgIcon{color: rgba(28, 153, 99, 1) !important; fill: rgba(28, 153, 99, 1) !important;}\n",
       ".u-resetSpectrum .u-accentColor--buttonNormal {border-color: rgba(2, 184, 117, 1) !important; color: rgba(0, 171, 107, 1) !important;}\n",
       ".u-resetSpectrum .u-accentColor--buttonNormal:hover {border-color: rgba(0, 171, 107, 1) !important;}\n",
       ".u-resetSpectrum .u-accentColor--buttonNormal .icon:before,.u-resetSpectrum .u-accentColor--buttonNormal .svgIcon{color: rgba(0, 171, 107, 1) !important; fill: rgba(0, 171, 107, 1) !important;}\n",
       ".u-resetSpectrum .u-accentColor--buttonNormal.button--filled .icon:before,.u-resetSpectrum .u-accentColor--buttonNormal.button--filled .svgIcon{color: rgba(255, 255, 255, 1) !important; fill: rgba(255, 255, 255, 1) !important;}\n",
       ".u-resetSpectrum .u-accentColor--buttonDark.button--filled,.u-resetSpectrum .u-accentColor--buttonDark.button--withChrome.is-active,.u-resetSpectrum .u-accentColor--fillWhenActive.is-active {background-color: rgba(28, 153, 99, 1) !important; border-color: rgba(28, 153, 99, 1) !important; color: rgba(255, 255, 255, 1) !important; fill: rgba(255, 255, 255, 1) !important;}\n",
       ".u-resetSpectrum .u-accentColor--buttonNormal.button--filled,.u-resetSpectrum .u-accentColor--buttonNormal.button--withChrome.is-active {background-color: rgba(0, 171, 107, 1) !important; border-color: rgba(0, 171, 107, 1) !important; color: rgba(255, 255, 255, 1) !important; fill: rgba(255, 255, 255, 1) !important;}\n",
       ".u-resetSpectrum .postArticle.is-withAccentColors .markup--user,.u-resetSpectrum .postArticle.is-withAccentColors .markup--query {color: rgba(0, 171, 107, 1) !important;}</style></div></div></div><div class=\"loadingBar\"></div><script>// <![CDATA[\n",
       "window[\"obvInit\"] = function (opt_embedded) {window[\"obvInit\"][\"embedded\"] = opt_embedded; window[\"obvInit\"][\"ready\"] = true;}\n",
       "// ]]></script><script>// <![CDATA[\n",
       "var GLOBALS = {\"audioUrl\":\"https://d1fcbxp97j4nb2.cloudfront.net\",\"baseUrl\":\"https://medium.com\",\"buildLabel\":\"29084\",\"currentUser\":{\"userId\":\"lo_8263925f1a23\",\"isVerified\":false,\"subscriberEmail\":\"\"},\"currentUserHasUnverifiedEmail\":false,\"isAuthenticated\":false,\"isCurrentUserVerified\":false,\"mediumTwitterScreenName\":\"medium\",\"miroUrl\":\"https://cdn-images-1.medium.com\",\"moduleUrls\":{\"base\":\"https://cdn-static-1.medium.com/_/fp/gen-js/main-base.bundle.MYMN2NQs4WqFH80-d2ahWQ.js\",\"notes\":\"https://cdn-static-1.medium.com/_/fp/gen-js/main-notes.bundle.OJ32vrVC7Red5NNMHNi13A.js\",\"posters\":\"https://cdn-static-1.medium.com/_/fp/gen-js/main-posters.bundle.HIFik3z0lTPxpS7KG0ImLA.js\",\"common-async\":\"https://cdn-static-1.medium.com/_/fp/gen-js/main-common-async.bundle.oUdme7DszAULZ84IVNcH2A.js\",\"stats\":\"https://cdn-static-1.medium.com/_/fp/gen-js/main-stats.bundle.03U-e1i_D3_q5WlGg17kog.js\",\"home-screens\":\"https://cdn-static-1.medium.com/_/fp/gen-js/main-home-screens.bundle.FsJZIudewSh0Ua1yt8W59Q.js\",\"misc-screens\":\"https://cdn-static-1.medium.com/_/fp/gen-js/main-misc-screens.bundle.-UFtrnei4Ilv8Rnuz-34lQ.js\"},\"previewConfig\":{\"weightThreshold\":1,\"weightImageParagraph\":0.51,\"weightIframeParagraph\":0.8,\"weightTextParagraph\":0.08,\"weightEmptyParagraph\":0,\"weightP\":0.003,\"weightH\":0.005,\"weightBq\":0.003,\"minPTextLength\":60,\"truncateBoundaryChars\":20,\"detectTitle\":true,\"detectTitleLevThreshold\":0.15},\"productName\":\"Medium\",\"supportsEdit\":false,\"termsUrl\":\"//medium.com/policy/9db0094a1e0f\",\"textshotHost\":\"textshot.medium.com\",\"transactionId\":\"1495351336102:3c127f809e78\",\"useragent\":{\"browser\":\"python requests\",\"family\":\"\",\"os\":\"\",\"version\":2.12,\"supportsDesktopEdit\":false,\"supportsInteract\":false,\"supportsView\":true,\"isMobile\":false,\"isTablet\":false,\"isNative\":false,\"supportsFileAPI\":false,\"isTier1\":false,\"clientVersion\":\"\",\"unknownParagraphsBad\":false,\"clientChannel\":\"\",\"supportsRealScrollEvents\":false,\"supportsVhUnits\":false,\"ruinsViewportSections\":false,\"supportsHtml5Video\":false,\"supportsMagicUnderlines\":false,\"isWebView\":false,\"isFacebookWebView\":false,\"supportsProgressiveMedia\":false,\"supportsPromotedPosts\":true,\"isBot\":false,\"isNativeIphone\":false,\"supportsCssVariables\":false,\"supportsScrollableMetabar\":false},\"variants\":{\"allow_access\":true,\"allow_signup\":true,\"allow_test_auth\":\"disallow\",\"signin_services\":\"twitter,facebook,google,email,google-fastidv\",\"signup_services\":\"twitter,facebook,google,email,google-fastidv\",\"android_rating_prompt_recommend_threshold\":5,\"google_sign_in_android\":true,\"enable_onboarding\":true,\"ios_custom_miro_url\":\"https://cdn-images-1.medium.com\",\"reengagement_notification_duration\":3,\"enable_adsnative_integration\":true,\"browsable_stream_config_bucket\":\"curated-topics\",\"ios_small_post_preview_truncation_length\":5.5,\"ios_large_post_preview_truncation_length\":5.5,\"disable_ios_catalog_badging\":true,\"enable_series_creation\":true,\"enable_your_series_pages\":true,\"enable_productionized_series\":true,\"enable_dedicated_series_tab_api_ios\":true,\"enable_clap_milestone_notifications\":true,\"enable_series_stats_page\":true,\"enable_prepublish_share_settings\":true,\"enable_direct_auth_connect\":true,\"enable_post_import\":true,\"enable_sponsored_post_labelling\":true,\"enable_logged_in_follow_on_collection_post\":true,\"promoted_story_placement_locations\":\"POST_PAGE_FOOTER\",\"enable_chunky_home_page_compact\":true,\"show_topics\":true,\"enable_search_collection_by_tag_recency_filter\":true,\"search_collection_by_tag_filter_min_votes\":10,\"enable_sms_app_promo\":true,\"enable_export_members\":true,\"enable_series_card_background_creation\":true,\"enable_loyal_writers_onboarding\":true,\"enable_onboarding_hybrid_users\":true,\"enable_ios_onboarding_notifications\":true,\"can_subscribe\":true,\"can_see_subscription_branding\":true,\"enable_subscriptions_landing_page\":true,\"enable_partner_program_landing_page\":true,\"available_membership_plans\":\"60e220181034\",\"enable_hide_broken_links\":true,\"enable_pay_for_custom_domain\":true,\"enable_promos_in_placement\":true,\"double_write_post_from_followed_tag_items\":true,\"enable_sms\":true,\"enable_series_in_user_profiles\":true,\"enable_new_logged_out_bento_operation\":true,\"reverse_chron_publication_stream\":true,\"enable_featured_image_selector\":true,\"enable_web_audio\":true,\"is_not_medium_subscriber\":true},\"xsrfToken\":\"\",\"iosAppId\":\"828256236\",\"supportEmail\":\"yourfriends@medium.com\",\"teamName\":\"Team Medium\",\"fp\":{\"/icons/favicon.svg\":\"https://cdn-static-1.medium.com/_/fp/icons/favicon.KjTfUJo7yJH_fCoUzzH3cg.svg\",\"/icons/favicon-dev-editor.ico\":\"https://cdn-static-1.medium.com/_/fp/icons/favicon-dev-editor.YKKRxBO8EMvIqhyCwIiJeQ.ico\",\"/icons/favicon-hatch-editor.ico\":\"https://cdn-static-1.medium.com/_/fp/icons/favicon-hatch-editor.BuEyHIqlyh2s_XEk4Rl32Q.ico\",\"/icons/favicon-medium-editor.ico\":\"https://cdn-static-1.medium.com/_/fp/icons/favicon-medium-editor.PiakrZWB7Yb80quUVQWM6g.ico\"},\"authBaseUrl\":\"https://medium.com\",\"imageUploadSizeMb\":25,\"isAuthDomainRequest\":true,\"algoliaApiEndpoint\":\"https://MQ57UUUQZ2-dsn.algolia.net\",\"algoliaAppId\":\"MQ57UUUQZ2\",\"algoliaSearchOnlyApiKey\":\"394474ced050e3911ae2249ecc774921\",\"iosAppStoreUrl\":\"https://itunes.apple.com/app/medium-everyones-stories/id828256236?pt=698524&mt=8\",\"iosAppLinkBaseUrl\":\"medium:\",\"algoliaIndexPrefix\":\"medium_\",\"androidPlayStoreUrl\":\"https://play.google.com/store/apps/details?id=com.medium.reader\",\"googleClientId\":\"216296035834-k1k6qe060s2tp2a2jam4ljdcms00sttg.apps.googleusercontent.com\",\"androidPackage\":\"com.medium.reader\",\"androidPlayStoreMarketScheme\":\"market://details?id=com.medium.reader\",\"googleAuthUri\":\"https://accounts.google.com/o/oauth2/auth\",\"androidScheme\":\"medium\",\"layoutData\":{\"useDynamicScripts\":false,\"googleAnalyticsTrackingCode\":\"UA-24232453-2\",\"jsShivUrl\":\"https://cdn-static-1.medium.com/_/fp/js/shiv.RI2ePTZ5gFmMgLzG5bEVAA.js\",\"useDynamicCss\":false,\"faviconUrl\":\"https://cdn-static-1.medium.com/_/fp/icons/favicon-medium.TAS6uQ-Y7kcKgi0xjcYHXw.ico\",\"faviconImageId\":\"1*W0nmth_X8nFKjn6BZ388UQ.png\",\"fontSets\":[{\"id\":1,\"url\":\"https://cdn-static-1.medium.com/_/fp/css/fonts-base.by5Oi_VbnwEIvhnWIsuUjA.css\"},{\"id\":4,\"url\":\"https://cdn-static-1.medium.com/_/fp/css/fonts-lazy-base.g08Jj5TZPAiuPWj5YNUsSg.css\"},{\"id\":6,\"url\":\"https://cdn-static-1.medium.com/_/fp/css/fonts-latin-base.141WxxXgxGxNcfeza73H7Q.css\"},{\"id\":7,\"url\":\"https://cdn-static-1.medium.com/_/fp/css/fonts-lazy-latin-base.jMU532QDmysQMOINr-cr2A.css\"}],\"editorFaviconUrl\":\"https://cdn-static-1.medium.com/_/fp/icons/favicon-medium-editor.PiakrZWB7Yb80quUVQWM6g.ico\"},\"authBaseUrlRev\":\"moc.muidem//:sptth\",\"isDnt\":false,\"stripePublishableKey\":\"pk_live_7FReX44VnNIInZwrIIx6ghjl\",\"archiveUploadSizeMb\":100,\"paymentData\":{\"currencies\":{\"1\":{\"label\":\"US Dollar\",\"external\":\"usd\"}},\"countries\":{\"1\":{\"label\":\"United States of America\",\"external\":\"US\"}},\"accountTypes\":{\"1\":{\"label\":\"Individual\",\"external\":\"individual\"},\"2\":{\"label\":\"Company\",\"external\":\"company\"}}},\"previewConfig2\":{\"weightThreshold\":1,\"weightImageParagraph\":0.05,\"raiseImage\":true,\"enforceHeaderHierarchy\":true,\"isImageInsetRight\":true},\"isAmp\":false,\"iosScheme\":\"medium\",\"isSwBoot\":false,\"lightstep\":{\"accessToken\":\"ce5be895bef60919541332990ac9fef2\",\"carrier\":\"{\\\"ot-tracer-spanid\\\":\\\"4dbc939e054ea3ca\\\",\\\"ot-tracer-traceid\\\":\\\"12f5b3c270041f80\\\",\\\"ot-tracer-sampled\\\":\\\"true\\\"}\",\"host\":\"collector-medium.lightstep.com\"},\"facebook\":{\"key\":\"542599432471018\",\"secret\":\"c14df7146e9052a1131f3c900c1f0644\",\"token\":\"542599432471018|1JqjIwxSfY9jOt_KwjWEl1R7T6I\",\"namespace\":\"medium-com\",\"scope\":{\"default\":[\"public_profile\",\"email\",\"user_friends\"],\"connect\":[\"public_profile\",\"email\",\"user_friends\"],\"login\":[\"public_profile\",\"email\",\"user_friends\"],\"share\":[\"public_profile\",\"email\",\"user_friends\",\"publish_actions\"]},\"smartPublishWhitelistedPublications\":[\"bcc38c8f6edf\",\"f3726e2a5878\",\"828a270689e\",\"81c7d351c056\",\"f30e42fd7ff8\",\"8bf1d7d3081b\",\"d16afa0ae7c\",\"d8f3f6ad9c31\",\"e74de0cedea9\",\"15f753907972\",\"c8c6a6b01ebd\",\"3412b9729488\",\"2ce4bbcf83bb\",\"544c7006046e\",\"7bfcdbc6b30a\",\"a268fd916824\",\"458a773bccd2\"],\"instantArticles\":{\"published\":true,\"developmentMode\":false}},\"mailingListArchiveUploadSizeMb\":2,\"availableMembershipPlans\":[\"60e220181034\"],\"editorsPicksTopicId\":\"3985d2a191c5\",\"popularOnMediumTopicId\":\"9d34e48ecf94\",\"memberContentTopicId\":\"13d7efd82fb2\",\"audioContentTopicId\":\"3792abbd134\",\"isDoNotAuth\":false,\"goldfinchUrl\":\"https://goldfinch.medium.com\",\"buggle\":{\"url\":\"https://buggle.medium.com\",\"videoUrl\":\"https://cdn-videos-1.medium.com\",\"audioUrl\":\"https://cdn-audio-1.medium.com\"}}\n",
       "// ]]></script><script async=\"\" charset=\"UTF-8\" src=\"https://cdn-static-1.medium.com/_/fp/gen-js/main-base.bundle.MYMN2NQs4WqFH80-d2ahWQ.js\"></script><script>// <![CDATA[\n",
       "window[\"obvInit\"]({\"value\":{\"id\":\"c51385b552e5\",\"versionId\":\"3bff7e91bff6\",\"creatorId\":\"19ab048a9d61\",\"creator\":{\"userId\":\"19ab048a9d61\",\"name\":\"Jeevan Kalanithi\",\"username\":\"jeevank\",\"createdAt\":1467860806561,\"lastPostCreatedAt\":1488416052804,\"imageId\":\"0*sgm0y20DDM306HJ9.\",\"backgroundImageId\":\"\",\"bio\":\"\",\"twitterScreenName\":\"zoinkit\",\"socialStats\":{\"userId\":\"19ab048a9d61\",\"usersFollowedCount\":179,\"usersFollowedByCount\":275,\"type\":\"SocialStats\"},\"social\":{\"userId\":\"lo_8263925f1a23\",\"targetUserId\":\"19ab048a9d61\",\"type\":\"Social\"},\"facebookAccountId\":\"10157215378240455\",\"allowNotes\":1,\"type\":\"User\"},\"homeCollection\":{\"id\":\"55f7b4ba041f\",\"name\":\"jeevans-thoughts\",\"slug\":\"jeevans-thoughts\",\"tags\":[\"TECHNOLOGY\",\"DESIGN\",\"ENTREPRENEURSHIP\",\"HARDWARE\"],\"creatorId\":\"19ab048a9d61\",\"description\":\"thoughts & musings from a technology person\",\"shortDescription\":\"thoughts & musings from a technology person\",\"image\":{\"imageId\":\"1*8SsuOi-iyze_TbPx9MxniA.jpeg\",\"filter\":\"\",\"backgroundSize\":\"\",\"originalWidth\":992,\"originalHeight\":992,\"strategy\":\"resample\",\"height\":0,\"width\":0},\"metadata\":{\"followerCount\":21,\"activeAt\":1489780593740},\"virtuals\":{\"permissions\":{\"canPublish\":false,\"canPublishAll\":false,\"canRepublish\":false,\"canRemove\":false,\"canManageAll\":false,\"canSubmit\":false,\"canEditPosts\":false,\"canAddWriters\":false,\"canViewStats\":false,\"canSendNewsletter\":false,\"canViewLockedPosts\":false,\"canViewCloaked\":false,\"canEditOwnPosts\":false,\"canBeAssignedAuthor\":false},\"isSubscribed\":false,\"isNewsletterSubscribed\":false,\"memberOfMembershipPlanId\":\"\"},\"logo\":{\"imageId\":\"1*uJ1ybIYQOCqfAnmWxsf86Q.png\",\"filter\":\"\",\"backgroundSize\":\"\",\"originalWidth\":128,\"originalHeight\":128,\"strategy\":\"resample\",\"height\":0,\"width\":0},\"twitterUsername\":\"zoinkit\",\"sections\":[{\"type\":2,\"collectionHeaderMetadata\":{\"title\":\"jeevan’s thoughts\",\"description\":\"Musings on technology, design, the future, and whatnot\",\"backgroundImage\":{\"id\":\"1*gHaF3FupxPAVyl8XMpWeHA.jpeg\",\"originalWidth\":4752,\"originalHeight\":3168},\"logoImage\":{},\"alignment\":2,\"layout\":6}},{\"type\":1,\"postListMetadata\":{\"source\":1,\"layout\":4,\"number\":25,\"postIds\":[]}}],\"tintColor\":\"#FFFFFFFF\",\"lightText\":false,\"favicon\":{\"imageId\":\"\",\"filter\":\"\",\"backgroundSize\":\"\",\"originalWidth\":0,\"originalHeight\":0,\"strategy\":\"resample\",\"height\":0,\"width\":0},\"colorPalette\":{\"defaultBackgroundSpectrum\":{\"colorPoints\":[{\"color\":\"#FF848585\",\"point\":0},{\"color\":\"#FF7B7B7B\",\"point\":0.1},{\"color\":\"#FF717272\",\"point\":0.2},{\"color\":\"#FF686868\",\"point\":0.3},{\"color\":\"#FF5E5E5E\",\"point\":0.4},{\"color\":\"#FF545454\",\"point\":0.5},{\"color\":\"#FF494A4A\",\"point\":0.6},{\"color\":\"#FF3F3F3F\",\"point\":0.7},{\"color\":\"#FF333333\",\"point\":0.8},{\"color\":\"#FF272727\",\"point\":0.9},{\"color\":\"#FF1A1A1A\",\"point\":1}],\"backgroundColor\":\"#FFFFFFFF\"},\"tintBackgroundSpectrum\":{\"colorPoints\":[{\"color\":\"#FFFFFFFF\",\"point\":0},{\"color\":\"#FFEEEEEE\",\"point\":0.1},{\"color\":\"#FFDDDDDD\",\"point\":0.2},{\"color\":\"#FFCCCCCC\",\"point\":0.3},{\"color\":\"#FFBABABB\",\"point\":0.4},{\"color\":\"#FFA8A8A8\",\"point\":0.5},{\"color\":\"#FF959696\",\"point\":0.6},{\"color\":\"#FF818282\",\"point\":0.7},{\"color\":\"#FF6D6E6E\",\"point\":0.8},{\"color\":\"#FF575959\",\"point\":0.9},{\"color\":\"#FF404242\",\"point\":1}],\"backgroundColor\":\"#FFFFFFFF\"},\"highlightSpectrum\":{\"colorPoints\":[{\"color\":\"#FFF4F2F2\",\"point\":0},{\"color\":\"#FFF2F0F0\",\"point\":0.1},{\"color\":\"#FFF0EEEE\",\"point\":0.2},{\"color\":\"#FFEEECEC\",\"point\":0.3},{\"color\":\"#FFECEBEA\",\"point\":0.4},{\"color\":\"#FFEAE9E8\",\"point\":0.5},{\"color\":\"#FFE8E7E7\",\"point\":0.6},{\"color\":\"#FFE6E5E5\",\"point\":0.7},{\"color\":\"#FFE4E3E3\",\"point\":0.8},{\"color\":\"#FFE2E1E1\",\"point\":0.9},{\"color\":\"#FFE0DFDF\",\"point\":1}],\"backgroundColor\":\"#FFFFFFFF\"}},\"navItems\":[],\"colorBehavior\":1,\"instantArticlesState\":0,\"acceleratedMobilePagesState\":0,\"ampLogo\":{\"imageId\":\"\",\"filter\":\"\",\"backgroundSize\":\"\",\"originalWidth\":0,\"originalHeight\":0,\"strategy\":\"resample\",\"height\":0,\"width\":0},\"header\":{\"title\":\"jeevan’s thoughts\",\"description\":\"Musings on technology, design, the future, and whatnot\",\"backgroundImage\":{\"id\":\"1*gHaF3FupxPAVyl8XMpWeHA.jpeg\",\"originalWidth\":4752,\"originalHeight\":3168},\"logoImage\":{},\"alignment\":2,\"layout\":6},\"type\":\"Collection\"},\"homeCollectionId\":\"55f7b4ba041f\",\"title\":\"Post-CES musings on drones\",\"detectedLanguage\":\"en\",\"latestVersion\":\"3bff7e91bff6\",\"latestPublishedVersion\":\"3bff7e91bff6\",\"hasUnpublishedEdits\":false,\"latestRev\":775,\"createdAt\":1484028988547,\"updatedAt\":1485288202941,\"acceptedAt\":0,\"firstPublishedAt\":1484079664500,\"latestPublishedAt\":1485288202941,\"vote\":false,\"experimentalCss\":\"\",\"displayAuthor\":\"\",\"content\":{\"subtitle\":\"Thanks to Colin Guinn (Hangar), Tian Yu (Yuneec), David Merrill (Lemnos Labs), Lorenz Meier (ETH/PX4) and others for hanging out with me at…\",\"bodyModel\":{\"paragraphs\":[{\"name\":\"986d\",\"type\":3,\"text\":\"Post-CES musings on drones\",\"markups\":[]},{\"name\":\"15d7\",\"type\":1,\"text\":\"Thanks to Colin Guinn (Hangar), Tian Yu (Yuneec), David Merrill (Lemnos Labs), Lorenz Meier (ETH/PX4) and others for hanging out with me at CES and sparking the thoughts that led to this short post.\",\"markups\":[{\"type\":2,\"start\":0,\"end\":198}]},{\"name\":\"55b7\",\"type\":4,\"text\":\"DJI Mavic, all folded up!\",\"markups\":[],\"layout\":1,\"metadata\":{\"id\":\"1*zN40wOP2VQI9Br2ZEVBAJQ.png\",\"originalWidth\":1024,\"originalHeight\":680}},{\"name\":\"529f\",\"type\":1,\"text\":\"I made my annual pilgrimage to CES last week. And for the first time in a long time, I went as a civilian observer with no ties to any specific company — which proved to be awesome. With no back-to-back-to-back meeting schedule, I was able to take the show in at an appropriate distance.\",\"markups\":[]},{\"name\":\"445e\",\"type\":1,\"text\":\"Two observations.\",\"markups\":[]},{\"name\":\"52ca\",\"type\":1,\"text\":\"I. There are fewer drone companies this year than last — 2016 included a major Extinction Event. In early 2016, the number of UAV companies at CES, especially from China, was enormous.\",\"markups\":[{\"type\":1,\"start\":0,\"end\":97}]},{\"name\":\"a8bf\",\"type\":1,\"text\":\"2015 marked the Drone Cambrian Explosion, with a vast array of drones from a vast array of companies, each drone with curious though mostly minor variations in features, emerging from the primordial ooze. It was a sight to behold.\",\"markups\":[{\"type\":3,\"start\":22,\"end\":40,\"href\":\"https://en.wikipedia.org/wiki/Cambrian_explosion\",\"title\":\"\",\"rel\":\"\",\"anchorType\":0}]},{\"name\":\"2da8\",\"type\":1,\"text\":\"But just like that, 2016 included the Drone Extinction Event, as many companies seemed to have quit the drone hardware game (or actually folded) as tough, powerful leaders (DJI) crowded out the market with superior products at shockingly low prices.\",\"markups\":[{\"type\":3,\"start\":44,\"end\":60,\"href\":\"https://en.wikipedia.org/wiki/Cambrian%E2%80%93Ordovician_extinction_event\",\"title\":\"\",\"rel\":\"\",\"anchorType\":0}]},{\"name\":\"69ac\",\"type\":1,\"text\":\"At this point, Yuneec and DJI seem to be the only credible players left in the high volume drone hardware space. GoPro looks to re-enter this year too, and I hope they understand they must be in it for the long haul, or they should quit now.\",\"markups\":[]},{\"name\":\"d8dc\",\"type\":1,\"text\":\"While there are a number of companies still set to launch a drone, I consider the door shut to all but the best capitalized, most iron-willed firms. All others are racing into a brick wall.\",\"markups\":[]},{\"name\":\"f97f\",\"type\":1,\"text\":\"Put another way, making a drone the user will actually buy today is orders of magnitude harder and more expensive than it was just two or so years ago. The bar has been set, and the bar is high.\",\"markups\":[]},{\"name\":\"ea90\",\"type\":1,\"text\":\"II. There were no major drone tech/product announcements — the technological rate of change could be slowing. Interestingly, I didn’t see any major product announcements this year. The 2017 UAVs at CES were mostly minor updates from last year’s.\",\"markups\":[{\"type\":1,\"start\":0,\"end\":110}]},{\"name\":\"83b7\",\"type\":1,\"text\":\"I believe this is because the must-have features for a UAV are now (mostly) in place. This is a testament to the amazing speed of the market: the sophistication of tech in widely available drones today is jaw-dropping. Today you can purchase a drone with a miles-long HD wireless link, an epically good camera with rock-solid stabilization, and sophisticated sense-and-avoid behavior for about $1000. Crazy.\",\"markups\":[]},{\"name\":\"6ee3\",\"type\":1,\"text\":\"The rate of change is slowing for a few reasons.\",\"markups\":[]},{\"name\":\"efee\",\"type\":1,\"text\":\"Until recently, drones were obviously missing features that anyone would obviously want. It didn’t take a genius to figure out what the user wanted — but it did take an array of geniuses with a lot of money to actually deliver. These key features were, in order of appearance:\",\"markups\":[]},{\"name\":\"59f5\",\"type\":10,\"text\":\"Stable video — shaky video is hard to watch. The three axis gimbal solved this.\",\"markups\":[{\"type\":1,\"start\":0,\"end\":12}]},{\"name\":\"9f9a\",\"type\":10,\"text\":\"A good wireless link — being able to see what the drone is seeing in real-time is a must, and as a user I don’t want to live in fear that I will lose control of the drone if the link flakes out. DJI’s Lightbridge and other standards solved this.\",\"markups\":[{\"type\":1,\"start\":0,\"end\":20}]},{\"name\":\"21a5\",\"type\":10,\"text\":\"Sense and avoid — I don’t want to crash my drone. Give me piece of mind. Intel RealSense (Yuneec) and DJI’s Movidius/Intel-based solutions are solving this.\",\"markups\":[{\"type\":1,\"start\":0,\"end\":15}]},{\"name\":\"f5ee\",\"type\":1,\"text\":\"Each one of these features took more time and money than the last to bring to market. They are now standard and expected. This means smaller companies won’t be able to enter the game.\",\"markups\":[]},{\"name\":\"4a25\",\"type\":1,\"text\":\"It follows that newer features will take longer to develop, so it’s not surprising that there weren’t big new announcements this year. It also follows that the newest features tend to be less desirable than the ones that came before. (I posit that there exists a general law of product maturation that explains this phenomenon: perhaps I’ll cover in a future post.)\",\"markups\":[]},{\"name\":\"c0ac\",\"type\":1,\"text\":\"By way of analogy: smartphones, when they first came out, demonstrated big jumps in features from generation to generation. Each new feature “wowed” the users — first was obviously multi-touch itself; then GPS and reasonable data rates (3G); then voice control (Siri) and so on. Eventually, the pace slowed down such that today, all phones feel pretty much the same and the new features (better camera, water-resistance) seem less amazing. Each new feature is a little less “wow” than the one that came before.\",\"markups\":[]},{\"name\":\"70e7\",\"type\":1,\"text\":\"I argue this same pattern is happening to drones. It’s not a bad thing, by the way — it’s just the natural course of tech products.\",\"markups\":[]},{\"name\":\"5582\",\"type\":1,\"text\":\"That all said, I do believe there are some big new things ahead for drones, despite the trends CES would indicate. We are still early in the drone story.\",\"markups\":[]},{\"name\":\"20c8\",\"type\":1,\"text\":\"Two predictions.\",\"markups\":[]},{\"name\":\"61d4\",\"type\":1,\"text\":\"I. The stage is set for true autonomy — self-driving drones are coming. For the commercial user, one big missing feature actually involves getting rid of something found in today’s UAVs — pilots.\",\"markups\":[{\"type\":1,\"start\":0,\"end\":72},{\"type\":2,\"start\":147,\"end\":151}]},{\"name\":\"f397\",\"type\":1,\"text\":\"Just as self-driving cars are eliminating drivers, drone companies will begin to eliminate pilots. The economic pressure to remove humans from the equation is too great (in the commercial domain), and the technology is there — coming from both the drone industry itself, and from the self-driving car industry as well.\",\"markups\":[]},{\"name\":\"42ad\",\"type\":1,\"text\":\"DJI’s Inspire 2 has just about all you’d need to eliminate the pilot — sense-and-avoid in all directions, extensibility for adding an LTE link, you name it. We’re close.\",\"markups\":[]},{\"name\":\"e9f5\",\"type\":1,\"text\":\"As I see it, the only missing pieces for self-driving drones are:\",\"markups\":[]},{\"name\":\"d621\",\"type\":9,\"text\":\"Regulatory. BVLOS, or “beyond visual line of sight” operations, requires an FAA waiver. But regulations have a way of playing catch up to the tech and the user’s needs as opposed to blocking innovation completely. Just as Part 107 made commercial drone operations much easier, a new set of rules will allow truly autonomous drones to enter the airspace. It’s just a matter of time.\",\"markups\":[{\"type\":1,\"start\":0,\"end\":12}]},{\"name\":\"4745\",\"type\":9,\"text\":\"Wireless. Truly pilot-less drones want an LTE link to the cloud so that they can be told what to do from a distance and so that they can return their results to the user. But this isn’t an intrinsically hard technology problem to solve; it will just require cooperation with the carriers.\",\"markups\":[{\"type\":1,\"start\":0,\"end\":9}]},{\"name\":\"9f3d\",\"type\":9,\"text\":\"Product/market fit. The hunt for truly nailing the UX and delivering value with a pilot-less drones is ongoing and should not be underestimated. Getting the details right will take time. But it will happen.\",\"markups\":[{\"type\":1,\"start\":0,\"end\":19}]},{\"name\":\"b9b2\",\"type\":4,\"text\":\"Google Wing UAV\",\"markups\":[{\"type\":2,\"start\":0,\"end\":15}],\"layout\":1,\"metadata\":{\"id\":\"1*063Pkszc7UN8OpdGPD1GwQ.png\",\"originalWidth\":620,\"originalHeight\":372}},{\"name\":\"41f3\",\"type\":1,\"text\":\"II. The VTOLs are coming. To date, the mass market has been dominated by multi-rotors. Amazon and Google (X, specifically) have shown interesting progress with VTOLs (“vertical take off and landing” drones — think drones that can move around and hold position like a helicopter when they need to, but can fly like planes when they want to: this means a combo of the maneuverability/usability of a multi-rotor drone with the flight times and range of a plane). Parrot has made a fixed-wing plane (The Disco) widely available too.\",\"markups\":[{\"type\":1,\"start\":0,\"end\":26}]},{\"name\":\"76e6\",\"type\":1,\"text\":\"With advancements in open-source autopilot software that can power VTOLs and the increasing sophistication and ambition from major drone manufacturers, I predict that VTOL’s will begin to hit the shelves of (semi-)mass market outlets soon — they won’t be limited to the likes of the military, Amazon and X. They will not be as high-volume as traditional multi-rotors, but a truly usable VTOL will begin to demand the user’s attention and dollars.\",\"markups\":[]},{\"name\":\"ebb8\",\"type\":1,\"text\":\"There was no explicit evidence for this VTOL trend at CES, but I see it coming nonetheless. Small multi-rotors are not the end-game for UAVs.\",\"markups\":[]},{\"name\":\"6ac0\",\"type\":1,\"text\":\"We’re getting far enough into the drone saga to see patterns — but big developments and opportunities are out there on the horizon.\",\"markups\":[]}],\"sections\":[{\"name\":\"1736\",\"startIndex\":0}]},\"postDisplay\":{\"coverless\":true}},\"virtuals\":{\"statusForCollection\":\"APPROVED\",\"allowNotes\":true,\"previewImage\":{\"imageId\":\"1*zN40wOP2VQI9Br2ZEVBAJQ.png\",\"filter\":\"\",\"backgroundSize\":\"\",\"originalWidth\":1024,\"originalHeight\":680,\"strategy\":\"resample\",\"height\":0,\"width\":0},\"wordCount\":1336,\"imageCount\":2,\"readingTime\":5.424842767295598,\"subtitle\":\"Thanks to Colin Guinn (Hangar), Tian Yu (Yuneec), David Merrill (Lemnos Labs), Lorenz Meier (ETH/PX4) and others for hanging out with me at…\",\"publishedInCount\":1,\"usersBySocialRecommends\":[],\"recommends\":12,\"socialRecommends\":[],\"isBookmarked\":false,\"tags\":[{\"slug\":\"drones\",\"name\":\"Drones\",\"postCount\":4713,\"virtuals\":{\"isFollowing\":false},\"metadata\":{\"followerCount\":883,\"postCount\":4713,\"coverImage\":{\"id\":\"1*7S8stF7N89TKnPx6PzQtpQ.png\",\"originalWidth\":1283,\"originalHeight\":709}},\"type\":\"Tag\"},{\"slug\":\"startup\",\"name\":\"Startup\",\"postCount\":192831,\"virtuals\":{\"isFollowing\":false},\"metadata\":{\"followerCount\":920377,\"postCount\":192831,\"coverImage\":{\"id\":\"1*22RsJ-7NHWOqbpqOFCv8Vw.jpeg\"}},\"type\":\"Tag\"},{\"slug\":\"ces-2017\",\"name\":\"Ces 2017\",\"postCount\":290,\"virtuals\":{\"isFollowing\":false},\"metadata\":{\"followerCount\":10,\"postCount\":290,\"coverImage\":{\"id\":\"1*1EaR3FPW0qb00MKimB-E5g.jpeg\",\"originalWidth\":1600,\"originalHeight\":900,\"isFeatured\":true}},\"type\":\"Tag\"},{\"slug\":\"ces\",\"name\":\"CES\",\"postCount\":456,\"virtuals\":{\"isFollowing\":false},\"metadata\":{\"followerCount\":12,\"postCount\":456,\"coverImage\":{\"id\":\"0*Z94vX1mXX0As56UK.\",\"originalWidth\":1400,\"originalHeight\":787}},\"type\":\"Tag\"}],\"socialRecommendsCount\":0,\"responsesCreatedCount\":3,\"links\":{\"entries\":[],\"version\":\"0.3\",\"generatedAt\":1485291271921},\"isLockedPreviewOnly\":false,\"takeoverId\":\"\",\"metaDescription\":\"\",\"totalClapCount\":0},\"coverless\":true,\"slug\":\"post-ces-musings-on-drones\",\"translationSourcePostId\":\"\",\"translationSourceCreatorId\":\"\",\"isApprovedTranslation\":false,\"inResponseToPostId\":\"\",\"inResponseToRemovedAt\":0,\"isTitleSynthesized\":true,\"allowResponses\":true,\"importedUrl\":\"\",\"importedPublishedAt\":0,\"visibility\":0,\"uniqueSlug\":\"post-ces-musings-on-drones-c51385b552e5\",\"previewContent\":{\"bodyModel\":{\"paragraphs\":[{\"name\":\"986d\",\"type\":3,\"text\":\"Post-CES musings on drones\",\"markups\":[],\"alignment\":1},{\"name\":\"15d7\",\"type\":1,\"text\":\"Thanks to Colin Guinn (Hangar), Tian Yu (Yuneec), David Merrill (Lemnos Labs), Lorenz Meier (ETH/PX4) and others for hanging out with me at CES and sparking the thoughts that led to this short post.\",\"markups\":[{\"type\":2,\"start\":0,\"end\":198}],\"alignment\":1}],\"sections\":[{\"startIndex\":0}]},\"isFullContent\":false},\"license\":0,\"inResponseToMediaResourceId\":\"\",\"canonicalUrl\":\"https://medium.com/jeevans-thoughts/post-ces-musings-on-drones-c51385b552e5\",\"approvedHomeCollectionId\":\"55f7b4ba041f\",\"approvedHomeCollection\":{\"id\":\"55f7b4ba041f\",\"name\":\"jeevans-thoughts\",\"slug\":\"jeevans-thoughts\",\"tags\":[\"TECHNOLOGY\",\"DESIGN\",\"ENTREPRENEURSHIP\",\"HARDWARE\"],\"creatorId\":\"19ab048a9d61\",\"description\":\"thoughts & musings from a technology person\",\"shortDescription\":\"thoughts & musings from a technology person\",\"image\":{\"imageId\":\"1*8SsuOi-iyze_TbPx9MxniA.jpeg\",\"filter\":\"\",\"backgroundSize\":\"\",\"originalWidth\":992,\"originalHeight\":992,\"strategy\":\"resample\",\"height\":0,\"width\":0},\"metadata\":{\"followerCount\":21,\"activeAt\":1489780593740},\"virtuals\":{\"permissions\":{\"canPublish\":false,\"canPublishAll\":false,\"canRepublish\":false,\"canRemove\":false,\"canManageAll\":false,\"canSubmit\":false,\"canEditPosts\":false,\"canAddWriters\":false,\"canViewStats\":false,\"canSendNewsletter\":false,\"canViewLockedPosts\":false,\"canViewCloaked\":false,\"canEditOwnPosts\":false,\"canBeAssignedAuthor\":false},\"isSubscribed\":false,\"isNewsletterSubscribed\":false,\"memberOfMembershipPlanId\":\"\"},\"logo\":{\"imageId\":\"1*uJ1ybIYQOCqfAnmWxsf86Q.png\",\"filter\":\"\",\"backgroundSize\":\"\",\"originalWidth\":128,\"originalHeight\":128,\"strategy\":\"resample\",\"height\":0,\"width\":0},\"twitterUsername\":\"zoinkit\",\"sections\":[{\"type\":2,\"collectionHeaderMetadata\":{\"title\":\"jeevan’s thoughts\",\"description\":\"Musings on technology, design, the future, and whatnot\",\"backgroundImage\":{\"id\":\"1*gHaF3FupxPAVyl8XMpWeHA.jpeg\",\"originalWidth\":4752,\"originalHeight\":3168},\"logoImage\":{},\"alignment\":2,\"layout\":6}},{\"type\":1,\"postListMetadata\":{\"source\":1,\"layout\":4,\"number\":25,\"postIds\":[]}}],\"tintColor\":\"#FFFFFFFF\",\"lightText\":false,\"favicon\":{\"imageId\":\"\",\"filter\":\"\",\"backgroundSize\":\"\",\"originalWidth\":0,\"originalHeight\":0,\"strategy\":\"resample\",\"height\":0,\"width\":0},\"colorPalette\":{\"defaultBackgroundSpectrum\":{\"colorPoints\":[{\"color\":\"#FF848585\",\"point\":0},{\"color\":\"#FF7B7B7B\",\"point\":0.1},{\"color\":\"#FF717272\",\"point\":0.2},{\"color\":\"#FF686868\",\"point\":0.3},{\"color\":\"#FF5E5E5E\",\"point\":0.4},{\"color\":\"#FF545454\",\"point\":0.5},{\"color\":\"#FF494A4A\",\"point\":0.6},{\"color\":\"#FF3F3F3F\",\"point\":0.7},{\"color\":\"#FF333333\",\"point\":0.8},{\"color\":\"#FF272727\",\"point\":0.9},{\"color\":\"#FF1A1A1A\",\"point\":1}],\"backgroundColor\":\"#FFFFFFFF\"},\"tintBackgroundSpectrum\":{\"colorPoints\":[{\"color\":\"#FFFFFFFF\",\"point\":0},{\"color\":\"#FFEEEEEE\",\"point\":0.1},{\"color\":\"#FFDDDDDD\",\"point\":0.2},{\"color\":\"#FFCCCCCC\",\"point\":0.3},{\"color\":\"#FFBABABB\",\"point\":0.4},{\"color\":\"#FFA8A8A8\",\"point\":0.5},{\"color\":\"#FF959696\",\"point\":0.6},{\"color\":\"#FF818282\",\"point\":0.7},{\"color\":\"#FF6D6E6E\",\"point\":0.8},{\"color\":\"#FF575959\",\"point\":0.9},{\"color\":\"#FF404242\",\"point\":1}],\"backgroundColor\":\"#FFFFFFFF\"},\"highlightSpectrum\":{\"colorPoints\":[{\"color\":\"#FFF4F2F2\",\"point\":0},{\"color\":\"#FFF2F0F0\",\"point\":0.1},{\"color\":\"#FFF0EEEE\",\"point\":0.2},{\"color\":\"#FFEEECEC\",\"point\":0.3},{\"color\":\"#FFECEBEA\",\"point\":0.4},{\"color\":\"#FFEAE9E8\",\"point\":0.5},{\"color\":\"#FFE8E7E7\",\"point\":0.6},{\"color\":\"#FFE6E5E5\",\"point\":0.7},{\"color\":\"#FFE4E3E3\",\"point\":0.8},{\"color\":\"#FFE2E1E1\",\"point\":0.9},{\"color\":\"#FFE0DFDF\",\"point\":1}],\"backgroundColor\":\"#FFFFFFFF\"}},\"navItems\":[],\"colorBehavior\":1,\"instantArticlesState\":0,\"acceleratedMobilePagesState\":0,\"ampLogo\":{\"imageId\":\"\",\"filter\":\"\",\"backgroundSize\":\"\",\"originalWidth\":0,\"originalHeight\":0,\"strategy\":\"resample\",\"height\":0,\"width\":0},\"header\":{\"title\":\"jeevan’s thoughts\",\"description\":\"Musings on technology, design, the future, and whatnot\",\"backgroundImage\":{\"id\":\"1*gHaF3FupxPAVyl8XMpWeHA.jpeg\",\"originalWidth\":4752,\"originalHeight\":3168},\"logoImage\":{},\"alignment\":2,\"layout\":6},\"type\":\"Collection\"},\"newsletterId\":\"\",\"webCanonicalUrl\":\"https://medium.com/jeevans-thoughts/post-ces-musings-on-drones-c51385b552e5\",\"mediumUrl\":\"https://medium.com/jeevans-thoughts/post-ces-musings-on-drones-c51385b552e5\",\"migrationId\":\"\",\"notifyFollowers\":true,\"notifyTwitter\":true,\"isSponsored\":false,\"isRequestToPubDisabled\":false,\"notifyFacebook\":true,\"responseHiddenOnParentPostAt\":0,\"isSeries\":false,\"isSubscriptionLocked\":false,\"seriesLastAppendedAt\":0,\"audioVersionDurationSec\":0,\"type\":\"Post\"},\"mentionedUsers\":[],\"collaborators\":[],\"membershipPlans\":[],\"collectionUserRelations\":[],\"mode\":null,\"references\":{\"User\":{\"19ab048a9d61\":{\"userId\":\"19ab048a9d61\",\"name\":\"Jeevan Kalanithi\",\"username\":\"jeevank\",\"createdAt\":1467860806561,\"lastPostCreatedAt\":1488416052804,\"imageId\":\"0*sgm0y20DDM306HJ9.\",\"backgroundImageId\":\"\",\"bio\":\"\",\"twitterScreenName\":\"zoinkit\",\"socialStats\":{\"userId\":\"19ab048a9d61\",\"usersFollowedCount\":179,\"usersFollowedByCount\":275,\"type\":\"SocialStats\"},\"social\":{\"userId\":\"lo_8263925f1a23\",\"targetUserId\":\"19ab048a9d61\",\"type\":\"Social\"},\"facebookAccountId\":\"10157215378240455\",\"allowNotes\":1,\"type\":\"User\"}},\"Collection\":{\"55f7b4ba041f\":{\"id\":\"55f7b4ba041f\",\"name\":\"jeevans-thoughts\",\"slug\":\"jeevans-thoughts\",\"tags\":[\"TECHNOLOGY\",\"DESIGN\",\"ENTREPRENEURSHIP\",\"HARDWARE\"],\"creatorId\":\"19ab048a9d61\",\"description\":\"thoughts & musings from a technology person\",\"shortDescription\":\"thoughts & musings from a technology person\",\"image\":{\"imageId\":\"1*8SsuOi-iyze_TbPx9MxniA.jpeg\",\"filter\":\"\",\"backgroundSize\":\"\",\"originalWidth\":992,\"originalHeight\":992,\"strategy\":\"resample\",\"height\":0,\"width\":0},\"metadata\":{\"followerCount\":21,\"activeAt\":1489780593740},\"virtuals\":{\"permissions\":{\"canPublish\":false,\"canPublishAll\":false,\"canRepublish\":false,\"canRemove\":false,\"canManageAll\":false,\"canSubmit\":false,\"canEditPosts\":false,\"canAddWriters\":false,\"canViewStats\":false,\"canSendNewsletter\":false,\"canViewLockedPosts\":false,\"canViewCloaked\":false,\"canEditOwnPosts\":false,\"canBeAssignedAuthor\":false},\"isSubscribed\":false,\"isNewsletterSubscribed\":false,\"memberOfMembershipPlanId\":\"\"},\"logo\":{\"imageId\":\"1*uJ1ybIYQOCqfAnmWxsf86Q.png\",\"filter\":\"\",\"backgroundSize\":\"\",\"originalWidth\":128,\"originalHeight\":128,\"strategy\":\"resample\",\"height\":0,\"width\":0},\"twitterUsername\":\"zoinkit\",\"sections\":[{\"type\":2,\"collectionHeaderMetadata\":{\"title\":\"jeevan’s thoughts\",\"description\":\"Musings on technology, design, the future, and whatnot\",\"backgroundImage\":{\"id\":\"1*gHaF3FupxPAVyl8XMpWeHA.jpeg\",\"originalWidth\":4752,\"originalHeight\":3168},\"logoImage\":{},\"alignment\":2,\"layout\":6}},{\"type\":1,\"postListMetadata\":{\"source\":1,\"layout\":4,\"number\":25,\"postIds\":[]}}],\"tintColor\":\"#FFFFFFFF\",\"lightText\":false,\"favicon\":{\"imageId\":\"\",\"filter\":\"\",\"backgroundSize\":\"\",\"originalWidth\":0,\"originalHeight\":0,\"strategy\":\"resample\",\"height\":0,\"width\":0},\"colorPalette\":{\"defaultBackgroundSpectrum\":{\"colorPoints\":[{\"color\":\"#FF848585\",\"point\":0},{\"color\":\"#FF7B7B7B\",\"point\":0.1},{\"color\":\"#FF717272\",\"point\":0.2},{\"color\":\"#FF686868\",\"point\":0.3},{\"color\":\"#FF5E5E5E\",\"point\":0.4},{\"color\":\"#FF545454\",\"point\":0.5},{\"color\":\"#FF494A4A\",\"point\":0.6},{\"color\":\"#FF3F3F3F\",\"point\":0.7},{\"color\":\"#FF333333\",\"point\":0.8},{\"color\":\"#FF272727\",\"point\":0.9},{\"color\":\"#FF1A1A1A\",\"point\":1}],\"backgroundColor\":\"#FFFFFFFF\"},\"tintBackgroundSpectrum\":{\"colorPoints\":[{\"color\":\"#FFFFFFFF\",\"point\":0},{\"color\":\"#FFEEEEEE\",\"point\":0.1},{\"color\":\"#FFDDDDDD\",\"point\":0.2},{\"color\":\"#FFCCCCCC\",\"point\":0.3},{\"color\":\"#FFBABABB\",\"point\":0.4},{\"color\":\"#FFA8A8A8\",\"point\":0.5},{\"color\":\"#FF959696\",\"point\":0.6},{\"color\":\"#FF818282\",\"point\":0.7},{\"color\":\"#FF6D6E6E\",\"point\":0.8},{\"color\":\"#FF575959\",\"point\":0.9},{\"color\":\"#FF404242\",\"point\":1}],\"backgroundColor\":\"#FFFFFFFF\"},\"highlightSpectrum\":{\"colorPoints\":[{\"color\":\"#FFF4F2F2\",\"point\":0},{\"color\":\"#FFF2F0F0\",\"point\":0.1},{\"color\":\"#FFF0EEEE\",\"point\":0.2},{\"color\":\"#FFEEECEC\",\"point\":0.3},{\"color\":\"#FFECEBEA\",\"point\":0.4},{\"color\":\"#FFEAE9E8\",\"point\":0.5},{\"color\":\"#FFE8E7E7\",\"point\":0.6},{\"color\":\"#FFE6E5E5\",\"point\":0.7},{\"color\":\"#FFE4E3E3\",\"point\":0.8},{\"color\":\"#FFE2E1E1\",\"point\":0.9},{\"color\":\"#FFE0DFDF\",\"point\":1}],\"backgroundColor\":\"#FFFFFFFF\"}},\"navItems\":[],\"colorBehavior\":1,\"instantArticlesState\":0,\"acceleratedMobilePagesState\":0,\"ampLogo\":{\"imageId\":\"\",\"filter\":\"\",\"backgroundSize\":\"\",\"originalWidth\":0,\"originalHeight\":0,\"strategy\":\"resample\",\"height\":0,\"width\":0},\"header\":{\"title\":\"jeevan’s thoughts\",\"description\":\"Musings on technology, design, the future, and whatnot\",\"backgroundImage\":{\"id\":\"1*gHaF3FupxPAVyl8XMpWeHA.jpeg\",\"originalWidth\":4752,\"originalHeight\":3168},\"logoImage\":{},\"alignment\":2,\"layout\":6},\"type\":\"Collection\"}},\"Social\":{\"19ab048a9d61\":{\"userId\":\"lo_8263925f1a23\",\"targetUserId\":\"19ab048a9d61\",\"type\":\"Social\"}},\"SocialStats\":{\"19ab048a9d61\":{\"userId\":\"19ab048a9d61\",\"usersFollowedCount\":179,\"usersFollowedByCount\":275,\"type\":\"SocialStats\"}}}})\n",
       "// ]]></script></body></html>"
      ]
     },
     "execution_count": 5,
     "metadata": {},
     "output_type": "execute_result"
    }
   ],
   "source": [
    "soup"
   ]
  },
  {
   "cell_type": "code",
   "execution_count": null,
   "metadata": {
    "collapsed": true
   },
   "outputs": [],
   "source": []
  }
 ],
 "metadata": {
  "kernelspec": {
   "display_name": "Python 3",
   "language": "python",
   "name": "python3"
  },
  "language_info": {
   "codemirror_mode": {
    "name": "ipython",
    "version": 3
   },
   "file_extension": ".py",
   "mimetype": "text/x-python",
   "name": "python",
   "nbconvert_exporter": "python",
   "pygments_lexer": "ipython3",
   "version": "3.6.0"
  }
 },
 "nbformat": 4,
 "nbformat_minor": 2
}
