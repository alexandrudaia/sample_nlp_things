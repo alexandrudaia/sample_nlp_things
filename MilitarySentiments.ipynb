{
 "cells": [
  {
   "cell_type": "markdown",
   "metadata": {},
   "source": [
    "<h3> Hello, cloud!</h3>"
   ]
  },
  {
   "cell_type": "code",
   "execution_count": 1,
   "metadata": {},
   "outputs": [],
   "source": [
    "import pandas as pd\n",
    "import numpy as np"
   ]
  },
  {
   "cell_type": "code",
   "execution_count": 2,
   "metadata": {},
   "outputs": [
    {
     "name": "stdout",
     "output_type": "stream",
     "text": [
      "              total        used        free      shared  buff/cache   available\r\n",
      "Mem:       30873012      445416    30109448         916      318148    30052048\r\n",
      "Swap:             0           0           0\r\n"
     ]
    }
   ],
   "source": [
    "! free m"
   ]
  },
  {
   "cell_type": "code",
   "execution_count": 3,
   "metadata": {},
   "outputs": [],
   "source": [
    " \n",
    "df = pd.read_json('adidas2_tweets.json', encoding='utf-8')"
   ]
  },
  {
   "cell_type": "code",
   "execution_count": 4,
   "metadata": {},
   "outputs": [],
   "source": [
    "text=df['text']"
   ]
  },
  {
   "cell_type": "code",
   "execution_count": 7,
   "metadata": {},
   "outputs": [
    {
     "name": "stdout",
     "output_type": "stream",
     "text": [
      "Collecting vaderSentiment\n",
      "  Downloading https://files.pythonhosted.org/packages/86/9e/c53e1fc61aac5ee490a6ac5e21b1ac04e55a7c2aba647bb8411c9aadf24e/vaderSentiment-3.2.1-py2.py3-none-any.whl (125kB)\n",
      "\u001b[K    100% |████████████████████████████████| 133kB 8.1MB/s eta 0:00:01\n",
      "\u001b[?25hInstalling collected packages: vaderSentiment\n",
      "Successfully installed vaderSentiment-3.2.1\n"
     ]
    }
   ],
   "source": [
    "!pip3 install vaderSentiment"
   ]
  },
  {
   "cell_type": "code",
   "execution_count": 6,
   "metadata": {},
   "outputs": [
    {
     "name": "stderr",
     "output_type": "stream",
     "text": [
      "[nltk_data] Downloading package stopwords to\n",
      "[nltk_data]     /home/harambicloud/nltk_data...\n",
      "[nltk_data]   Package stopwords is already up-to-date!\n"
     ]
    }
   ],
   "source": [
    "import sys\n",
    "# !{sys.executable} -m spacy download en\n",
    "import re, numpy as np, pandas as pd\n",
    "from pprint import pprint\n",
    "\n",
    "# Gensim\n",
    "import gensim, spacy, logging, warnings\n",
    "import gensim.corpora as corpora\n",
    "from gensim.utils import lemmatize, simple_preprocess\n",
    "from gensim.models import CoherenceModel\n",
    "import matplotlib.pyplot as plt\n",
    "\n",
    "# NLTK Stop words\n",
    "import nltk\n",
    "nltk.download('stopwords')\n",
    "from nltk.corpus import stopwords\n",
    "stop_words = stopwords.words('english')\n",
    "stop_words.extend(['from', 'subject', 're', 'edu', 'use', 'not', 'would', 'say', 'could', '_', 'be', 'know', 'good', 'go', 'get', 'do', 'done', 'try', 'many', 'some', 'nice', 'thank', 'think', 'see', 'rather', 'easy', 'easily', 'lot', 'lack', 'make', 'want', 'seem', 'run', 'need', 'even', 'right', 'line', 'even', 'also', 'may', 'take', 'come'])\n",
    "\n",
    "%matplotlib inline\n",
    "warnings.filterwarnings(\"ignore\",category=DeprecationWarning)\n",
    "logging.basicConfig(format='%(asctime)s : %(levelname)s : %(message)s', level=logging.ERROR)"
   ]
  },
  {
   "cell_type": "code",
   "execution_count": 7,
   "metadata": {},
   "outputs": [],
   "source": [
    "def sent_to_words(sentences):\n",
    "    for sent in sentences:       \n",
    "        sent = re.sub('\\\"', \"\", sent)  # remove single quotes\n",
    "        sent = gensim.utils.simple_preprocess(str(sent), deacc=True) \n",
    "        yield(sent)  "
   ]
  },
  {
   "cell_type": "code",
   "execution_count": 8,
   "metadata": {},
   "outputs": [],
   "source": [
    "# Convert to list\n",
    "data = text.values.tolist()"
   ]
  },
  {
   "cell_type": "code",
   "execution_count": 9,
   "metadata": {},
   "outputs": [],
   "source": [
    " # Build the bigram and trigram models\n",
    "data_words = list(sent_to_words(data))\n",
    "bigram = gensim.models.Phrases(data_words, min_count=5, threshold=100) # higher threshold fewer phrases.\n",
    "trigram = gensim.models.Phrases(bigram[data_words], threshold=100)  \n",
    "bigram_mod = gensim.models.phrases.Phraser(bigram)\n",
    "trigram_mod = gensim.models.phrases.Phraser(trigram)\n",
    "\n",
    "# !python3 -m spacy download en  # run in terminal once\n",
    "def process_words(texts, stop_words=stop_words, allowed_postags=['NOUN', 'ADJ', 'VERB', 'ADV']):\n",
    "    \"\"\"Remove Stopwords, Form Bigrams, Trigrams and Lemmatization\"\"\"\n",
    "    texts = [[word for word in simple_preprocess(str(doc)) if word not in stop_words] for doc in texts]\n",
    "    texts = [bigram_mod[doc] for doc in texts]\n",
    "    texts = [trigram_mod[bigram_mod[doc]] for doc in texts]\n",
    "    texts_out = []\n",
    "    nlp = spacy.load('en', disable=['parser', 'ner'])\n",
    "    for sent in texts:\n",
    "        doc = nlp(\" \".join(sent)) \n",
    "        texts_out.append([token.lemma_ for token in doc if token.pos_ in allowed_postags])\n",
    "    # remove stopwords once more after lemmatization\n",
    "    texts_out = [[word for word in simple_preprocess(str(doc)) if word not in stop_words] for doc in texts_out]    \n",
    "    return texts_out\n",
    "\n",
    "data_ready = process_words(data_words)  # processed Text Data!"
   ]
  },
  {
   "cell_type": "code",
   "execution_count": 10,
   "metadata": {},
   "outputs": [
    {
     "name": "stdout",
     "output_type": "stream",
     "text": [
      "[(0,\n",
      "  '0.039*\"woman\" + 0.033*\"ift_tt\" + 0.022*\"add\" + 0.021*\"year\" + '\n",
      "  '0.021*\"closet\" + 0.019*\"track\" + 0.016*\"announce\" + 0.014*\"list\" + '\n",
      "  '0.013*\"next\" + 0.012*\"back\"'),\n",
      " (1,\n",
      "  '0.079*\"shoe\" + 0.022*\"black\" + 0.018*\"still\" + 0.016*\"lol\" + 0.014*\"user\" + '\n",
      "  '0.013*\"running\" + 0.013*\"friend\" + 0.012*\"song\" + 0.012*\"enjoy\" + '\n",
      "  '0.012*\"chart\"'),\n",
      " (2,\n",
      "  '0.068*\"adida\" + 0.036*\"beyonce\" + 0.031*\"check\" + 0.025*\"carbon\" + '\n",
      "  '0.023*\"create\" + 0.020*\"buy\" + 0.020*\"code\" + 0.018*\"launch\" + '\n",
      "  '0.015*\"roupa\" + 0.015*\"man\"'),\n",
      " (3,\n",
      "  '0.179*\"com\" + 0.127*\"adida\" + 0.100*\"twitter\" + 0.060*\"http\" + 0.041*\"size\" '\n",
      "  '+ 0.039*\"pic\" + 0.031*\"https\" + 0.023*\"new\" + 0.011*\"sale\" + 0.011*\"brand\"'),\n",
      " (4,\n",
      "  '0.335*\"adida\" + 0.020*\"team\" + 0.018*\"style\" + 0.018*\"yeezy\" + '\n",
      "  '0.017*\"yellow\" + 0.015*\"partnership\" + 0.013*\"price\" + 0.011*\"carbon\" + '\n",
      "  '0.011*\"sneaker\" + 0.009*\"concept\"')]\n"
     ]
    }
   ],
   "source": [
    " # Create Dictionary\n",
    "id2word = corpora.Dictionary(data_ready)\n",
    "\n",
    "# Create Corpus: Term Document Frequency\n",
    "corpus = [id2word.doc2bow(text) for text in data_ready]\n",
    "\n",
    "# Build LDA model\n",
    "lda_model = gensim.models.ldamodel.LdaModel(corpus=corpus,\n",
    "                                           id2word=id2word,\n",
    "                                           num_topics=5, \n",
    "                                           random_state=100,\n",
    "                                           update_every=1,\n",
    "                                           chunksize=10,\n",
    "                                           passes=10,\n",
    "                                           alpha='symmetric',\n",
    "                                           iterations=100,\n",
    "                                           per_word_topics=True)\n",
    "\n",
    "pprint(lda_model.print_topics())"
   ]
  },
  {
   "cell_type": "code",
   "execution_count": 11,
   "metadata": {},
   "outputs": [
    {
     "data": {
      "text/html": [
       "<div>\n",
       "<style scoped>\n",
       "    .dataframe tbody tr th:only-of-type {\n",
       "        vertical-align: middle;\n",
       "    }\n",
       "\n",
       "    .dataframe tbody tr th {\n",
       "        vertical-align: top;\n",
       "    }\n",
       "\n",
       "    .dataframe thead th {\n",
       "        text-align: right;\n",
       "    }\n",
       "</style>\n",
       "<table border=\"1\" class=\"dataframe\">\n",
       "  <thead>\n",
       "    <tr style=\"text-align: right;\">\n",
       "      <th></th>\n",
       "      <th>Document_No</th>\n",
       "      <th>Dominant_Topic</th>\n",
       "      <th>Topic_Perc_Contrib</th>\n",
       "      <th>Keywords</th>\n",
       "      <th>Text</th>\n",
       "    </tr>\n",
       "  </thead>\n",
       "  <tbody>\n",
       "    <tr>\n",
       "      <th>0</th>\n",
       "      <td>0</td>\n",
       "      <td>4.0</td>\n",
       "      <td>0.4490</td>\n",
       "      <td>adida, team, style, yeezy, yellow, partnership...</td>\n",
       "      <td>[realise, wear, adida, sock, today, comfy, fit...</td>\n",
       "    </tr>\n",
       "    <tr>\n",
       "      <th>1</th>\n",
       "      <td>1</td>\n",
       "      <td>4.0</td>\n",
       "      <td>0.4499</td>\n",
       "      <td>adida, team, style, yeezy, yellow, partnership...</td>\n",
       "      <td>[realise, wear, adida, sock, today]</td>\n",
       "    </tr>\n",
       "    <tr>\n",
       "      <th>2</th>\n",
       "      <td>2</td>\n",
       "      <td>1.0</td>\n",
       "      <td>0.4806</td>\n",
       "      <td>shoe, black, still, lol, user, running, friend...</td>\n",
       "      <td>[pork, store, adida, favorite, song, gra]</td>\n",
       "    </tr>\n",
       "    <tr>\n",
       "      <th>3</th>\n",
       "      <td>3</td>\n",
       "      <td>1.0</td>\n",
       "      <td>0.4805</td>\n",
       "      <td>shoe, black, still, lol, user, running, friend...</td>\n",
       "      <td>[pork, store, adida, favorite, song, gra]</td>\n",
       "    </tr>\n",
       "    <tr>\n",
       "      <th>4</th>\n",
       "      <td>4</td>\n",
       "      <td>4.0</td>\n",
       "      <td>0.4592</td>\n",
       "      <td>adida, team, style, yeezy, yellow, partnership...</td>\n",
       "      <td>[check, store, mall, preliminary, glance]</td>\n",
       "    </tr>\n",
       "    <tr>\n",
       "      <th>5</th>\n",
       "      <td>5</td>\n",
       "      <td>1.0</td>\n",
       "      <td>0.5994</td>\n",
       "      <td>shoe, black, still, lol, user, running, friend...</td>\n",
       "      <td>[look, forward, check, adidas, store, hope, ca...</td>\n",
       "    </tr>\n",
       "    <tr>\n",
       "      <th>6</th>\n",
       "      <td>6</td>\n",
       "      <td>4.0</td>\n",
       "      <td>0.5979</td>\n",
       "      <td>adida, team, style, yeezy, yellow, partnership...</td>\n",
       "      <td>[adida]</td>\n",
       "    </tr>\n",
       "    <tr>\n",
       "      <th>7</th>\n",
       "      <td>7</td>\n",
       "      <td>1.0</td>\n",
       "      <td>0.6164</td>\n",
       "      <td>shoe, black, still, lol, user, running, friend...</td>\n",
       "      <td>[wear, black, adida, suit, flourescent, green,...</td>\n",
       "    </tr>\n",
       "    <tr>\n",
       "      <th>8</th>\n",
       "      <td>8</td>\n",
       "      <td>4.0</td>\n",
       "      <td>0.4491</td>\n",
       "      <td>adida, team, style, yeezy, yellow, partnership...</td>\n",
       "      <td>[realise, wear, adida, sock, today, comfy, fit...</td>\n",
       "    </tr>\n",
       "    <tr>\n",
       "      <th>9</th>\n",
       "      <td>9</td>\n",
       "      <td>4.0</td>\n",
       "      <td>0.4498</td>\n",
       "      <td>adida, team, style, yeezy, yellow, partnership...</td>\n",
       "      <td>[realise, wear, adida, sock, today]</td>\n",
       "    </tr>\n",
       "  </tbody>\n",
       "</table>\n",
       "</div>"
      ],
      "text/plain": [
       "   Document_No  Dominant_Topic  Topic_Perc_Contrib  \\\n",
       "0            0             4.0              0.4490   \n",
       "1            1             4.0              0.4499   \n",
       "2            2             1.0              0.4806   \n",
       "3            3             1.0              0.4805   \n",
       "4            4             4.0              0.4592   \n",
       "5            5             1.0              0.5994   \n",
       "6            6             4.0              0.5979   \n",
       "7            7             1.0              0.6164   \n",
       "8            8             4.0              0.4491   \n",
       "9            9             4.0              0.4498   \n",
       "\n",
       "                                            Keywords  \\\n",
       "0  adida, team, style, yeezy, yellow, partnership...   \n",
       "1  adida, team, style, yeezy, yellow, partnership...   \n",
       "2  shoe, black, still, lol, user, running, friend...   \n",
       "3  shoe, black, still, lol, user, running, friend...   \n",
       "4  adida, team, style, yeezy, yellow, partnership...   \n",
       "5  shoe, black, still, lol, user, running, friend...   \n",
       "6  adida, team, style, yeezy, yellow, partnership...   \n",
       "7  shoe, black, still, lol, user, running, friend...   \n",
       "8  adida, team, style, yeezy, yellow, partnership...   \n",
       "9  adida, team, style, yeezy, yellow, partnership...   \n",
       "\n",
       "                                                Text  \n",
       "0  [realise, wear, adida, sock, today, comfy, fit...  \n",
       "1                [realise, wear, adida, sock, today]  \n",
       "2          [pork, store, adida, favorite, song, gra]  \n",
       "3          [pork, store, adida, favorite, song, gra]  \n",
       "4          [check, store, mall, preliminary, glance]  \n",
       "5  [look, forward, check, adidas, store, hope, ca...  \n",
       "6                                            [adida]  \n",
       "7  [wear, black, adida, suit, flourescent, green,...  \n",
       "8  [realise, wear, adida, sock, today, comfy, fit...  \n",
       "9                [realise, wear, adida, sock, today]  "
      ]
     },
     "execution_count": 11,
     "metadata": {},
     "output_type": "execute_result"
    }
   ],
   "source": [
    "def format_topics_sentences(ldamodel=None, corpus=corpus, texts=data):\n",
    "    # Init output\n",
    "    sent_topics_df = pd.DataFrame()\n",
    "\n",
    "    # Get main topic in each document\n",
    "    for i, row_list in enumerate(ldamodel[corpus]):\n",
    "        row = row_list[0] if ldamodel.per_word_topics else row_list            \n",
    "        # print(row)\n",
    "        row = sorted(row, key=lambda x: (x[1]), reverse=True)\n",
    "        # Get the Dominant topic, Perc Contribution and Keywords for each document\n",
    "        for j, (topic_num, prop_topic) in enumerate(row):\n",
    "            if j == 0:  # => dominant topic\n",
    "                wp = ldamodel.show_topic(topic_num)\n",
    "                topic_keywords = \", \".join([word for word, prop in wp])\n",
    "                sent_topics_df = sent_topics_df.append(pd.Series([int(topic_num), round(prop_topic,4), topic_keywords]), ignore_index=True)\n",
    "            else:\n",
    "                break\n",
    "    sent_topics_df.columns = ['Dominant_Topic', 'Perc_Contribution', 'Topic_Keywords']\n",
    "\n",
    "    # Add original text to the end of the output\n",
    "    contents = pd.Series(texts)\n",
    "    sent_topics_df = pd.concat([sent_topics_df, contents], axis=1)\n",
    "    return(sent_topics_df)\n",
    "\n",
    "\n",
    "df_topic_sents_keywords = format_topics_sentences(ldamodel=lda_model, corpus=corpus, texts=data_ready)\n",
    "\n",
    "# Format\n",
    "df_dominant_topic = df_topic_sents_keywords.reset_index()\n",
    "df_dominant_topic.columns = ['Document_No', 'Dominant_Topic', 'Topic_Perc_Contrib', 'Keywords', 'Text']\n",
    "df_dominant_topic.head(10) "
   ]
  },
  {
   "cell_type": "code",
   "execution_count": 12,
   "metadata": {},
   "outputs": [
    {
     "data": {
      "image/png": "[encoded data removed]",
      "text/plain": [
       "<Figure size 720x720 with 4 Axes>"
      ]
     },
     "metadata": {},
     "output_type": "display_data"
    }
   ],
   "source": [
    "from matplotlib import pyplot as plt\n",
    "from wordcloud import WordCloud, STOPWORDS\n",
    "import matplotlib.colors as mcolors\n",
    "\n",
    "cols = [color for name, color in mcolors.TABLEAU_COLORS.items()]  # more colors: 'mcolors.XKCD_COLORS'\n",
    "\n",
    "cloud = WordCloud(stopwords=stop_words,\n",
    "                  background_color='white',\n",
    "                  width=2500,\n",
    "                  height=1800,\n",
    "                  max_words=10,\n",
    "                  colormap='tab10',\n",
    "                  color_func=lambda *args, **kwargs: cols[i],\n",
    "                  prefer_horizontal=1.0)\n",
    "\n",
    "topics = lda_model.show_topics(formatted=False)\n",
    "\n",
    "fig, axes = plt.subplots(2, 2, figsize=(10,10), sharex=True, sharey=True)\n",
    "\n",
    "for i, ax in enumerate(axes.flatten()):\n",
    "    fig.add_subplot(ax)\n",
    "    topic_words = dict(topics[i][1])\n",
    "    cloud.generate_from_frequencies(topic_words, max_font_size=300)\n",
    "    plt.gca().imshow(cloud)\n",
    "    plt.gca().set_title('Topic ' + str(i), fontdict=dict(size=16))\n",
    "    plt.gca().axis('off')\n",
    "\n",
    "\n",
    "plt.subplots_adjust(wspace=0, hspace=0)\n",
    "plt.axis('off')\n",
    "plt.margins(x=0, y=0)\n",
    "plt.tight_layout()\n",
    "plt.show()"
   ]
  },
  {
   "cell_type": "code",
   "execution_count": 13,
   "metadata": {},
   "outputs": [
    {
     "name": "stderr",
     "output_type": "stream",
     "text": [
      "/home/harambicloud/.local/lib/python3.6/site-packages/pyLDAvis/_prepare.py:257: FutureWarning: Sorting because non-concatenation axis is not aligned. A future version\n",
      "of pandas will change to not sort by default.\n",
      "\n",
      "To accept the future behavior, pass 'sort=False'.\n",
      "\n",
      "To retain the current behavior and silence the warning, pass 'sort=True'.\n",
      "\n",
      "  return pd.concat([default_term_info] + list(topic_dfs))\n"
     ]
    },
    {
     "data": {
      "text/html": [
       "\n",
       "<link rel=\"stylesheet\" type=\"text/css\" href=\"https://cdn.rawgit.com/bmabey/pyLDAvis/files/ldavis.v1.0.0.css\">\n",
       "\n",
       "\n",
       "<div id=\"ldavis_el29781397235110828246575035824\"></div>\n",
       "<script type=\"text/javascript\">\n",
       "\n",
       "var ldavis_el29781397235110828246575035824_data = {\"mdsDat\": {\"x\": [0.24507990885610328, -0.19776499654691815, 0.12729096565462109, 0.00677068112511287, -0.18137655908891862], \"y\": [0.11096476288818267, -0.12665316131020218, -0.10913505637786372, -0.08350290191802605, 0.20832635671790936], \"topics\": [1, 2, 3, 4, 5], \"cluster\": [1, 1, 1, 1, 1], \"Freq\": [32.97119903564453, 19.086023330688477, 18.627216339111328, 16.31231689453125, 13.003243446350098]}, \"tinfo\": {\"Category\": [\"Default\", \"Default\", \"Default\", \"Default\", \"Default\", \"Default\", \"Default\", \"Default\", \"Default\", \"Default\", \"Default\", \"Default\", \"Default\", \"Default\", \"Default\", \"Default\", \"Default\", \"Default\", \"Default\", \"Default\", \"Default\", \"Default\", \"Default\", \"Default\", \"Default\", \"Default\", \"Default\", \"Default\", \"Default\", \"Default\", \"Topic1\", \"Topic1\", \"Topic1\", \"Topic1\", \"Topic1\", \"Topic1\", \"Topic1\", \"Topic1\", \"Topic1\", \"Topic1\", \"Topic1\", \"Topic1\", \"Topic1\", \"Topic1\", \"Topic1\", \"Topic1\", \"Topic1\", \"Topic1\", \"Topic1\", \"Topic1\", \"Topic1\", \"Topic1\", \"Topic1\", \"Topic1\", \"Topic1\", \"Topic1\", \"Topic1\", \"Topic1\", \"Topic1\", \"Topic1\", \"Topic1\", \"Topic1\", \"Topic1\", \"Topic1\", \"Topic1\", \"Topic1\", \"Topic1\", \"Topic2\", \"Topic2\", \"Topic2\", \"Topic2\", \"Topic2\", \"Topic2\", \"Topic2\", \"Topic2\", \"Topic2\", \"Topic2\", \"Topic2\", \"Topic2\", \"Topic2\", \"Topic2\", \"Topic2\", \"Topic2\", \"Topic2\", \"Topic2\", \"Topic2\", \"Topic2\", \"Topic2\", \"Topic2\", \"Topic2\", \"Topic2\", \"Topic2\", \"Topic2\", \"Topic2\", \"Topic2\", \"Topic2\", \"Topic2\", \"Topic2\", \"Topic2\", \"Topic2\", \"Topic2\", \"Topic2\", \"Topic2\", \"Topic2\", \"Topic2\", \"Topic3\", \"Topic3\", \"Topic3\", \"Topic3\", \"Topic3\", \"Topic3\", \"Topic3\", \"Topic3\", \"Topic3\", \"Topic3\", \"Topic3\", \"Topic3\", \"Topic3\", \"Topic3\", \"Topic3\", \"Topic3\", \"Topic3\", \"Topic3\", \"Topic3\", \"Topic3\", \"Topic3\", \"Topic3\", \"Topic3\", \"Topic3\", \"Topic3\", \"Topic3\", \"Topic3\", \"Topic3\", \"Topic3\", \"Topic3\", \"Topic3\", \"Topic3\", \"Topic3\", \"Topic3\", \"Topic3\", \"Topic3\", \"Topic3\", \"Topic3\", \"Topic3\", \"Topic4\", \"Topic4\", \"Topic4\", \"Topic4\", \"Topic4\", \"Topic4\", \"Topic4\", \"Topic4\", \"Topic4\", \"Topic4\", \"Topic4\", \"Topic4\", \"Topic4\", \"Topic4\", \"Topic4\", \"Topic4\", \"Topic4\", \"Topic4\", \"Topic4\", \"Topic4\", \"Topic4\", \"Topic4\", \"Topic4\", \"Topic4\", \"Topic4\", \"Topic4\", \"Topic4\", \"Topic4\", \"Topic4\", \"Topic4\", \"Topic4\", \"Topic4\", \"Topic4\", \"Topic4\", \"Topic4\", \"Topic4\", \"Topic4\", \"Topic4\", \"Topic4\", \"Topic4\", \"Topic5\", \"Topic5\", \"Topic5\", \"Topic5\", \"Topic5\", \"Topic5\", \"Topic5\", \"Topic5\", \"Topic5\", \"Topic5\", \"Topic5\", \"Topic5\", \"Topic5\", \"Topic5\", \"Topic5\", \"Topic5\", \"Topic5\", \"Topic5\", \"Topic5\", \"Topic5\", \"Topic5\", \"Topic5\", \"Topic5\", \"Topic5\", \"Topic5\", \"Topic5\", \"Topic5\", \"Topic5\", \"Topic5\", \"Topic5\", \"Topic5\", \"Topic5\", \"Topic5\", \"Topic5\", \"Topic5\", \"Topic5\", \"Topic5\"], \"Freq\": [1516.0, 777.0, 432.0, 199.0, 261.0, 176.0, 170.0, 136.0, 80.0, 66.0, 66.0, 57.0, 102.0, 55.0, 51.0, 37.0, 42.0, 49.0, 37.0, 45.0, 36.0, 44.0, 43.0, 45.0, 33.0, 41.0, 39.0, 46.0, 123.0, 33.0, 776.372314453125, 431.6175231933594, 260.9762268066406, 175.7494659423828, 169.93157958984375, 135.96298217773438, 101.59029388427734, 49.51825714111328, 42.52552795410156, 41.50990676879883, 32.093387603759766, 30.48069953918457, 25.415769577026367, 46.63151931762695, 24.33961296081543, 22.082183837890625, 21.508569717407227, 21.896780014038086, 15.797882080078125, 13.791930198669434, 12.462735176086426, 12.462735176086426, 11.230831146240234, 11.130950927734375, 10.009635925292969, 10.009635925292969, 9.983604431152344, 9.426403045654297, 9.426403045654297, 11.133415222167969, 28.122318267822266, 10.458714485168457, 24.47239875793457, 551.2377319335938, 17.222003936767578, 13.796753883361816, 15.099396705627441, 199.37164306640625, 55.13516616821289, 45.26591110229492, 39.23358154296875, 32.68019104003906, 29.467403411865234, 29.071147918701172, 26.707115173339844, 26.59307289123535, 30.299509048461914, 30.288755416870117, 30.286113739013672, 26.206254959106445, 33.20780944824219, 36.2620735168457, 24.816911697387695, 24.733154296875, 24.217512130737305, 21.749195098876953, 29.39850425720215, 20.236835479736328, 21.35247802734375, 18.918975830078125, 16.175025939941406, 15.29479694366455, 13.844700813293457, 14.241503715515137, 14.316484451293945, 18.63990592956543, 14.861818313598633, 29.81241798400879, 23.84687042236328, 15.661284446716309, 19.415193557739258, 17.277246475219727, 18.890188217163086, 28.333616256713867, 28.375532150268555, 43.354469299316406, 40.50562286376953, 42.96219253540039, 31.760677337646484, 26.601713180541992, 22.25589942932129, 47.88592529296875, 19.12944221496582, 22.891931533813477, 16.132965087890625, 14.3250732421875, 10.794797897338867, 10.478336334228516, 10.5335693359375, 10.53062629699707, 9.680115699768066, 9.445616722106934, 9.94501781463623, 9.944011688232422, 9.14682388305664, 9.18691635131836, 10.454147338867188, 10.454144477844238, 8.562714576721191, 9.880792617797852, 8.937788963317871, 8.43865966796875, 8.43865966796875, 20.1212158203125, 7.237355709075928, 8.295170783996582, 10.136775016784668, 818.9071044921875, 20.65201759338379, 36.721946716308594, 15.176051139831543, 18.257211685180664, 27.564233779907227, 10.537029266357422, 66.10615539550781, 42.143672943115234, 32.6103515625, 31.177120208740234, 29.69931983947754, 28.577816009521484, 28.577816009521484, 25.54692840576172, 25.140789031982422, 28.161136627197266, 77.68589782714844, 49.94873046875, 21.563941955566406, 18.876245498657227, 18.436412811279297, 16.506725311279297, 15.930805206298828, 14.907017707824707, 13.781021118164062, 15.049839973449707, 13.725052833557129, 11.606114387512207, 9.959745407104492, 9.95375919342041, 8.577005386352539, 8.176835060119629, 7.8173980712890625, 41.93193817138672, 7.927048206329346, 11.285369873046875, 11.433113098144531, 39.51688766479492, 18.099729537963867, 9.929909706115723, 21.34153938293457, 52.688804626464844, 146.27755737304688, 17.44580841064453, 12.567647933959961, 11.894511222839355, 65.96452331542969, 56.718048095703125, 37.30870819091797, 36.40523910522461, 36.02886199951172, 32.60286331176758, 24.381254196166992, 21.31509780883789, 22.220718383789062, 20.72407341003418, 19.052377700805664, 27.719751358032227, 13.573702812194824, 15.010690689086914, 11.713964462280273, 11.37705135345459, 17.76864242553711, 11.34581184387207, 10.177657127380371, 9.481098175048828, 13.419601440429688, 8.836833953857422, 9.900294303894043, 8.31362247467041, 8.030007362365723, 19.212888717651367, 7.216228485107422, 7.216228485107422, 11.705270767211914, 8.58256721496582, 13.941822052001953, 10.73276138305664, 18.409748077392578, 16.182422637939453, 14.152050971984863, 9.280634880065918, 9.280634880065918], \"Term\": [\"adida\", \"com\", \"twitter\", \"shoe\", \"http\", \"size\", \"pic\", \"https\", \"beyonce\", \"woman\", \"check\", \"ift_tt\", \"new\", \"black\", \"create\", \"add\", \"buy\", \"team\", \"year\", \"still\", \"closet\", \"style\", \"yeezy\", \"code\", \"track\", \"yellow\", \"lol\", \"launch\", \"carbon\", \"roupa\", \"com\", \"twitter\", \"http\", \"size\", \"pic\", \"https\", \"new\", \"sale\", \"status\", \"www\", \"deal\", \"dlvr\", \"instagram\", \"brand\", \"authentic\", \"product\", \"blue\", \"drop\", \"wmbhwl\", \"big\", \"sharelapak\", \"socme\", \"businessinsider\", \"arrival\", \"todo_bien\", \"tene\", \"formation\", \"usky\", \"vrenu\", \"end\", \"stock\", \"sign\", \"available\", \"adida\", \"clay\", \"trackpant\", \"carbon\", \"shoe\", \"black\", \"still\", \"lol\", \"friend\", \"white\", \"release\", \"original\", \"people\", \"song\", \"enjoy\", \"chart\", \"trainer\", \"running\", \"user\", \"look\", \"wear\", \"never\", \"van\", \"clothing\", \"adidas\", \"week\", \"high\", \"bitch\", \"ready\", \"pair\", \"lmfao\", \"cop\", \"stripe\", \"soundcloud\", \"sell\", \"highly\", \"thing\", \"well\", \"post\", \"wise\", \"fiber\", \"carbon\", \"style\", \"yellow\", \"yeezy\", \"price\", \"sneaker\", \"son\", \"team\", \"soon\", \"concept\", \"bag\", \"else\", \"officially\", \"retail\", \"poor\", \"filho\", \"force\", \"pocket\", \"word\", \"rev\", \"tomorrow\", \"dele\", \"outra\", \"ypg\", \"hay\", \"lolla\", \"mano\", \"fumble\", \"hopefully\", \"singer\", \"tracksuit\", \"swift\", \"newsdecide\", \"adida\", \"date\", \"partnership\", \"uplay\", \"relaunch\", \"carbon\", \"frozen\", \"check\", \"buy\", \"roupa\", \"man\", \"color\", \"coin\", \"gather\", \"short\", \"boost\", \"money\", \"beyonce\", \"create\", \"kit\", \"fashion\", \"boy\", \"let\", \"find\", \"quase\", \"win\", \"match\", \"low\", \"fan\", \"face\", \"true\", \"shirt\", \"green\", \"foto\", \"code\", \"sportswear\", \"prefer\", \"net\", \"launch\", \"lamodeexpose\", \"way\", \"solar\", \"carbon\", \"adida\", \"fiber\", \"athlete\", \"afew\", \"woman\", \"ift_tt\", \"add\", \"year\", \"closet\", \"track\", \"list\", \"back\", \"next\", \"pant\", \"game\", \"announce\", \"bring\", \"work\", \"vintage\", \"hat\", \"fit\", \"set\", \"talk\", \"collection\", \"person\", \"boot\", \"website\", \"football\", \"pink\", \"halfshoe\", \"post_id\", \"postcomment\", \"ago\", \"adidasoriginal\", \"poshmark\", \"feature\", \"sundaysport\", \"collaboration\", \"move\", \"\\u91ce\\u7403\\u7528\\u54c1\\u5c02\\u9580\\u5e97\", \"\\u30b5\\u30f3\\u30c6\\u30fc\\u30b9\\u30db\\u30fc\\u30c4\"], \"Total\": [1516.0, 777.0, 432.0, 199.0, 261.0, 176.0, 170.0, 136.0, 80.0, 66.0, 66.0, 57.0, 102.0, 55.0, 51.0, 37.0, 42.0, 49.0, 37.0, 45.0, 36.0, 44.0, 43.0, 45.0, 33.0, 41.0, 39.0, 46.0, 123.0, 33.0, 777.016357421875, 432.2580261230469, 261.6178283691406, 176.38902282714844, 170.56936645507812, 136.6088104248047, 102.30614471435547, 50.16068649291992, 43.166751861572266, 42.15426254272461, 32.73870849609375, 31.134286880493164, 26.051677703857422, 47.855979919433594, 25.002769470214844, 22.73267936706543, 22.16692543029785, 22.75182342529297, 16.516530990600586, 14.548468589782715, 13.191183090209961, 13.191183090209961, 11.917683601379395, 11.856236457824707, 10.695552825927734, 10.695552825927734, 10.676573753356934, 10.116477966308594, 10.116477966308594, 11.969807624816895, 30.586545944213867, 11.249792098999023, 28.624553680419922, 1516.771484375, 21.74678611755371, 17.37421417236328, 123.9500732421875, 199.97909545898438, 55.74327850341797, 45.90160369873047, 39.841644287109375, 33.29000473022461, 30.07468605041504, 29.680206298828125, 27.310657501220703, 27.206655502319336, 31.02012825012207, 31.00990104675293, 31.007396697998047, 26.831998825073242, 34.00297927856445, 37.13888931274414, 25.42626953125, 25.344999313354492, 24.828922271728516, 22.364728927612305, 30.231035232543945, 20.841533660888672, 22.005741119384766, 19.537521362304688, 16.805376052856445, 15.910370826721191, 14.450078964233398, 14.880913734436035, 14.964637756347656, 19.49911880493164, 15.586307525634766, 32.502376556396484, 25.673416137695312, 16.636289596557617, 21.93572235107422, 18.949377059936523, 23.362545013427734, 54.223506927490234, 123.9500732421875, 44.018394470214844, 41.23487854003906, 43.806495666503906, 32.43110656738281, 27.258047103881836, 22.903125762939453, 49.52061462402344, 19.80883026123047, 23.786508560180664, 16.806900024414062, 15.04499340057373, 11.478055953979492, 11.159163475036621, 11.223980903625488, 11.254680633544922, 10.362387657165527, 10.1116361618042, 10.662680625915527, 10.662291526794434, 9.814927101135254, 9.911639213562012, 11.28420352935791, 11.284201622009277, 9.262465476989746, 10.697803497314453, 9.68714714050293, 9.18236255645752, 9.18236255645752, 21.917936325073242, 7.885575294494629, 9.087440490722656, 11.35435676574707, 1516.771484375, 27.29937171936035, 58.33483123779297, 19.958677291870117, 28.735788345336914, 123.9500732421875, 18.946908950805664, 66.7830581665039, 42.797882080078125, 33.275386810302734, 31.8277645111084, 30.36490249633789, 29.24374008178711, 29.24374008178711, 26.21697235107422, 25.823328018188477, 29.04545021057129, 80.18473815917969, 51.582366943359375, 22.296058654785156, 19.53404426574707, 19.084697723388672, 17.158567428588867, 16.5828800201416, 15.591772079467773, 14.517913818359375, 15.856982231140137, 14.537210464477539, 12.310212135314941, 10.65064811706543, 10.65014934539795, 9.228699684143066, 8.850388526916504, 8.47067642211914, 45.46065139770508, 8.596966743469238, 12.251749038696289, 12.456911087036133, 46.219627380371094, 20.6031436920166, 10.906003952026367, 27.162885665893555, 123.9500732421875, 1516.771484375, 54.223506927490234, 22.338783264160156, 24.0338191986084, 66.62043762207031, 57.36485290527344, 37.95745086669922, 37.058128356933594, 36.7518424987793, 33.259857177734375, 25.053266525268555, 21.968339920043945, 22.90330696105957, 21.375106811523438, 19.726449966430664, 28.77655029296875, 14.226781845092773, 15.733297348022461, 12.392906188964844, 12.064714431762695, 18.896760940551758, 12.068243980407715, 10.854371070861816, 10.127202033996582, 14.373933792114258, 9.47972297668457, 10.657194137573242, 8.95830249786377, 8.709632873535156, 20.85805892944336, 7.9068193435668945, 7.9068193435668945, 12.86796760559082, 9.4420166015625, 15.594618797302246, 12.279687881469727, 23.387048721313477, 23.447917938232422, 19.54773712158203, 12.089345932006836, 12.089345932006836], \"loglift\": [30.0, 29.0, 28.0, 27.0, 26.0, 25.0, 24.0, 23.0, 22.0, 21.0, 20.0, 19.0, 18.0, 17.0, 16.0, 15.0, 14.0, 13.0, 12.0, 11.0, 10.0, 9.0, 8.0, 7.0, 6.0, 5.0, 4.0, 3.0, 2.0, 1.0, 1.1087000370025635, 1.1081000566482544, 1.107100009918213, 1.1059000492095947, 1.1058000326156616, 1.1047999858856201, 1.1024999618530273, 1.09660005569458, 1.094599962234497, 1.094099998474121, 1.0895999670028687, 1.0882999897003174, 1.0848000049591064, 1.0836000442504883, 1.0827000141143799, 1.0805000066757202, 1.0793999433517456, 1.0712000131607056, 1.065000057220459, 1.0561000108718872, 1.0527000427246094, 1.0527000427246094, 1.0501999855041504, 1.0463999509811401, 1.0433000326156616, 1.0433000326156616, 1.0424000024795532, 1.0389000177383423, 1.0389000177383423, 1.0370999574661255, 1.0255000591278076, 1.0365999937057495, 0.9527999758720398, 0.09740000218153, 0.8762999773025513, 0.8790000081062317, -0.9957000017166138, 1.6532000303268433, 1.6452000141143799, 1.642300009727478, 1.6407999992370605, 1.6376999616622925, 1.6358000040054321, 1.6354999542236328, 1.6339000463485718, 1.6333999633789062, 1.632699966430664, 1.632699966430664, 1.632699966430664, 1.632599949836731, 1.632599949836731, 1.6323000192642212, 1.6319999694824219, 1.6318000555038452, 1.6312999725341797, 1.6282999515533447, 1.6282999515533447, 1.6267999410629272, 1.626099944114685, 1.6239999532699585, 1.6180000305175781, 1.6167999505996704, 1.6133999824523926, 1.6123000383377075, 1.611899971961975, 1.6110999584197998, 1.6086000204086304, 1.5698000192642212, 1.5823999643325806, 1.5958000421524048, 1.5341999530792236, 1.5637999773025513, 1.4436999559402466, 1.007099986076355, 0.1818999946117401, 1.6653000116348267, 1.6627000570297241, 1.6611000299453735, 1.6597000360488892, 1.6562000513076782, 1.651900053024292, 1.6469999551773071, 1.6455999612808228, 1.642199993133545, 1.6396000385284424, 1.631500005722046, 1.6191999912261963, 1.6175999641418457, 1.6171000003814697, 1.6140999794006348, 1.6124000549316406, 1.6124000549316406, 1.6109000444412231, 1.61080002784729, 1.6100000143051147, 1.604599952697754, 1.604099988937378, 1.604099988937378, 1.6019999980926514, 1.601099967956543, 1.600000023841858, 1.5960999727249146, 1.5960999727249146, 1.5950000286102295, 1.5947999954223633, 1.5893000364303589, 1.5671000480651855, 1.0642000436782837, 1.4014999866485596, 1.2177000045776367, 1.406599998474121, 1.2269999980926514, 0.17720000445842743, 1.0937999486923218, 1.8030999898910522, 1.7977999448776245, 1.7930999994277954, 1.7926000356674194, 1.791100025177002, 1.7901999950408936, 1.7901999950408936, 1.7874000072479248, 1.7864999771118164, 1.7822999954223633, 1.781599998474121, 1.7811000347137451, 1.7798999547958374, 1.7790000438690186, 1.7786999940872192, 1.7745000123977661, 1.7731000185012817, 1.7683000564575195, 1.761199951171875, 1.7610000371932983, 1.7558000087738037, 1.7544000148773193, 1.7461999654769897, 1.7455999851226807, 1.7400000095367432, 1.7340999841690063, 1.7330000400543213, 1.7324999570846558, 1.732100009918213, 1.7310999631881714, 1.7274999618530273, 1.656599998474121, 1.6836999654769897, 1.719499945640564, 1.572100043296814, 0.9577999711036682, -0.525600016117096, 0.6791999936103821, 1.2381000518798828, 1.1098999977111816, 2.030100107192993, 2.028599977493286, 2.022700071334839, 2.022200107574463, 2.0201001167297363, 2.0199999809265137, 2.0127999782562256, 2.0097999572753906, 2.009700059890747, 2.009000062942505, 2.005199909210205, 2.0025999546051025, 1.9930000305175781, 1.9930000305175781, 1.9836000204086304, 1.9812999963760376, 1.9783999919891357, 1.9781999588012695, 1.975600004196167, 1.9739999771118164, 1.9713000059127808, 1.9696999788284302, 1.9663000106811523, 1.9652999639511108, 1.9586999416351318, 1.957800030708313, 1.9486000537872314, 1.9486000537872314, 1.9452999830245972, 1.9444999694824219, 1.927899956703186, 1.9053000211715698, 1.8006999492645264, 1.669100046157837, 1.7170000076293945, 1.7755999565124512, 1.7755999565124512], \"logprob\": [30.0, 29.0, 28.0, 27.0, 26.0, 25.0, 24.0, 23.0, 22.0, 21.0, 20.0, 19.0, 18.0, 17.0, 16.0, 15.0, 14.0, 13.0, 12.0, 11.0, 10.0, 9.0, 8.0, 7.0, 6.0, 5.0, 4.0, 3.0, 2.0, 1.0, -1.7192000150680542, -2.306299924850464, -2.809499979019165, -3.2047998905181885, -3.2385001182556152, -3.4614999294281006, -3.7528998851776123, -4.471499919891357, -4.623799800872803, -4.647900104522705, -4.905200004577637, -4.9567999839782715, -5.138500213623047, -4.531599998474121, -5.18179988861084, -5.279099941253662, -5.3053998947143555, -5.287499904632568, -5.613999843597412, -5.749800205230713, -5.851099967956543, -5.851099967956543, -5.9552001953125, -5.964200019836426, -6.070300102233887, -6.070300102233887, -6.07289981842041, -6.13040018081665, -6.13040018081665, -5.963900089263916, -5.037300109863281, -6.026400089263916, -5.176300048828125, -2.0617001056671143, -5.527699947357178, -5.7494001388549805, -5.659200191497803, -2.5320000648498535, -3.8173999786376953, -4.014599800109863, -4.157700061798096, -4.340400218963623, -4.443900108337402, -4.457499980926514, -4.542300224304199, -4.546599864959717, -4.416100025177002, -4.416399955749512, -4.416500091552734, -4.561200141906738, -4.324399948120117, -4.236400127410889, -4.615699768066406, -4.619100093841553, -4.640100002288818, -4.747600078582764, -4.446300029754639, -4.819699764251709, -4.765999794006348, -4.88700008392334, -5.043700218200684, -5.099699974060059, -5.1992998123168945, -5.171000003814697, -5.165800094604492, -4.901899814605713, -5.128399848937988, -4.432300090789795, -4.6554999351501465, -5.076000213623047, -4.861100196838379, -4.977799892425537, -4.888599872589111, -4.4832000732421875, -4.4816999435424805, -4.0335001945495605, -4.101399898529053, -4.042500019073486, -4.344600200653076, -4.521900177001953, -4.700300216674805, -3.934000015258789, -4.851600170135498, -4.672100067138672, -5.021999835968018, -5.140900135040283, -5.423799991607666, -5.45359992980957, -5.448299884796143, -5.448599815368652, -5.532800197601318, -5.557300090789795, -5.505799770355225, -5.505899906158447, -5.5894999504089355, -5.585100173950195, -5.455900192260742, -5.455900192260742, -5.6554999351501465, -5.51230001449585, -5.612599849700928, -5.670000076293945, -5.670000076293945, -4.80109977722168, -5.823599815368652, -5.68720006942749, -5.486700057983398, -1.0949000120162964, -4.775100231170654, -4.19950008392334, -5.083199977874756, -4.8983001708984375, -4.486400127410889, -5.447999954223633, -3.4788999557495117, -3.9291000366210938, -4.185500144958496, -4.230500221252441, -4.2789998054504395, -4.317500114440918, -4.317500114440918, -4.429599761962891, -4.445700168609619, -4.332200050354004, -3.317500114440918, -3.759200096130371, -4.599100112915039, -4.7322998046875, -4.755799770355225, -4.866399765014648, -4.901899814605713, -4.968299865722656, -5.046899795532227, -4.958799839019775, -5.050899982452393, -5.218599796295166, -5.371600151062012, -5.372200012207031, -5.521100044250488, -5.568900108337402, -5.613800048828125, -3.9340999126434326, -5.599899768829346, -5.246699810028076, -5.233699798583984, -3.9934000968933105, -4.7743000984191895, -5.374599933624268, -4.609499931335449, -3.7058000564575195, -2.6847000122070312, -4.811100006103516, -5.138999938964844, -5.1940999031066895, -3.254300117492676, -3.405400037765503, -3.824199914932251, -3.8487000465393066, -3.859100103378296, -3.9590001106262207, -4.249599933624268, -4.383999824523926, -4.342400074005127, -4.412099838256836, -4.496300220489502, -4.121300220489502, -4.835299968719482, -4.7347002029418945, -4.982699871063232, -5.0117998123168945, -4.565999984741211, -5.014599800109863, -5.123199939727783, -5.1940999031066895, -4.846700191497803, -5.264500141143799, -5.150899887084961, -5.325500011444092, -5.360300064086914, -4.4878997802734375, -5.467100143432617, -5.467100143432617, -4.983399868011475, -5.293700218200684, -4.808599948883057, -5.070099830627441, -4.530600070953369, -4.6595001220703125, -4.793600082397461, -5.2154998779296875, -5.2154998779296875]}, \"token.table\": {\"Topic\": [5, 1, 3, 4, 2, 5, 1, 3, 4, 2, 5, 5, 1, 1, 2, 4, 1, 1, 2, 5, 3, 1, 4, 1, 2, 2, 1, 4, 5, 4, 1, 3, 5, 1, 4, 1, 2, 3, 4, 2, 4, 1, 4, 5, 2, 3, 4, 5, 4, 1, 3, 4, 5, 5, 4, 1, 3, 2, 2, 4, 2, 3, 4, 1, 3, 1, 1, 3, 1, 2, 4, 4, 4, 1, 5, 1, 2, 4, 3, 4, 1, 5, 5, 3, 1, 4, 2, 1, 2, 3, 3, 5, 4, 4, 2, 5, 5, 3, 2, 1, 2, 3, 1, 1, 5, 1, 4, 1, 4, 1, 4, 5, 4, 5, 2, 2, 3, 2, 4, 4, 3, 4, 4, 2, 3, 4, 5, 4, 2, 1, 1, 3, 5, 3, 2, 3, 2, 5, 2, 3, 4, 5, 2, 5, 1, 5, 3, 3, 4, 5, 1, 2, 5, 5, 4, 3, 1, 4, 2, 1, 3, 4, 2, 3, 3, 4, 2, 1, 1, 2, 3, 5, 1, 4, 2, 4, 1, 1, 3, 1, 3, 1, 1, 3, 4, 5, 3, 2, 3, 2, 4, 1, 2, 1, 2, 2, 3, 1, 5, 3, 5, 3, 5, 1, 2, 4, 1, 3, 5, 1, 5, 3, 2, 4, 1, 1, 3, 2, 1, 2, 5, 1, 4, 2, 5, 2, 1, 2, 5, 2, 4, 2, 3, 1, 5, 3, 5, 1, 5, 3, 3, 3, 1, 5, 1, 5], \"Freq\": [0.9747756719589233, 0.3632715940475464, 0.5399627089500427, 0.09625708311796188, 0.9596222639083862, 0.9531862139701843, 0.08321607112884521, 0.37447232007980347, 0.4992964267730713, 0.07771234959363937, 0.9325482249259949, 0.9730144739151001, 0.9277817606925964, 0.04476519674062729, 0.3581215739250183, 0.5819475650787354, 0.9598936438560486, 0.838441014289856, 0.13974016904830933, 0.9559211134910583, 0.9519899487495422, 0.02494240179657936, 0.9727537035942078, 0.9623005986213684, 0.952076256275177, 0.9866660237312317, 0.9924696087837219, 0.9681168794631958, 0.9493948221206665, 0.9431639909744263, 0.9821134209632874, 0.020896030589938164, 0.9840595126152039, 0.9229981303215027, 0.9813569784164429, 0.12101646512746811, 0.2258974015712738, 0.2258974015712738, 0.4275915324687958, 0.9675110578536987, 0.9882745742797852, 0.7817246913909912, 0.1839352250099182, 0.9795427322387695, 0.9592791199684143, 0.04399409145116806, 0.9238758683204651, 0.02199704572558403, 0.991665244102478, 0.12794312834739685, 0.04264770820736885, 0.1705908328294754, 0.6823633313179016, 0.8886955976486206, 0.9879827499389648, 0.998691976070404, 0.9669346809387207, 0.9355388283729553, 0.019386470317840576, 0.9693235158920288, 0.03663088008761406, 0.7692484855651855, 0.21978527307510376, 0.9774362444877625, 0.9080233573913574, 0.9635679125785828, 0.9669554829597473, 0.9305421113967896, 0.9189788699150085, 0.967432975769043, 0.9389100074768066, 0.9748004078865051, 0.9726608395576477, 0.08143529295921326, 0.8957882523536682, 0.1475374847650528, 0.5163812041282654, 0.31351715326309204, 0.9773711562156677, 0.9648504853248596, 0.05291912332177162, 0.9525442123413086, 0.8930263519287109, 0.9650285840034485, 0.9366300702095032, 0.9444345831871033, 0.9912885427474976, 0.3166743516921997, 0.1055581122636795, 0.5805696249008179, 0.8712354898452759, 0.9631738066673279, 0.991665244102478, 0.9039151072502136, 0.047943100333213806, 0.9109188914299011, 0.9117497205734253, 0.9716635346412659, 0.97248774766922, 0.03895079717040062, 0.9348191022872925, 0.8712354898452759, 0.9976384043693542, 0.9955434203147888, 0.9936397671699524, 0.959631085395813, 0.9867214560508728, 0.09707256406545639, 0.8736530542373657, 0.043271660804748535, 0.8654332160949707, 0.08654332160949707, 0.9907587170600891, 0.9579589366912842, 0.9408024549484253, 0.9788752794265747, 0.9347713589668274, 0.9832350611686707, 0.9630458354949951, 0.9739923477172852, 0.9290661215782166, 0.9459555149078369, 0.9640064239501953, 0.1534704566001892, 0.10231363028287888, 0.05115681514143944, 0.7161954045295715, 0.8830439448356628, 0.9666146636009216, 0.9970075488090515, 0.08807191997766495, 0.8807191848754883, 0.9605599641799927, 0.958350419998169, 0.9886250495910645, 0.8861945867538452, 0.9688528180122375, 0.9824512600898743, 0.11999692022800446, 0.6342694163322449, 0.17142416536808014, 0.06856966763734818, 0.9924042224884033, 0.9044148921966553, 0.9966619610786438, 0.9185231924057007, 0.8900636434555054, 0.980044424533844, 0.0641246810555458, 0.8977455496788025, 0.05277218297123909, 0.897127091884613, 0.8853117227554321, 0.8853117227554321, 0.8978309631347656, 0.9867070317268372, 0.9677698016166687, 0.9620458483695984, 0.9427812695503235, 0.2783984839916229, 0.6263965964317322, 0.06959962099790573, 0.9770821332931519, 0.896124541759491, 0.9378846883773804, 0.9917240142822266, 0.9705032110214233, 0.9967965483665466, 0.030766980722546577, 0.92300945520401, 0.061533961445093155, 0.9114830493927002, 0.9096985459327698, 0.975218653678894, 0.9951040148735046, 0.9917239546775818, 0.8889052867889404, 0.045624732971191406, 0.9124946594238281, 0.997794508934021, 0.990533173084259, 0.9096985459327698, 0.1104448214173317, 0.036814939230680466, 0.7731137275695801, 0.036814939230680466, 0.9605675935745239, 0.9671139717102051, 0.9591681957244873, 0.9623831510543823, 0.9305607676506042, 0.9961370229721069, 0.9803578853607178, 0.9154351949691772, 0.06538822501897812, 0.9744030237197876, 0.9768643379211426, 0.1710348278284073, 0.769656777381897, 0.8803358674049377, 0.9212878346443176, 0.9692932963371277, 0.020193610340356827, 0.9349680542945862, 0.9617528915405273, 0.06010955572128296, 0.9349680542945862, 0.9169706702232361, 0.9921870827674866, 0.8057918548583984, 0.1726696789264679, 0.8876968026161194, 0.968992292881012, 0.9389539957046509, 0.9994030594825745, 0.20041407644748688, 0.7515528202056885, 0.9693343043327332, 0.8896377086639404, 0.9836917519569397, 0.9682958722114563, 0.8896377086639404, 0.9169261455535889, 0.9863878488540649, 0.93833327293396, 0.9542964100837708, 0.04558774083852768, 0.8661670684814453, 0.04558774083852768, 0.9642661213874817, 0.9643259048461914, 0.8132675886154175, 0.17121422290802002, 0.968726396560669, 0.9906869530677795, 0.9378504753112793, 0.9533920288085938, 0.9963405132293701, 0.9714468121528625, 0.9815896153450012, 0.9943038821220398, 0.8861947059631348, 0.16543492674827576, 0.7444571256637573, 0.16543492674827576, 0.7444571256637573], \"Term\": [\"add\", \"adida\", \"adida\", \"adida\", \"adidas\", \"adidasoriginal\", \"afew\", \"afew\", \"afew\", \"ago\", \"ago\", \"announce\", \"arrival\", \"athlete\", \"athlete\", \"athlete\", \"authentic\", \"available\", \"available\", \"back\", \"bag\", \"beyonce\", \"beyonce\", \"big\", \"bitch\", \"black\", \"blue\", \"boost\", \"boot\", \"boy\", \"brand\", \"brand\", \"bring\", \"businessinsider\", \"buy\", \"carbon\", \"carbon\", \"carbon\", \"carbon\", \"chart\", \"check\", \"clay\", \"clay\", \"closet\", \"clothing\", \"code\", \"code\", \"code\", \"coin\", \"collaboration\", \"collaboration\", \"collaboration\", \"collaboration\", \"collection\", \"color\", \"com\", \"concept\", \"cop\", \"create\", \"create\", \"date\", \"date\", \"date\", \"deal\", \"dele\", \"dlvr\", \"drop\", \"else\", \"end\", \"enjoy\", \"face\", \"fan\", \"fashion\", \"feature\", \"feature\", \"fiber\", \"fiber\", \"fiber\", \"filho\", \"find\", \"fit\", \"fit\", \"football\", \"force\", \"formation\", \"foto\", \"friend\", \"frozen\", \"frozen\", \"frozen\", \"fumble\", \"game\", \"gather\", \"green\", \"halfshoe\", \"halfshoe\", \"hat\", \"hay\", \"high\", \"highly\", \"highly\", \"hopefully\", \"http\", \"https\", \"ift_tt\", \"instagram\", \"kit\", \"lamodeexpose\", \"lamodeexpose\", \"launch\", \"launch\", \"launch\", \"let\", \"list\", \"lmfao\", \"lol\", \"lolla\", \"look\", \"low\", \"man\", \"mano\", \"match\", \"money\", \"move\", \"move\", \"move\", \"move\", \"net\", \"never\", \"new\", \"newsdecide\", \"newsdecide\", \"next\", \"officially\", \"original\", \"outra\", \"pair\", \"pant\", \"partnership\", \"partnership\", \"partnership\", \"partnership\", \"people\", \"person\", \"pic\", \"pink\", \"pocket\", \"poor\", \"poshmark\", \"poshmark\", \"post\", \"post\", \"post_id\", \"postcomment\", \"prefer\", \"price\", \"product\", \"quase\", \"ready\", \"relaunch\", \"relaunch\", \"relaunch\", \"release\", \"retail\", \"rev\", \"roupa\", \"running\", \"sale\", \"sell\", \"sell\", \"sell\", \"set\", \"sharelapak\", \"shirt\", \"shoe\", \"short\", \"sign\", \"singer\", \"singer\", \"size\", \"sneaker\", \"socme\", \"solar\", \"solar\", \"solar\", \"solar\", \"son\", \"song\", \"soon\", \"soundcloud\", \"sportswear\", \"status\", \"still\", \"stock\", \"stock\", \"stripe\", \"style\", \"sundaysport\", \"sundaysport\", \"swift\", \"talk\", \"team\", \"team\", \"tene\", \"thing\", \"thing\", \"todo_bien\", \"tomorrow\", \"track\", \"trackpant\", \"trackpant\", \"tracksuit\", \"trainer\", \"true\", \"twitter\", \"uplay\", \"uplay\", \"user\", \"usky\", \"van\", \"vintage\", \"vrenu\", \"way\", \"wear\", \"website\", \"week\", \"well\", \"well\", \"well\", \"white\", \"win\", \"wise\", \"wise\", \"wmbhwl\", \"woman\", \"word\", \"work\", \"www\", \"year\", \"yeezy\", \"yellow\", \"ypg\", \"\\u30b5\\u30f3\\u30c6\\u30fc\\u30b9\\u30db\\u30fc\\u30c4\", \"\\u30b5\\u30f3\\u30c6\\u30fc\\u30b9\\u30db\\u30fc\\u30c4\", \"\\u91ce\\u7403\\u7528\\u54c1\\u5c02\\u9580\\u5e97\", \"\\u91ce\\u7403\\u7528\\u54c1\\u5c02\\u9580\\u5e97\"]}, \"R\": 30, \"lambda.step\": 0.01, \"plot.opts\": {\"xlab\": \"PC1\", \"ylab\": \"PC2\"}, \"topic.order\": [4, 2, 5, 3, 1]};\n",
       "\n",
       "function LDAvis_load_lib(url, callback){\n",
       "  var s = document.createElement('script');\n",
       "  s.src = url;\n",
       "  s.async = true;\n",
       "  s.onreadystatechange = s.onload = callback;\n",
       "  s.onerror = function(){console.warn(\"failed to load library \" + url);};\n",
       "  document.getElementsByTagName(\"head\")[0].appendChild(s);\n",
       "}\n",
       "\n",
       "if(typeof(LDAvis) !== \"undefined\"){\n",
       "   // already loaded: just create the visualization\n",
       "   !function(LDAvis){\n",
       "       new LDAvis(\"#\" + \"ldavis_el29781397235110828246575035824\", ldavis_el29781397235110828246575035824_data);\n",
       "   }(LDAvis);\n",
       "}else if(typeof define === \"function\" && define.amd){\n",
       "   // require.js is available: use it to load d3/LDAvis\n",
       "   require.config({paths: {d3: \"https://cdnjs.cloudflare.com/ajax/libs/d3/3.5.5/d3.min\"}});\n",
       "   require([\"d3\"], function(d3){\n",
       "      window.d3 = d3;\n",
       "      LDAvis_load_lib(\"https://cdn.rawgit.com/bmabey/pyLDAvis/files/ldavis.v1.0.0.js\", function(){\n",
       "        new LDAvis(\"#\" + \"ldavis_el29781397235110828246575035824\", ldavis_el29781397235110828246575035824_data);\n",
       "      });\n",
       "    });\n",
       "}else{\n",
       "    // require.js not available: dynamically load d3 & LDAvis\n",
       "    LDAvis_load_lib(\"https://cdnjs.cloudflare.com/ajax/libs/d3/3.5.5/d3.min.js\", function(){\n",
       "         LDAvis_load_lib(\"https://cdn.rawgit.com/bmabey/pyLDAvis/files/ldavis.v1.0.0.js\", function(){\n",
       "                 new LDAvis(\"#\" + \"ldavis_el29781397235110828246575035824\", ldavis_el29781397235110828246575035824_data);\n",
       "            })\n",
       "         });\n",
       "}\n",
       "</script>"
      ],
      "text/plain": [
       "PreparedData(topic_coordinates=              x         y  topics  cluster       Freq\n",
       "topic                                                \n",
       "3      0.245080  0.110965       1        1  32.971199\n",
       "1     -0.197765 -0.126653       2        1  19.086023\n",
       "4      0.127291 -0.109135       3        1  18.627216\n",
       "2      0.006771 -0.083503       4        1  16.312317\n",
       "0     -0.181377  0.208326       5        1  13.003243, topic_info=     Category         Freq           Term        Total  loglift  logprob\n",
       "0     Default  1516.000000          adida  1516.000000  30.0000  30.0000\n",
       "36    Default   777.000000            com   777.000000  29.0000  29.0000\n",
       "207   Default   432.000000        twitter   432.000000  28.0000  28.0000\n",
       "27    Default   199.000000           shoe   199.000000  27.0000  27.0000\n",
       "37    Default   261.000000           http   261.000000  26.0000  26.0000\n",
       "...       ...          ...            ...          ...      ...      ...\n",
       "3000   Topic5    18.409748    sundaysport    23.387049   1.8007  -4.5306\n",
       "2890   Topic5    16.182423  collaboration    23.447918   1.6691  -4.6595\n",
       "1389   Topic5    14.152051           move    19.547737   1.7170  -4.7936\n",
       "3002   Topic5     9.280635        野球用品専門店    12.089346   1.7756  -5.2155\n",
       "3001   Topic5     9.280635       サンテースホーツ    12.089346   1.7756  -5.2155\n",
       "\n",
       "[221 rows x 6 columns], token_table=      Topic      Freq      Term\n",
       "term                           \n",
       "673       5  0.974776       add\n",
       "0         1  0.363272     adida\n",
       "0         3  0.539963     adida\n",
       "0         4  0.096257     adida\n",
       "19        2  0.959622    adidas\n",
       "...     ...       ...       ...\n",
       "2999      3  0.886195       ypg\n",
       "3001      1  0.165435  サンテースホーツ\n",
       "3001      5  0.744457  サンテースホーツ\n",
       "3002      1  0.165435   野球用品専門店\n",
       "3002      5  0.744457   野球用品専門店\n",
       "\n",
       "[246 rows x 3 columns], R=30, lambda_step=0.01, plot_opts={'xlab': 'PC1', 'ylab': 'PC2'}, topic_order=[4, 2, 5, 3, 1])"
      ]
     },
     "execution_count": 13,
     "metadata": {},
     "output_type": "execute_result"
    }
   ],
   "source": [
    "import pyLDAvis.gensim\n",
    "pyLDAvis.enable_notebook()\n",
    "vis = pyLDAvis.gensim.prepare(lda_model, corpus, dictionary=lda_model.id2word)\n",
    "vis"
   ]
  },
  {
   "cell_type": "code",
   "execution_count": 6,
   "metadata": {},
   "outputs": [
    {
     "name": "stderr",
     "output_type": "stream",
     "text": [
      "/usr/lib/python3/dist-packages/ipykernel_launcher.py:1: FutureWarning: The signature of `Series.to_csv` was aligned to that of `DataFrame.to_csv`, and argument 'header' will change its default value from False to True: please pass an explicit value to suppress this warning.\n",
      "  \"\"\"Entry point for launching an IPython kernel.\n"
     ]
    }
   ],
   "source": [
    " text.to_csv(\"text.csv\")"
   ]
  },
  {
   "cell_type": "code",
   "execution_count": 12,
   "metadata": {},
   "outputs": [],
   "source": [
    "from vaderSentiment.vaderSentiment import SentimentIntensityAnalyzer\n",
    "analyzer = SentimentIntensityAnalyzer()\n",
    "pos=[]\n",
    "comp=[]\n",
    "neg=[]\n",
    "neu=[]\n",
    "for sentence in text:\n",
    "    if sentence==None:\n",
    "       pos.append(0.5)\n",
    "       comp.append(0.5)\n",
    "    else:\n",
    "        vs = analyzer.polarity_scores(sentence)\n",
    " \n",
    "        pos.append(vs['pos'])\n",
    "        comp.append(vs['compound'])\n",
    "        neu.append(vs['neu'])\n",
    "        neg.append(vs['neg'])\n",
    "        \n",
    "        \n"
   ]
  },
  {
   "cell_type": "code",
   "execution_count": 22,
   "metadata": {},
   "outputs": [],
   "source": [
    "df=pd.DataFrame({\"twit\":text,'positive':np.array(pos),\n",
    "             'negative':np.array(neg),\n",
    "             'neutral':np.array(neu),\n",
    "             'compund':np.array(comp)}).to_csv('sentiments.csv')"
   ]
  },
  {
   "cell_type": "code",
   "execution_count": 16,
   "metadata": {},
   "outputs": [
    {
     "data": {
      "text/plain": [
       "0.02626622296173045"
      ]
     },
     "execution_count": 16,
     "metadata": {},
     "output_type": "execute_result"
    }
   ],
   "source": [
    "np.mean(neg)"
   ]
  },
  {
   "cell_type": "code",
   "execution_count": 17,
   "metadata": {},
   "outputs": [
    {
     "data": {
      "text/plain": [
       "0.07601863560732114"
      ]
     },
     "execution_count": 17,
     "metadata": {},
     "output_type": "execute_result"
    }
   ],
   "source": [
    "np.mean(pos)"
   ]
  },
  {
   "cell_type": "code",
   "execution_count": 19,
   "metadata": {},
   "outputs": [
    {
     "data": {
      "text/plain": [
       "0.8977184692179699"
      ]
     },
     "execution_count": 19,
     "metadata": {},
     "output_type": "execute_result"
    }
   ],
   "source": [
    "np.mean(neu)"
   ]
  },
  {
   "cell_type": "code",
   "execution_count": 21,
   "metadata": {},
   "outputs": [
    {
     "data": {
      "text/plain": [
       "0.09818465890183027"
      ]
     },
     "execution_count": 21,
     "metadata": {},
     "output_type": "execute_result"
    }
   ],
   "source": [
    "np.mean(comp)"
   ]
  },
  {
   "cell_type": "code",
   "execution_count": null,
   "metadata": {},
   "outputs": [],
   "source": [
    " "
   ]
  }
 ],
 "metadata": {
  "kernelspec": {
   "display_name": "Python 3",
   "language": "python",
   "name": "python3"
  },
  "language_info": {
   "codemirror_mode": {
    "name": "ipython",
    "version": 3
   },
   "file_extension": ".py",
   "mimetype": "text/x-python",
   "name": "python",
   "nbconvert_exporter": "python",
   "pygments_lexer": "ipython3",
   "version": "3.6.9"
  }
 },
 "nbformat": 4,
 "nbformat_minor": 2
}
