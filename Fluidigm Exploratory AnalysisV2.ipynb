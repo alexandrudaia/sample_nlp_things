{
 "cells": [
  {
   "cell_type": "code",
   "execution_count": 109,
   "id": "45f6b048",
   "metadata": {
    "gather": {
     "logged": 1675327465292
    }
   },
   "outputs": [
    {
     "name": "stderr",
     "output_type": "stream",
     "text": [
      "C:\\Users\\AlexandruDaia\\AppData\\Local\\Temp\\ipykernel_17756\\367147601.py:3: DtypeWarning: Columns (15) have mixed types. Specify dtype option on import or set low_memory=False.\n",
      "  df=pd.read_csv(r\"FluidigmDataset.csv\",\n"
     ]
    },
    {
     "data": {
      "text/html": [
       "<div>\n",
       "<style scoped>\n",
       "    .dataframe tbody tr th:only-of-type {\n",
       "        vertical-align: middle;\n",
       "    }\n",
       "\n",
       "    .dataframe tbody tr th {\n",
       "        vertical-align: top;\n",
       "    }\n",
       "\n",
       "    .dataframe thead th {\n",
       "        text-align: right;\n",
       "    }\n",
       "</style>\n",
       "<table border=\"1\" class=\"dataframe\">\n",
       "  <thead>\n",
       "    <tr style=\"text-align: right;\">\n",
       "      <th></th>\n",
       "      <th>ID</th>\n",
       "      <th>Assay</th>\n",
       "      <th>Allele X</th>\n",
       "      <th>Allele Y</th>\n",
       "      <th>Name</th>\n",
       "      <th>Type</th>\n",
       "      <th>Auto</th>\n",
       "      <th>Confidence</th>\n",
       "      <th>Final</th>\n",
       "      <th>Converted</th>\n",
       "      <th>Allele X.1</th>\n",
       "      <th>Allele Y.1</th>\n",
       "      <th>Plate</th>\n",
       "      <th>Unnamed: 12</th>\n",
       "      <th>Unnamed: 13</th>\n",
       "      <th>ID,Assay,Allele X,Allele Y,Name,Type,Auto,Confidence,Final,Converted,Allele X,Allele Y</th>\n",
       "    </tr>\n",
       "  </thead>\n",
       "  <tbody>\n",
       "    <tr>\n",
       "      <th>0</th>\n",
       "      <td>S96-A01</td>\n",
       "      <td>ENT7</td>\n",
       "      <td>C</td>\n",
       "      <td>T</td>\n",
       "      <td>NTC</td>\n",
       "      <td>NTC</td>\n",
       "      <td>NTC</td>\n",
       "      <td>99,96</td>\n",
       "      <td>NTC</td>\n",
       "      <td>NTC</td>\n",
       "      <td>0,0928742464793676</td>\n",
       "      <td>0,10411004435102</td>\n",
       "      <td>N6L1604 DNC.csv</td>\n",
       "      <td>NaN</td>\n",
       "      <td>NaN</td>\n",
       "      <td>NaN</td>\n",
       "    </tr>\n",
       "    <tr>\n",
       "      <th>1</th>\n",
       "      <td>S96-A02</td>\n",
       "      <td>ART2</td>\n",
       "      <td>A</td>\n",
       "      <td>G</td>\n",
       "      <td>NTC</td>\n",
       "      <td>NTC</td>\n",
       "      <td>NTC</td>\n",
       "      <td>100</td>\n",
       "      <td>NTC</td>\n",
       "      <td>NTC</td>\n",
       "      <td>0,092919650307071</td>\n",
       "      <td>0,104592456846081</td>\n",
       "      <td>N6L1604 DNC.csv</td>\n",
       "      <td>NaN</td>\n",
       "      <td>NaN</td>\n",
       "      <td>NaN</td>\n",
       "    </tr>\n",
       "    <tr>\n",
       "      <th>2</th>\n",
       "      <td>S96-A03</td>\n",
       "      <td>ENT2</td>\n",
       "      <td>C</td>\n",
       "      <td>G</td>\n",
       "      <td>NTC</td>\n",
       "      <td>NTC</td>\n",
       "      <td>NTC</td>\n",
       "      <td>100</td>\n",
       "      <td>NTC</td>\n",
       "      <td>NTC</td>\n",
       "      <td>0,0929254834003384</td>\n",
       "      <td>0,102587146871302</td>\n",
       "      <td>N6L1604 DNC.csv</td>\n",
       "      <td>NaN</td>\n",
       "      <td>NaN</td>\n",
       "      <td>NaN</td>\n",
       "    </tr>\n",
       "    <tr>\n",
       "      <th>3</th>\n",
       "      <td>S96-A04</td>\n",
       "      <td>ERN8</td>\n",
       "      <td>A</td>\n",
       "      <td>G</td>\n",
       "      <td>NTC</td>\n",
       "      <td>NTC</td>\n",
       "      <td>NTC</td>\n",
       "      <td>100</td>\n",
       "      <td>NTC</td>\n",
       "      <td>NTC</td>\n",
       "      <td>0,0931881956505969</td>\n",
       "      <td>0,103136425733057</td>\n",
       "      <td>N6L1604 DNC.csv</td>\n",
       "      <td>NaN</td>\n",
       "      <td>NaN</td>\n",
       "      <td>NaN</td>\n",
       "    </tr>\n",
       "    <tr>\n",
       "      <th>4</th>\n",
       "      <td>S96-A05</td>\n",
       "      <td>GEW7</td>\n",
       "      <td>C</td>\n",
       "      <td>T</td>\n",
       "      <td>NTC</td>\n",
       "      <td>NTC</td>\n",
       "      <td>NTC</td>\n",
       "      <td>99,99</td>\n",
       "      <td>NTC</td>\n",
       "      <td>NTC</td>\n",
       "      <td>0,0923395791918001</td>\n",
       "      <td>0,102496322010266</td>\n",
       "      <td>N6L1604 DNC.csv</td>\n",
       "      <td>NaN</td>\n",
       "      <td>NaN</td>\n",
       "      <td>NaN</td>\n",
       "    </tr>\n",
       "  </tbody>\n",
       "</table>\n",
       "</div>"
      ],
      "text/plain": [
       "        ID Assay Allele X Allele Y Name Type Auto Confidence Final Converted  \\\n",
       "0  S96-A01  ENT7        C        T  NTC  NTC  NTC      99,96   NTC       NTC   \n",
       "1  S96-A02  ART2        A        G  NTC  NTC  NTC        100   NTC       NTC   \n",
       "2  S96-A03  ENT2        C        G  NTC  NTC  NTC        100   NTC       NTC   \n",
       "3  S96-A04  ERN8        A        G  NTC  NTC  NTC        100   NTC       NTC   \n",
       "4  S96-A05  GEW7        C        T  NTC  NTC  NTC      99,99   NTC       NTC   \n",
       "\n",
       "           Allele X.1         Allele Y.1            Plate  Unnamed: 12  \\\n",
       "0  0,0928742464793676   0,10411004435102  N6L1604 DNC.csv          NaN   \n",
       "1   0,092919650307071  0,104592456846081  N6L1604 DNC.csv          NaN   \n",
       "2  0,0929254834003384  0,102587146871302  N6L1604 DNC.csv          NaN   \n",
       "3  0,0931881956505969  0,103136425733057  N6L1604 DNC.csv          NaN   \n",
       "4  0,0923395791918001  0,102496322010266  N6L1604 DNC.csv          NaN   \n",
       "\n",
       "   Unnamed: 13  \\\n",
       "0          NaN   \n",
       "1          NaN   \n",
       "2          NaN   \n",
       "3          NaN   \n",
       "4          NaN   \n",
       "\n",
       "  ID,Assay,Allele X,Allele Y,Name,Type,Auto,Confidence,Final,Converted,Allele X,Allele Y  \n",
       "0                                                NaN                                      \n",
       "1                                                NaN                                      \n",
       "2                                                NaN                                      \n",
       "3                                                NaN                                      \n",
       "4                                                NaN                                      "
      ]
     },
     "execution_count": 109,
     "metadata": {},
     "output_type": "execute_result"
    }
   ],
   "source": [
    "import pandas as pd\n",
    "\n",
    "df=pd.read_csv(r\"FluidigmDataset.csv\",\n",
    "              sep=\",\")\n",
    "df.head()"
   ]
  },
  {
   "cell_type": "code",
   "execution_count": 111,
   "id": "1bc1e698-4c44-4509-b000-6f35309466d0",
   "metadata": {
    "gather": {
     "logged": 1675327437503
    },
    "jupyter": {
     "outputs_hidden": false,
     "source_hidden": false
    },
    "nteract": {
     "transient": {
      "deleting": false
     }
    }
   },
   "outputs": [],
   "source": [
    "df=df[df.columns[:12]]"
   ]
  },
  {
   "cell_type": "code",
   "execution_count": 112,
   "id": "9fdb6b91",
   "metadata": {},
   "outputs": [
    {
     "data": {
      "text/html": [
       "<div>\n",
       "<style scoped>\n",
       "    .dataframe tbody tr th:only-of-type {\n",
       "        vertical-align: middle;\n",
       "    }\n",
       "\n",
       "    .dataframe tbody tr th {\n",
       "        vertical-align: top;\n",
       "    }\n",
       "\n",
       "    .dataframe thead th {\n",
       "        text-align: right;\n",
       "    }\n",
       "</style>\n",
       "<table border=\"1\" class=\"dataframe\">\n",
       "  <thead>\n",
       "    <tr style=\"text-align: right;\">\n",
       "      <th></th>\n",
       "      <th>ID</th>\n",
       "      <th>Assay</th>\n",
       "      <th>Allele X</th>\n",
       "      <th>Allele Y</th>\n",
       "      <th>Name</th>\n",
       "      <th>Type</th>\n",
       "      <th>Auto</th>\n",
       "      <th>Confidence</th>\n",
       "      <th>Final</th>\n",
       "      <th>Converted</th>\n",
       "      <th>Allele X.1</th>\n",
       "      <th>Allele Y.1</th>\n",
       "    </tr>\n",
       "  </thead>\n",
       "  <tbody>\n",
       "    <tr>\n",
       "      <th>0</th>\n",
       "      <td>S96-A01</td>\n",
       "      <td>ENT7</td>\n",
       "      <td>C</td>\n",
       "      <td>T</td>\n",
       "      <td>NTC</td>\n",
       "      <td>NTC</td>\n",
       "      <td>NTC</td>\n",
       "      <td>99,96</td>\n",
       "      <td>NTC</td>\n",
       "      <td>NTC</td>\n",
       "      <td>0,0928742464793676</td>\n",
       "      <td>0,10411004435102</td>\n",
       "    </tr>\n",
       "    <tr>\n",
       "      <th>1</th>\n",
       "      <td>S96-A02</td>\n",
       "      <td>ART2</td>\n",
       "      <td>A</td>\n",
       "      <td>G</td>\n",
       "      <td>NTC</td>\n",
       "      <td>NTC</td>\n",
       "      <td>NTC</td>\n",
       "      <td>100</td>\n",
       "      <td>NTC</td>\n",
       "      <td>NTC</td>\n",
       "      <td>0,092919650307071</td>\n",
       "      <td>0,104592456846081</td>\n",
       "    </tr>\n",
       "    <tr>\n",
       "      <th>2</th>\n",
       "      <td>S96-A03</td>\n",
       "      <td>ENT2</td>\n",
       "      <td>C</td>\n",
       "      <td>G</td>\n",
       "      <td>NTC</td>\n",
       "      <td>NTC</td>\n",
       "      <td>NTC</td>\n",
       "      <td>100</td>\n",
       "      <td>NTC</td>\n",
       "      <td>NTC</td>\n",
       "      <td>0,0929254834003384</td>\n",
       "      <td>0,102587146871302</td>\n",
       "    </tr>\n",
       "    <tr>\n",
       "      <th>3</th>\n",
       "      <td>S96-A04</td>\n",
       "      <td>ERN8</td>\n",
       "      <td>A</td>\n",
       "      <td>G</td>\n",
       "      <td>NTC</td>\n",
       "      <td>NTC</td>\n",
       "      <td>NTC</td>\n",
       "      <td>100</td>\n",
       "      <td>NTC</td>\n",
       "      <td>NTC</td>\n",
       "      <td>0,0931881956505969</td>\n",
       "      <td>0,103136425733057</td>\n",
       "    </tr>\n",
       "    <tr>\n",
       "      <th>4</th>\n",
       "      <td>S96-A05</td>\n",
       "      <td>GEW7</td>\n",
       "      <td>C</td>\n",
       "      <td>T</td>\n",
       "      <td>NTC</td>\n",
       "      <td>NTC</td>\n",
       "      <td>NTC</td>\n",
       "      <td>99,99</td>\n",
       "      <td>NTC</td>\n",
       "      <td>NTC</td>\n",
       "      <td>0,0923395791918001</td>\n",
       "      <td>0,102496322010266</td>\n",
       "    </tr>\n",
       "    <tr>\n",
       "      <th>...</th>\n",
       "      <td>...</td>\n",
       "      <td>...</td>\n",
       "      <td>...</td>\n",
       "      <td>...</td>\n",
       "      <td>...</td>\n",
       "      <td>...</td>\n",
       "      <td>...</td>\n",
       "      <td>...</td>\n",
       "      <td>...</td>\n",
       "      <td>...</td>\n",
       "      <td>...</td>\n",
       "      <td>...</td>\n",
       "    </tr>\n",
       "    <tr>\n",
       "      <th>2691067</th>\n",
       "      <td>S43-A95</td>\n",
       "      <td>SPO11_RD</td>\n",
       "      <td>C</td>\n",
       "      <td>T</td>\n",
       "      <td>waa6aads</td>\n",
       "      <td>Unknown</td>\n",
       "      <td>XX</td>\n",
       "      <td>99,98</td>\n",
       "      <td>XX</td>\n",
       "      <td>C:C</td>\n",
       "      <td>0,274832089468679</td>\n",
       "      <td>0,201004365550237</td>\n",
       "    </tr>\n",
       "    <tr>\n",
       "      <th>2691068</th>\n",
       "      <td>S43-A94</td>\n",
       "      <td>MED14/WOR4</td>\n",
       "      <td>A</td>\n",
       "      <td>C</td>\n",
       "      <td>waa6aads</td>\n",
       "      <td>Unknown</td>\n",
       "      <td>XX</td>\n",
       "      <td>99,99</td>\n",
       "      <td>XX</td>\n",
       "      <td>A:A</td>\n",
       "      <td>0,307762178936934</td>\n",
       "      <td>0,14995371313712</td>\n",
       "    </tr>\n",
       "    <tr>\n",
       "      <th>2691069</th>\n",
       "      <td>S43-A93</td>\n",
       "      <td>WOR9</td>\n",
       "      <td>G</td>\n",
       "      <td>T</td>\n",
       "      <td>waa6aads</td>\n",
       "      <td>Unknown</td>\n",
       "      <td>XX</td>\n",
       "      <td>99,99</td>\n",
       "      <td>XX</td>\n",
       "      <td>G:G</td>\n",
       "      <td>0,307151080185896</td>\n",
       "      <td>0,109815349742564</td>\n",
       "    </tr>\n",
       "    <tr>\n",
       "      <th>2691070</th>\n",
       "      <td>S43-A92</td>\n",
       "      <td>SPO6</td>\n",
       "      <td>A</td>\n",
       "      <td>G</td>\n",
       "      <td>waa6aads</td>\n",
       "      <td>Unknown</td>\n",
       "      <td>XX</td>\n",
       "      <td>99,96</td>\n",
       "      <td>XX</td>\n",
       "      <td>A:A</td>\n",
       "      <td>0,305887957859723</td>\n",
       "      <td>0,144638057110234</td>\n",
       "    </tr>\n",
       "    <tr>\n",
       "      <th>2691071</th>\n",
       "      <td>S43-A91</td>\n",
       "      <td>WOR3</td>\n",
       "      <td>C</td>\n",
       "      <td>T</td>\n",
       "      <td>waa6aads</td>\n",
       "      <td>Unknown</td>\n",
       "      <td>XY</td>\n",
       "      <td>99,9</td>\n",
       "      <td>XY</td>\n",
       "      <td>C:T</td>\n",
       "      <td>0,255293471115387</td>\n",
       "      <td>0,282058537775368</td>\n",
       "    </tr>\n",
       "  </tbody>\n",
       "</table>\n",
       "<p>2691072 rows × 12 columns</p>\n",
       "</div>"
      ],
      "text/plain": [
       "              ID       Assay Allele X Allele Y      Name     Type Auto  \\\n",
       "0        S96-A01        ENT7        C        T       NTC      NTC  NTC   \n",
       "1        S96-A02        ART2        A        G       NTC      NTC  NTC   \n",
       "2        S96-A03        ENT2        C        G       NTC      NTC  NTC   \n",
       "3        S96-A04        ERN8        A        G       NTC      NTC  NTC   \n",
       "4        S96-A05        GEW7        C        T       NTC      NTC  NTC   \n",
       "...          ...         ...      ...      ...       ...      ...  ...   \n",
       "2691067  S43-A95    SPO11_RD        C        T  waa6aads  Unknown   XX   \n",
       "2691068  S43-A94  MED14/WOR4        A        C  waa6aads  Unknown   XX   \n",
       "2691069  S43-A93        WOR9        G        T  waa6aads  Unknown   XX   \n",
       "2691070  S43-A92        SPO6        A        G  waa6aads  Unknown   XX   \n",
       "2691071  S43-A91        WOR3        C        T  waa6aads  Unknown   XY   \n",
       "\n",
       "        Confidence Final Converted          Allele X.1         Allele Y.1  \n",
       "0            99,96   NTC       NTC  0,0928742464793676   0,10411004435102  \n",
       "1              100   NTC       NTC   0,092919650307071  0,104592456846081  \n",
       "2              100   NTC       NTC  0,0929254834003384  0,102587146871302  \n",
       "3              100   NTC       NTC  0,0931881956505969  0,103136425733057  \n",
       "4            99,99   NTC       NTC  0,0923395791918001  0,102496322010266  \n",
       "...            ...   ...       ...                 ...                ...  \n",
       "2691067      99,98    XX       C:C   0,274832089468679  0,201004365550237  \n",
       "2691068      99,99    XX       A:A   0,307762178936934   0,14995371313712  \n",
       "2691069      99,99    XX       G:G   0,307151080185896  0,109815349742564  \n",
       "2691070      99,96    XX       A:A   0,305887957859723  0,144638057110234  \n",
       "2691071       99,9    XY       C:T   0,255293471115387  0,282058537775368  \n",
       "\n",
       "[2691072 rows x 12 columns]"
      ]
     },
     "execution_count": 112,
     "metadata": {},
     "output_type": "execute_result"
    }
   ],
   "source": [
    "df"
   ]
  },
  {
   "cell_type": "code",
   "execution_count": 113,
   "id": "5f1d5672",
   "metadata": {},
   "outputs": [
    {
     "data": {
      "text/plain": [
       "array(['T:T', 'G:G', 'A:A', 'C:C', 'C:G', 'G:A', 'C:T', 'T:C', 'A:G',\n",
       "       'A:C', 'G:T', 'A:T', '-:G',\n",
       "       'GTCAGTATCAATTCTGGAAGAATTTCCAGACA:GTCAGTATCAATTCTGGAAGAATTTCCAGACA',\n",
       "       '-:-', '-:A', '-:GTCAGTATCAATTCTGGAAGAATTTCCAGACA', '-:C', 'T:-',\n",
       "       'DEL:DEL', '-:T', 'A:-', 'T:G', nan], dtype=object)"
      ]
     },
     "execution_count": 113,
     "metadata": {},
     "output_type": "execute_result"
    }
   ],
   "source": [
    "df=df[(df[\"Converted\"]!=\"NTC\")&(df[\"Converted\"]!=\"No Call\")&(df[\"Converted\"]!=\"Invalid\")]\n",
    "df[\"Converted\"].unique()"
   ]
  },
  {
   "cell_type": "code",
   "execution_count": 114,
   "id": "7dd35acd",
   "metadata": {},
   "outputs": [
    {
     "data": {
      "text/plain": [
       "(1885343, 12)"
      ]
     },
     "execution_count": 114,
     "metadata": {},
     "output_type": "execute_result"
    }
   ],
   "source": [
    "df.shape"
   ]
  },
  {
   "cell_type": "code",
   "execution_count": 115,
   "id": "2d3b6be8",
   "metadata": {},
   "outputs": [
    {
     "data": {
      "text/plain": [
       "(1876127, 12)"
      ]
     },
     "execution_count": 115,
     "metadata": {},
     "output_type": "execute_result"
    }
   ],
   "source": [
    "df = df[df['Converted'].notna()]\n",
    "df.shape"
   ]
  },
  {
   "cell_type": "code",
   "execution_count": 116,
   "id": "5a9bac23",
   "metadata": {},
   "outputs": [
    {
     "data": {
      "text/html": [
       "<div>\n",
       "<style scoped>\n",
       "    .dataframe tbody tr th:only-of-type {\n",
       "        vertical-align: middle;\n",
       "    }\n",
       "\n",
       "    .dataframe tbody tr th {\n",
       "        vertical-align: top;\n",
       "    }\n",
       "\n",
       "    .dataframe thead th {\n",
       "        text-align: right;\n",
       "    }\n",
       "</style>\n",
       "<table border=\"1\" class=\"dataframe\">\n",
       "  <thead>\n",
       "    <tr style=\"text-align: right;\">\n",
       "      <th></th>\n",
       "      <th>ID</th>\n",
       "      <th>Assay</th>\n",
       "      <th>Allele X</th>\n",
       "      <th>Allele Y</th>\n",
       "      <th>Name</th>\n",
       "      <th>Type</th>\n",
       "      <th>Auto</th>\n",
       "      <th>Confidence</th>\n",
       "      <th>Final</th>\n",
       "      <th>Converted</th>\n",
       "      <th>Allele X.1</th>\n",
       "      <th>Allele Y.1</th>\n",
       "    </tr>\n",
       "  </thead>\n",
       "  <tbody>\n",
       "    <tr>\n",
       "      <th>99</th>\n",
       "      <td>S06-A04</td>\n",
       "      <td>ERN8</td>\n",
       "      <td>A</td>\n",
       "      <td>G</td>\n",
       "      <td>M8J4262</td>\n",
       "      <td>Unknown</td>\n",
       "      <td>YY</td>\n",
       "      <td>99,45</td>\n",
       "      <td>YY</td>\n",
       "      <td>G:G</td>\n",
       "      <td>0,218786210294437</td>\n",
       "      <td>0,383065582171616</td>\n",
       "    </tr>\n",
       "    <tr>\n",
       "      <th>195</th>\n",
       "      <td>S95-A04</td>\n",
       "      <td>ERN8</td>\n",
       "      <td>A</td>\n",
       "      <td>G</td>\n",
       "      <td>XA25F1G24510W1</td>\n",
       "      <td>Unknown</td>\n",
       "      <td>XY</td>\n",
       "      <td>99,86</td>\n",
       "      <td>XY</td>\n",
       "      <td>A:G</td>\n",
       "      <td>0,373789894739101</td>\n",
       "      <td>0,33793603684518</td>\n",
       "    </tr>\n",
       "    <tr>\n",
       "      <th>387</th>\n",
       "      <td>S94-A04</td>\n",
       "      <td>ERN8</td>\n",
       "      <td>A</td>\n",
       "      <td>G</td>\n",
       "      <td>XK24J1Z61V9</td>\n",
       "      <td>Control</td>\n",
       "      <td>XY</td>\n",
       "      <td>99,96</td>\n",
       "      <td>XY</td>\n",
       "      <td>A:G</td>\n",
       "      <td>0,372073754301483</td>\n",
       "      <td>0,33052333424076</td>\n",
       "    </tr>\n",
       "    <tr>\n",
       "      <th>483</th>\n",
       "      <td>S04-A04</td>\n",
       "      <td>ERN8</td>\n",
       "      <td>A</td>\n",
       "      <td>G</td>\n",
       "      <td>XA25F1G21804K5</td>\n",
       "      <td>Unknown</td>\n",
       "      <td>XY</td>\n",
       "      <td>99,77</td>\n",
       "      <td>XY</td>\n",
       "      <td>A:G</td>\n",
       "      <td>0,379867156410129</td>\n",
       "      <td>0,339525055157297</td>\n",
       "    </tr>\n",
       "    <tr>\n",
       "      <th>579</th>\n",
       "      <td>S93-A04</td>\n",
       "      <td>ERN8</td>\n",
       "      <td>A</td>\n",
       "      <td>G</td>\n",
       "      <td>XA25F1K24534C5</td>\n",
       "      <td>Unknown</td>\n",
       "      <td>XX</td>\n",
       "      <td>99,91</td>\n",
       "      <td>XX</td>\n",
       "      <td>A:A</td>\n",
       "      <td>0,428406522190388</td>\n",
       "      <td>0,161532051640612</td>\n",
       "    </tr>\n",
       "    <tr>\n",
       "      <th>...</th>\n",
       "      <td>...</td>\n",
       "      <td>...</td>\n",
       "      <td>...</td>\n",
       "      <td>...</td>\n",
       "      <td>...</td>\n",
       "      <td>...</td>\n",
       "      <td>...</td>\n",
       "      <td>...</td>\n",
       "      <td>...</td>\n",
       "      <td>...</td>\n",
       "      <td>...</td>\n",
       "      <td>...</td>\n",
       "    </tr>\n",
       "    <tr>\n",
       "      <th>2690307</th>\n",
       "      <td>S52-A04</td>\n",
       "      <td>ERN8</td>\n",
       "      <td>A</td>\n",
       "      <td>G</td>\n",
       "      <td>XN28F1C14523Z9</td>\n",
       "      <td>Unknown</td>\n",
       "      <td>YY</td>\n",
       "      <td>99,86</td>\n",
       "      <td>YY</td>\n",
       "      <td>G:G</td>\n",
       "      <td>0,170581340312471</td>\n",
       "      <td>0,358705898963392</td>\n",
       "    </tr>\n",
       "    <tr>\n",
       "      <th>2690403</th>\n",
       "      <td>S46-A04</td>\n",
       "      <td>ERN8</td>\n",
       "      <td>A</td>\n",
       "      <td>G</td>\n",
       "      <td>N8G8913</td>\n",
       "      <td>Control</td>\n",
       "      <td>XX</td>\n",
       "      <td>99,99</td>\n",
       "      <td>XX</td>\n",
       "      <td>A:A</td>\n",
       "      <td>0,295205153286837</td>\n",
       "      <td>0,184672601969907</td>\n",
       "    </tr>\n",
       "    <tr>\n",
       "      <th>2690595</th>\n",
       "      <td>S45-A04</td>\n",
       "      <td>ERN8</td>\n",
       "      <td>A</td>\n",
       "      <td>G</td>\n",
       "      <td>5bb8be4w</td>\n",
       "      <td>Unknown</td>\n",
       "      <td>YY</td>\n",
       "      <td>99,92</td>\n",
       "      <td>YY</td>\n",
       "      <td>G:G</td>\n",
       "      <td>0,168904343694254</td>\n",
       "      <td>0,360200159739261</td>\n",
       "    </tr>\n",
       "    <tr>\n",
       "      <th>2690787</th>\n",
       "      <td>S44-A04</td>\n",
       "      <td>ERN8</td>\n",
       "      <td>A</td>\n",
       "      <td>G</td>\n",
       "      <td>a9959cr2</td>\n",
       "      <td>Unknown</td>\n",
       "      <td>XY</td>\n",
       "      <td>99,91</td>\n",
       "      <td>XY</td>\n",
       "      <td>A:G</td>\n",
       "      <td>0,248363258789479</td>\n",
       "      <td>0,31659579078237</td>\n",
       "    </tr>\n",
       "    <tr>\n",
       "      <th>2690979</th>\n",
       "      <td>S43-A04</td>\n",
       "      <td>ERN8</td>\n",
       "      <td>A</td>\n",
       "      <td>G</td>\n",
       "      <td>waa6aads</td>\n",
       "      <td>Unknown</td>\n",
       "      <td>XX</td>\n",
       "      <td>100</td>\n",
       "      <td>XX</td>\n",
       "      <td>A:A</td>\n",
       "      <td>0,298159348869465</td>\n",
       "      <td>0,187052346452567</td>\n",
       "    </tr>\n",
       "  </tbody>\n",
       "</table>\n",
       "<p>9381 rows × 12 columns</p>\n",
       "</div>"
      ],
      "text/plain": [
       "              ID Assay Allele X Allele Y            Name     Type Auto  \\\n",
       "99       S06-A04  ERN8        A        G         M8J4262  Unknown   YY   \n",
       "195      S95-A04  ERN8        A        G  XA25F1G24510W1  Unknown   XY   \n",
       "387      S94-A04  ERN8        A        G     XK24J1Z61V9  Control   XY   \n",
       "483      S04-A04  ERN8        A        G  XA25F1G21804K5  Unknown   XY   \n",
       "579      S93-A04  ERN8        A        G  XA25F1K24534C5  Unknown   XX   \n",
       "...          ...   ...      ...      ...             ...      ...  ...   \n",
       "2690307  S52-A04  ERN8        A        G  XN28F1C14523Z9  Unknown   YY   \n",
       "2690403  S46-A04  ERN8        A        G         N8G8913  Control   XX   \n",
       "2690595  S45-A04  ERN8        A        G        5bb8be4w  Unknown   YY   \n",
       "2690787  S44-A04  ERN8        A        G        a9959cr2  Unknown   XY   \n",
       "2690979  S43-A04  ERN8        A        G        waa6aads  Unknown   XX   \n",
       "\n",
       "        Confidence Final Converted         Allele X.1         Allele Y.1  \n",
       "99           99,45    YY       G:G  0,218786210294437  0,383065582171616  \n",
       "195          99,86    XY       A:G  0,373789894739101   0,33793603684518  \n",
       "387          99,96    XY       A:G  0,372073754301483   0,33052333424076  \n",
       "483          99,77    XY       A:G  0,379867156410129  0,339525055157297  \n",
       "579          99,91    XX       A:A  0,428406522190388  0,161532051640612  \n",
       "...            ...   ...       ...                ...                ...  \n",
       "2690307      99,86    YY       G:G  0,170581340312471  0,358705898963392  \n",
       "2690403      99,99    XX       A:A  0,295205153286837  0,184672601969907  \n",
       "2690595      99,92    YY       G:G  0,168904343694254  0,360200159739261  \n",
       "2690787      99,91    XY       A:G  0,248363258789479   0,31659579078237  \n",
       "2690979        100    XX       A:A  0,298159348869465  0,187052346452567  \n",
       "\n",
       "[9381 rows x 12 columns]"
      ]
     },
     "execution_count": 116,
     "metadata": {},
     "output_type": "execute_result"
    }
   ],
   "source": [
    "df_custom=df[df[\"Assay\"]==\"ERN8\"]\n",
    "df_custom"
   ]
  },
  {
   "cell_type": "code",
   "execution_count": 117,
   "id": "62448978",
   "metadata": {},
   "outputs": [
    {
     "name": "stderr",
     "output_type": "stream",
     "text": [
      "C:\\Users\\AlexandruDaia\\AppData\\Local\\Temp\\ipykernel_17756\\423577222.py:1: SettingWithCopyWarning: \n",
      "A value is trying to be set on a copy of a slice from a DataFrame.\n",
      "Try using .loc[row_indexer,col_indexer] = value instead\n",
      "\n",
      "See the caveats in the documentation: https://pandas.pydata.org/pandas-docs/stable/user_guide/indexing.html#returning-a-view-versus-a-copy\n",
      "  df_custom[\"Converted\"]=df_custom[\"Converted\"].replace(\"G:G\",0).replace(\"A:G\",1).replace(\"G:A\",1).replace(\"A:A\",2)\n"
     ]
    },
    {
     "data": {
      "text/html": [
       "<div>\n",
       "<style scoped>\n",
       "    .dataframe tbody tr th:only-of-type {\n",
       "        vertical-align: middle;\n",
       "    }\n",
       "\n",
       "    .dataframe tbody tr th {\n",
       "        vertical-align: top;\n",
       "    }\n",
       "\n",
       "    .dataframe thead th {\n",
       "        text-align: right;\n",
       "    }\n",
       "</style>\n",
       "<table border=\"1\" class=\"dataframe\">\n",
       "  <thead>\n",
       "    <tr style=\"text-align: right;\">\n",
       "      <th></th>\n",
       "      <th>ID</th>\n",
       "      <th>Assay</th>\n",
       "      <th>Allele X</th>\n",
       "      <th>Allele Y</th>\n",
       "      <th>Name</th>\n",
       "      <th>Type</th>\n",
       "      <th>Auto</th>\n",
       "      <th>Confidence</th>\n",
       "      <th>Final</th>\n",
       "      <th>Converted</th>\n",
       "      <th>Allele X.1</th>\n",
       "      <th>Allele Y.1</th>\n",
       "    </tr>\n",
       "  </thead>\n",
       "  <tbody>\n",
       "    <tr>\n",
       "      <th>99</th>\n",
       "      <td>S06-A04</td>\n",
       "      <td>ERN8</td>\n",
       "      <td>A</td>\n",
       "      <td>G</td>\n",
       "      <td>M8J4262</td>\n",
       "      <td>Unknown</td>\n",
       "      <td>YY</td>\n",
       "      <td>99,45</td>\n",
       "      <td>YY</td>\n",
       "      <td>0</td>\n",
       "      <td>0,218786210294437</td>\n",
       "      <td>0,383065582171616</td>\n",
       "    </tr>\n",
       "    <tr>\n",
       "      <th>195</th>\n",
       "      <td>S95-A04</td>\n",
       "      <td>ERN8</td>\n",
       "      <td>A</td>\n",
       "      <td>G</td>\n",
       "      <td>XA25F1G24510W1</td>\n",
       "      <td>Unknown</td>\n",
       "      <td>XY</td>\n",
       "      <td>99,86</td>\n",
       "      <td>XY</td>\n",
       "      <td>1</td>\n",
       "      <td>0,373789894739101</td>\n",
       "      <td>0,33793603684518</td>\n",
       "    </tr>\n",
       "    <tr>\n",
       "      <th>387</th>\n",
       "      <td>S94-A04</td>\n",
       "      <td>ERN8</td>\n",
       "      <td>A</td>\n",
       "      <td>G</td>\n",
       "      <td>XK24J1Z61V9</td>\n",
       "      <td>Control</td>\n",
       "      <td>XY</td>\n",
       "      <td>99,96</td>\n",
       "      <td>XY</td>\n",
       "      <td>1</td>\n",
       "      <td>0,372073754301483</td>\n",
       "      <td>0,33052333424076</td>\n",
       "    </tr>\n",
       "    <tr>\n",
       "      <th>483</th>\n",
       "      <td>S04-A04</td>\n",
       "      <td>ERN8</td>\n",
       "      <td>A</td>\n",
       "      <td>G</td>\n",
       "      <td>XA25F1G21804K5</td>\n",
       "      <td>Unknown</td>\n",
       "      <td>XY</td>\n",
       "      <td>99,77</td>\n",
       "      <td>XY</td>\n",
       "      <td>1</td>\n",
       "      <td>0,379867156410129</td>\n",
       "      <td>0,339525055157297</td>\n",
       "    </tr>\n",
       "    <tr>\n",
       "      <th>579</th>\n",
       "      <td>S93-A04</td>\n",
       "      <td>ERN8</td>\n",
       "      <td>A</td>\n",
       "      <td>G</td>\n",
       "      <td>XA25F1K24534C5</td>\n",
       "      <td>Unknown</td>\n",
       "      <td>XX</td>\n",
       "      <td>99,91</td>\n",
       "      <td>XX</td>\n",
       "      <td>2</td>\n",
       "      <td>0,428406522190388</td>\n",
       "      <td>0,161532051640612</td>\n",
       "    </tr>\n",
       "  </tbody>\n",
       "</table>\n",
       "</div>"
      ],
      "text/plain": [
       "          ID Assay Allele X Allele Y            Name     Type Auto Confidence  \\\n",
       "99   S06-A04  ERN8        A        G         M8J4262  Unknown   YY      99,45   \n",
       "195  S95-A04  ERN8        A        G  XA25F1G24510W1  Unknown   XY      99,86   \n",
       "387  S94-A04  ERN8        A        G     XK24J1Z61V9  Control   XY      99,96   \n",
       "483  S04-A04  ERN8        A        G  XA25F1G21804K5  Unknown   XY      99,77   \n",
       "579  S93-A04  ERN8        A        G  XA25F1K24534C5  Unknown   XX      99,91   \n",
       "\n",
       "    Final  Converted         Allele X.1         Allele Y.1  \n",
       "99     YY          0  0,218786210294437  0,383065582171616  \n",
       "195    XY          1  0,373789894739101   0,33793603684518  \n",
       "387    XY          1  0,372073754301483   0,33052333424076  \n",
       "483    XY          1  0,379867156410129  0,339525055157297  \n",
       "579    XX          2  0,428406522190388  0,161532051640612  "
      ]
     },
     "execution_count": 117,
     "metadata": {},
     "output_type": "execute_result"
    }
   ],
   "source": [
    "df_custom[\"Converted\"]=df_custom[\"Converted\"].replace(\"G:G\",0).replace(\"A:G\",1).replace(\"G:A\",1).replace(\"A:A\",2)\n",
    "df_custom.head()"
   ]
  },
  {
   "cell_type": "code",
   "execution_count": 118,
   "id": "35b3e4db",
   "metadata": {},
   "outputs": [
    {
     "data": {
      "text/plain": [
       "array([0, 1, 2], dtype=int64)"
      ]
     },
     "execution_count": 118,
     "metadata": {},
     "output_type": "execute_result"
    }
   ],
   "source": [
    "df_custom[\"Converted\"].unique()"
   ]
  },
  {
   "cell_type": "code",
   "execution_count": 119,
   "id": "905dd15c",
   "metadata": {},
   "outputs": [],
   "source": [
    "#df_custom=df_custom[df_custom[\"Converted\"]!=2]"
   ]
  },
  {
   "cell_type": "code",
   "execution_count": 120,
   "id": "df11d527",
   "metadata": {},
   "outputs": [
    {
     "name": "stderr",
     "output_type": "stream",
     "text": [
      "C:\\Users\\AlexandruDaia\\AppData\\Local\\Temp\\ipykernel_17756\\1548958745.py:3: SettingWithCopyWarning: \n",
      "A value is trying to be set on a copy of a slice from a DataFrame.\n",
      "Try using .loc[row_indexer,col_indexer] = value instead\n",
      "\n",
      "See the caveats in the documentation: https://pandas.pydata.org/pandas-docs/stable/user_guide/indexing.html#returning-a-view-versus-a-copy\n",
      "  df_custom[\"Allele X.1\"]=df_custom[\"Allele X.1\"].str.replace(\",\",\".\")\n",
      "C:\\Users\\AlexandruDaia\\AppData\\Local\\Temp\\ipykernel_17756\\1548958745.py:4: SettingWithCopyWarning: \n",
      "A value is trying to be set on a copy of a slice from a DataFrame.\n",
      "Try using .loc[row_indexer,col_indexer] = value instead\n",
      "\n",
      "See the caveats in the documentation: https://pandas.pydata.org/pandas-docs/stable/user_guide/indexing.html#returning-a-view-versus-a-copy\n",
      "  df_custom[\"Allele Y.1\"]=df_custom[\"Allele Y.1\"].str.replace(\",\",\".\")\n"
     ]
    }
   ],
   "source": [
    "from sklearn.model_selection import train_test_split\n",
    "\n",
    "df_custom[\"Allele X.1\"]=df_custom[\"Allele X.1\"].str.replace(\",\",\".\")\n",
    "df_custom[\"Allele Y.1\"]=df_custom[\"Allele Y.1\"].str.replace(\",\",\".\")\n",
    "X=df_custom[[\"Allele X.1\",\"Allele Y.1\"]].astype(float)\n",
    "y=df_custom[\"Converted\"].astype(int)\n"
   ]
  },
  {
   "cell_type": "code",
   "execution_count": 121,
   "id": "bd6beb79",
   "metadata": {},
   "outputs": [
    {
     "name": "stdout",
     "output_type": "stream",
     "text": [
      "(array([0, 1, 2]), array([ 870, 3849, 4662], dtype=int64))\n"
     ]
    }
   ],
   "source": [
    "import numpy as np\n",
    "print(np.unique(y,return_counts=True))"
   ]
  },
  {
   "cell_type": "code",
   "execution_count": 125,
   "id": "89f56680",
   "metadata": {},
   "outputs": [],
   "source": [
    "X_train, X_test, y_train, y_test = train_test_split(X, y, test_size=0.33, random_state=42)"
   ]
  },
  {
   "cell_type": "code",
   "execution_count": null,
   "id": "fab12601",
   "metadata": {},
   "outputs": [],
   "source": []
  },
  {
   "cell_type": "code",
   "execution_count": 126,
   "id": "46bea38d",
   "metadata": {},
   "outputs": [
    {
     "name": "stdout",
     "output_type": "stream",
     "text": [
      "0.9977557508883486\n",
      "0.9985126425384234\n"
     ]
    }
   ],
   "source": [
    "from sklearn.svm import SVC\n",
    "clf=SVC()\n",
    "clf.fit(X_train,y_train)\n",
    "print(clf.score(X_train,y_train))\n",
    "print(clf.score(X_test,y_test))"
   ]
  },
  {
   "cell_type": "code",
   "execution_count": 127,
   "id": "ab917edf",
   "metadata": {},
   "outputs": [],
   "source": [
    "pred=clf.predict(X_test)"
   ]
  },
  {
   "cell_type": "code",
   "execution_count": 128,
   "id": "23f0855e",
   "metadata": {},
   "outputs": [
    {
     "name": "stdout",
     "output_type": "stream",
     "text": [
      "(array([0, 1, 2]), array([ 365, 1662, 2007], dtype=int64))\n"
     ]
    }
   ],
   "source": [
    "print(np.unique(pred,return_counts=True))"
   ]
  },
  {
   "cell_type": "code",
   "execution_count": 129,
   "id": "2f6d5685",
   "metadata": {},
   "outputs": [],
   "source": [
    "from sklearn.metrics import f1_score , balanced_accuracy_score"
   ]
  },
  {
   "cell_type": "code",
   "execution_count": 130,
   "id": "579869c0",
   "metadata": {},
   "outputs": [
    {
     "name": "stdout",
     "output_type": "stream",
     "text": [
      " balanced accuracy score : 0.9960097635018919\n"
     ]
    }
   ],
   "source": [
    "print(\" balanced accuracy score :\", balanced_accuracy_score(y_test,pred))"
   ]
  },
  {
   "cell_type": "code",
   "execution_count": 131,
   "id": "c006babc",
   "metadata": {},
   "outputs": [
    {
     "name": "stdout",
     "output_type": "stream",
     "text": [
      " f1 score : 0.9985109712447269\n"
     ]
    }
   ],
   "source": [
    "print(\" f1 score :\", f1_score(y_test,pred,average='weighted'))"
   ]
  },
  {
   "cell_type": "code",
   "execution_count": 133,
   "id": "dab0bca7",
   "metadata": {},
   "outputs": [
    {
     "data": {
      "text/plain": [
       "<matplotlib.collections.PathCollection at 0x193d1dded40>"
      ]
     },
     "execution_count": 133,
     "metadata": {},
     "output_type": "execute_result"
    },
    {
     "data": {
      "image/png": "[encoded data removed]",
      "text/plain": [
       "<Figure size 640x480 with 1 Axes>"
      ]
     },
     "metadata": {},
     "output_type": "display_data"
    }
   ],
   "source": [
    "import matplotlib.pyplot as plt\n",
    "%matplotlib inline\n",
    "\n",
    "plt.scatter(X[\"Allele X.1\"],X[\"Allele Y.1\"],c=y)"
   ]
  },
  {
   "cell_type": "code",
   "execution_count": 48,
   "id": "e8c50a68",
   "metadata": {},
   "outputs": [
    {
     "data": {
      "text/html": [
       "<div>\n",
       "<style scoped>\n",
       "    .dataframe tbody tr th:only-of-type {\n",
       "        vertical-align: middle;\n",
       "    }\n",
       "\n",
       "    .dataframe tbody tr th {\n",
       "        vertical-align: top;\n",
       "    }\n",
       "\n",
       "    .dataframe thead th {\n",
       "        text-align: right;\n",
       "    }\n",
       "</style>\n",
       "<table border=\"1\" class=\"dataframe\">\n",
       "  <thead>\n",
       "    <tr style=\"text-align: right;\">\n",
       "      <th></th>\n",
       "      <th>Allele X.1</th>\n",
       "      <th>Allele Y.1</th>\n",
       "    </tr>\n",
       "  </thead>\n",
       "  <tbody>\n",
       "    <tr>\n",
       "      <th>99</th>\n",
       "      <td>0.218786</td>\n",
       "      <td>0.383066</td>\n",
       "    </tr>\n",
       "    <tr>\n",
       "      <th>195</th>\n",
       "      <td>0.373790</td>\n",
       "      <td>0.337936</td>\n",
       "    </tr>\n",
       "    <tr>\n",
       "      <th>387</th>\n",
       "      <td>0.372074</td>\n",
       "      <td>0.330523</td>\n",
       "    </tr>\n",
       "    <tr>\n",
       "      <th>483</th>\n",
       "      <td>0.379867</td>\n",
       "      <td>0.339525</td>\n",
       "    </tr>\n",
       "    <tr>\n",
       "      <th>579</th>\n",
       "      <td>0.428407</td>\n",
       "      <td>0.161532</td>\n",
       "    </tr>\n",
       "    <tr>\n",
       "      <th>...</th>\n",
       "      <td>...</td>\n",
       "      <td>...</td>\n",
       "    </tr>\n",
       "    <tr>\n",
       "      <th>2690307</th>\n",
       "      <td>0.170581</td>\n",
       "      <td>0.358706</td>\n",
       "    </tr>\n",
       "    <tr>\n",
       "      <th>2690403</th>\n",
       "      <td>0.295205</td>\n",
       "      <td>0.184673</td>\n",
       "    </tr>\n",
       "    <tr>\n",
       "      <th>2690595</th>\n",
       "      <td>0.168904</td>\n",
       "      <td>0.360200</td>\n",
       "    </tr>\n",
       "    <tr>\n",
       "      <th>2690787</th>\n",
       "      <td>0.248363</td>\n",
       "      <td>0.316596</td>\n",
       "    </tr>\n",
       "    <tr>\n",
       "      <th>2690979</th>\n",
       "      <td>0.298159</td>\n",
       "      <td>0.187052</td>\n",
       "    </tr>\n",
       "  </tbody>\n",
       "</table>\n",
       "<p>9381 rows × 2 columns</p>\n",
       "</div>"
      ],
      "text/plain": [
       "         Allele X.1  Allele Y.1\n",
       "99         0.218786    0.383066\n",
       "195        0.373790    0.337936\n",
       "387        0.372074    0.330523\n",
       "483        0.379867    0.339525\n",
       "579        0.428407    0.161532\n",
       "...             ...         ...\n",
       "2690307    0.170581    0.358706\n",
       "2690403    0.295205    0.184673\n",
       "2690595    0.168904    0.360200\n",
       "2690787    0.248363    0.316596\n",
       "2690979    0.298159    0.187052\n",
       "\n",
       "[9381 rows x 2 columns]"
      ]
     },
     "execution_count": 48,
     "metadata": {},
     "output_type": "execute_result"
    }
   ],
   "source": [
    "X"
   ]
  },
  {
   "cell_type": "code",
   "execution_count": 49,
   "id": "b55e99ae",
   "metadata": {},
   "outputs": [],
   "source": [
    "from sklearn import preprocessing"
   ]
  },
  {
   "cell_type": "code",
   "execution_count": 50,
   "id": "ee986a27",
   "metadata": {},
   "outputs": [],
   "source": [
    "scaler = preprocessing.StandardScaler().fit(X)"
   ]
  },
  {
   "cell_type": "code",
   "execution_count": 51,
   "id": "421d8c06",
   "metadata": {},
   "outputs": [],
   "source": [
    "X=scaler.transform(X)"
   ]
  },
  {
   "cell_type": "code",
   "execution_count": 54,
   "id": "6dae429c",
   "metadata": {},
   "outputs": [],
   "source": [
    "X=pd.DataFrame(X,columns=[\"Allele X.1\",\"Allele Y.1\"])"
   ]
  },
  {
   "cell_type": "code",
   "execution_count": 55,
   "id": "a4404dd5",
   "metadata": {},
   "outputs": [
    {
     "data": {
      "text/plain": [
       "<matplotlib.collections.PathCollection at 0x19357a708e0>"
      ]
     },
     "execution_count": 55,
     "metadata": {},
     "output_type": "execute_result"
    },
    {
     "data": {
      "image/png": "[encoded data removed]",
      "text/plain": [
       "<Figure size 640x480 with 1 Axes>"
      ]
     },
     "metadata": {},
     "output_type": "display_data"
    }
   ],
   "source": [
    "import matplotlib.pyplot as plt\n",
    "%matplotlib inline\n",
    "\n",
    "plt.scatter(X[\"Allele X.1\"],X[\"Allele Y.1\"],c=y)"
   ]
  },
  {
   "cell_type": "code",
   "execution_count": 90,
   "id": "f2d45da5",
   "metadata": {},
   "outputs": [],
   "source": [
    "# evaluating xgboost model with default parameters  on 10 cross validations with  3 metrics most importantt is:\n",
    "#f1 score and proportions of predictions\n",
    "acc_score=[]\n",
    "balanced_acc=[]\n",
    "f1=[]\n",
    "import xgboost as xgb\n",
    "from sklearn.metrics import accuracy_score\n",
    " \n",
    "from sklearn.model_selection import train_test_split\n",
    "for cross_val in range(10):\n",
    "    X_train, X_test, y_train, y_test = train_test_split( X, y, test_size=0.33, random_state=np.random.randint(12345))\n",
    "    model_xgb=xgb.XGBClassifier(tree_method='gpu_hist')\n",
    "    model_xgb.fit(np.array(X_train.astype(float)),y_train)\n",
    "    pred_xgb=model_xgb.predict(np.array(X_test))\n",
    "    pred=model_xgb.predict_proba(X_test)\n",
    "    acc_score.append(accuracy_score(pred_xgb,y_test))\n",
    "    balanced_acc.append(balanced_accuracy_score(pred_xgb,y_test))\n",
    "    f1.append(f1_score(pred_xgb,y_test,average='weighted'))\n",
    "   \n",
    " "
   ]
  },
  {
   "cell_type": "code",
   "execution_count": 67,
   "id": "3d232182",
   "metadata": {},
   "outputs": [
    {
     "data": {
      "text/plain": [
       "[0.9983850129198967,\n",
       " 0.998062015503876,\n",
       " 0.9977390180878553,\n",
       " 0.998062015503876,\n",
       " 0.997093023255814,\n",
       " 0.997093023255814,\n",
       " 0.9967700258397932,\n",
       " 0.9974160206718347,\n",
       " 0.9974160206718347,\n",
       " 0.9967700258397932]"
      ]
     },
     "execution_count": 67,
     "metadata": {},
     "output_type": "execute_result"
    }
   ],
   "source": [
    "acc_score"
   ]
  },
  {
   "cell_type": "code",
   "execution_count": 68,
   "id": "264b1c8a",
   "metadata": {},
   "outputs": [
    {
     "name": "stdout",
     "output_type": "stream",
     "text": [
      "0.9974806201550388\n",
      "0.0005366036087156523\n"
     ]
    }
   ],
   "source": [
    "print(np.mean(acc_score))\n",
    "print(np.std(acc_score))"
   ]
  },
  {
   "cell_type": "code",
   "execution_count": 69,
   "id": "90d5b432",
   "metadata": {},
   "outputs": [
    {
     "data": {
      "text/plain": [
       "[0.9983885144986021,\n",
       " 0.9980593021343958,\n",
       " 0.997734378065528,\n",
       " 0.9980595208140915,\n",
       " 0.9970935654403142,\n",
       " 0.997107712868593,\n",
       " 0.9967784635942211,\n",
       " 0.9974160206718347,\n",
       " 0.9974095001256047,\n",
       " 0.9967657926297709]"
      ]
     },
     "execution_count": 69,
     "metadata": {},
     "output_type": "execute_result"
    }
   ],
   "source": [
    "f1"
   ]
  },
  {
   "cell_type": "code",
   "execution_count": 70,
   "id": "aafc49ea",
   "metadata": {},
   "outputs": [
    {
     "name": "stdout",
     "output_type": "stream",
     "text": [
      "0.9974812770842956\n",
      "0.000534861129827695\n"
     ]
    }
   ],
   "source": [
    "print(np.mean(f1))\n",
    "print(np.std(f1))"
   ]
  },
  {
   "cell_type": "code",
   "execution_count": 71,
   "id": "a124bfa8",
   "metadata": {},
   "outputs": [
    {
     "data": {
      "text/plain": [
       "[0.9977551418120765,\n",
       " 0.994970878272107,\n",
       " 0.9935951185795383,\n",
       " 0.9949743253578062,\n",
       " 0.9942246277788657,\n",
       " 0.9966807594236856,\n",
       " 0.9946983993561164,\n",
       " 0.994730121959067,\n",
       " 0.9928065178358488,\n",
       " 0.9921407548756428]"
      ]
     },
     "execution_count": 71,
     "metadata": {},
     "output_type": "execute_result"
    }
   ],
   "source": [
    "balanced_acc"
   ]
  },
  {
   "cell_type": "code",
   "execution_count": 72,
   "id": "0df94c67",
   "metadata": {},
   "outputs": [
    {
     "name": "stdout",
     "output_type": "stream",
     "text": [
      "0.9946576645250754\n",
      "0.0015802109925947465\n"
     ]
    }
   ],
   "source": [
    "print(np.mean(balanced_acc))\n",
    "print(np.std(balanced_acc))"
   ]
  },
  {
   "cell_type": "code",
   "execution_count": 74,
   "id": "a5c37181",
   "metadata": {},
   "outputs": [
    {
     "data": {
      "text/plain": [
       "Text(0.5, 1.0, 'Feature Importance')"
      ]
     },
     "execution_count": 74,
     "metadata": {},
     "output_type": "execute_result"
    },
    {
     "data": {
      "image/png": "[encoded data removed]",
      "text/plain": [
       "<Figure size 1000x1000 with 1 Axes>"
      ]
     },
     "metadata": {},
     "output_type": "display_data"
    }
   ],
   "source": [
    "from matplotlib import pyplot as plt\n",
    "feature_importance = model_xgb.feature_importances_\n",
    "sorted_idx = np.argsort(feature_importance)\n",
    "fig = plt.figure(figsize=(10, 10 ))\n",
    "plt.barh(range(len(sorted_idx)), feature_importance[sorted_idx], align='center')\n",
    "plt.yticks(range(len(sorted_idx)), np.array(X_test.columns)[sorted_idx])\n",
    "plt.title('Feature Importance')"
   ]
  },
  {
   "cell_type": "code",
   "execution_count": 98,
   "id": "906c9290",
   "metadata": {},
   "outputs": [
    {
     "data": {
      "text/plain": [
       "0.9999583761300118"
      ]
     },
     "execution_count": 98,
     "metadata": {},
     "output_type": "execute_result"
    }
   ],
   "source": [
    "import sklearn\n",
    "sklearn.metrics.roc_auc_score(y_test,pred,multi_class='ovr')"
   ]
  },
  {
   "cell_type": "code",
   "execution_count": null,
   "id": "fdde7da3",
   "metadata": {},
   "outputs": [],
   "source": []
  }
 ],
 "metadata": {
  "kernelspec": {
   "display_name": "Python 3 (ipykernel)",
   "language": "python",
   "name": "python3"
  },
  "language_info": {
   "codemirror_mode": {
    "name": "ipython",
    "version": 3
   },
   "file_extension": ".py",
   "mimetype": "text/x-python",
   "name": "python",
   "nbconvert_exporter": "python",
   "pygments_lexer": "ipython3",
   "version": "3.10.9"
  },
  "nteract": {
   "version": "nteract-front-end@1.0.0"
  }
 },
 "nbformat": 4,
 "nbformat_minor": 5
}
