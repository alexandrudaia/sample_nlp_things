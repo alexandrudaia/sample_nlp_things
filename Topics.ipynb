{
 "cells": [
  {
   "cell_type": "code",
   "execution_count": 46,
   "metadata": {
    "collapsed": true
   },
   "outputs": [],
   "source": [
    "import pandas  as pd\n",
    "import numpy as np \n",
    "import os  \n",
    "import sys\n",
    "#from pattern.en import  singularize"
   ]
  },
  {
   "cell_type": "code",
   "execution_count": 47,
   "metadata": {
    "collapsed": true
   },
   "outputs": [],
   "source": [
    "train=pd.read_csv('mailDF.csv')"
   ]
  },
  {
   "cell_type": "code",
   "execution_count": 48,
   "metadata": {},
   "outputs": [
    {
     "data": {
      "text/html": [
       "<div>\n",
       "<table border=\"1\" class=\"dataframe\">\n",
       "  <thead>\n",
       "    <tr style=\"text-align: right;\">\n",
       "      <th></th>\n",
       "      <th>MailId</th>\n",
       "      <th>MailSubject</th>\n",
       "      <th>MailCorpus</th>\n",
       "    </tr>\n",
       "  </thead>\n",
       "  <tbody>\n",
       "    <tr>\n",
       "      <th>0</th>\n",
       "      <td>1.0</td>\n",
       "      <td>Hyper-V host maintenance on Monday, 3rd March ...</td>\n",
       "      <td>FYI   &amp;</td>\n",
       "    </tr>\n",
       "    <tr>\n",
       "      <th>1</th>\n",
       "      <td>2.0</td>\n",
       "      <td>Hyper-V host maintenance on Monday, 3rd March ...</td>\n",
       "      <td>,  Please note the updated list of servers w...</td>\n",
       "    </tr>\n",
       "    <tr>\n",
       "      <th>2</th>\n",
       "      <td>3.0</td>\n",
       "      <td>Hyper-V host maintenance on Monday, 3rd March ...</td>\n",
       "      <td>,  Migrations of VMs completed and all serve...</td>\n",
       "    </tr>\n",
       "    <tr>\n",
       "      <th>3</th>\n",
       "      <td>4.0</td>\n",
       "      <td>Hyper-V host maintenance on Monday, 3rd March ...</td>\n",
       "      <td>,  Issue with QGRLADPDEV migration has been ...</td>\n",
       "    </tr>\n",
       "    <tr>\n",
       "      <th>4</th>\n",
       "      <td>159.0</td>\n",
       "      <td>Hyper-V host maintenance on Monday, 3rd March ...</td>\n",
       "      <td>,  Please note we would be doing some urgent...</td>\n",
       "    </tr>\n",
       "  </tbody>\n",
       "</table>\n",
       "</div>"
      ],
      "text/plain": [
       "   MailId                                        MailSubject  \\\n",
       "0     1.0  Hyper-V host maintenance on Monday, 3rd March ...   \n",
       "1     2.0  Hyper-V host maintenance on Monday, 3rd March ...   \n",
       "2     3.0  Hyper-V host maintenance on Monday, 3rd March ...   \n",
       "3     4.0  Hyper-V host maintenance on Monday, 3rd March ...   \n",
       "4   159.0  Hyper-V host maintenance on Monday, 3rd March ...   \n",
       "\n",
       "                                          MailCorpus  \n",
       "0                                           FYI   &   \n",
       "1    ,  Please note the updated list of servers w...  \n",
       "2    ,  Migrations of VMs completed and all serve...  \n",
       "3    ,  Issue with QGRLADPDEV migration has been ...  \n",
       "4    ,  Please note we would be doing some urgent...  "
      ]
     },
     "execution_count": 48,
     "metadata": {},
     "output_type": "execute_result"
    }
   ],
   "source": [
    "train.head()"
   ]
  },
  {
   "cell_type": "code",
   "execution_count": 49,
   "metadata": {
    "collapsed": true
   },
   "outputs": [],
   "source": [
    "id=train['MailId']\n",
    "from nltk.stem.porter import *"
   ]
  },
  {
   "cell_type": "code",
   "execution_count": 50,
   "metadata": {
    "collapsed": true
   },
   "outputs": [],
   "source": [
    "import sklearn.feature_extraction.text as text\n",
    "from sklearn.feature_extraction.text import CountVectorizer\n",
    "import nltk "
   ]
  },
  {
   "cell_type": "code",
   "execution_count": 51,
   "metadata": {
    "collapsed": true
   },
   "outputs": [],
   "source": [
    "from nltk.stem.snowball import SnowballStemmer"
   ]
  },
  {
   "cell_type": "code",
   "execution_count": 52,
   "metadata": {
    "collapsed": true
   },
   "outputs": [],
   "source": [
    "stemmer = SnowballStemmer(\"english\")"
   ]
  },
  {
   "cell_type": "code",
   "execution_count": 53,
   "metadata": {},
   "outputs": [
    {
     "data": {
      "text/plain": [
       "<nltk.stem.snowball.SnowballStemmer at 0x7fcf31370dd8>"
      ]
     },
     "execution_count": 53,
     "metadata": {},
     "output_type": "execute_result"
    }
   ],
   "source": [
    "stemmer"
   ]
  },
  {
   "cell_type": "code",
   "execution_count": 54,
   "metadata": {
    "collapsed": true
   },
   "outputs": [],
   "source": [
    "def tokenize_and_stem(text):\n",
    "   \n",
    "    tokens = [word for sent in nltk.sent_tokenize(text) for word in nltk.word_tokenize(sent)]\n",
    "    filtered_tokens = []\n",
    "    #filter out any tokens not containing letters (e.g., numeric tokens, raw punctuation)\n",
    "    for token in tokens:\n",
    "        if re.search('[a-zA-Z]', token):\n",
    "            filtered_tokens.append(token)\n",
    "    stems = [stemmer.stem(t) for t in  tokens]\n",
    "    return tokens\n",
    "    "
   ]
  },
  {
   "cell_type": "code",
   "execution_count": 55,
   "metadata": {
    "collapsed": true
   },
   "outputs": [],
   "source": [
    "vectorizer = CountVectorizer(analyzer = \"word\",   \n",
    "                             tokenizer = None,    \n",
    "                             preprocessor = None, \n",
    "                             stop_words = \"english\",   \n",
    "                             max_features = 3000) "
   ]
  },
  {
   "cell_type": "code",
   "execution_count": 56,
   "metadata": {
    "collapsed": true
   },
   "outputs": [],
   "source": [
    "from sklearn.feature_extraction.text import TfidfVectorizer\n",
    "import string"
   ]
  },
  {
   "cell_type": "code",
   "execution_count": 57,
   "metadata": {},
   "outputs": [
    {
     "name": "stdout",
     "output_type": "stream",
     "text": [
      "CPU times: user 16 ms, sys: 8 ms, total: 24 ms\n",
      "Wall time: 31.5 ms\n"
     ]
    }
   ],
   "source": [
    "%time dtm = vectorizer.fit_transform(train['MailCorpus']).toarray()"
   ]
  },
  {
   "cell_type": "code",
   "execution_count": 58,
   "metadata": {
    "collapsed": true
   },
   "outputs": [],
   "source": [
    "vocab = np.array(vectorizer.get_feature_names())"
   ]
  },
  {
   "cell_type": "code",
   "execution_count": 59,
   "metadata": {},
   "outputs": [
    {
     "data": {
      "text/plain": [
       "array(['00', '00pm', '03', ..., 'yellow', 'yes', 'yusuf'], \n",
       "      dtype='<U32')"
      ]
     },
     "execution_count": 59,
     "metadata": {},
     "output_type": "execute_result"
    }
   ],
   "source": [
    "vocab"
   ]
  },
  {
   "cell_type": "code",
   "execution_count": 60,
   "metadata": {
    "collapsed": true
   },
   "outputs": [],
   "source": [
    "import lda\n",
    "num_topics =7\n",
    " \n",
    "model = lda.LDA(n_topics=num_topics,n_iter=3000, random_state=1,refresh=500)"
   ]
  },
  {
   "cell_type": "code",
   "execution_count": 61,
   "metadata": {},
   "outputs": [
    {
     "name": "stderr",
     "output_type": "stream",
     "text": [
      "INFO:lda:n_documents: 180\n",
      "INFO:lda:vocab_size: 1023\n",
      "INFO:lda:n_words: 3933\n",
      "INFO:lda:n_topics: 7\n",
      "INFO:lda:n_iter: 3000\n",
      "WARNING:lda:all zero row in document-term matrix found\n",
      "INFO:lda:<0> log likelihood: -40764\n",
      "INFO:lda:<500> log likelihood: -25789\n",
      "INFO:lda:<1000> log likelihood: -25890\n",
      "INFO:lda:<1500> log likelihood: -25861\n",
      "INFO:lda:<2000> log likelihood: -25852\n",
      "INFO:lda:<2500> log likelihood: -25793\n",
      "INFO:lda:<2999> log likelihood: -25793\n"
     ]
    },
    {
     "name": "stdout",
     "output_type": "stream",
     "text": [
      "CPU times: user 12.5 s, sys: 0 ns, total: 12.5 s\n",
      "Wall time: 12.6 s\n"
     ]
    }
   ],
   "source": [
    "%time doctopic =model.fit_transform(dtm)\n",
    "np.set_printoptions(suppress=True)  \n",
    "doc_topic = model.doc_topic_\n",
    "topic_assigned=[]"
   ]
  },
  {
   "cell_type": "code",
   "execution_count": 62,
   "metadata": {
    "collapsed": true
   },
   "outputs": [],
   "source": [
    "topic_assigned=[]\n",
    " \n",
    "#add  topic assigned \n",
    "for i in range(0,train.shape[0]):\n",
    " \n",
    "    #print(\"{} (top topic: {})\".format(id[i], doc_topic[i].argmax()))\n",
    "    topic_assigned.append(doc_topic[i].argmax())\n",
    "train[\"topic_assigned\"]=np.array(topic_assigned)\n"
   ]
  },
  {
   "cell_type": "code",
   "execution_count": 63,
   "metadata": {},
   "outputs": [
    {
     "data": {
      "text/html": [
       "<div>\n",
       "<table border=\"1\" class=\"dataframe\">\n",
       "  <thead>\n",
       "    <tr style=\"text-align: right;\">\n",
       "      <th></th>\n",
       "      <th>MailId</th>\n",
       "      <th>MailSubject</th>\n",
       "      <th>MailCorpus</th>\n",
       "      <th>topic_assigned</th>\n",
       "    </tr>\n",
       "  </thead>\n",
       "  <tbody>\n",
       "    <tr>\n",
       "      <th>0</th>\n",
       "      <td>1.0</td>\n",
       "      <td>Hyper-V host maintenance on Monday, 3rd March ...</td>\n",
       "      <td>FYI   &amp;</td>\n",
       "      <td>5</td>\n",
       "    </tr>\n",
       "    <tr>\n",
       "      <th>1</th>\n",
       "      <td>2.0</td>\n",
       "      <td>Hyper-V host maintenance on Monday, 3rd March ...</td>\n",
       "      <td>,  Please note the updated list of servers w...</td>\n",
       "      <td>1</td>\n",
       "    </tr>\n",
       "    <tr>\n",
       "      <th>2</th>\n",
       "      <td>3.0</td>\n",
       "      <td>Hyper-V host maintenance on Monday, 3rd March ...</td>\n",
       "      <td>,  Migrations of VMs completed and all serve...</td>\n",
       "      <td>4</td>\n",
       "    </tr>\n",
       "    <tr>\n",
       "      <th>3</th>\n",
       "      <td>4.0</td>\n",
       "      <td>Hyper-V host maintenance on Monday, 3rd March ...</td>\n",
       "      <td>,  Issue with QGRLADPDEV migration has been ...</td>\n",
       "      <td>4</td>\n",
       "    </tr>\n",
       "    <tr>\n",
       "      <th>4</th>\n",
       "      <td>159.0</td>\n",
       "      <td>Hyper-V host maintenance on Monday, 3rd March ...</td>\n",
       "      <td>,  Please note we would be doing some urgent...</td>\n",
       "      <td>1</td>\n",
       "    </tr>\n",
       "  </tbody>\n",
       "</table>\n",
       "</div>"
      ],
      "text/plain": [
       "   MailId                                        MailSubject  \\\n",
       "0     1.0  Hyper-V host maintenance on Monday, 3rd March ...   \n",
       "1     2.0  Hyper-V host maintenance on Monday, 3rd March ...   \n",
       "2     3.0  Hyper-V host maintenance on Monday, 3rd March ...   \n",
       "3     4.0  Hyper-V host maintenance on Monday, 3rd March ...   \n",
       "4   159.0  Hyper-V host maintenance on Monday, 3rd March ...   \n",
       "\n",
       "                                          MailCorpus  topic_assigned  \n",
       "0                                           FYI   &                5  \n",
       "1    ,  Please note the updated list of servers w...               1  \n",
       "2    ,  Migrations of VMs completed and all serve...               4  \n",
       "3    ,  Issue with QGRLADPDEV migration has been ...               4  \n",
       "4    ,  Please note we would be doing some urgent...               1  "
      ]
     },
     "execution_count": 63,
     "metadata": {},
     "output_type": "execute_result"
    }
   ],
   "source": [
    "train.head()"
   ]
  },
  {
   "cell_type": "code",
   "execution_count": 64,
   "metadata": {
    "collapsed": true
   },
   "outputs": [],
   "source": [
    "\n",
    "n_top_words=np.int(12)\n",
    "topic_word = model.topic_word_\n",
    "topic_list=[]\n",
    "train_topic=[]\n",
    "for i, topic_dist in enumerate(topic_word):\n",
    "    topic_words = np.array(vocab)[np.argsort(topic_dist)][:-(n_top_words+1):-1]\n",
    "    s='Topic {}: {}'.format(i, ' '.join(topic_words))\n",
    "    #s=[singularize(word) for  word  in  s.split()]\n",
    "    #s=[word for  word  in  s.split()]\n",
    "    s=s.join(s)\n",
    "    \n",
    "    topic_list.append(s)\n",
    "for i in range(0,train.shape[0]):\n",
    "    train_topic.append(topic_list[train['topic_assigned'][i]])\n",
    "train_topic=np.array(train_topic)\n",
    "train[\"topic_content\"]=train_topic"
   ]
  },
  {
   "cell_type": "code",
   "execution_count": 65,
   "metadata": {},
   "outputs": [
    {
     "data": {
      "text/html": [
       "<div>\n",
       "<table border=\"1\" class=\"dataframe\">\n",
       "  <thead>\n",
       "    <tr style=\"text-align: right;\">\n",
       "      <th></th>\n",
       "      <th>MailId</th>\n",
       "      <th>MailSubject</th>\n",
       "      <th>MailCorpus</th>\n",
       "      <th>topic_assigned</th>\n",
       "      <th>topic_content</th>\n",
       "    </tr>\n",
       "  </thead>\n",
       "  <tbody>\n",
       "    <tr>\n",
       "      <th>170</th>\n",
       "      <td>155.0</td>\n",
       "      <td>Maintenance on QGNTVS01 on Saturday, 21st Marc...</td>\n",
       "      <td>,  Maintenance job is complete and all serve...</td>\n",
       "      <td>5</td>\n",
       "      <td>TTopic 5: 00 pm cluster maintenance resources ...</td>\n",
       "    </tr>\n",
       "    <tr>\n",
       "      <th>171</th>\n",
       "      <td>147.0</td>\n",
       "      <td>Hyper-V host maintenance on Saturday, 28th Mar...</td>\n",
       "      <td>,  Please note we would be applying security...</td>\n",
       "      <td>6</td>\n",
       "      <td>TTopic 6: team snoc 3088 ext managed qgrladpde...</td>\n",
       "    </tr>\n",
       "    <tr>\n",
       "      <th>172</th>\n",
       "      <td>148.0</td>\n",
       "      <td>Hyper-V host maintenance on Saturday, 28th Mar...</td>\n",
       "      <td>,  Please note the modified list as below:  ...</td>\n",
       "      <td>6</td>\n",
       "      <td>TTopic 6: team snoc 3088 ext managed qgrladpde...</td>\n",
       "    </tr>\n",
       "    <tr>\n",
       "      <th>173</th>\n",
       "      <td>149.0</td>\n",
       "      <td>Hyper-V host maintenance on Saturday, 28th Mar...</td>\n",
       "      <td>,  All the below servers are un-managed fro...</td>\n",
       "      <td>6</td>\n",
       "      <td>TTopic 6: team snoc 3088 ext managed qgrladpde...</td>\n",
       "    </tr>\n",
       "    <tr>\n",
       "      <th>174</th>\n",
       "      <td>156.0</td>\n",
       "      <td>Hyper-V host maintenance on Saturday, 28th Mar...</td>\n",
       "      <td>,  As discussed, please remove QGRLBIPRD03 ...</td>\n",
       "      <td>0</td>\n",
       "      <td>TTopic 0: ts server service need activity work...</td>\n",
       "    </tr>\n",
       "    <tr>\n",
       "      <th>175</th>\n",
       "      <td>157.0</td>\n",
       "      <td>Hyper-V host maintenance on Saturday, 28th Mar...</td>\n",
       "      <td>,  Just a gentle reminder about patcng activ...</td>\n",
       "      <td>0</td>\n",
       "      <td>TTopic 0: ts server service need activity work...</td>\n",
       "    </tr>\n",
       "    <tr>\n",
       "      <th>176</th>\n",
       "      <td>158.0</td>\n",
       "      <td>Hyper-V host maintenance on Saturday, 28th Mar...</td>\n",
       "      <td>,  Updates completed and all servers are bac...</td>\n",
       "      <td>3</td>\n",
       "      <td>TTopic 3: servers updates online completed qgn...</td>\n",
       "    </tr>\n",
       "    <tr>\n",
       "      <th>177</th>\n",
       "      <td>150.0</td>\n",
       "      <td>About BWise incident I1503-522 - DWH is not wo...</td>\n",
       "      <td>,  If no one replied by 4:00 PM today, plea...</td>\n",
       "      <td>0</td>\n",
       "      <td>TTopic 0: ts server service need activity work...</td>\n",
       "    </tr>\n",
       "    <tr>\n",
       "      <th>178</th>\n",
       "      <td>151.0</td>\n",
       "      <td>About BWise incident I1503-522 - DWH is not wo...</td>\n",
       "      <td>,  Please restart QGNTSQLDEV\\APPDEV @4:00 to...</td>\n",
       "      <td>0</td>\n",
       "      <td>TTopic 0: ts server service need activity work...</td>\n",
       "    </tr>\n",
       "    <tr>\n",
       "      <th>179</th>\n",
       "      <td>180.0</td>\n",
       "      <td>About BWise incident I1503-522 - DWH is not wo...</td>\n",
       "      <td>Mr. El-Mokadem,  On 2015-03-11 20:23 you re...</td>\n",
       "      <td>0</td>\n",
       "      <td>TTopic 0: ts server service need activity work...</td>\n",
       "    </tr>\n",
       "  </tbody>\n",
       "</table>\n",
       "</div>"
      ],
      "text/plain": [
       "     MailId                                        MailSubject  \\\n",
       "170   155.0  Maintenance on QGNTVS01 on Saturday, 21st Marc...   \n",
       "171   147.0  Hyper-V host maintenance on Saturday, 28th Mar...   \n",
       "172   148.0  Hyper-V host maintenance on Saturday, 28th Mar...   \n",
       "173   149.0  Hyper-V host maintenance on Saturday, 28th Mar...   \n",
       "174   156.0  Hyper-V host maintenance on Saturday, 28th Mar...   \n",
       "175   157.0  Hyper-V host maintenance on Saturday, 28th Mar...   \n",
       "176   158.0  Hyper-V host maintenance on Saturday, 28th Mar...   \n",
       "177   150.0  About BWise incident I1503-522 - DWH is not wo...   \n",
       "178   151.0  About BWise incident I1503-522 - DWH is not wo...   \n",
       "179   180.0  About BWise incident I1503-522 - DWH is not wo...   \n",
       "\n",
       "                                            MailCorpus  topic_assigned  \\\n",
       "170    ,  Maintenance job is complete and all serve...               5   \n",
       "171    ,  Please note we would be applying security...               6   \n",
       "172    ,  Please note the modified list as below:  ...               6   \n",
       "173     ,  All the below servers are un-managed fro...               6   \n",
       "174     ,  As discussed, please remove QGRLBIPRD03 ...               0   \n",
       "175    ,  Just a gentle reminder about patcng activ...               0   \n",
       "176    ,  Updates completed and all servers are bac...               3   \n",
       "177     ,  If no one replied by 4:00 PM today, plea...               0   \n",
       "178    ,  Please restart QGNTSQLDEV\\APPDEV @4:00 to...               0   \n",
       "179     Mr. El-Mokadem,  On 2015-03-11 20:23 you re...               0   \n",
       "\n",
       "                                         topic_content  \n",
       "170  TTopic 5: 00 pm cluster maintenance resources ...  \n",
       "171  TTopic 6: team snoc 3088 ext managed qgrladpde...  \n",
       "172  TTopic 6: team snoc 3088 ext managed qgrladpde...  \n",
       "173  TTopic 6: team snoc 3088 ext managed qgrladpde...  \n",
       "174  TTopic 0: ts server service need activity work...  \n",
       "175  TTopic 0: ts server service need activity work...  \n",
       "176  TTopic 3: servers updates online completed qgn...  \n",
       "177  TTopic 0: ts server service need activity work...  \n",
       "178  TTopic 0: ts server service need activity work...  \n",
       "179  TTopic 0: ts server service need activity work...  "
      ]
     },
     "execution_count": 65,
     "metadata": {},
     "output_type": "execute_result"
    }
   ],
   "source": [
    "train.tail(10)"
   ]
  },
  {
   "cell_type": "markdown",
   "metadata": {},
   "source": [
    "# "
   ]
  },
  {
   "cell_type": "code",
   "execution_count": 66,
   "metadata": {},
   "outputs": [
    {
     "data": {
      "text/plain": [
       "'TTopic 0: ts server service need activity working database kindly restart mail reminder servicesoTopic 0: ts server service need activity working database kindly restart mail reminder servicespTopic 0: ts server service need activity working database kindly restart mail reminder servicesiTopic 0: ts server service need activity working database kindly restart mail reminder servicescTopic 0: ts server service need activity working database kindly restart mail reminder services Topic 0: ts server service need activity working database kindly restart mail reminder services0Topic 0: ts server service need activity working database kindly restart mail reminder services:Topic 0: ts server service need activity working database kindly restart mail reminder services Topic 0: ts server service need activity working database kindly restart mail reminder servicestTopic 0: ts server service need activity working database kindly restart mail reminder servicessTopic 0: ts server service need activity working database kindly restart mail reminder services Topic 0: ts server service need activity working database kindly restart mail reminder servicessTopic 0: ts server service need activity working database kindly restart mail reminder serviceseTopic 0: ts server service need activity working database kindly restart mail reminder servicesrTopic 0: ts server service need activity working database kindly restart mail reminder servicesvTopic 0: ts server service need activity working database kindly restart mail reminder serviceseTopic 0: ts server service need activity working database kindly restart mail reminder servicesrTopic 0: ts server service need activity working database kindly restart mail reminder services Topic 0: ts server service need activity working database kindly restart mail reminder servicessTopic 0: ts server service need activity working database kindly restart mail reminder serviceseTopic 0: ts server service need activity working database kindly restart mail reminder servicesrTopic 0: ts server service need activity working database kindly restart mail reminder servicesvTopic 0: ts server service need activity working database kindly restart mail reminder servicesiTopic 0: ts server service need activity working database kindly restart mail reminder servicescTopic 0: ts server service need activity working database kindly restart mail reminder serviceseTopic 0: ts server service need activity working database kindly restart mail reminder services Topic 0: ts server service need activity working database kindly restart mail reminder servicesnTopic 0: ts server service need activity working database kindly restart mail reminder serviceseTopic 0: ts server service need activity working database kindly restart mail reminder serviceseTopic 0: ts server service need activity working database kindly restart mail reminder servicesdTopic 0: ts server service need activity working database kindly restart mail reminder services Topic 0: ts server service need activity working database kindly restart mail reminder servicesaTopic 0: ts server service need activity working database kindly restart mail reminder servicescTopic 0: ts server service need activity working database kindly restart mail reminder servicestTopic 0: ts server service need activity working database kindly restart mail reminder servicesiTopic 0: ts server service need activity working database kindly restart mail reminder servicesvTopic 0: ts server service need activity working database kindly restart mail reminder servicesiTopic 0: ts server service need activity working database kindly restart mail reminder servicestTopic 0: ts server service need activity working database kindly restart mail reminder servicesyTopic 0: ts server service need activity working database kindly restart mail reminder services Topic 0: ts server service need activity working database kindly restart mail reminder serviceswTopic 0: ts server service need activity working database kindly restart mail reminder servicesoTopic 0: ts server service need activity working database kindly restart mail reminder servicesrTopic 0: ts server service need activity working database kindly restart mail reminder serviceskTopic 0: ts server service need activity working database kindly restart mail reminder servicesiTopic 0: ts server service need activity working database kindly restart mail reminder servicesnTopic 0: ts server service need activity working database kindly restart mail reminder servicesgTopic 0: ts server service need activity working database kindly restart mail reminder services Topic 0: ts server service need activity working database kindly restart mail reminder servicesdTopic 0: ts server service need activity working database kindly restart mail reminder servicesaTopic 0: ts server service need activity working database kindly restart mail reminder servicestTopic 0: ts server service need activity working database kindly restart mail reminder servicesaTopic 0: ts server service need activity working database kindly restart mail reminder servicesbTopic 0: ts server service need activity working database kindly restart mail reminder servicesaTopic 0: ts server service need activity working database kindly restart mail reminder servicessTopic 0: ts server service need activity working database kindly restart mail reminder serviceseTopic 0: ts server service need activity working database kindly restart mail reminder services Topic 0: ts server service need activity working database kindly restart mail reminder serviceskTopic 0: ts server service need activity working database kindly restart mail reminder servicesiTopic 0: ts server service need activity working database kindly restart mail reminder servicesnTopic 0: ts server service need activity working database kindly restart mail reminder servicesdTopic 0: ts server service need activity working database kindly restart mail reminder serviceslTopic 0: ts server service need activity working database kindly restart mail reminder servicesyTopic 0: ts server service need activity working database kindly restart mail reminder services Topic 0: ts server service need activity working database kindly restart mail reminder servicesrTopic 0: ts server service need activity working database kindly restart mail reminder serviceseTopic 0: ts server service need activity working database kindly restart mail reminder servicessTopic 0: ts server service need activity working database kindly restart mail reminder servicestTopic 0: ts server service need activity working database kindly restart mail reminder servicesaTopic 0: ts server service need activity working database kindly restart mail reminder servicesrTopic 0: ts server service need activity working database kindly restart mail reminder servicestTopic 0: ts server service need activity working database kindly restart mail reminder services Topic 0: ts server service need activity working database kindly restart mail reminder servicesmTopic 0: ts server service need activity working database kindly restart mail reminder servicesaTopic 0: ts server service need activity working database kindly restart mail reminder servicesiTopic 0: ts server service need activity working database kindly restart mail reminder serviceslTopic 0: ts server service need activity working database kindly restart mail reminder services Topic 0: ts server service need activity working database kindly restart mail reminder servicesrTopic 0: ts server service need activity working database kindly restart mail reminder serviceseTopic 0: ts server service need activity working database kindly restart mail reminder servicesmTopic 0: ts server service need activity working database kindly restart mail reminder servicesiTopic 0: ts server service need activity working database kindly restart mail reminder servicesnTopic 0: ts server service need activity working database kindly restart mail reminder servicesdTopic 0: ts server service need activity working database kindly restart mail reminder serviceseTopic 0: ts server service need activity working database kindly restart mail reminder servicesrTopic 0: ts server service need activity working database kindly restart mail reminder services Topic 0: ts server service need activity working database kindly restart mail reminder servicessTopic 0: ts server service need activity working database kindly restart mail reminder serviceseTopic 0: ts server service need activity working database kindly restart mail reminder servicesrTopic 0: ts server service need activity working database kindly restart mail reminder servicesvTopic 0: ts server service need activity working database kindly restart mail reminder servicesiTopic 0: ts server service need activity working database kindly restart mail reminder servicescTopic 0: ts server service need activity working database kindly restart mail reminder serviceseTopic 0: ts server service need activity working database kindly restart mail reminder servicess'"
      ]
     },
     "execution_count": 66,
     "metadata": {},
     "output_type": "execute_result"
    }
   ],
   "source": [
    "train['topic_content'][178]"
   ]
  },
  {
   "cell_type": "code",
   "execution_count": 34,
   "metadata": {},
   "outputs": [
    {
     "data": {
      "text/plain": [
       "' '"
      ]
     },
     "execution_count": 34,
     "metadata": {},
     "output_type": "execute_result"
    }
   ],
   "source": [
    "current_string.join(\" \")"
   ]
  },
  {
   "cell_type": "code",
   "execution_count": 36,
   "metadata": {},
   "outputs": [
    {
     "data": {
      "text/plain": [
       "'aalexbalexc'"
      ]
     },
     "execution_count": 36,
     "metadata": {},
     "output_type": "execute_result"
    }
   ],
   "source": [
    "current_string.join(['a','b','c'])"
   ]
  },
  {
   "cell_type": "code",
   "execution_count": null,
   "metadata": {
    "collapsed": true
   },
   "outputs": [],
   "source": []
  }
 ],
 "metadata": {
  "kernelspec": {
   "display_name": "Python 3",
   "language": "python",
   "name": "python3"
  },
  "language_info": {
   "codemirror_mode": {
    "name": "ipython",
    "version": 3
   },
   "file_extension": ".py",
   "mimetype": "text/x-python",
   "name": "python",
   "nbconvert_exporter": "python",
   "pygments_lexer": "ipython3",
   "version": "3.6.0"
  }
 },
 "nbformat": 4,
 "nbformat_minor": 2
}
