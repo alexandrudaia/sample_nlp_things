{
 "cells": [
  {
   "cell_type": "code",
   "execution_count": 1,
   "id": "2ccf6023",
   "metadata": {},
   "outputs": [],
   "source": [
    "import spacy"
   ]
  },
  {
   "cell_type": "code",
   "execution_count": 2,
   "id": "3820173d",
   "metadata": {},
   "outputs": [],
   "source": [
    "import pandas as pd\n",
    "import numpy as np"
   ]
  },
  {
   "cell_type": "code",
   "execution_count": 3,
   "id": "1e3ce6fb",
   "metadata": {},
   "outputs": [],
   "source": [
    "train=pd.read_csv('RelevantParas_baseline_100.csv')"
   ]
  },
  {
   "cell_type": "code",
   "execution_count": 4,
   "id": "00300ba1",
   "metadata": {},
   "outputs": [
    {
     "data": {
      "text/html": [
       "<div>\n",
       "<style scoped>\n",
       "    .dataframe tbody tr th:only-of-type {\n",
       "        vertical-align: middle;\n",
       "    }\n",
       "\n",
       "    .dataframe tbody tr th {\n",
       "        vertical-align: top;\n",
       "    }\n",
       "\n",
       "    .dataframe thead th {\n",
       "        text-align: right;\n",
       "    }\n",
       "</style>\n",
       "<table border=\"1\" class=\"dataframe\">\n",
       "  <thead>\n",
       "    <tr style=\"text-align: right;\">\n",
       "      <th></th>\n",
       "      <th>Article_ID</th>\n",
       "      <th>Paragraph</th>\n",
       "    </tr>\n",
       "  </thead>\n",
       "  <tbody>\n",
       "    <tr>\n",
       "      <th>0</th>\n",
       "      <td>36915</td>\n",
       "      <td>Poly(2-methyl- and 2-ethylthioadenyl...</td>\n",
       "    </tr>\n",
       "    <tr>\n",
       "      <th>1</th>\n",
       "      <td>80746</td>\n",
       "      <td>Haploid and diploid strains of yeast...</td>\n",
       "    </tr>\n",
       "    <tr>\n",
       "      <th>2</th>\n",
       "      <td>110342</td>\n",
       "      <td>The thylakoids of vegetative cells o...</td>\n",
       "    </tr>\n",
       "    <tr>\n",
       "      <th>3</th>\n",
       "      <td>112880</td>\n",
       "      <td>The specific granules found in the a...</td>\n",
       "    </tr>\n",
       "    <tr>\n",
       "      <th>4</th>\n",
       "      <td>200615</td>\n",
       "      <td>The sedimentation behavior of canine...</td>\n",
       "    </tr>\n",
       "  </tbody>\n",
       "</table>\n",
       "</div>"
      ],
      "text/plain": [
       "   Article_ID                                          Paragraph\n",
       "0       36915            Poly(2-methyl- and 2-ethylthioadenyl...\n",
       "1       80746            Haploid and diploid strains of yeast...\n",
       "2      110342            The thylakoids of vegetative cells o...\n",
       "3      112880            The specific granules found in the a...\n",
       "4      200615            The sedimentation behavior of canine..."
      ]
     },
     "execution_count": 4,
     "metadata": {},
     "output_type": "execute_result"
    }
   ],
   "source": [
    "train.head()"
   ]
  },
  {
   "cell_type": "code",
   "execution_count": 9,
   "id": "d516707c",
   "metadata": {},
   "outputs": [
    {
     "data": {
      "text/plain": [
       "'          Haploid and diploid strains of yeast containing genes conferring radiation-sensitivity were studied under growing and nongrowing experimental conditions for their relative sensitivities to growth-inhibitory effects of bleomycin (BM). The rad1, rad2, rad3, rad4, rad5 (and allelic rev2), rad7, rad10, rad11, rad 12, rad14, rad15, rad16 and rev3 strains exhibited responses similar to normal (Rad+) yeast strains. It is concluded from these findings that the excision-repair function deficient in several of these mutant strains is not important for repair of bleomycin-induced damages in yeast. The sensitive strains contained rad6, rad9, rad18, rad22, rad50, rad51, rad52, rad53, rad54, rad55, rad56, rad57 and rs1. Strains bearing rad8 or rad19 could not be classified unambiguously. With one exception, all rad mutants found very sensitive to BM were sensitive to X-rays, suggesting that some aspect of the repair of BM- and X-ray-induced damages in yeast may be similar. Sensitivities to BM and radiation co-segregated in pedigrees following meiosis, and several BM-resistant revertants isolated from two rad6 mutant strains sensitive to BM, X-rays and UV were cross-resistant to all three agents. These results confirm that the rad mutants were responsible for the cross-sensitivities in the original strains.        '"
      ]
     },
     "execution_count": 9,
     "metadata": {},
     "output_type": "execute_result"
    }
   ],
   "source": [
    "train['Paragraph'][1]"
   ]
  },
  {
   "cell_type": "code",
   "execution_count": 10,
   "id": "c5bc4e6b",
   "metadata": {},
   "outputs": [],
   "source": [
    "import nltk\n",
    "from nltk.tokenize import word_tokenize\n",
    "from nltk.tag import pos_tag"
   ]
  },
  {
   "cell_type": "code",
   "execution_count": 11,
   "id": "985b7e98",
   "metadata": {},
   "outputs": [],
   "source": [
    "ex =train['Paragraph'][1]"
   ]
  },
  {
   "cell_type": "code",
   "execution_count": 12,
   "id": "febd4354",
   "metadata": {},
   "outputs": [],
   "source": [
    "def preprocess(sent):\n",
    "    sent = nltk.word_tokenize(sent)\n",
    "    sent = nltk.pos_tag(sent)\n",
    "    return sent"
   ]
  },
  {
   "cell_type": "code",
   "execution_count": 17,
   "id": "907f990f",
   "metadata": {},
   "outputs": [
    {
     "name": "stderr",
     "output_type": "stream",
     "text": [
      "[nltk_data] Downloading package averaged_perceptron_tagger to\n",
      "[nltk_data]     C:\\Users\\AlexandruDaia\\AppData\\Roaming\\nltk_data...\n",
      "[nltk_data]   Unzipping taggers\\averaged_perceptron_tagger.zip.\n"
     ]
    },
    {
     "data": {
      "text/plain": [
       "True"
      ]
     },
     "execution_count": 17,
     "metadata": {},
     "output_type": "execute_result"
    }
   ],
   "source": [
    "#nltk.download('averaged_perceptron_tagger')"
   ]
  },
  {
   "cell_type": "code",
   "execution_count": 18,
   "id": "37f2d525",
   "metadata": {},
   "outputs": [
    {
     "data": {
      "text/plain": [
       "[('Haploid', 'NNP'),\n",
       " ('and', 'CC'),\n",
       " ('diploid', 'JJ'),\n",
       " ('strains', 'NNS'),\n",
       " ('of', 'IN'),\n",
       " ('yeast', 'NN'),\n",
       " ('containing', 'VBG'),\n",
       " ('genes', 'NNS'),\n",
       " ('conferring', 'VBG'),\n",
       " ('radiation-sensitivity', 'NN'),\n",
       " ('were', 'VBD'),\n",
       " ('studied', 'VBN'),\n",
       " ('under', 'IN'),\n",
       " ('growing', 'VBG'),\n",
       " ('and', 'CC'),\n",
       " ('nongrowing', 'JJ'),\n",
       " ('experimental', 'JJ'),\n",
       " ('conditions', 'NNS'),\n",
       " ('for', 'IN'),\n",
       " ('their', 'PRP$'),\n",
       " ('relative', 'JJ'),\n",
       " ('sensitivities', 'NNS'),\n",
       " ('to', 'TO'),\n",
       " ('growth-inhibitory', 'JJ'),\n",
       " ('effects', 'NNS'),\n",
       " ('of', 'IN'),\n",
       " ('bleomycin', 'NN'),\n",
       " ('(', '('),\n",
       " ('BM', 'NNP'),\n",
       " (')', ')'),\n",
       " ('.', '.'),\n",
       " ('The', 'DT'),\n",
       " ('rad1', 'NN'),\n",
       " (',', ','),\n",
       " ('rad2', 'NN'),\n",
       " (',', ','),\n",
       " ('rad3', 'NN'),\n",
       " (',', ','),\n",
       " ('rad4', 'NN'),\n",
       " (',', ','),\n",
       " ('rad5', 'NN'),\n",
       " ('(', '('),\n",
       " ('and', 'CC'),\n",
       " ('allelic', 'VB'),\n",
       " ('rev2', 'NN'),\n",
       " (')', ')'),\n",
       " (',', ','),\n",
       " ('rad7', 'NN'),\n",
       " (',', ','),\n",
       " ('rad10', 'NN'),\n",
       " (',', ','),\n",
       " ('rad11', 'NN'),\n",
       " (',', ','),\n",
       " ('rad', 'NN'),\n",
       " ('12', 'CD'),\n",
       " (',', ','),\n",
       " ('rad14', 'NN'),\n",
       " (',', ','),\n",
       " ('rad15', 'NN'),\n",
       " (',', ','),\n",
       " ('rad16', 'NN'),\n",
       " ('and', 'CC'),\n",
       " ('rev3', 'NN'),\n",
       " ('strains', 'NNS'),\n",
       " ('exhibited', 'VBN'),\n",
       " ('responses', 'NNS'),\n",
       " ('similar', 'JJ'),\n",
       " ('to', 'TO'),\n",
       " ('normal', 'JJ'),\n",
       " ('(', '('),\n",
       " ('Rad+', 'NNP'),\n",
       " (')', ')'),\n",
       " ('yeast', 'NN'),\n",
       " ('strains', 'NNS'),\n",
       " ('.', '.'),\n",
       " ('It', 'PRP'),\n",
       " ('is', 'VBZ'),\n",
       " ('concluded', 'VBN'),\n",
       " ('from', 'IN'),\n",
       " ('these', 'DT'),\n",
       " ('findings', 'NNS'),\n",
       " ('that', 'IN'),\n",
       " ('the', 'DT'),\n",
       " ('excision-repair', 'JJ'),\n",
       " ('function', 'NN'),\n",
       " ('deficient', 'NN'),\n",
       " ('in', 'IN'),\n",
       " ('several', 'JJ'),\n",
       " ('of', 'IN'),\n",
       " ('these', 'DT'),\n",
       " ('mutant', 'JJ'),\n",
       " ('strains', 'NNS'),\n",
       " ('is', 'VBZ'),\n",
       " ('not', 'RB'),\n",
       " ('important', 'JJ'),\n",
       " ('for', 'IN'),\n",
       " ('repair', 'NN'),\n",
       " ('of', 'IN'),\n",
       " ('bleomycin-induced', 'JJ'),\n",
       " ('damages', 'NNS'),\n",
       " ('in', 'IN'),\n",
       " ('yeast', 'NN'),\n",
       " ('.', '.'),\n",
       " ('The', 'DT'),\n",
       " ('sensitive', 'JJ'),\n",
       " ('strains', 'NNS'),\n",
       " ('contained', 'VBN'),\n",
       " ('rad6', 'NN'),\n",
       " (',', ','),\n",
       " ('rad9', 'NN'),\n",
       " (',', ','),\n",
       " ('rad18', 'NN'),\n",
       " (',', ','),\n",
       " ('rad22', 'NN'),\n",
       " (',', ','),\n",
       " ('rad50', 'NN'),\n",
       " (',', ','),\n",
       " ('rad51', 'NN'),\n",
       " (',', ','),\n",
       " ('rad52', 'NN'),\n",
       " (',', ','),\n",
       " ('rad53', 'NN'),\n",
       " (',', ','),\n",
       " ('rad54', 'NN'),\n",
       " (',', ','),\n",
       " ('rad55', 'NN'),\n",
       " (',', ','),\n",
       " ('rad56', 'NN'),\n",
       " (',', ','),\n",
       " ('rad57', 'NN'),\n",
       " ('and', 'CC'),\n",
       " ('rs1', 'NN'),\n",
       " ('.', '.'),\n",
       " ('Strains', 'VBZ'),\n",
       " ('bearing', 'VBG'),\n",
       " ('rad8', 'NN'),\n",
       " ('or', 'CC'),\n",
       " ('rad19', 'NN'),\n",
       " ('could', 'MD'),\n",
       " ('not', 'RB'),\n",
       " ('be', 'VB'),\n",
       " ('classified', 'VBN'),\n",
       " ('unambiguously', 'RB'),\n",
       " ('.', '.'),\n",
       " ('With', 'IN'),\n",
       " ('one', 'CD'),\n",
       " ('exception', 'NN'),\n",
       " (',', ','),\n",
       " ('all', 'DT'),\n",
       " ('rad', 'NN'),\n",
       " ('mutants', 'NNS'),\n",
       " ('found', 'VBD'),\n",
       " ('very', 'RB'),\n",
       " ('sensitive', 'JJ'),\n",
       " ('to', 'TO'),\n",
       " ('BM', 'NNP'),\n",
       " ('were', 'VBD'),\n",
       " ('sensitive', 'JJ'),\n",
       " ('to', 'TO'),\n",
       " ('X-rays', 'NNS'),\n",
       " (',', ','),\n",
       " ('suggesting', 'VBG'),\n",
       " ('that', 'IN'),\n",
       " ('some', 'DT'),\n",
       " ('aspect', 'NN'),\n",
       " ('of', 'IN'),\n",
       " ('the', 'DT'),\n",
       " ('repair', 'NN'),\n",
       " ('of', 'IN'),\n",
       " ('BM-', 'NNP'),\n",
       " ('and', 'CC'),\n",
       " ('X-ray-induced', 'JJ'),\n",
       " ('damages', 'NNS'),\n",
       " ('in', 'IN'),\n",
       " ('yeast', 'NN'),\n",
       " ('may', 'MD'),\n",
       " ('be', 'VB'),\n",
       " ('similar', 'JJ'),\n",
       " ('.', '.'),\n",
       " ('Sensitivities', 'NNS'),\n",
       " ('to', 'TO'),\n",
       " ('BM', 'NNP'),\n",
       " ('and', 'CC'),\n",
       " ('radiation', 'NN'),\n",
       " ('co-segregated', 'JJ'),\n",
       " ('in', 'IN'),\n",
       " ('pedigrees', 'NNS'),\n",
       " ('following', 'VBG'),\n",
       " ('meiosis', 'NN'),\n",
       " (',', ','),\n",
       " ('and', 'CC'),\n",
       " ('several', 'JJ'),\n",
       " ('BM-resistant', 'JJ'),\n",
       " ('revertants', 'NNS'),\n",
       " ('isolated', 'VBN'),\n",
       " ('from', 'IN'),\n",
       " ('two', 'CD'),\n",
       " ('rad6', 'NN'),\n",
       " ('mutant', 'NN'),\n",
       " ('strains', 'VBZ'),\n",
       " ('sensitive', 'JJ'),\n",
       " ('to', 'TO'),\n",
       " ('BM', 'NNP'),\n",
       " (',', ','),\n",
       " ('X-rays', 'NNP'),\n",
       " ('and', 'CC'),\n",
       " ('UV', 'NNP'),\n",
       " ('were', 'VBD'),\n",
       " ('cross-resistant', 'JJ'),\n",
       " ('to', 'TO'),\n",
       " ('all', 'DT'),\n",
       " ('three', 'CD'),\n",
       " ('agents', 'NNS'),\n",
       " ('.', '.'),\n",
       " ('These', 'DT'),\n",
       " ('results', 'NNS'),\n",
       " ('confirm', 'VBP'),\n",
       " ('that', 'IN'),\n",
       " ('the', 'DT'),\n",
       " ('rad', 'NN'),\n",
       " ('mutants', 'NNS'),\n",
       " ('were', 'VBD'),\n",
       " ('responsible', 'JJ'),\n",
       " ('for', 'IN'),\n",
       " ('the', 'DT'),\n",
       " ('cross-sensitivities', 'NNS'),\n",
       " ('in', 'IN'),\n",
       " ('the', 'DT'),\n",
       " ('original', 'JJ'),\n",
       " ('strains', 'NNS'),\n",
       " ('.', '.')]"
      ]
     },
     "execution_count": 18,
     "metadata": {},
     "output_type": "execute_result"
    }
   ],
   "source": [
    "#nltk.download('punkt') uncomment first\n",
    "sent = preprocess(ex)\n",
    "sent"
   ]
  },
  {
   "cell_type": "code",
   "execution_count": 21,
   "id": "f271d40a",
   "metadata": {},
   "outputs": [],
   "source": [
    "import spacy\n",
    "from spacy import displacy\n",
    "from collections import Counter\n",
    "import en_core_web_sm\n",
    "nlp = spacy.load(\"en_core_web_sm\")"
   ]
  },
  {
   "cell_type": "code",
   "execution_count": 28,
   "id": "53485f66",
   "metadata": {},
   "outputs": [],
   "source": [
    "doc = nlp(train['Paragraph'][13] )"
   ]
  },
  {
   "cell_type": "code",
   "execution_count": 29,
   "id": "a66baddc",
   "metadata": {},
   "outputs": [],
   "source": [
    "import pprint"
   ]
  },
  {
   "cell_type": "code",
   "execution_count": 30,
   "id": "684fe44c",
   "metadata": {},
   "outputs": [
    {
     "name": "stdout",
     "output_type": "stream",
     "text": [
      "[('three to five', 'CARDINAL'), ('about 33,000', 'CARDINAL'), ('micrometers3', 'PRODUCT'), ('54%', 'PERCENT'), ('four', 'CARDINAL'), ('five', 'CARDINAL'), ('two or three', 'CARDINAL'), ('20 to 40', 'CARDINAL'), ('0.5', 'CARDINAL'), ('1.7', 'CARDINAL'), ('SEM', 'ORG')]\n"
     ]
    }
   ],
   "source": [
    "print([(X.text, X.label_) for X in doc.ents])"
   ]
  },
  {
   "cell_type": "code",
   "execution_count": 31,
   "id": "e1c01c70",
   "metadata": {},
   "outputs": [
    {
     "ename": "ModuleNotFoundError",
     "evalue": "No module named 'scispacy'",
     "output_type": "error",
     "traceback": [
      "\u001b[1;31m---------------------------------------------------------------------------\u001b[0m",
      "\u001b[1;31mModuleNotFoundError\u001b[0m                       Traceback (most recent call last)",
      "Cell \u001b[1;32mIn[31], line 1\u001b[0m\n\u001b[1;32m----> 1\u001b[0m \u001b[38;5;28;01mimport\u001b[39;00m \u001b[38;5;21;01mscispacy\u001b[39;00m\n\u001b[0;32m      2\u001b[0m \u001b[38;5;28;01mimport\u001b[39;00m \u001b[38;5;21;01mspacy\u001b[39;00m\n",
      "\u001b[1;31mModuleNotFoundError\u001b[0m: No module named 'scispacy'"
     ]
    }
   ],
   "source": [
    "import scispacy\n",
    "import spacy"
   ]
  },
  {
   "cell_type": "code",
   "execution_count": null,
   "id": "4b26017f",
   "metadata": {},
   "outputs": [],
   "source": []
  },
  {
   "cell_type": "code",
   "execution_count": null,
   "id": "69a8560e",
   "metadata": {},
   "outputs": [],
   "source": []
  }
 ],
 "metadata": {
  "kernelspec": {
   "display_name": "Python 3 (ipykernel)",
   "language": "python",
   "name": "python3"
  },
  "language_info": {
   "codemirror_mode": {
    "name": "ipython",
    "version": 3
   },
   "file_extension": ".py",
   "mimetype": "text/x-python",
   "name": "python",
   "nbconvert_exporter": "python",
   "pygments_lexer": "ipython3",
   "version": "3.10.9"
  }
 },
 "nbformat": 4,
 "nbformat_minor": 5
}
