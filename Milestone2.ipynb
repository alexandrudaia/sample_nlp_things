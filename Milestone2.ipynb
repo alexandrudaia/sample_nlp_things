{
 "cells": [
  {
   "cell_type": "code",
   "execution_count": 8,
   "id": "3f2b95ed",
   "metadata": {},
   "outputs": [],
   "source": [
    "import pandas as pd \n",
    "import numpy as np"
   ]
  },
  {
   "cell_type": "code",
   "execution_count": 9,
   "id": "a600f5a5",
   "metadata": {},
   "outputs": [],
   "source": [
    " train=pd.read_excel('ResultsOfMLModel12500.xlsx')"
   ]
  },
  {
   "cell_type": "code",
   "execution_count": 10,
   "id": "2bb57ede",
   "metadata": {},
   "outputs": [
    {
     "data": {
      "text/html": [
       "<div>\n",
       "<style scoped>\n",
       "    .dataframe tbody tr th:only-of-type {\n",
       "        vertical-align: middle;\n",
       "    }\n",
       "\n",
       "    .dataframe tbody tr th {\n",
       "        vertical-align: top;\n",
       "    }\n",
       "\n",
       "    .dataframe thead th {\n",
       "        text-align: right;\n",
       "    }\n",
       "</style>\n",
       "<table border=\"1\" class=\"dataframe\">\n",
       "  <thead>\n",
       "    <tr style=\"text-align: right;\">\n",
       "      <th></th>\n",
       "      <th>Sentence</th>\n",
       "      <th>Effect</th>\n",
       "      <th>Questions</th>\n",
       "      <th>Results</th>\n",
       "    </tr>\n",
       "  </thead>\n",
       "  <tbody>\n",
       "    <tr>\n",
       "      <th>0</th>\n",
       "      <td>Metaanalysis of the TLR4 rs4986790 polymorphis...</td>\n",
       "      <td>Helicobacter pylori infection</td>\n",
       "      <td>What effect is rs4986790 associated with?</td>\n",
       "      <td>Helicobacter pylori infection</td>\n",
       "    </tr>\n",
       "    <tr>\n",
       "      <th>1</th>\n",
       "      <td>Results: Through the dominant model (GC + CC),...</td>\n",
       "      <td>COPD</td>\n",
       "      <td>What effect is rs2070908 associated with?</td>\n",
       "      <td>COPD</td>\n",
       "    </tr>\n",
       "    <tr>\n",
       "      <th>2</th>\n",
       "      <td>We found an association between rs13296 GG gen...</td>\n",
       "      <td>severe COPD-TS</td>\n",
       "      <td>What effect is rs13296 associated with?</td>\n",
       "      <td>COPD-TS</td>\n",
       "    </tr>\n",
       "    <tr>\n",
       "      <th>3</th>\n",
       "      <td>In biomass smoke exposure evaluation, we found...</td>\n",
       "      <td>COPD</td>\n",
       "      <td>What effect is rs2070908 associated with?</td>\n",
       "      <td>COPD</td>\n",
       "    </tr>\n",
       "    <tr>\n",
       "      <th>4</th>\n",
       "      <td>In the COPD-TS severity comparison, we found a...</td>\n",
       "      <td>COPD-TS severity</td>\n",
       "      <td>What effect is rs13296 associated with?</td>\n",
       "      <td>COPD-TS severity</td>\n",
       "    </tr>\n",
       "  </tbody>\n",
       "</table>\n",
       "</div>"
      ],
      "text/plain": [
       "                                            Sentence  \\\n",
       "0  Metaanalysis of the TLR4 rs4986790 polymorphis...   \n",
       "1  Results: Through the dominant model (GC + CC),...   \n",
       "2  We found an association between rs13296 GG gen...   \n",
       "3  In biomass smoke exposure evaluation, we found...   \n",
       "4  In the COPD-TS severity comparison, we found a...   \n",
       "\n",
       "                          Effect                                  Questions  \\\n",
       "0  Helicobacter pylori infection  What effect is rs4986790 associated with?   \n",
       "1                           COPD  What effect is rs2070908 associated with?   \n",
       "2                 severe COPD-TS    What effect is rs13296 associated with?   \n",
       "3                           COPD  What effect is rs2070908 associated with?   \n",
       "4               COPD-TS severity    What effect is rs13296 associated with?   \n",
       "\n",
       "                         Results  \n",
       "0  Helicobacter pylori infection  \n",
       "1                           COPD  \n",
       "2                        COPD-TS  \n",
       "3                           COPD  \n",
       "4               COPD-TS severity  "
      ]
     },
     "execution_count": 10,
     "metadata": {},
     "output_type": "execute_result"
    }
   ],
   "source": [
    "train.head(\n",
    ")"
   ]
  },
  {
   "cell_type": "code",
   "execution_count": 11,
   "id": "7bae0f49",
   "metadata": {},
   "outputs": [
    {
     "data": {
      "text/plain": [
       "(14618, 4)"
      ]
     },
     "execution_count": 11,
     "metadata": {},
     "output_type": "execute_result"
    }
   ],
   "source": [
    "train.shape"
   ]
  },
  {
   "cell_type": "code",
   "execution_count": 13,
   "id": "a45b5055",
   "metadata": {},
   "outputs": [],
   "source": [
    "train=train[train[\"Effect\"]==train[\"Results\"]]"
   ]
  },
  {
   "cell_type": "code",
   "execution_count": 14,
   "id": "ae8dae91",
   "metadata": {},
   "outputs": [],
   "source": [
    "train.to_csv('milestone2.csv',index=False)"
   ]
  },
  {
   "cell_type": "code",
   "execution_count": null,
   "id": "e857e6fc",
   "metadata": {},
   "outputs": [],
   "source": []
  }
 ],
 "metadata": {
  "kernelspec": {
   "display_name": "Python 3 (ipykernel)",
   "language": "python",
   "name": "python3"
  },
  "language_info": {
   "codemirror_mode": {
    "name": "ipython",
    "version": 3
   },
   "file_extension": ".py",
   "mimetype": "text/x-python",
   "name": "python",
   "nbconvert_exporter": "python",
   "pygments_lexer": "ipython3",
   "version": "3.10.9"
  }
 },
 "nbformat": 4,
 "nbformat_minor": 5
}
