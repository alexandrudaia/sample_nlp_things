{
 "cells": [
  {
   "cell_type": "code",
   "execution_count": 1,
   "id": "11bb69c9",
   "metadata": {},
   "outputs": [],
   "source": [
    "import pandas as pd"
   ]
  },
  {
   "cell_type": "code",
   "execution_count": 2,
   "id": "c37cc21d",
   "metadata": {},
   "outputs": [],
   "source": [
    "import numpy as np"
   ]
  },
  {
   "cell_type": "code",
   "execution_count": 3,
   "id": "5b025118",
   "metadata": {},
   "outputs": [],
   "source": [
    "train=pd.read_csv('lastLabeledData.csv')"
   ]
  },
  {
   "cell_type": "code",
   "execution_count": 4,
   "id": "104dd00c",
   "metadata": {},
   "outputs": [
    {
     "data": {
      "text/html": [
       "<div>\n",
       "<style scoped>\n",
       "    .dataframe tbody tr th:only-of-type {\n",
       "        vertical-align: middle;\n",
       "    }\n",
       "\n",
       "    .dataframe tbody tr th {\n",
       "        vertical-align: top;\n",
       "    }\n",
       "\n",
       "    .dataframe thead th {\n",
       "        text-align: right;\n",
       "    }\n",
       "</style>\n",
       "<table border=\"1\" class=\"dataframe\">\n",
       "  <thead>\n",
       "    <tr style=\"text-align: right;\">\n",
       "      <th></th>\n",
       "      <th>sentences</th>\n",
       "      <th>labels</th>\n",
       "    </tr>\n",
       "  </thead>\n",
       "  <tbody>\n",
       "    <tr>\n",
       "      <th>0</th>\n",
       "      <td>In this study, we first performed a case-contr...</td>\n",
       "      <td>[{'rsID': 'rs194072',  'disease': 'schizophren...</td>\n",
       "    </tr>\n",
       "    <tr>\n",
       "      <th>1</th>\n",
       "      <td>identified two SNPs predictors of cisplatin ot...</td>\n",
       "      <td>[    {        \"rsID\": \"rs6721961\",        \"dis...</td>\n",
       "    </tr>\n",
       "    <tr>\n",
       "      <th>2</th>\n",
       "      <td>Hazard ratios (HR) that measured the effect si...</td>\n",
       "      <td>[ {   \"rsID\": \"rs3025039\",   \"disease\": \"Rheum...</td>\n",
       "    </tr>\n",
       "    <tr>\n",
       "      <th>3</th>\n",
       "      <td>Similarly, although no homozygous rs7636836 [T...</td>\n",
       "      <td>[    {        \"rsID\": \"rs7636836\",        \"dis...</td>\n",
       "    </tr>\n",
       "    <tr>\n",
       "      <th>4</th>\n",
       "      <td>We conduct subgroup analysis of 5 genetic mode...</td>\n",
       "      <td>[{  \"rsID\": \"rs1800872\",  \"disease\": \"cervical...</td>\n",
       "    </tr>\n",
       "    <tr>\n",
       "      <th>...</th>\n",
       "      <td>...</td>\n",
       "      <td>...</td>\n",
       "    </tr>\n",
       "    <tr>\n",
       "      <th>5332</th>\n",
       "      <td>Furthermore, the association of rs1927911 with...</td>\n",
       "      <td>Unfortunately, without more information about ...</td>\n",
       "    </tr>\n",
       "    <tr>\n",
       "      <th>5333</th>\n",
       "      <td>There was a significant association between th...</td>\n",
       "      <td>[ {  \"rsID\": \"rs7754840\",  \"Disease\": \"Gestati...</td>\n",
       "    </tr>\n",
       "    <tr>\n",
       "      <th>5334</th>\n",
       "      <td>In case-control analyses, variant rs34473884 i...</td>\n",
       "      <td>Sorry, but I cannot provide specific SNP-disea...</td>\n",
       "    </tr>\n",
       "    <tr>\n",
       "      <th>5335</th>\n",
       "      <td>The 10 SNPs and their associated effects are: ...</td>\n",
       "      <td>[    {        \"rsID\": \"rs11672691\",        \"di...</td>\n",
       "    </tr>\n",
       "    <tr>\n",
       "      <th>5336</th>\n",
       "      <td>The combined data showed that IL2RA/rs2104286 ...</td>\n",
       "      <td>[{    \"rsID\": \"rs2104286\",    \"disease\": \"Grav...</td>\n",
       "    </tr>\n",
       "  </tbody>\n",
       "</table>\n",
       "<p>5337 rows × 2 columns</p>\n",
       "</div>"
      ],
      "text/plain": [
       "                                              sentences  \\\n",
       "0     In this study, we first performed a case-contr...   \n",
       "1     identified two SNPs predictors of cisplatin ot...   \n",
       "2     Hazard ratios (HR) that measured the effect si...   \n",
       "3     Similarly, although no homozygous rs7636836 [T...   \n",
       "4     We conduct subgroup analysis of 5 genetic mode...   \n",
       "...                                                 ...   \n",
       "5332  Furthermore, the association of rs1927911 with...   \n",
       "5333  There was a significant association between th...   \n",
       "5334  In case-control analyses, variant rs34473884 i...   \n",
       "5335  The 10 SNPs and their associated effects are: ...   \n",
       "5336  The combined data showed that IL2RA/rs2104286 ...   \n",
       "\n",
       "                                                 labels  \n",
       "0     [{'rsID': 'rs194072',  'disease': 'schizophren...  \n",
       "1     [    {        \"rsID\": \"rs6721961\",        \"dis...  \n",
       "2     [ {   \"rsID\": \"rs3025039\",   \"disease\": \"Rheum...  \n",
       "3     [    {        \"rsID\": \"rs7636836\",        \"dis...  \n",
       "4     [{  \"rsID\": \"rs1800872\",  \"disease\": \"cervical...  \n",
       "...                                                 ...  \n",
       "5332  Unfortunately, without more information about ...  \n",
       "5333  [ {  \"rsID\": \"rs7754840\",  \"Disease\": \"Gestati...  \n",
       "5334  Sorry, but I cannot provide specific SNP-disea...  \n",
       "5335  [    {        \"rsID\": \"rs11672691\",        \"di...  \n",
       "5336  [{    \"rsID\": \"rs2104286\",    \"disease\": \"Grav...  \n",
       "\n",
       "[5337 rows x 2 columns]"
      ]
     },
     "execution_count": 4,
     "metadata": {},
     "output_type": "execute_result"
    }
   ],
   "source": [
    "train"
   ]
  },
  {
   "cell_type": "code",
   "execution_count": 14,
   "id": "d725fb8e",
   "metadata": {},
   "outputs": [
    {
     "data": {
      "text/plain": [
       "False"
      ]
     },
     "execution_count": 14,
     "metadata": {},
     "output_type": "execute_result"
    }
   ],
   "source": [
    " \"rsID:\" in train['labels'].iloc[0]"
   ]
  },
  {
   "cell_type": "code",
   "execution_count": 13,
   "id": "c54f2b05",
   "metadata": {},
   "outputs": [],
   "source": [
    "df=train"
   ]
  },
  {
   "cell_type": "code",
   "execution_count": 16,
   "id": "4c6219ad",
   "metadata": {},
   "outputs": [],
   "source": [
    "df=df[df['labels'].str.contains(\"rsID\")==True]"
   ]
  },
  {
   "cell_type": "code",
   "execution_count": 17,
   "id": "0b4b8e1b",
   "metadata": {},
   "outputs": [],
   "source": [
    "df.to_csv('newData.csv',index=False)"
   ]
  },
  {
   "cell_type": "code",
   "execution_count": 18,
   "id": "012af005",
   "metadata": {},
   "outputs": [
    {
     "data": {
      "text/html": [
       "<div>\n",
       "<style scoped>\n",
       "    .dataframe tbody tr th:only-of-type {\n",
       "        vertical-align: middle;\n",
       "    }\n",
       "\n",
       "    .dataframe tbody tr th {\n",
       "        vertical-align: top;\n",
       "    }\n",
       "\n",
       "    .dataframe thead th {\n",
       "        text-align: right;\n",
       "    }\n",
       "</style>\n",
       "<table border=\"1\" class=\"dataframe\">\n",
       "  <thead>\n",
       "    <tr style=\"text-align: right;\">\n",
       "      <th></th>\n",
       "      <th>sentences</th>\n",
       "      <th>labels</th>\n",
       "    </tr>\n",
       "  </thead>\n",
       "  <tbody>\n",
       "    <tr>\n",
       "      <th>0</th>\n",
       "      <td>In this study, we first performed a case-contr...</td>\n",
       "      <td>[{'rsID': 'rs194072',  'disease': 'schizophren...</td>\n",
       "    </tr>\n",
       "    <tr>\n",
       "      <th>1</th>\n",
       "      <td>identified two SNPs predictors of cisplatin ot...</td>\n",
       "      <td>[    {        \"rsID\": \"rs6721961\",        \"dis...</td>\n",
       "    </tr>\n",
       "    <tr>\n",
       "      <th>2</th>\n",
       "      <td>Hazard ratios (HR) that measured the effect si...</td>\n",
       "      <td>[ {   \"rsID\": \"rs3025039\",   \"disease\": \"Rheum...</td>\n",
       "    </tr>\n",
       "    <tr>\n",
       "      <th>3</th>\n",
       "      <td>Similarly, although no homozygous rs7636836 [T...</td>\n",
       "      <td>[    {        \"rsID\": \"rs7636836\",        \"dis...</td>\n",
       "    </tr>\n",
       "    <tr>\n",
       "      <th>4</th>\n",
       "      <td>We conduct subgroup analysis of 5 genetic mode...</td>\n",
       "      <td>[{  \"rsID\": \"rs1800872\",  \"disease\": \"cervical...</td>\n",
       "    </tr>\n",
       "    <tr>\n",
       "      <th>...</th>\n",
       "      <td>...</td>\n",
       "      <td>...</td>\n",
       "    </tr>\n",
       "    <tr>\n",
       "      <th>5329</th>\n",
       "      <td>We investigated the relationship between 6 sin...</td>\n",
       "      <td>[{    \"rsID\": \"rs480780\",    \"disease\": \"osteo...</td>\n",
       "    </tr>\n",
       "    <tr>\n",
       "      <th>5330</th>\n",
       "      <td>Results show that there was no significant dif...</td>\n",
       "      <td>Sorry, it is not possible to provide SNP-disea...</td>\n",
       "    </tr>\n",
       "    <tr>\n",
       "      <th>5333</th>\n",
       "      <td>There was a significant association between th...</td>\n",
       "      <td>[ {  \"rsID\": \"rs7754840\",  \"Disease\": \"Gestati...</td>\n",
       "    </tr>\n",
       "    <tr>\n",
       "      <th>5335</th>\n",
       "      <td>The 10 SNPs and their associated effects are: ...</td>\n",
       "      <td>[    {        \"rsID\": \"rs11672691\",        \"di...</td>\n",
       "    </tr>\n",
       "    <tr>\n",
       "      <th>5336</th>\n",
       "      <td>The combined data showed that IL2RA/rs2104286 ...</td>\n",
       "      <td>[{    \"rsID\": \"rs2104286\",    \"disease\": \"Grav...</td>\n",
       "    </tr>\n",
       "  </tbody>\n",
       "</table>\n",
       "<p>4272 rows × 2 columns</p>\n",
       "</div>"
      ],
      "text/plain": [
       "                                              sentences  \\\n",
       "0     In this study, we first performed a case-contr...   \n",
       "1     identified two SNPs predictors of cisplatin ot...   \n",
       "2     Hazard ratios (HR) that measured the effect si...   \n",
       "3     Similarly, although no homozygous rs7636836 [T...   \n",
       "4     We conduct subgroup analysis of 5 genetic mode...   \n",
       "...                                                 ...   \n",
       "5329  We investigated the relationship between 6 sin...   \n",
       "5330  Results show that there was no significant dif...   \n",
       "5333  There was a significant association between th...   \n",
       "5335  The 10 SNPs and their associated effects are: ...   \n",
       "5336  The combined data showed that IL2RA/rs2104286 ...   \n",
       "\n",
       "                                                 labels  \n",
       "0     [{'rsID': 'rs194072',  'disease': 'schizophren...  \n",
       "1     [    {        \"rsID\": \"rs6721961\",        \"dis...  \n",
       "2     [ {   \"rsID\": \"rs3025039\",   \"disease\": \"Rheum...  \n",
       "3     [    {        \"rsID\": \"rs7636836\",        \"dis...  \n",
       "4     [{  \"rsID\": \"rs1800872\",  \"disease\": \"cervical...  \n",
       "...                                                 ...  \n",
       "5329  [{    \"rsID\": \"rs480780\",    \"disease\": \"osteo...  \n",
       "5330  Sorry, it is not possible to provide SNP-disea...  \n",
       "5333  [ {  \"rsID\": \"rs7754840\",  \"Disease\": \"Gestati...  \n",
       "5335  [    {        \"rsID\": \"rs11672691\",        \"di...  \n",
       "5336  [{    \"rsID\": \"rs2104286\",    \"disease\": \"Grav...  \n",
       "\n",
       "[4272 rows x 2 columns]"
      ]
     },
     "execution_count": 18,
     "metadata": {},
     "output_type": "execute_result"
    }
   ],
   "source": [
    "df"
   ]
  },
  {
   "cell_type": "code",
   "execution_count": null,
   "id": "165dd8c5",
   "metadata": {},
   "outputs": [],
   "source": [
    "\"In a recent study, researchers found that the SNP rs12345 with the T allele is significantly associated with an increased risk of type 2 diabetes (p-value = 0.001, odds ratio = 1.5) in the European population. Additionally, the CT genotype at rs67890 was found to be more prevalent in males with coronary artery disease (p-value = 0.01, odds ratio = 2.3).\" Example output:[{\n",
    "    \"rsID\": \"rs12345\",\n",
    "    \"allele\": \"T\",\n",
    "    \"disease/trait\": \"type 2 diabetes\",\n",
    "    \"p-value\": 0.001,\n",
    "    \"odds ratio\": 1.5,\n",
    "    \"ethnicity\": \"European\"\n",
    "  },\n",
    "  {\n",
    "    \"rsID\": \"rs67890\",\n",
    "    \"genotype\": \"CT\",\n",
    "    \"disease/trait\": \"coronary artery disease\",\n",
    "    \"p-value\": 0.01,\n",
    "    \"odds ratio\": 2.3,\n",
    "    \"sex\": \"male\"\n",
    "  }\n",
    "]Now do the same with the following text: "
   ]
  }
 ],
 "metadata": {
  "kernelspec": {
   "display_name": "Python 3 (ipykernel)",
   "language": "python",
   "name": "python3"
  },
  "language_info": {
   "codemirror_mode": {
    "name": "ipython",
    "version": 3
   },
   "file_extension": ".py",
   "mimetype": "text/x-python",
   "name": "python",
   "nbconvert_exporter": "python",
   "pygments_lexer": "ipython3",
   "version": "3.10.9"
  }
 },
 "nbformat": 4,
 "nbformat_minor": 5
}
